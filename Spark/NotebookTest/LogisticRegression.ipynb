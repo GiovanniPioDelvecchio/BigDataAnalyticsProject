{
  "nbformat": 4,
  "nbformat_minor": 0,
  "metadata": {
    "colab": {
      "provenance": []
    },
    "kernelspec": {
      "name": "python3",
      "display_name": "Python 3"
    },
    "language_info": {
      "name": "python"
    }
  },
  "cells": [
    {
      "cell_type": "markdown",
      "source": [
        "## Installation of the required libraries\n"
      ],
      "metadata": {
        "id": "g7fcCK9NLJOq"
      }
    },
    {
      "cell_type": "code",
      "execution_count": 1,
      "metadata": {
        "colab": {
          "base_uri": "https://localhost:8080/"
        },
        "id": "G7HwoMihJ9Tx",
        "outputId": "a8e8fa05-28a6-4584-bf22-b4b8da7d72b7"
      },
      "outputs": [
        {
          "output_type": "stream",
          "name": "stdout",
          "text": [
            "Looking in indexes: https://pypi.org/simple, https://us-python.pkg.dev/colab-wheels/public/simple/\n",
            "Collecting findspark\n",
            "  Downloading findspark-2.0.1-py2.py3-none-any.whl (4.4 kB)\n",
            "Installing collected packages: findspark\n",
            "Successfully installed findspark-2.0.1\n",
            "Looking in indexes: https://pypi.org/simple, https://us-python.pkg.dev/colab-wheels/public/simple/\n",
            "Requirement already satisfied: xlrd in /usr/local/lib/python3.8/dist-packages (1.2.0)\n",
            "Looking in indexes: https://pypi.org/simple, https://us-python.pkg.dev/colab-wheels/public/simple/\n",
            "Requirement already satisfied: scikit-learn in /usr/local/lib/python3.8/dist-packages (1.0.2)\n",
            "Requirement already satisfied: scipy>=1.1.0 in /usr/local/lib/python3.8/dist-packages (from scikit-learn) (1.7.3)\n",
            "Requirement already satisfied: numpy>=1.14.6 in /usr/local/lib/python3.8/dist-packages (from scikit-learn) (1.21.6)\n",
            "Requirement already satisfied: threadpoolctl>=2.0.0 in /usr/local/lib/python3.8/dist-packages (from scikit-learn) (3.1.0)\n",
            "Requirement already satisfied: joblib>=0.11 in /usr/local/lib/python3.8/dist-packages (from scikit-learn) (1.2.0)\n",
            "Looking in indexes: https://pypi.org/simple, https://us-python.pkg.dev/colab-wheels/public/simple/\n",
            "Collecting scikit-plot\n",
            "  Downloading scikit_plot-0.3.7-py3-none-any.whl (33 kB)\n",
            "Requirement already satisfied: scikit-learn>=0.18 in /usr/local/lib/python3.8/dist-packages (from scikit-plot) (1.0.2)\n",
            "Requirement already satisfied: joblib>=0.10 in /usr/local/lib/python3.8/dist-packages (from scikit-plot) (1.2.0)\n",
            "Requirement already satisfied: matplotlib>=1.4.0 in /usr/local/lib/python3.8/dist-packages (from scikit-plot) (3.2.2)\n",
            "Requirement already satisfied: scipy>=0.9 in /usr/local/lib/python3.8/dist-packages (from scikit-plot) (1.7.3)\n",
            "Requirement already satisfied: numpy>=1.11 in /usr/local/lib/python3.8/dist-packages (from matplotlib>=1.4.0->scikit-plot) (1.21.6)\n",
            "Requirement already satisfied: pyparsing!=2.0.4,!=2.1.2,!=2.1.6,>=2.0.1 in /usr/local/lib/python3.8/dist-packages (from matplotlib>=1.4.0->scikit-plot) (3.0.9)\n",
            "Requirement already satisfied: cycler>=0.10 in /usr/local/lib/python3.8/dist-packages (from matplotlib>=1.4.0->scikit-plot) (0.11.0)\n",
            "Requirement already satisfied: kiwisolver>=1.0.1 in /usr/local/lib/python3.8/dist-packages (from matplotlib>=1.4.0->scikit-plot) (1.4.4)\n",
            "Requirement already satisfied: python-dateutil>=2.1 in /usr/local/lib/python3.8/dist-packages (from matplotlib>=1.4.0->scikit-plot) (2.8.2)\n",
            "Requirement already satisfied: threadpoolctl>=2.0.0 in /usr/local/lib/python3.8/dist-packages (from scikit-learn>=0.18->scikit-plot) (3.1.0)\n",
            "Requirement already satisfied: six>=1.5 in /usr/local/lib/python3.8/dist-packages (from python-dateutil>=2.1->matplotlib>=1.4.0->scikit-plot) (1.15.0)\n",
            "Installing collected packages: scikit-plot\n",
            "Successfully installed scikit-plot-0.3.7\n"
          ]
        }
      ],
      "source": [
        "!pip install findspark\n",
        "!pip install xlrd\n",
        "!pip install scikit-learn\n",
        "!pip install scikit-plot"
      ]
    },
    {
      "cell_type": "code",
      "source": [
        "# needed in colab, remove this cell when executing on VMs\n",
        "!pip install pyspark"
      ],
      "metadata": {
        "colab": {
          "base_uri": "https://localhost:8080/"
        },
        "id": "DGIE1O1nKATZ",
        "outputId": "06981031-fbc4-43ba-cb17-3a9a3c04af04"
      },
      "execution_count": 2,
      "outputs": [
        {
          "output_type": "stream",
          "name": "stdout",
          "text": [
            "Looking in indexes: https://pypi.org/simple, https://us-python.pkg.dev/colab-wheels/public/simple/\n",
            "Collecting pyspark\n",
            "  Downloading pyspark-3.3.1.tar.gz (281.4 MB)\n",
            "\u001b[2K     \u001b[90m━━━━━━━━━━━━━━━━━━━━━━━━━━━━━━━━━━━━━━━\u001b[0m \u001b[32m281.4/281.4 MB\u001b[0m \u001b[31m3.8 MB/s\u001b[0m eta \u001b[36m0:00:00\u001b[0m\n",
            "\u001b[?25h  Preparing metadata (setup.py) ... \u001b[?25l\u001b[?25hdone\n",
            "Collecting py4j==0.10.9.5\n",
            "  Downloading py4j-0.10.9.5-py2.py3-none-any.whl (199 kB)\n",
            "\u001b[2K     \u001b[90m━━━━━━━━━━━━━━━━━━━━━━━━━━━━━━━━━━━━━━\u001b[0m \u001b[32m199.7/199.7 KB\u001b[0m \u001b[31m16.0 MB/s\u001b[0m eta \u001b[36m0:00:00\u001b[0m\n",
            "\u001b[?25hBuilding wheels for collected packages: pyspark\n",
            "  Building wheel for pyspark (setup.py) ... \u001b[?25l\u001b[?25hdone\n",
            "  Created wheel for pyspark: filename=pyspark-3.3.1-py2.py3-none-any.whl size=281845512 sha256=234fbdab84974db643573c724c4789de5614e7f02003e73aadb7d2512d890922\n",
            "  Stored in directory: /root/.cache/pip/wheels/43/dc/11/ec201cd671da62fa9c5cc77078235e40722170ceba231d7598\n",
            "Successfully built pyspark\n",
            "Installing collected packages: py4j, pyspark\n",
            "Successfully installed py4j-0.10.9.5 pyspark-3.3.1\n"
          ]
        }
      ]
    },
    {
      "cell_type": "markdown",
      "source": [
        "## Import of the libraries\n"
      ],
      "metadata": {
        "id": "2YXE8dwZLQDx"
      }
    },
    {
      "cell_type": "code",
      "source": [
        "import pandas as pd\n",
        "import numpy as np\n",
        "import seaborn as sns\n",
        "import matplotlib.pyplot as plt\n",
        "import scikitplot as skplt\n",
        "from sklearn.metrics import classification_report\n",
        "%matplotlib inline\n",
        "\n",
        "import findspark\n",
        "#findspark.init()\n",
        "import pyspark\n",
        "from pyspark.sql import SparkSession\n",
        "from pyspark.sql.functions import col\n",
        "from pyspark.sql.types import StructType,\\\n",
        "                              StructField,\\\n",
        "                              IntegerType,\\\n",
        "                              DoubleType,\\\n",
        "                              StringType\n",
        "from pyspark.ml.feature import StandardScaler, VectorAssembler\n",
        "from pyspark.ml.classification import LogisticRegression"
      ],
      "metadata": {
        "id": "TJ2Hk-zGKBhK"
      },
      "execution_count": 13,
      "outputs": []
    },
    {
      "cell_type": "markdown",
      "source": [
        "## Loading block\n",
        "The following block is needed to load the dataset from the excel file,\n",
        "create the current spark session, build the pyspark dataframe containing\n",
        "the data and show its the schema."
      ],
      "metadata": {
        "id": "X1PkIOXqMoRz"
      }
    },
    {
      "cell_type": "code",
      "source": [
        "credit = pd.read_excel('./default of credit card clients.xls', header=1)\n",
        "\n",
        "\n",
        "spark = SparkSession.builder.master(\"local[1]\").appName(\"SparkByExamples.com\").getOrCreate()\n",
        "\n",
        "credit_schema = StructType([\\\n",
        "    StructField(\"ID\", IntegerType(), False),\n",
        "    StructField(\"LIMIT_BAL\", IntegerType(), False),\n",
        "    StructField(\"SEX\", IntegerType(), False),\n",
        "    StructField(\"EDUCATION\", IntegerType(), False),\n",
        "    StructField(\"MARRIAGE\", IntegerType(), False),\n",
        "    StructField(\"AGE\", IntegerType(), False),\n",
        "    StructField(\"PAY_0\", IntegerType(), False),\n",
        "    StructField(\"PAY_2\", IntegerType(), False),\n",
        "    StructField(\"PAY_3\", IntegerType(), False),\n",
        "    StructField(\"PAY_4\", IntegerType(), False),\n",
        "    StructField(\"PAY_5\", IntegerType(), False),\n",
        "    StructField(\"PAY_6\", IntegerType(), False),\n",
        "    StructField(\"BILL_AMT1\", IntegerType(), False),\n",
        "    StructField(\"BILL_AMT2\", IntegerType(), False),\n",
        "    StructField(\"BILL_AMT3\", IntegerType(), False),\n",
        "    StructField(\"BILL_AMT4\", IntegerType(), False),\n",
        "    StructField(\"BILL_AMT5\", IntegerType(), False),\n",
        "    StructField(\"BILL_AMT6\", IntegerType(), False),\n",
        "    StructField(\"PAY_AMT1\", IntegerType(), False),\n",
        "    StructField(\"PAY_AMT2\", IntegerType(), False),\n",
        "    StructField(\"PAY_AMT3\", IntegerType(), False),\n",
        "    StructField(\"PAY_AMT4\", IntegerType(), False),\n",
        "    StructField(\"PAY_AMT5\", IntegerType(), False),\n",
        "    StructField(\"PAY_AMT6\", IntegerType(), False),\n",
        "    StructField(\"default payment next month\", IntegerType(), False)])\n",
        "\n",
        "spark_credit= spark.createDataFrame(credit, schema = credit_schema)\n",
        "spark_credit.printSchema()"
      ],
      "metadata": {
        "colab": {
          "base_uri": "https://localhost:8080/"
        },
        "id": "Of758Pt1KD8R",
        "outputId": "8f43bb20-fa0f-4a1a-efbc-411784bc6808"
      },
      "execution_count": 4,
      "outputs": [
        {
          "output_type": "stream",
          "name": "stdout",
          "text": [
            "root\n",
            " |-- ID: integer (nullable = false)\n",
            " |-- LIMIT_BAL: integer (nullable = false)\n",
            " |-- SEX: integer (nullable = false)\n",
            " |-- EDUCATION: integer (nullable = false)\n",
            " |-- MARRIAGE: integer (nullable = false)\n",
            " |-- AGE: integer (nullable = false)\n",
            " |-- PAY_0: integer (nullable = false)\n",
            " |-- PAY_2: integer (nullable = false)\n",
            " |-- PAY_3: integer (nullable = false)\n",
            " |-- PAY_4: integer (nullable = false)\n",
            " |-- PAY_5: integer (nullable = false)\n",
            " |-- PAY_6: integer (nullable = false)\n",
            " |-- BILL_AMT1: integer (nullable = false)\n",
            " |-- BILL_AMT2: integer (nullable = false)\n",
            " |-- BILL_AMT3: integer (nullable = false)\n",
            " |-- BILL_AMT4: integer (nullable = false)\n",
            " |-- BILL_AMT5: integer (nullable = false)\n",
            " |-- BILL_AMT6: integer (nullable = false)\n",
            " |-- PAY_AMT1: integer (nullable = false)\n",
            " |-- PAY_AMT2: integer (nullable = false)\n",
            " |-- PAY_AMT3: integer (nullable = false)\n",
            " |-- PAY_AMT4: integer (nullable = false)\n",
            " |-- PAY_AMT5: integer (nullable = false)\n",
            " |-- PAY_AMT6: integer (nullable = false)\n",
            " |-- default payment next month: integer (nullable = false)\n",
            "\n"
          ]
        }
      ]
    },
    {
      "cell_type": "markdown",
      "source": [
        "## Pre-processing\n",
        "The following block is needed to drop the \"ID\" column, remove duplicate examples and outliers"
      ],
      "metadata": {
        "id": "up0O1bGQNHLu"
      }
    },
    {
      "cell_type": "code",
      "source": [
        "spark_credit = spark_credit.drop('ID')\n",
        "spark_credit = spark_credit.distinct()\n",
        "spark_credit = spark_credit.where(col('LIMIT_BAL') <= 550000 ).where(col('PAY_AMT6') <= 50000)"
      ],
      "metadata": {
        "id": "i7OX1Iw_KF56"
      },
      "execution_count": 5,
      "outputs": []
    },
    {
      "cell_type": "markdown",
      "source": [
        "## Splitting of the dataset"
      ],
      "metadata": {
        "id": "8m9JwHnGNTBf"
      }
    },
    {
      "cell_type": "code",
      "source": [
        "train_cred, test_cred = spark_credit.randomSplit([0.7, 0.3], seed = 1234)"
      ],
      "metadata": {
        "id": "bkx_V271KLT7"
      },
      "execution_count": 6,
      "outputs": []
    },
    {
      "cell_type": "markdown",
      "source": [
        "## Standardization of the features\n",
        "The following block is needed to assemble the previously created DataFrames and scale all the features by using the StandardScaler provided in spark.ml.feature."
      ],
      "metadata": {
        "id": "WZKc3edDNYHI"
      }
    },
    {
      "cell_type": "code",
      "source": [
        "col_list = [spark_credit.dtypes[i][0] for i in range(0, len(spark_credit.dtypes)-1)]\n",
        "credit_vec_ass = VectorAssembler(inputCols = col_list, outputCol = \"temp_features\")\n",
        "\n",
        "credit_assembled = credit_vec_ass.transform(spark_credit)\n",
        "train_assembled = credit_vec_ass.transform(train_cred)\n",
        "test_assembled = credit_vec_ass.transform(test_cred)\n",
        "\n",
        "# in \"Scaled\" there will be values scaled with the corrected sample standard deviation,\n",
        "# instead of the population-based standard deviation\n",
        "spark_scaler = StandardScaler(withMean=True, withStd=True, inputCol=\"temp_features\", outputCol=\"scaled\")\n",
        "fitted_scaler = spark_scaler.fit(dataset = credit_assembled)\n",
        "scaled_data = fitted_scaler.transform(credit_assembled)\n",
        "scaled_train = fitted_scaler.transform(train_assembled)\n",
        "scaled_test = fitted_scaler.transform(test_assembled)\n",
        "\n",
        "vectorized_scaled_data = scaled_data.select([\"scaled\", \"default payment next month\"])\n",
        "vectorized_scaled_train = scaled_train.select([\"scaled\", \"default payment next month\"])\n",
        "vectorized_scaled_test = scaled_test.select([\"scaled\", \"default payment next month\"])\n",
        "print(vectorized_scaled_data.show())\n",
        "print(vectorized_scaled_train.show())\n",
        "print(vectorized_scaled_test.show())"
      ],
      "metadata": {
        "colab": {
          "base_uri": "https://localhost:8080/"
        },
        "id": "AVC2gJT1KdFE",
        "outputId": "cd31aa14-7bb8-4810-8590-2b6f3f14de65"
      },
      "execution_count": 7,
      "outputs": [
        {
          "output_type": "stream",
          "name": "stdout",
          "text": [
            "+--------------------+--------------------------+\n",
            "|              scaled|default payment next month|\n",
            "+--------------------+--------------------------+\n",
            "|[0.61459469682298...|                         0|\n",
            "|[0.53457136090135...|                         0|\n",
            "|[0.53457136090135...|                         0|\n",
            "|[-0.9058486856880...|                         0|\n",
            "|[0.45454802497971...|                         0|\n",
            "|[-0.5857553420015...|                         0|\n",
            "|[1.57487472788257...|                         0|\n",
            "|[-0.5857553420015...|                         0|\n",
            "|[-0.7458020138447...|                         0|\n",
            "|[-0.1856386623933...|                         1|\n",
            "|[-0.1056153264717...|                         1|\n",
            "|[-0.1056153264717...|                         0|\n",
            "|[1.09473471235277...|                         0|\n",
            "|[-1.1459186934529...|                         0|\n",
            "|[-0.9058486856880...|                         1|\n",
            "|[0.85466470458788...|                         0|\n",
            "|[0.05443134537155...|                         0|\n",
            "|[-0.9058486856880...|                         1|\n",
            "|[-0.6657786779231...|                         1|\n",
            "|[0.69461803274461...|                         1|\n",
            "+--------------------+--------------------------+\n",
            "only showing top 20 rows\n",
            "\n",
            "None\n",
            "+--------------------+--------------------------+\n",
            "|              scaled|default payment next month|\n",
            "+--------------------+--------------------------+\n",
            "|[-1.2259420293745...|                         0|\n",
            "|[-1.2259420293745...|                         0|\n",
            "|[-1.2259420293745...|                         0|\n",
            "|[-1.2259420293745...|                         0|\n",
            "|[-1.2259420293745...|                         1|\n",
            "|[-1.2259420293745...|                         0|\n",
            "|[-1.2259420293745...|                         1|\n",
            "|[-1.2259420293745...|                         1|\n",
            "|[-1.2259420293745...|                         1|\n",
            "|[-1.2259420293745...|                         0|\n",
            "|[-1.2259420293745...|                         0|\n",
            "|[-1.2259420293745...|                         0|\n",
            "|[-1.2259420293745...|                         0|\n",
            "|[-1.2259420293745...|                         1|\n",
            "|[-1.2259420293745...|                         0|\n",
            "|[-1.2259420293745...|                         1|\n",
            "|[-1.2259420293745...|                         0|\n",
            "|[-1.2259420293745...|                         1|\n",
            "|[-1.2259420293745...|                         0|\n",
            "|[-1.2259420293745...|                         1|\n",
            "+--------------------+--------------------------+\n",
            "only showing top 20 rows\n",
            "\n",
            "None\n",
            "+--------------------+--------------------------+\n",
            "|              scaled|default payment next month|\n",
            "+--------------------+--------------------------+\n",
            "|[-1.2259420293745...|                         1|\n",
            "|[-1.2259420293745...|                         1|\n",
            "|[-1.2259420293745...|                         0|\n",
            "|[-1.2259420293745...|                         1|\n",
            "|[-1.2259420293745...|                         1|\n",
            "|[-1.2259420293745...|                         0|\n",
            "|[-1.2259420293745...|                         0|\n",
            "|[-1.2259420293745...|                         0|\n",
            "|[-1.2259420293745...|                         0|\n",
            "|[-1.2259420293745...|                         0|\n",
            "|[-1.2259420293745...|                         0|\n",
            "|[-1.2259420293745...|                         1|\n",
            "|[-1.2259420293745...|                         0|\n",
            "|[-1.2259420293745...|                         0|\n",
            "|[-1.2259420293745...|                         1|\n",
            "|[-1.2259420293745...|                         0|\n",
            "|[-1.2259420293745...|                         0|\n",
            "|[-1.2259420293745...|                         0|\n",
            "|[-1.2259420293745...|                         0|\n",
            "|[-1.2259420293745...|                         0|\n",
            "+--------------------+--------------------------+\n",
            "only showing top 20 rows\n",
            "\n",
            "None\n"
          ]
        }
      ]
    },
    {
      "cell_type": "code",
      "source": [
        "def plot_cumulative_gains(y_true, y_probs):\n",
        "  \"\"\"\n",
        "  Function to plot the cumulative gains chart.\n",
        "  It plots the cumulative number of positive predictions made,\n",
        "  as function of the total number of positive preditcions\n",
        "\n",
        "  Params:\n",
        "    y_true: an array of length num_examples containing the ground truth labels\n",
        "    y_probs: the probabilities associated for each example\n",
        "             to each label, it is an array of shape (num_examples, num_classes)  \n",
        "  \"\"\"\n",
        "  skplt.metrics.plot_cumulative_gain(y_true, y_probs)\n",
        "  plt.xlabel(\"Number of observations\")\n",
        "  plt.ylabel(\"Cumulative number of true positive predictions\")\n",
        "  plt.title(\"Cumulative Gains Chart\")\n",
        "  plt.show()"
      ],
      "metadata": {
        "id": "jikyTPMZKlfN"
      },
      "execution_count": 14,
      "outputs": []
    },
    {
      "cell_type": "markdown",
      "source": [
        "## Construction and fitting of the Logistic Regression classifier from spark.ml.classification"
      ],
      "metadata": {
        "id": "nWQ5N5ISPw0o"
      }
    },
    {
      "cell_type": "code",
      "source": [
        "blor = LogisticRegression(featuresCol=\"scaled\", labelCol=\"default payment next month\", regParam = 0.01, maxIter = 10)\n",
        "blorModel = blor.fit(vectorized_scaled_train)"
      ],
      "metadata": {
        "id": "pfuiw9JUKxFu"
      },
      "execution_count": 15,
      "outputs": []
    },
    {
      "cell_type": "markdown",
      "source": [
        "## Evaluation of the classifier\n",
        "The cell below is needed to compute the performances of the classifier that has been fitted, in this case the \"collect()\" is a valid operation since it is performed on the test set only."
      ],
      "metadata": {
        "id": "t_WGacEIQMFT"
      }
    },
    {
      "cell_type": "code",
      "source": [
        "Y_true = vectorized_scaled_test.select(\"default payment next month\").collect()\n",
        "test_cred_no_def = vectorized_scaled_test.select(\"scaled\")\n",
        "Y_pred_df = blorModel.transform(test_cred_no_def)\n",
        "Y_pred_probabilities = Y_pred_df.select(\"probability\").collect()\n",
        "Y_pred_predictions = Y_pred_df.select(\"prediction\").collect()\n",
        "\n",
        "Y_pred_probabilities_np = np.array(Y_pred_probabilities)\n",
        "Y_pred_probabilities_np = np.reshape(Y_pred_probabilities_np, (Y_pred_probabilities_np.shape[0], 2))\n",
        "\n",
        "print(classification_report(Y_true, Y_pred_predictions))\n",
        "plot_cumulative_gains(np.array(Y_true), Y_pred_probabilities_np)"
      ],
      "metadata": {
        "colab": {
          "base_uri": "https://localhost:8080/",
          "height": 451
        },
        "id": "Ov3aOcQbK1KP",
        "outputId": "f9aa16be-7622-4dcc-a300-21f34950106a"
      },
      "execution_count": 16,
      "outputs": [
        {
          "output_type": "stream",
          "name": "stdout",
          "text": [
            "              precision    recall  f1-score   support\n",
            "\n",
            "           0       0.81      0.98      0.89      6841\n",
            "           1       0.71      0.21      0.32      1967\n",
            "\n",
            "    accuracy                           0.80      8808\n",
            "   macro avg       0.76      0.59      0.60      8808\n",
            "weighted avg       0.79      0.80      0.76      8808\n",
            "\n"
          ]
        },
        {
          "output_type": "display_data",
          "data": {
            "text/plain": [
              "<Figure size 432x288 with 1 Axes>"
            ],
            "image/png": "[encoded data removed]"
          },
          "metadata": {
            "needs_background": "light"
          }
        }
      ]
    }
  ]
}