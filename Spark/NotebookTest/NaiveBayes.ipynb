{
  "nbformat": 4,
  "nbformat_minor": 0,
  "metadata": {
    "colab": {
      "provenance": []
    },
    "kernelspec": {
      "name": "python3",
      "display_name": "Python 3"
    },
    "language_info": {
      "name": "python"
    }
  },
  "cells": [
    {
      "cell_type": "markdown",
      "source": [
        "## Installation of the required libraries"
      ],
      "metadata": {
        "id": "JJkGsM6rRP3E"
      }
    },
    {
      "cell_type": "code",
      "execution_count": 1,
      "metadata": {
        "colab": {
          "base_uri": "https://localhost:8080/"
        },
        "id": "ithqzsa9Q2np",
        "outputId": "338832c9-f96e-44a7-e317-2b82e75ab0d1"
      },
      "outputs": [
        {
          "output_type": "stream",
          "name": "stdout",
          "text": [
            "Looking in indexes: https://pypi.org/simple, https://us-python.pkg.dev/colab-wheels/public/simple/\n",
            "Collecting findspark\n",
            "  Downloading findspark-2.0.1-py2.py3-none-any.whl (4.4 kB)\n",
            "Installing collected packages: findspark\n",
            "Successfully installed findspark-2.0.1\n",
            "Looking in indexes: https://pypi.org/simple, https://us-python.pkg.dev/colab-wheels/public/simple/\n",
            "Requirement already satisfied: xlrd in /usr/local/lib/python3.8/dist-packages (1.2.0)\n",
            "Looking in indexes: https://pypi.org/simple, https://us-python.pkg.dev/colab-wheels/public/simple/\n",
            "Requirement already satisfied: scikit-learn in /usr/local/lib/python3.8/dist-packages (1.0.2)\n",
            "Requirement already satisfied: numpy>=1.14.6 in /usr/local/lib/python3.8/dist-packages (from scikit-learn) (1.21.6)\n",
            "Requirement already satisfied: joblib>=0.11 in /usr/local/lib/python3.8/dist-packages (from scikit-learn) (1.2.0)\n",
            "Requirement already satisfied: threadpoolctl>=2.0.0 in /usr/local/lib/python3.8/dist-packages (from scikit-learn) (3.1.0)\n",
            "Requirement already satisfied: scipy>=1.1.0 in /usr/local/lib/python3.8/dist-packages (from scikit-learn) (1.7.3)\n",
            "Looking in indexes: https://pypi.org/simple, https://us-python.pkg.dev/colab-wheels/public/simple/\n",
            "Collecting scikit-plot\n",
            "  Downloading scikit_plot-0.3.7-py3-none-any.whl (33 kB)\n",
            "Requirement already satisfied: joblib>=0.10 in /usr/local/lib/python3.8/dist-packages (from scikit-plot) (1.2.0)\n",
            "Requirement already satisfied: matplotlib>=1.4.0 in /usr/local/lib/python3.8/dist-packages (from scikit-plot) (3.2.2)\n",
            "Requirement already satisfied: scipy>=0.9 in /usr/local/lib/python3.8/dist-packages (from scikit-plot) (1.7.3)\n",
            "Requirement already satisfied: scikit-learn>=0.18 in /usr/local/lib/python3.8/dist-packages (from scikit-plot) (1.0.2)\n",
            "Requirement already satisfied: python-dateutil>=2.1 in /usr/local/lib/python3.8/dist-packages (from matplotlib>=1.4.0->scikit-plot) (2.8.2)\n",
            "Requirement already satisfied: pyparsing!=2.0.4,!=2.1.2,!=2.1.6,>=2.0.1 in /usr/local/lib/python3.8/dist-packages (from matplotlib>=1.4.0->scikit-plot) (3.0.9)\n",
            "Requirement already satisfied: numpy>=1.11 in /usr/local/lib/python3.8/dist-packages (from matplotlib>=1.4.0->scikit-plot) (1.21.6)\n",
            "Requirement already satisfied: kiwisolver>=1.0.1 in /usr/local/lib/python3.8/dist-packages (from matplotlib>=1.4.0->scikit-plot) (1.4.4)\n",
            "Requirement already satisfied: cycler>=0.10 in /usr/local/lib/python3.8/dist-packages (from matplotlib>=1.4.0->scikit-plot) (0.11.0)\n",
            "Requirement already satisfied: threadpoolctl>=2.0.0 in /usr/local/lib/python3.8/dist-packages (from scikit-learn>=0.18->scikit-plot) (3.1.0)\n",
            "Requirement already satisfied: six>=1.5 in /usr/local/lib/python3.8/dist-packages (from python-dateutil>=2.1->matplotlib>=1.4.0->scikit-plot) (1.15.0)\n",
            "Installing collected packages: scikit-plot\n",
            "Successfully installed scikit-plot-0.3.7\n"
          ]
        }
      ],
      "source": [
        "!pip install findspark\n",
        "!pip install xlrd\n",
        "!pip install scikit-learn\n",
        "!pip install scikit-plot"
      ]
    },
    {
      "cell_type": "code",
      "source": [
        "# needed in colab, remove this cell when executing on VMs\n",
        "!pip install pyspark"
      ],
      "metadata": {
        "colab": {
          "base_uri": "https://localhost:8080/"
        },
        "id": "QBL7Ux-ZQ6uo",
        "outputId": "a07db237-a42f-47ab-d0cb-9378a104e20e"
      },
      "execution_count": 2,
      "outputs": [
        {
          "output_type": "stream",
          "name": "stdout",
          "text": [
            "Looking in indexes: https://pypi.org/simple, https://us-python.pkg.dev/colab-wheels/public/simple/\n",
            "Collecting pyspark\n",
            "  Downloading pyspark-3.3.1.tar.gz (281.4 MB)\n",
            "\u001b[2K     \u001b[90m━━━━━━━━━━━━━━━━━━━━━━━━━━━━━━━━━━━━━━━\u001b[0m \u001b[32m281.4/281.4 MB\u001b[0m \u001b[31m3.7 MB/s\u001b[0m eta \u001b[36m0:00:00\u001b[0m\n",
            "\u001b[?25h  Preparing metadata (setup.py) ... \u001b[?25l\u001b[?25hdone\n",
            "Collecting py4j==0.10.9.5\n",
            "  Downloading py4j-0.10.9.5-py2.py3-none-any.whl (199 kB)\n",
            "\u001b[2K     \u001b[90m━━━━━━━━━━━━━━━━━━━━━━━━━━━━━━━━━━━━━━\u001b[0m \u001b[32m199.7/199.7 KB\u001b[0m \u001b[31m17.4 MB/s\u001b[0m eta \u001b[36m0:00:00\u001b[0m\n",
            "\u001b[?25hBuilding wheels for collected packages: pyspark\n",
            "  Building wheel for pyspark (setup.py) ... \u001b[?25l\u001b[?25hdone\n",
            "  Created wheel for pyspark: filename=pyspark-3.3.1-py2.py3-none-any.whl size=281845512 sha256=751fd9b8ab658a10b5d2eea13813017189c05529f7735b305bfac0ca8dc21d3e\n",
            "  Stored in directory: /root/.cache/pip/wheels/43/dc/11/ec201cd671da62fa9c5cc77078235e40722170ceba231d7598\n",
            "Successfully built pyspark\n",
            "Installing collected packages: py4j, pyspark\n",
            "Successfully installed py4j-0.10.9.5 pyspark-3.3.1\n"
          ]
        }
      ]
    },
    {
      "cell_type": "markdown",
      "source": [
        "## Import of the libraries"
      ],
      "metadata": {
        "id": "LdUoqLIPRUV2"
      }
    },
    {
      "cell_type": "code",
      "source": [
        "import pandas as pd\n",
        "import numpy as np\n",
        "import seaborn as sns\n",
        "import matplotlib.pyplot as plt\n",
        "import scikitplot as skplt\n",
        "from sklearn.metrics import classification_report\n",
        "%matplotlib inline\n",
        "\n",
        "import findspark\n",
        "#findspark.init()\n",
        "import pyspark\n",
        "from pyspark.sql import SparkSession\n",
        "from pyspark.sql.functions import col\n",
        "from pyspark.sql.types import StructType,\\\n",
        "                              StructField,\\\n",
        "                              IntegerType,\\\n",
        "                              DoubleType,\\\n",
        "                              StringType\n",
        "from pyspark.ml.feature import StandardScaler, VectorAssembler\n",
        "from pyspark.ml.classification import NaiveBayes\n",
        "from pyspark.ml.linalg import DenseVector\n",
        "from pyspark.ml.linalg import Vectors, VectorUDT\n",
        "import pyspark.sql.functions as F\n",
        "from pyspark.sql.types import ArrayType, DoubleType, DataType, StructType"
      ],
      "metadata": {
        "id": "yNuqNW1sRDUp"
      },
      "execution_count": 24,
      "outputs": []
    },
    {
      "cell_type": "markdown",
      "source": [
        "## Loading block\n",
        "The following block is needed to load the dataset from the excel file,\n",
        "create the current spark session, build the pyspark dataframe containing\n",
        "the data and show its the schema."
      ],
      "metadata": {
        "id": "hSITlUi4RZfT"
      }
    },
    {
      "cell_type": "code",
      "source": [
        "credit = pd.read_excel('./default of credit card clients.xls', header=1)\n",
        "\n",
        "\n",
        "spark = SparkSession.builder.master(\"local[1]\").appName(\"SparkByExamples.com\").getOrCreate()\n",
        "\n",
        "credit_schema = StructType([\\\n",
        "    StructField(\"ID\", IntegerType(), False),\n",
        "    StructField(\"LIMIT_BAL\", IntegerType(), False),\n",
        "    StructField(\"SEX\", IntegerType(), False),\n",
        "    StructField(\"EDUCATION\", IntegerType(), False),\n",
        "    StructField(\"MARRIAGE\", IntegerType(), False),\n",
        "    StructField(\"AGE\", IntegerType(), False),\n",
        "    StructField(\"PAY_0\", IntegerType(), False),\n",
        "    StructField(\"PAY_2\", IntegerType(), False),\n",
        "    StructField(\"PAY_3\", IntegerType(), False),\n",
        "    StructField(\"PAY_4\", IntegerType(), False),\n",
        "    StructField(\"PAY_5\", IntegerType(), False),\n",
        "    StructField(\"PAY_6\", IntegerType(), False),\n",
        "    StructField(\"BILL_AMT1\", IntegerType(), False),\n",
        "    StructField(\"BILL_AMT2\", IntegerType(), False),\n",
        "    StructField(\"BILL_AMT3\", IntegerType(), False),\n",
        "    StructField(\"BILL_AMT4\", IntegerType(), False),\n",
        "    StructField(\"BILL_AMT5\", IntegerType(), False),\n",
        "    StructField(\"BILL_AMT6\", IntegerType(), False),\n",
        "    StructField(\"PAY_AMT1\", IntegerType(), False),\n",
        "    StructField(\"PAY_AMT2\", IntegerType(), False),\n",
        "    StructField(\"PAY_AMT3\", IntegerType(), False),\n",
        "    StructField(\"PAY_AMT4\", IntegerType(), False),\n",
        "    StructField(\"PAY_AMT5\", IntegerType(), False),\n",
        "    StructField(\"PAY_AMT6\", IntegerType(), False),\n",
        "    StructField(\"default payment next month\", IntegerType(), False)])\n",
        "\n",
        "spark_credit= spark.createDataFrame(credit, schema = credit_schema)\n",
        "spark_credit.printSchema()"
      ],
      "metadata": {
        "colab": {
          "base_uri": "https://localhost:8080/"
        },
        "id": "4_I6pogVRG7J",
        "outputId": "9649e715-ec2c-448e-bd7e-4124bd34305d"
      },
      "execution_count": 4,
      "outputs": [
        {
          "output_type": "stream",
          "name": "stdout",
          "text": [
            "root\n",
            " |-- ID: integer (nullable = false)\n",
            " |-- LIMIT_BAL: integer (nullable = false)\n",
            " |-- SEX: integer (nullable = false)\n",
            " |-- EDUCATION: integer (nullable = false)\n",
            " |-- MARRIAGE: integer (nullable = false)\n",
            " |-- AGE: integer (nullable = false)\n",
            " |-- PAY_0: integer (nullable = false)\n",
            " |-- PAY_2: integer (nullable = false)\n",
            " |-- PAY_3: integer (nullable = false)\n",
            " |-- PAY_4: integer (nullable = false)\n",
            " |-- PAY_5: integer (nullable = false)\n",
            " |-- PAY_6: integer (nullable = false)\n",
            " |-- BILL_AMT1: integer (nullable = false)\n",
            " |-- BILL_AMT2: integer (nullable = false)\n",
            " |-- BILL_AMT3: integer (nullable = false)\n",
            " |-- BILL_AMT4: integer (nullable = false)\n",
            " |-- BILL_AMT5: integer (nullable = false)\n",
            " |-- BILL_AMT6: integer (nullable = false)\n",
            " |-- PAY_AMT1: integer (nullable = false)\n",
            " |-- PAY_AMT2: integer (nullable = false)\n",
            " |-- PAY_AMT3: integer (nullable = false)\n",
            " |-- PAY_AMT4: integer (nullable = false)\n",
            " |-- PAY_AMT5: integer (nullable = false)\n",
            " |-- PAY_AMT6: integer (nullable = false)\n",
            " |-- default payment next month: integer (nullable = false)\n",
            "\n"
          ]
        }
      ]
    },
    {
      "cell_type": "markdown",
      "source": [
        "## Pre-processing\n",
        "The following block is needed to drop the \"ID\" column, remove duplicate examples and outliers"
      ],
      "metadata": {
        "id": "o9U_zUv3RdLD"
      }
    },
    {
      "cell_type": "code",
      "source": [
        "spark_credit = spark_credit.drop('ID')\n",
        "spark_credit = spark_credit.distinct()\n",
        "spark_credit = spark_credit.where(col('LIMIT_BAL') <= 550000 ).where(col('PAY_AMT6') <= 50000)"
      ],
      "metadata": {
        "id": "nqMOUb9HRJby"
      },
      "execution_count": 5,
      "outputs": []
    },
    {
      "cell_type": "markdown",
      "source": [
        "## Splitting of the dataset"
      ],
      "metadata": {
        "id": "7Wii1SMGRfo7"
      }
    },
    {
      "cell_type": "code",
      "source": [
        "train_cred, test_cred = spark_credit.randomSplit([0.7, 0.3], seed = 1234)"
      ],
      "metadata": {
        "id": "LtFZCwHCRMNS"
      },
      "execution_count": 6,
      "outputs": []
    },
    {
      "cell_type": "markdown",
      "source": [
        "## Standardization of the features\n",
        "The following block is needed to assemble the previously created DataFrames and scale all the features by using the StandardScaler provided in spark.ml.feature."
      ],
      "metadata": {
        "id": "Kun0lEGLRjxd"
      }
    },
    {
      "cell_type": "code",
      "source": [
        "col_list = [spark_credit.dtypes[i][0] for i in range(0, len(spark_credit.dtypes)-1)]\n",
        "credit_vec_ass = VectorAssembler(inputCols = col_list, outputCol = \"temp_features\")\n",
        "\n",
        "credit_assembled = credit_vec_ass.transform(spark_credit)\n",
        "train_assembled = credit_vec_ass.transform(train_cred)\n",
        "test_assembled = credit_vec_ass.transform(test_cred)\n",
        "\n",
        "# in \"Scaled\" there will be values scaled with the corrected sample standard deviation,\n",
        "# instead of the population-based standard deviation\n",
        "spark_scaler = StandardScaler(withMean=True, withStd=True, inputCol=\"temp_features\", outputCol=\"scaled\")\n",
        "fitted_scaler = spark_scaler.fit(dataset = credit_assembled)\n",
        "scaled_data = fitted_scaler.transform(credit_assembled)\n",
        "scaled_train = fitted_scaler.transform(train_assembled)\n",
        "scaled_test = fitted_scaler.transform(test_assembled)\n",
        "\n",
        "vectorized_scaled_data = scaled_data.select([\"scaled\", \"default payment next month\"])\n",
        "vectorized_scaled_train = scaled_train.select([\"scaled\", \"default payment next month\"])\n",
        "vectorized_scaled_test = scaled_test.select([\"scaled\", \"default payment next month\"])\n",
        "print(vectorized_scaled_data.show())\n",
        "print(vectorized_scaled_train.show())\n",
        "print(vectorized_scaled_test.show())"
      ],
      "metadata": {
        "colab": {
          "base_uri": "https://localhost:8080/"
        },
        "id": "kedD9t-jRlgs",
        "outputId": "469fdd59-b0fe-43bd-fa29-d0782339254f"
      },
      "execution_count": 65,
      "outputs": [
        {
          "output_type": "stream",
          "name": "stdout",
          "text": [
            "+--------------------+--------------------------+\n",
            "|              scaled|default payment next month|\n",
            "+--------------------+--------------------------+\n",
            "|[0.61459469682298...|                         0|\n",
            "|[0.53457136090135...|                         0|\n",
            "|[0.53457136090135...|                         0|\n",
            "|[-0.9058486856880...|                         0|\n",
            "|[0.45454802497971...|                         0|\n",
            "|[-0.5857553420015...|                         0|\n",
            "|[1.57487472788257...|                         0|\n",
            "|[-0.5857553420015...|                         0|\n",
            "|[-0.7458020138447...|                         0|\n",
            "|[-0.1856386623933...|                         1|\n",
            "|[-0.1056153264717...|                         1|\n",
            "|[-0.1056153264717...|                         0|\n",
            "|[1.09473471235277...|                         0|\n",
            "|[-1.1459186934529...|                         0|\n",
            "|[-0.9058486856880...|                         1|\n",
            "|[0.85466470458788...|                         0|\n",
            "|[0.05443134537155...|                         0|\n",
            "|[-0.9058486856880...|                         1|\n",
            "|[-0.6657786779231...|                         1|\n",
            "|[0.69461803274461...|                         1|\n",
            "+--------------------+--------------------------+\n",
            "only showing top 20 rows\n",
            "\n",
            "None\n",
            "+--------------------+--------------------------+\n",
            "|              scaled|default payment next month|\n",
            "+--------------------+--------------------------+\n",
            "|[-1.2259420293745...|                         0|\n",
            "|[-1.2259420293745...|                         0|\n",
            "|[-1.2259420293745...|                         0|\n",
            "|[-1.2259420293745...|                         0|\n",
            "|[-1.2259420293745...|                         1|\n",
            "|[-1.2259420293745...|                         0|\n",
            "|[-1.2259420293745...|                         1|\n",
            "|[-1.2259420293745...|                         1|\n",
            "|[-1.2259420293745...|                         1|\n",
            "|[-1.2259420293745...|                         0|\n",
            "|[-1.2259420293745...|                         0|\n",
            "|[-1.2259420293745...|                         0|\n",
            "|[-1.2259420293745...|                         0|\n",
            "|[-1.2259420293745...|                         1|\n",
            "|[-1.2259420293745...|                         0|\n",
            "|[-1.2259420293745...|                         1|\n",
            "|[-1.2259420293745...|                         0|\n",
            "|[-1.2259420293745...|                         1|\n",
            "|[-1.2259420293745...|                         0|\n",
            "|[-1.2259420293745...|                         1|\n",
            "+--------------------+--------------------------+\n",
            "only showing top 20 rows\n",
            "\n",
            "None\n",
            "+--------------------+--------------------------+\n",
            "|              scaled|default payment next month|\n",
            "+--------------------+--------------------------+\n",
            "|[-1.2259420293745...|                         1|\n",
            "|[-1.2259420293745...|                         1|\n",
            "|[-1.2259420293745...|                         0|\n",
            "|[-1.2259420293745...|                         1|\n",
            "|[-1.2259420293745...|                         1|\n",
            "|[-1.2259420293745...|                         0|\n",
            "|[-1.2259420293745...|                         0|\n",
            "|[-1.2259420293745...|                         0|\n",
            "|[-1.2259420293745...|                         0|\n",
            "|[-1.2259420293745...|                         0|\n",
            "|[-1.2259420293745...|                         0|\n",
            "|[-1.2259420293745...|                         1|\n",
            "|[-1.2259420293745...|                         0|\n",
            "|[-1.2259420293745...|                         0|\n",
            "|[-1.2259420293745...|                         1|\n",
            "|[-1.2259420293745...|                         0|\n",
            "|[-1.2259420293745...|                         0|\n",
            "|[-1.2259420293745...|                         0|\n",
            "|[-1.2259420293745...|                         0|\n",
            "|[-1.2259420293745...|                         0|\n",
            "+--------------------+--------------------------+\n",
            "only showing top 20 rows\n",
            "\n",
            "None\n"
          ]
        }
      ]
    },
    {
      "cell_type": "markdown",
      "source": [
        "## Construction and fitting of the Naive Bayes classifier from spark.ml.classification\n",
        "preliminarly to the construction of the classifier a further preprocessing step must be performed: the data must be positive. <br>\n",
        "Since the features are already standardized, they can be made positive by subtracting the lowest negative value of each feature to all the elements of the corresponding feature."
      ],
      "metadata": {
        "id": "SEGjdMihRwn-"
      }
    },
    {
      "cell_type": "code",
      "source": [
        "def split_array_to_list(col):\n",
        "  \"\"\"\n",
        "  Function to unpack the results of a VectorAssembler.\n",
        "\n",
        "  Params:\n",
        "    col: the pyspark column that must be unpacked, it contains vectors\n",
        "  Returns:\n",
        "    the application of the function to the column passed as parameter,\n",
        "    transforming it into an array (from vector)\n",
        "  \"\"\"\n",
        "  def to_list(v):\n",
        "      return v.toArray().tolist()\n",
        "  return F.udf(to_list, ArrayType(DoubleType()))(col)\n",
        "\n",
        "def getMinArray(vectorized_scaled_data):\n",
        "  \"\"\"\n",
        "  Function to get an array containing the minimum value for each feature.\n",
        "\n",
        "  Params:\n",
        "    vectorized_scaled_data: a pyspark dataframe obtained as the result of\n",
        "                            VectorAssembler, where the features are placed\n",
        "                            in the column \"scaled\"\n",
        "  Returns:\n",
        "    min_array: an array that contains the minimum value for each feature of\n",
        "               vectorized_scaled_data\n",
        "  \"\"\"\n",
        "  unpacked_data = vectorized_scaled_data.select(split_array_to_list(F.col(\"scaled\")).alias(\"splitted\")).select([F.col(\"splitted\")[i].alias(str(col_list[i])) for i in range(len(col_list))])\n",
        "  min_row = unpacked_data.select([F.min(str(col_list[i])).alias(str(col_list[i])) for i in range(len(col_list))])\n",
        "  min_row = credit_vec_ass.transform(min_row).select(F.col(\"temp_features\").alias(\"scaled\"))\n",
        "  min_array = min_row.first().asDict().get(\"scaled\")\n",
        "  return min_array.toArray()\n",
        "\n",
        "min_arr = getMinArray(vectorized_scaled_data)\n",
        "print(type(min_arr))\n",
        "print(min_arr)"
      ],
      "metadata": {
        "colab": {
          "base_uri": "https://localhost:8080/"
        },
        "id": "y5OBJ30CS7Et",
        "outputId": "e8902e66-750b-44fa-f35a-165b00ce1600"
      },
      "execution_count": 66,
      "outputs": [
        {
          "output_type": "stream",
          "name": "stdout",
          "text": [
            "<class 'numpy.ndarray'>\n",
            "[-1.22594203 -1.23617861 -2.35741833 -2.97106933 -1.56625736 -1.77210187\n",
            " -1.5632804  -1.53573041 -1.52356071 -1.53169156 -1.48841692 -3.03817327\n",
            " -1.71208641 -3.02879341 -3.41582794 -2.05397784 -2.30075491 -0.36472188\n",
            " -0.26448145 -0.32545343 -0.31832158 -0.31522648 -0.57065046]\n"
          ]
        }
      ]
    },
    {
      "cell_type": "code",
      "source": [
        "def remove_negative_values(vectorized_scaled, min_array):\n",
        "  \"\"\"\n",
        "  Function that removes negative values by subtracting to each element of each feature\n",
        "  the minimum value for that feature (if it is negative).\n",
        "\n",
        "  Params:\n",
        "    vectorized_scaled: a pyspark dataframe obtained as the result of\n",
        "                        VectorAssembler, where the features are placed\n",
        "                        in the column \"scaled\"\n",
        "    min_array: an array containing the minimum values for each feature\n",
        "               of vectorized_scaled\n",
        "  Returns:\n",
        "    vec_unpacked_data: an assembled pyspark dataframe where the column \"temp_features\"\n",
        "                       contains vectors where each feature is positive\n",
        "  \"\"\"\n",
        "  unpacked_data = vectorized_scaled.select(split_array_to_list(F.col(\"scaled\")).alias(\"splitted\"), F.col(\"default payment next month\"))\\\n",
        "  .select([F.col(\"splitted\")[i].alias(str(col_list[i])) if i < len(col_list) else F.col(\"default payment next month\") for i in range(len(col_list)+1)])\n",
        "  for i in range(len(col_list)):\n",
        "    if min_array[i] < 0:\n",
        "      unpacked_data = unpacked_data.withColumn(str(col_list[i]) + \"_positive\", F.col(str(col_list[i])) - min_array[i])\n",
        "      unpacked_data = unpacked_data.drop(str(col_list[i]))\n",
        "\n",
        "  unpacked_col_list = [unpacked_data.dtypes[i][0] for i in range(0, len(unpacked_data.dtypes) - 1)]\n",
        "  vec_ass = VectorAssembler(inputCols = unpacked_col_list, outputCol = \"temp_features\")\n",
        "  vec_unpacked_data = vec_ass.transform(unpacked_data).select(\"temp_features\", \"default payment next month\")\n",
        "  return vec_unpacked_data\n",
        "\n",
        "vectorized_positive_train = remove_negative_values(vectorized_scaled_train, min_arr)\n",
        "vectorized_positive_test = remove_negative_values(vectorized_scaled_test, min_arr)"
      ],
      "metadata": {
        "id": "lFLHbQHgTOV3"
      },
      "execution_count": 67,
      "outputs": []
    },
    {
      "cell_type": "code",
      "source": [
        "import json\n",
        "\n",
        "def serialize_df(df_to_ser, path_where_ser, df_name):\n",
        "  \"\"\"\n",
        "  Function to serialize a pyspark dataframe to json while also saving its schema.\n",
        "\n",
        "  Params:\n",
        "    df_to_ser: dataframe to serialize\n",
        "    path_where_ser: root directory where the files (one json file for the schema\n",
        "                    and another one for data) will be saved\n",
        "    df_name: the name of the dataset that must be serialized (it is a string\n",
        "             that will be added to both json files)\n",
        "  \"\"\"\n",
        "  schema_to_ser = df_to_ser.schema.json()  \n",
        "  with open(path_where_ser + \"%s_schema.json\"%df_name, \"w\") as json_file:\n",
        "    to_ser = json.dumps(schema_to_ser, indent = 4)\n",
        "    json_file.write(to_ser)\n",
        "  df_to_ser.write.json(path_where_ser + \"/%s.json\"%df_name, mode=\"overwrite\")\n",
        "\n",
        "\n",
        "def load_df(path_where_ser, df_name):\n",
        "  \"\"\"\n",
        "  Function to load a pyspark dataframe known its schema.\n",
        "\n",
        "  Params: \n",
        "    path_where_ser: root directory of the files of the \n",
        "                    serialized dataset and its schema\n",
        "    df_name: actual name of the df (string that was used to give a name the\n",
        "             json file)\n",
        "  Returns:\n",
        "    to_return: the loaded dataset with the loaded schema\n",
        "  \"\"\"\n",
        "  with open(path_where_ser + \"%s_schema.json\"%df_name, \"r\") as json_file:\n",
        "    json_obj = json.load(json_file)\n",
        "    loaded_schema = StructType.fromJson(json.loads(json_obj))\n",
        "  to_return = spark.read.format(\"json\") \\\n",
        "                        .option(\"header\", \"true\") \\\n",
        "                        .schema(loaded_schema) \\\n",
        "                        .load(path_where_ser + \"/%s.json\"%df_name)\n",
        "  #to_return = to_return.drop(to_return.columns[0])\n",
        "  return to_return\n",
        "\n",
        "serialize_df(vectorized_positive_train, \"/content/serialized/\", \"vectorized_pos_train\")\n",
        "vectorized_positive_train = load_df(\"/content/serialized/\", \"vectorized_pos_train\")"
      ],
      "metadata": {
        "id": "1YE15LmfMfN-"
      },
      "execution_count": 68,
      "outputs": []
    },
    {
      "cell_type": "code",
      "source": [
        "# Classification Tree\n",
        "naive_b = NaiveBayes(smoothing=1.0, modelType=\"multinomial\", featuresCol=\"temp_features\", labelCol=\"default payment next month\")\n",
        "model_naive_b = naive_b.fit(vectorized_positive_train) "
      ],
      "metadata": {
        "id": "fupdB0zWSDHX"
      },
      "execution_count": 69,
      "outputs": []
    },
    {
      "cell_type": "markdown",
      "source": [
        "## Evaluation of the classifier\n",
        "The cell below is needed to compute the performances of the classifier that has been fitted, in this case the \"collect()\" is a valid operation since it is performed on the test set only."
      ],
      "metadata": {
        "id": "19JxdiBgSKEI"
      }
    },
    {
      "cell_type": "code",
      "source": [
        "def plot_cumulative_gains(y_true, y_probs):\n",
        "  \"\"\"\n",
        "  Function to plot the cumulative gains chart.\n",
        "  It plots the cumulative number of positive predictions made,\n",
        "  as function of the total number of positive preditcions\n",
        "\n",
        "  Params:\n",
        "    y_true: an array of length num_examples containing the ground truth labels\n",
        "    y_probs: the probabilities associated for each example\n",
        "             to each label, it is an array of shape (num_examples, num_classes)  \n",
        "  \"\"\"\n",
        "  skplt.metrics.plot_cumulative_gain(y_true, y_probs)\n",
        "  plt.xlabel(\"Number of observations\")\n",
        "  plt.ylabel(\"Cumulative number of true positive predictions\")\n",
        "  plt.title(\"Cumulative Gains Chart\")\n",
        "  plt.show()"
      ],
      "metadata": {
        "id": "RKe2zbHzRmPM"
      },
      "execution_count": 70,
      "outputs": []
    },
    {
      "cell_type": "code",
      "source": [
        "Y_true = vectorized_positive_test.select(\"default payment next month\").collect()\n",
        "test_cred_no_def = vectorized_positive_test.select(\"temp_features\")\n",
        "Y_pred_df = model_naive_b.transform(test_cred_no_def)\n",
        "Y_pred_probabilities = Y_pred_df.select(\"probability\").collect()\n",
        "Y_pred_predictions = Y_pred_df.select(\"prediction\").collect()\n",
        "\n",
        "Y_pred_probabilities_np = np.array(Y_pred_probabilities)\n",
        "Y_pred_probabilities_np = np.reshape(Y_pred_probabilities_np, (Y_pred_probabilities_np.shape[0], 2))\n",
        "\n",
        "print(classification_report(Y_true, Y_pred_predictions))\n",
        "plot_cumulative_gains(np.array(Y_true), Y_pred_probabilities_np)"
      ],
      "metadata": {
        "colab": {
          "base_uri": "https://localhost:8080/",
          "height": 451
        },
        "id": "0CQoJ76oXBdZ",
        "outputId": "533ffbe9-b5db-4fb0-fcdd-ad23ab990ff0"
      },
      "execution_count": 71,
      "outputs": [
        {
          "output_type": "stream",
          "name": "stdout",
          "text": [
            "              precision    recall  f1-score   support\n",
            "\n",
            "           0       1.00      0.96      0.98      6841\n",
            "           1       0.87      0.99      0.93      1967\n",
            "\n",
            "    accuracy                           0.97      8808\n",
            "   macro avg       0.94      0.98      0.95      8808\n",
            "weighted avg       0.97      0.97      0.97      8808\n",
            "\n"
          ]
        },
        {
          "output_type": "display_data",
          "data": {
            "text/plain": [
              "<Figure size 432x288 with 1 Axes>"
            ],
            "image/png": "[encoded data removed]"
          },
          "metadata": {
            "needs_background": "light"
          }
        }
      ]
    }
  ]
}