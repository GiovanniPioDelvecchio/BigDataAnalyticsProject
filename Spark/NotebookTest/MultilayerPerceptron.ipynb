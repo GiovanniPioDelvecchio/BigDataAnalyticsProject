{
  "nbformat": 4,
  "nbformat_minor": 0,
  "metadata": {
    "colab": {
      "provenance": []
    },
    "kernelspec": {
      "name": "python3",
      "display_name": "Python 3"
    },
    "language_info": {
      "name": "python"
    }
  },
  "cells": [
    {
      "cell_type": "markdown",
      "source": [
        "## Installation of the required libraries"
      ],
      "metadata": {
        "id": "JJkGsM6rRP3E"
      }
    },
    {
      "cell_type": "code",
      "execution_count": 1,
      "metadata": {
        "colab": {
          "base_uri": "https://localhost:8080/"
        },
        "id": "ithqzsa9Q2np",
        "outputId": "d967cc10-ef44-4f24-8aa4-bf49ec4b99d5"
      },
      "outputs": [
        {
          "output_type": "stream",
          "name": "stdout",
          "text": [
            "Looking in indexes: https://pypi.org/simple, https://us-python.pkg.dev/colab-wheels/public/simple/\n",
            "Collecting findspark\n",
            "  Downloading findspark-2.0.1-py2.py3-none-any.whl (4.4 kB)\n",
            "Installing collected packages: findspark\n",
            "Successfully installed findspark-2.0.1\n",
            "Looking in indexes: https://pypi.org/simple, https://us-python.pkg.dev/colab-wheels/public/simple/\n",
            "Requirement already satisfied: xlrd in /usr/local/lib/python3.8/dist-packages (1.2.0)\n",
            "Looking in indexes: https://pypi.org/simple, https://us-python.pkg.dev/colab-wheels/public/simple/\n",
            "Requirement already satisfied: scikit-learn in /usr/local/lib/python3.8/dist-packages (1.0.2)\n",
            "Requirement already satisfied: threadpoolctl>=2.0.0 in /usr/local/lib/python3.8/dist-packages (from scikit-learn) (3.1.0)\n",
            "Requirement already satisfied: scipy>=1.1.0 in /usr/local/lib/python3.8/dist-packages (from scikit-learn) (1.7.3)\n",
            "Requirement already satisfied: numpy>=1.14.6 in /usr/local/lib/python3.8/dist-packages (from scikit-learn) (1.22.4)\n",
            "Requirement already satisfied: joblib>=0.11 in /usr/local/lib/python3.8/dist-packages (from scikit-learn) (1.2.0)\n",
            "Looking in indexes: https://pypi.org/simple, https://us-python.pkg.dev/colab-wheels/public/simple/\n",
            "Collecting scikit-plot\n",
            "  Downloading scikit_plot-0.3.7-py3-none-any.whl (33 kB)\n",
            "Requirement already satisfied: joblib>=0.10 in /usr/local/lib/python3.8/dist-packages (from scikit-plot) (1.2.0)\n",
            "Requirement already satisfied: scikit-learn>=0.18 in /usr/local/lib/python3.8/dist-packages (from scikit-plot) (1.0.2)\n",
            "Requirement already satisfied: matplotlib>=1.4.0 in /usr/local/lib/python3.8/dist-packages (from scikit-plot) (3.2.2)\n",
            "Requirement already satisfied: scipy>=0.9 in /usr/local/lib/python3.8/dist-packages (from scikit-plot) (1.7.3)\n",
            "Requirement already satisfied: numpy>=1.11 in /usr/local/lib/python3.8/dist-packages (from matplotlib>=1.4.0->scikit-plot) (1.22.4)\n",
            "Requirement already satisfied: pyparsing!=2.0.4,!=2.1.2,!=2.1.6,>=2.0.1 in /usr/local/lib/python3.8/dist-packages (from matplotlib>=1.4.0->scikit-plot) (3.0.9)\n",
            "Requirement already satisfied: cycler>=0.10 in /usr/local/lib/python3.8/dist-packages (from matplotlib>=1.4.0->scikit-plot) (0.11.0)\n",
            "Requirement already satisfied: python-dateutil>=2.1 in /usr/local/lib/python3.8/dist-packages (from matplotlib>=1.4.0->scikit-plot) (2.8.2)\n",
            "Requirement already satisfied: kiwisolver>=1.0.1 in /usr/local/lib/python3.8/dist-packages (from matplotlib>=1.4.0->scikit-plot) (1.4.4)\n",
            "Requirement already satisfied: threadpoolctl>=2.0.0 in /usr/local/lib/python3.8/dist-packages (from scikit-learn>=0.18->scikit-plot) (3.1.0)\n",
            "Requirement already satisfied: six>=1.5 in /usr/local/lib/python3.8/dist-packages (from python-dateutil>=2.1->matplotlib>=1.4.0->scikit-plot) (1.15.0)\n",
            "Installing collected packages: scikit-plot\n",
            "Successfully installed scikit-plot-0.3.7\n",
            "Looking in indexes: https://pypi.org/simple, https://us-python.pkg.dev/colab-wheels/public/simple/\n",
            "Collecting kds\n",
            "  Downloading kds-0.1.3-py3-none-any.whl (7.4 kB)\n",
            "Requirement already satisfied: matplotlib>=1.4.0 in /usr/local/lib/python3.8/dist-packages (from kds) (3.2.2)\n",
            "Requirement already satisfied: pandas>=0.20.0 in /usr/local/lib/python3.8/dist-packages (from kds) (1.3.5)\n",
            "Requirement already satisfied: numpy>=1.12.0 in /usr/local/lib/python3.8/dist-packages (from kds) (1.22.4)\n",
            "Requirement already satisfied: cycler>=0.10 in /usr/local/lib/python3.8/dist-packages (from matplotlib>=1.4.0->kds) (0.11.0)\n",
            "Requirement already satisfied: pyparsing!=2.0.4,!=2.1.2,!=2.1.6,>=2.0.1 in /usr/local/lib/python3.8/dist-packages (from matplotlib>=1.4.0->kds) (3.0.9)\n",
            "Requirement already satisfied: kiwisolver>=1.0.1 in /usr/local/lib/python3.8/dist-packages (from matplotlib>=1.4.0->kds) (1.4.4)\n",
            "Requirement already satisfied: python-dateutil>=2.1 in /usr/local/lib/python3.8/dist-packages (from matplotlib>=1.4.0->kds) (2.8.2)\n",
            "Requirement already satisfied: pytz>=2017.3 in /usr/local/lib/python3.8/dist-packages (from pandas>=0.20.0->kds) (2022.7.1)\n",
            "Requirement already satisfied: six>=1.5 in /usr/local/lib/python3.8/dist-packages (from python-dateutil>=2.1->matplotlib>=1.4.0->kds) (1.15.0)\n",
            "Installing collected packages: kds\n",
            "Successfully installed kds-0.1.3\n"
          ]
        }
      ],
      "source": [
        "!pip install findspark\n",
        "!pip install xlrd\n",
        "!pip install scikit-learn\n",
        "!pip install scikit-plot\n",
        "!pip install kds"
      ]
    },
    {
      "cell_type": "code",
      "source": [
        "# needed in colab, remove this cell when executing on VMs\n",
        "!pip install pyspark"
      ],
      "metadata": {
        "colab": {
          "base_uri": "https://localhost:8080/"
        },
        "id": "QBL7Ux-ZQ6uo",
        "outputId": "9bd97a57-a317-4278-c5a6-5c9c2ebaf3a3"
      },
      "execution_count": 2,
      "outputs": [
        {
          "output_type": "stream",
          "name": "stdout",
          "text": [
            "Looking in indexes: https://pypi.org/simple, https://us-python.pkg.dev/colab-wheels/public/simple/\n",
            "Collecting pyspark\n",
            "  Downloading pyspark-3.3.2.tar.gz (281.4 MB)\n",
            "\u001b[2K     \u001b[90m━━━━━━━━━━━━━━━━━━━━━━━━━━━━━━━━━━━━━━━\u001b[0m \u001b[32m281.4/281.4 MB\u001b[0m \u001b[31m4.9 MB/s\u001b[0m eta \u001b[36m0:00:00\u001b[0m\n",
            "\u001b[?25h  Preparing metadata (setup.py) ... \u001b[?25l\u001b[?25hdone\n",
            "Collecting py4j==0.10.9.5\n",
            "  Downloading py4j-0.10.9.5-py2.py3-none-any.whl (199 kB)\n",
            "\u001b[2K     \u001b[90m━━━━━━━━━━━━━━━━━━━━━━━━━━━━━━━━━━━━━━\u001b[0m \u001b[32m199.7/199.7 KB\u001b[0m \u001b[31m18.8 MB/s\u001b[0m eta \u001b[36m0:00:00\u001b[0m\n",
            "\u001b[?25hBuilding wheels for collected packages: pyspark\n",
            "  Building wheel for pyspark (setup.py) ... \u001b[?25l\u001b[?25hdone\n",
            "  Created wheel for pyspark: filename=pyspark-3.3.2-py2.py3-none-any.whl size=281824025 sha256=0bf06424ffd69c0d1abcd119547076a336649f5b38a52d1dec8177def89216ba\n",
            "  Stored in directory: /root/.cache/pip/wheels/b1/59/a0/a1a0624b5e865fd389919c1a10f53aec9b12195d6747710baf\n",
            "Successfully built pyspark\n",
            "Installing collected packages: py4j, pyspark\n",
            "Successfully installed py4j-0.10.9.5 pyspark-3.3.2\n"
          ]
        }
      ]
    },
    {
      "cell_type": "markdown",
      "source": [
        "## Import of the libraries"
      ],
      "metadata": {
        "id": "LdUoqLIPRUV2"
      }
    },
    {
      "cell_type": "code",
      "source": [
        "import json\n",
        "\n",
        "import pandas as pd\n",
        "import numpy as np\n",
        "import scipy\n",
        "import seaborn as sns\n",
        "import matplotlib.pyplot as plt\n",
        "import scikitplot as skplt\n",
        "import kds\n",
        "from sklearn.metrics import classification_report\n",
        "%matplotlib inline\n",
        "\n",
        "import findspark\n",
        "#findspark.init()\n",
        "import pyspark\n",
        "from pyspark.sql import SparkSession\n",
        "from pyspark.sql.functions import col\n",
        "from pyspark.sql.types import StructType,\\\n",
        "                              StructField,\\\n",
        "                              IntegerType,\\\n",
        "                              DoubleType,\\\n",
        "                              StringType\n",
        "from pyspark.ml.feature import StandardScaler, VectorAssembler, MinMaxScaler\n",
        "from pyspark.ml.classification import MultilayerPerceptronClassifier\n",
        "import pyspark.sql.functions as F\n",
        "from pyspark.sql.types import ArrayType, DoubleType"
      ],
      "metadata": {
        "id": "yNuqNW1sRDUp"
      },
      "execution_count": 3,
      "outputs": []
    },
    {
      "cell_type": "markdown",
      "source": [
        "## Loading block\n",
        "The following block is needed to load the dataset from the excel file,\n",
        "create the current spark session, build the pyspark dataframe containing\n",
        "the data and show its the schema."
      ],
      "metadata": {
        "id": "hSITlUi4RZfT"
      }
    },
    {
      "cell_type": "code",
      "source": [
        "credit = pd.read_excel('./default of credit card clients.xls', header=1)\n",
        "\n",
        "\n",
        "spark = SparkSession.builder.master(\"local[1]\").appName(\"SparkByExamples.com\").getOrCreate()\n",
        "\n",
        "credit_schema = StructType([\\\n",
        "    StructField(\"ID\", IntegerType(), False),\n",
        "    StructField(\"LIMIT_BAL\", IntegerType(), False),\n",
        "    StructField(\"SEX\", IntegerType(), False),\n",
        "    StructField(\"EDUCATION\", IntegerType(), False),\n",
        "    StructField(\"MARRIAGE\", IntegerType(), False),\n",
        "    StructField(\"AGE\", IntegerType(), False),\n",
        "    StructField(\"PAY_0\", IntegerType(), False),\n",
        "    StructField(\"PAY_2\", IntegerType(), False),\n",
        "    StructField(\"PAY_3\", IntegerType(), False),\n",
        "    StructField(\"PAY_4\", IntegerType(), False),\n",
        "    StructField(\"PAY_5\", IntegerType(), False),\n",
        "    StructField(\"PAY_6\", IntegerType(), False),\n",
        "    StructField(\"BILL_AMT1\", IntegerType(), False),\n",
        "    StructField(\"BILL_AMT2\", IntegerType(), False),\n",
        "    StructField(\"BILL_AMT3\", IntegerType(), False),\n",
        "    StructField(\"BILL_AMT4\", IntegerType(), False),\n",
        "    StructField(\"BILL_AMT5\", IntegerType(), False),\n",
        "    StructField(\"BILL_AMT6\", IntegerType(), False),\n",
        "    StructField(\"PAY_AMT1\", IntegerType(), False),\n",
        "    StructField(\"PAY_AMT2\", IntegerType(), False),\n",
        "    StructField(\"PAY_AMT3\", IntegerType(), False),\n",
        "    StructField(\"PAY_AMT4\", IntegerType(), False),\n",
        "    StructField(\"PAY_AMT5\", IntegerType(), False),\n",
        "    StructField(\"PAY_AMT6\", IntegerType(), False),\n",
        "    StructField(\"default payment next month\", IntegerType(), False)])\n",
        "\n",
        "spark_credit= spark.createDataFrame(credit, schema = credit_schema)\n",
        "spark_credit.printSchema()"
      ],
      "metadata": {
        "colab": {
          "base_uri": "https://localhost:8080/"
        },
        "id": "4_I6pogVRG7J",
        "outputId": "41ca6707-c4e7-4a9e-cbd7-a4ba1d108c3f"
      },
      "execution_count": 4,
      "outputs": [
        {
          "output_type": "stream",
          "name": "stdout",
          "text": [
            "root\n",
            " |-- ID: integer (nullable = false)\n",
            " |-- LIMIT_BAL: integer (nullable = false)\n",
            " |-- SEX: integer (nullable = false)\n",
            " |-- EDUCATION: integer (nullable = false)\n",
            " |-- MARRIAGE: integer (nullable = false)\n",
            " |-- AGE: integer (nullable = false)\n",
            " |-- PAY_0: integer (nullable = false)\n",
            " |-- PAY_2: integer (nullable = false)\n",
            " |-- PAY_3: integer (nullable = false)\n",
            " |-- PAY_4: integer (nullable = false)\n",
            " |-- PAY_5: integer (nullable = false)\n",
            " |-- PAY_6: integer (nullable = false)\n",
            " |-- BILL_AMT1: integer (nullable = false)\n",
            " |-- BILL_AMT2: integer (nullable = false)\n",
            " |-- BILL_AMT3: integer (nullable = false)\n",
            " |-- BILL_AMT4: integer (nullable = false)\n",
            " |-- BILL_AMT5: integer (nullable = false)\n",
            " |-- BILL_AMT6: integer (nullable = false)\n",
            " |-- PAY_AMT1: integer (nullable = false)\n",
            " |-- PAY_AMT2: integer (nullable = false)\n",
            " |-- PAY_AMT3: integer (nullable = false)\n",
            " |-- PAY_AMT4: integer (nullable = false)\n",
            " |-- PAY_AMT5: integer (nullable = false)\n",
            " |-- PAY_AMT6: integer (nullable = false)\n",
            " |-- default payment next month: integer (nullable = false)\n",
            "\n"
          ]
        }
      ]
    },
    {
      "cell_type": "markdown",
      "source": [
        "## Pre-processing\n",
        "The following block is needed to drop the \"ID\" column, remove duplicate examples and outliers"
      ],
      "metadata": {
        "id": "o9U_zUv3RdLD"
      }
    },
    {
      "cell_type": "code",
      "source": [
        "spark_credit = spark_credit.drop('ID')\n",
        "spark_credit = spark_credit.distinct()\n",
        "spark_credit = spark_credit.where(col('LIMIT_BAL') <= 550000 ).where(col('PAY_AMT6') <= 50000)"
      ],
      "metadata": {
        "id": "nqMOUb9HRJby"
      },
      "execution_count": 5,
      "outputs": []
    },
    {
      "cell_type": "markdown",
      "source": [
        "## Splitting of the dataset"
      ],
      "metadata": {
        "id": "7Wii1SMGRfo7"
      }
    },
    {
      "cell_type": "code",
      "source": [
        "train_cred, test_cred = spark_credit.randomSplit([0.7, 0.3], seed = 1234)"
      ],
      "metadata": {
        "id": "LtFZCwHCRMNS"
      },
      "execution_count": 6,
      "outputs": []
    },
    {
      "cell_type": "markdown",
      "source": [
        "## Standardization of the features\n",
        "The following block is needed to assemble the previously created DataFrames and scale all the features by using the StandardScaler provided in spark.ml.feature."
      ],
      "metadata": {
        "id": "Kun0lEGLRjxd"
      }
    },
    {
      "cell_type": "code",
      "source": [
        "col_list = [spark_credit.dtypes[i][0] for i in range(0, len(spark_credit.dtypes)-1)]\n",
        "credit_vec_ass = VectorAssembler(inputCols = col_list, outputCol = \"temp_features\")\n",
        "\n",
        "credit_assembled = credit_vec_ass.transform(spark_credit)\n",
        "train_assembled = credit_vec_ass.transform(train_cred)\n",
        "test_assembled = credit_vec_ass.transform(test_cred)\n",
        "\n",
        "# in \"Scaled\" there will be values scaled with the corrected sample standard deviation,\n",
        "# instead of the population-based standard deviation\n",
        "spark_scaler = StandardScaler(withMean=True, withStd=True, inputCol=\"temp_features\", outputCol=\"scaled\")\n",
        "fitted_scaler = spark_scaler.fit(dataset = credit_assembled)\n",
        "scaled_data = fitted_scaler.transform(credit_assembled)\n",
        "scaled_train = fitted_scaler.transform(train_assembled)\n",
        "scaled_test = fitted_scaler.transform(test_assembled)\n",
        "\n",
        "vectorized_scaled_data = scaled_data.select([\"scaled\", \"default payment next month\"])\n",
        "vectorized_scaled_train = scaled_train.select([\"scaled\", \"default payment next month\"])\n",
        "vectorized_scaled_test = scaled_test.select([\"scaled\", \"default payment next month\"])\n",
        "print(vectorized_scaled_data.show())\n",
        "print(vectorized_scaled_train.show())\n",
        "print(vectorized_scaled_test.show())"
      ],
      "metadata": {
        "colab": {
          "base_uri": "https://localhost:8080/"
        },
        "id": "kedD9t-jRlgs",
        "outputId": "d4f16ecf-e369-459b-aa1b-f1624a99029d"
      },
      "execution_count": 7,
      "outputs": [
        {
          "output_type": "stream",
          "name": "stdout",
          "text": [
            "+--------------------+--------------------------+\n",
            "|              scaled|default payment next month|\n",
            "+--------------------+--------------------------+\n",
            "|[0.61459469682298...|                         0|\n",
            "|[0.53457136090135...|                         0|\n",
            "|[0.53457136090135...|                         0|\n",
            "|[-0.9058486856880...|                         0|\n",
            "|[0.45454802497971...|                         0|\n",
            "|[-0.5857553420015...|                         0|\n",
            "|[1.57487472788257...|                         0|\n",
            "|[-0.5857553420015...|                         0|\n",
            "|[-0.7458020138447...|                         0|\n",
            "|[-0.1856386623933...|                         1|\n",
            "|[-0.1056153264717...|                         1|\n",
            "|[-0.1056153264717...|                         0|\n",
            "|[1.09473471235277...|                         0|\n",
            "|[-1.1459186934529...|                         0|\n",
            "|[-0.9058486856880...|                         1|\n",
            "|[0.85466470458788...|                         0|\n",
            "|[0.05443134537155...|                         0|\n",
            "|[-0.9058486856880...|                         1|\n",
            "|[-0.6657786779231...|                         1|\n",
            "|[0.69461803274461...|                         1|\n",
            "+--------------------+--------------------------+\n",
            "only showing top 20 rows\n",
            "\n",
            "None\n",
            "+--------------------+--------------------------+\n",
            "|              scaled|default payment next month|\n",
            "+--------------------+--------------------------+\n",
            "|[-1.2259420293745...|                         0|\n",
            "|[-1.2259420293745...|                         0|\n",
            "|[-1.2259420293745...|                         0|\n",
            "|[-1.2259420293745...|                         0|\n",
            "|[-1.2259420293745...|                         1|\n",
            "|[-1.2259420293745...|                         0|\n",
            "|[-1.2259420293745...|                         1|\n",
            "|[-1.2259420293745...|                         1|\n",
            "|[-1.2259420293745...|                         1|\n",
            "|[-1.2259420293745...|                         0|\n",
            "|[-1.2259420293745...|                         0|\n",
            "|[-1.2259420293745...|                         0|\n",
            "|[-1.2259420293745...|                         0|\n",
            "|[-1.2259420293745...|                         1|\n",
            "|[-1.2259420293745...|                         0|\n",
            "|[-1.2259420293745...|                         1|\n",
            "|[-1.2259420293745...|                         0|\n",
            "|[-1.2259420293745...|                         1|\n",
            "|[-1.2259420293745...|                         0|\n",
            "|[-1.2259420293745...|                         1|\n",
            "+--------------------+--------------------------+\n",
            "only showing top 20 rows\n",
            "\n",
            "None\n",
            "+--------------------+--------------------------+\n",
            "|              scaled|default payment next month|\n",
            "+--------------------+--------------------------+\n",
            "|[-1.2259420293745...|                         1|\n",
            "|[-1.2259420293745...|                         1|\n",
            "|[-1.2259420293745...|                         0|\n",
            "|[-1.2259420293745...|                         1|\n",
            "|[-1.2259420293745...|                         1|\n",
            "|[-1.2259420293745...|                         0|\n",
            "|[-1.2259420293745...|                         0|\n",
            "|[-1.2259420293745...|                         0|\n",
            "|[-1.2259420293745...|                         0|\n",
            "|[-1.2259420293745...|                         0|\n",
            "|[-1.2259420293745...|                         0|\n",
            "|[-1.2259420293745...|                         1|\n",
            "|[-1.2259420293745...|                         0|\n",
            "|[-1.2259420293745...|                         0|\n",
            "|[-1.2259420293745...|                         1|\n",
            "|[-1.2259420293745...|                         0|\n",
            "|[-1.2259420293745...|                         0|\n",
            "|[-1.2259420293745...|                         0|\n",
            "|[-1.2259420293745...|                         0|\n",
            "|[-1.2259420293745...|                         0|\n",
            "+--------------------+--------------------------+\n",
            "only showing top 20 rows\n",
            "\n",
            "None\n"
          ]
        }
      ]
    },
    {
      "cell_type": "markdown",
      "source": [
        "## Construction and fitting of the Multilayer Perceptron classifier from spark.ml.classification\n",
        "preliminarly to the construction of the classifier a further preprocessing step must be performed: the distribution of each feature must be in range \\[0,1\\]. <br>"
      ],
      "metadata": {
        "id": "SEGjdMihRwn-"
      }
    },
    {
      "cell_type": "code",
      "source": [
        "min_max_scaler = MinMaxScaler(min=0.0, max=1.0, inputCol='scaled', outputCol=\"min_maxed_scaled\")\n",
        "fitted_min_max_scaler = min_max_scaler.fit(vectorized_scaled_data)\n",
        "mm_scaled_train = fitted_min_max_scaler.transform(vectorized_scaled_train).select(\"min_maxed_scaled\", \"default payment next month\")\n",
        "mm_scaled_test = fitted_min_max_scaler.transform(vectorized_scaled_test).select(\"min_maxed_scaled\", \"default payment next month\")"
      ],
      "metadata": {
        "id": "6LJM_pB2YYOL"
      },
      "execution_count": 8,
      "outputs": []
    },
    {
      "cell_type": "code",
      "source": [
        "def serialize_df(df_to_ser, path_where_ser, df_name):\n",
        "  \"\"\"\n",
        "  Function to serialize a pyspark dataframe to json while also saving its schema.\n",
        "\n",
        "  Params:\n",
        "    df_to_ser: dataframe to serialize\n",
        "    path_where_ser: root directory where the files (one json file for the schema\n",
        "                    and another one for data) will be saved\n",
        "    df_name: the name of the dataset that must be serialized (it is a string\n",
        "             that will be added to both json files)\n",
        "  \"\"\"\n",
        "  schema_to_ser = df_to_ser.schema.json()  \n",
        "  with open(path_where_ser + \"%s_schema.json\"%df_name, \"w\") as json_file:\n",
        "    to_ser = json.dumps(schema_to_ser, indent = 4)\n",
        "    json_file.write(to_ser)\n",
        "  df_to_ser.write.json(path_where_ser + \"/%s.json\"%df_name, mode=\"overwrite\")\n",
        "\n",
        "\n",
        "def load_df(path_where_ser, df_name):\n",
        "  \"\"\"\n",
        "  Function to load a pyspark dataframe known its schema.\n",
        "\n",
        "  Params: \n",
        "    path_where_ser: root directory of the files of the \n",
        "                    serialized dataset and its schema\n",
        "    df_name: actual name of the df (string that was used to give a name the\n",
        "             json file)\n",
        "  Returns:\n",
        "    to_return: the loaded dataset with the loaded schema\n",
        "  \"\"\"\n",
        "  with open(path_where_ser + \"%s_schema.json\"%df_name, \"r\") as json_file:\n",
        "    json_obj = json.load(json_file)\n",
        "    loaded_schema = StructType.fromJson(json.loads(json_obj))\n",
        "  to_return = spark.read.format(\"json\") \\\n",
        "                        .option(\"header\", \"true\") \\\n",
        "                        .schema(loaded_schema) \\\n",
        "                        .load(path_where_ser + \"/%s.json\"%df_name)\n",
        "  return to_return\n",
        "\n",
        "serialize_df(mm_scaled_train, \"/content/serialized/\", \"mm_scaled_train\")\n",
        "serialize_df(mm_scaled_test, \"/content/serialized/\", \"mm_scaled_test\")"
      ],
      "metadata": {
        "id": "bEBmAo3ifzWE"
      },
      "execution_count": 10,
      "outputs": []
    },
    {
      "cell_type": "code",
      "source": [
        "mm_scaled_train = load_df(\"/content/serialized/\", \"mm_scaled_train\")\n",
        "mm_scaled_test = load_df(\"/content/serialized/\", \"mm_scaled_test\")"
      ],
      "metadata": {
        "id": "QZchMy-yJvJ4"
      },
      "execution_count": 11,
      "outputs": []
    },
    {
      "cell_type": "code",
      "source": [
        "mlpc=MultilayerPerceptronClassifier(featuresCol=\"min_maxed_scaled\", \n",
        "                                    labelCol=\"default payment next month\",\n",
        "                                    layers = [23, 10, 5, 2],\n",
        "                                    maxIter=100,\n",
        "                                    blockSize=30,\n",
        "                                    seed=10)"
      ],
      "metadata": {
        "id": "fupdB0zWSDHX"
      },
      "execution_count": 16,
      "outputs": []
    },
    {
      "cell_type": "code",
      "source": [
        "mlpc_fitted = mlpc.fit(mm_scaled_train)\n",
        "print(mlpc.explainParams())\n",
        "mlpc.write().overwrite().save(\"/content/serialized/mlpc-model\")"
      ],
      "metadata": {
        "id": "3NNlBRnsKvf2",
        "outputId": "94493fa0-040d-4114-eb15-c896a33c98c1",
        "colab": {
          "base_uri": "https://localhost:8080/"
        }
      },
      "execution_count": 19,
      "outputs": [
        {
          "output_type": "stream",
          "name": "stdout",
          "text": [
            "blockSize: block size for stacking input data in matrices. Data is stacked within partitions. If block size is more than remaining data in a partition then it is adjusted to the size of this data. (default: 128, current: 30)\n",
            "featuresCol: features column name. (default: features, current: min_maxed_scaled)\n",
            "initialWeights: The initial weights of the model. (undefined)\n",
            "labelCol: label column name. (default: label, current: default payment next month)\n",
            "layers: Sizes of layers from input layer to output layer E.g., Array(780, 100, 10) means 780 inputs, one hidden layer with 100 neurons and output layer of 10 neurons. (current: [23, 10, 5, 2])\n",
            "maxIter: max number of iterations (>= 0). (default: 100, current: 100)\n",
            "predictionCol: prediction column name. (default: prediction)\n",
            "probabilityCol: Column name for predicted class conditional probabilities. Note: Not all models output well-calibrated probability estimates! These probabilities should be treated as confidences, not precise probabilities. (default: probability)\n",
            "rawPredictionCol: raw prediction (a.k.a. confidence) column name. (default: rawPrediction)\n",
            "seed: random seed. (default: -8574113754066789377, current: 10)\n",
            "solver: The solver algorithm for optimization. Supported options: l-bfgs, gd. (default: l-bfgs)\n",
            "stepSize: Step size to be used for each iteration of optimization (>= 0). (default: 0.03)\n",
            "thresholds: Thresholds in multi-class classification to adjust the probability of predicting each class. Array must have length equal to the number of classes, with values > 0, excepting that at most one value may be 0. The class with largest value p/t is predicted, where p is the original probability of that class and t is the class's threshold. (undefined)\n",
            "tol: the convergence tolerance for iterative algorithms (>= 0). (default: 1e-06)\n"
          ]
        }
      ]
    },
    {
      "cell_type": "code",
      "source": [
        "mlpc.load(\"/content/serialized/mlpc-model\")"
      ],
      "metadata": {
        "id": "efeph44eK3Om",
        "outputId": "08bb7c9b-c84c-4646-8817-fa7a4b7d8d59",
        "colab": {
          "base_uri": "https://localhost:8080/"
        }
      },
      "execution_count": 20,
      "outputs": [
        {
          "output_type": "execute_result",
          "data": {
            "text/plain": [
              "MultilayerPerceptronClassifier_bb723c4989b4"
            ]
          },
          "metadata": {},
          "execution_count": 20
        }
      ]
    },
    {
      "cell_type": "markdown",
      "source": [
        "## Evaluation of the classifier\n",
        "The cell below is needed to compute the performances of the classifier that has been fitted, in this case the \"collect()\" is a valid operation since it is performed on the test set only."
      ],
      "metadata": {
        "id": "19JxdiBgSKEI"
      }
    },
    {
      "cell_type": "code",
      "source": [
        "def plot_cumulative_gains_both_classes(y_true, y_probs):\n",
        "  \"\"\"\n",
        "  Function to plot the cumulative gains chart.\n",
        "  It plots the cumulative number of positive predictions made,\n",
        "  as function of the total number of positive preditcions\n",
        "\n",
        "  Params:\n",
        "    y_true: an array of length num_examples containing the ground truth labels\n",
        "    y_probs: the probabilities associated for each example\n",
        "             to each label, it is an array of shape (num_examples, num_classes)  \n",
        "  \"\"\"\n",
        "  skplt.metrics.plot_cumulative_gain(y_true, y_probs)\n",
        "  plt.xlabel(\"Number of observations\")\n",
        "  plt.ylabel(\"Cumulative number of true positive predictions\")\n",
        "  plt.title(\"Cumulative Gains Chart\")\n",
        "  plt.show()"
      ],
      "metadata": {
        "id": "RKe2zbHzRmPM"
      },
      "execution_count": 21,
      "outputs": []
    },
    {
      "cell_type": "code",
      "source": [
        "Y_true = mm_scaled_test.select(\"default payment next month\").collect()\n",
        "test_cred_no_def = mm_scaled_test.select(\"min_maxed_scaled\")\n",
        "Y_pred_df = mlpc_fitted.transform(test_cred_no_def)\n",
        "Y_pred_probabilities = Y_pred_df.select(\"probability\").collect()\n",
        "Y_pred_predictions = Y_pred_df.select(\"prediction\").collect()\n",
        "\n",
        "Y_pred_probabilities_np = np.array(Y_pred_probabilities)\n",
        "Y_pred_probabilities_np = np.reshape(Y_pred_probabilities_np, (Y_pred_probabilities_np.shape[0], 2))\n",
        "\n",
        "data_y = np.array([elem[0] for elem in Y_true])\n",
        "\n",
        "print(classification_report(Y_true, Y_pred_predictions))\n",
        "plot_cumulative_gains_both_classes(data_y, Y_pred_probabilities_np)"
      ],
      "metadata": {
        "colab": {
          "base_uri": "https://localhost:8080/",
          "height": 451
        },
        "id": "0CQoJ76oXBdZ",
        "outputId": "0da82769-cdc9-4b17-a212-b8b03d6cd8ff"
      },
      "execution_count": 22,
      "outputs": [
        {
          "output_type": "stream",
          "name": "stdout",
          "text": [
            "              precision    recall  f1-score   support\n",
            "\n",
            "           0       0.83      0.95      0.89      6841\n",
            "           1       0.67      0.34      0.45      1967\n",
            "\n",
            "    accuracy                           0.82      8808\n",
            "   macro avg       0.75      0.65      0.67      8808\n",
            "weighted avg       0.80      0.82      0.79      8808\n",
            "\n"
          ]
        },
        {
          "output_type": "display_data",
          "data": {
            "text/plain": [
              "<Figure size 432x288 with 1 Axes>"
            ],
            "image/png": "[encoded data removed]"
          },
          "metadata": {
            "needs_background": "light"
          }
        }
      ]
    },
    {
      "cell_type": "code",
      "source": [
        "kds.metrics.plot_cumulative_gain(data_y, Y_pred_probabilities_np[:, 1])"
      ],
      "metadata": {
        "colab": {
          "base_uri": "https://localhost:8080/",
          "height": 296
        },
        "id": "tPDKPszVhEbu",
        "outputId": "c437aacc-0d80-4b31-cbeb-0226aa58dfc7"
      },
      "execution_count": 23,
      "outputs": [
        {
          "output_type": "display_data",
          "data": {
            "text/plain": [
              "<Figure size 432x288 with 1 Axes>"
            ],
            "image/png": "[encoded data removed]"
          },
          "metadata": {
            "needs_background": "light"
          }
        }
      ]
    },
    {
      "cell_type": "code",
      "source": [
        "table = kds.metrics.decile_table(data_y, Y_pred_probabilities_np[:, 1]) \n",
        "cum_resp_pct = table[\"cum_resp_pct\"]\n",
        "cum_resp_pct_rndm = np.arange(10, 110, len(cum_resp_pct))\n",
        "cum_resp_pct_wiz = table[\"cum_resp_pct_wiz\"]"
      ],
      "metadata": {
        "colab": {
          "base_uri": "https://localhost:8080/"
        },
        "id": "5vTY1EqPiBuM",
        "outputId": "a734dd7e-460b-4bd0-d84f-2ee9e87b7dc7"
      },
      "execution_count": null,
      "outputs": [
        {
          "output_type": "stream",
          "name": "stdout",
          "text": [
            "LABELS INFO:\n",
            "\n",
            " prob_min         : Minimum probability in a particular decile\n",
            " prob_max         : Minimum probability in a particular decile\n",
            " prob_avg         : Average probability in a particular decile\n",
            " cnt_events       : Count of events in a particular decile\n",
            " cnt_resp         : Count of responders in a particular decile\n",
            " cnt_non_resp     : Count of non-responders in a particular decile\n",
            " cnt_resp_rndm    : Count of responders if events assigned randomly in a particular decile\n",
            " cnt_resp_wiz     : Count of best possible responders in a particular decile\n",
            " resp_rate        : Response Rate in a particular decile [(cnt_resp/cnt_cust)*100]\n",
            " cum_events       : Cumulative sum of events decile-wise \n",
            " cum_resp         : Cumulative sum of responders decile-wise \n",
            " cum_resp_wiz     : Cumulative sum of best possible responders decile-wise \n",
            " cum_non_resp     : Cumulative sum of non-responders decile-wise \n",
            " cum_events_pct   : Cumulative sum of percentages of events decile-wise \n",
            " cum_resp_pct     : Cumulative sum of percentages of responders decile-wise \n",
            " cum_resp_pct_wiz : Cumulative sum of percentages of best possible responders decile-wise \n",
            " cum_non_resp_pct : Cumulative sum of percentages of non-responders decile-wise \n",
            " KS               : KS Statistic decile-wise \n",
            " lift             : Cumuative Lift Value decile-wise\n"
          ]
        }
      ]
    },
    {
      "cell_type": "code",
      "source": [
        "def area_between_curves(curve_1, curve_2):\n",
        "  acc_1 = (curve_1[0] / 2)\n",
        "  acc_2 = (curve_2[0] / 2)\n",
        "  for i in range(0, len(curve_1) - 1):\n",
        "    acc_1 += (curve_1[i] + curve_1[i + 1]) / 2\n",
        "    acc_2 += (curve_2[i] + curve_2[i + 1]) / 2\n",
        "  return (acc_1 - acc_2)\n",
        "\n",
        "class_rnd_area = area_between_curves(cum_resp_pct, cum_resp_pct_rndm)\n",
        "class_wiz_area = area_between_curves(cum_resp_pct_wiz, cum_resp_pct)\n",
        "area_ratio = class_rnd_area / class_wiz_area\n",
        "print(\"Area between the curve of the classifier and the baseline: \" + str(class_rnd_area))\n",
        "print(\"Area between the ideal curve and the curve of the classifier: \"+ str(class_wiz_area))\n",
        "print(\"Ratio between the two areas (the first one is the numerator): \" + str(area_ratio))"
      ],
      "metadata": {
        "colab": {
          "base_uri": "https://localhost:8080/"
        },
        "id": "GkUDcK0YiFtc",
        "outputId": "cc63fc09-1806-4edb-e4d7-f4604fa7e2c3"
      },
      "execution_count": null,
      "outputs": [
        {
          "output_type": "stream",
          "name": "stdout",
          "text": [
            "Area between the curve of the classifier and the baseline: 199.6199999999999\n",
            "Area between the ideal curve and the curve of the classifier: 184.74700000000007\n",
            "Ratio between the two areas (the first one is the numerator): 1.0805046901979454\n"
          ]
        }
      ]
    },
    {
      "cell_type": "code",
      "source": [
        "def sorting_smoothing_method(y_true, y_probs, n_smooth, use_actual = True):\n",
        "  sort_idx = np.argsort(y_probs[:, 0])\n",
        "  n_total = y_true.shape[0]\n",
        "  p_vec = np.zeros(n_total)\n",
        "  for i in range(0, n_total):\n",
        "    acc = y_true[sort_idx[i]]\n",
        "    n_acc = 0\n",
        "    for n in range(0, n_smooth):\n",
        "      if i + n < n_total:\n",
        "        acc += y_true[sort_idx[i + n]]\n",
        "        n_acc += 1\n",
        "      if i - n >= 0:\n",
        "        acc += y_true[sort_idx[i - n]]\n",
        "        n_acc += 1\n",
        "    if use_actual == True:\n",
        "      p_vec[i] = acc / ((2 * n_acc) + 1)\n",
        "    else:\n",
        "      p_vec[i] = acc / ((2 * n_smooth) + 1)\n",
        "  return p_vec\n",
        "\n",
        "p_vec = sorting_smoothing_method(data_y, Y_pred_probabilities_np, 100, use_actual = True)\n",
        "ord_probs = np.sort(Y_pred_probabilities_np[:, 0])[::-1]\n",
        "\n",
        "slope, intercept, r_value, p_value, std_err = scipy.stats.linregress(ord_probs, p_vec)\n",
        "\n",
        "plt.plot(ord_probs, p_vec, 'o', color='blue')\n",
        "plt.plot(ord_probs, slope*ord_probs + intercept, color = \"red\")\n",
        "plt.show()\n",
        "\n",
        "print(\"m value: \" + str(slope))\n",
        "print(\"q value: \" + str(intercept))\n",
        "print(\"r value: \" + str(r_value))\n",
        "print(\"r squared: \" + str(np.power(r_value, 2)))"
      ],
      "metadata": {
        "colab": {
          "base_uri": "https://localhost:8080/",
          "height": 336
        },
        "id": "jEQw5h_NiHPV",
        "outputId": "cb9483ba-5f3f-4782-88cc-850ff762e58e"
      },
      "execution_count": null,
      "outputs": [
        {
          "output_type": "display_data",
          "data": {
            "text/plain": [
              "<Figure size 432x288 with 1 Axes>"
            ],
            "image/png": "[encoded data removed]"
          },
          "metadata": {
            "needs_background": "light"
          }
        },
        {
          "output_type": "stream",
          "name": "stdout",
          "text": [
            "m value: 0.26591055764117677\n",
            "q value: -0.09440246199910142\n",
            "r value: 0.5418729211614951\n",
            "r squared: 0.2936262626880919\n"
          ]
        }
      ]
    },
    {
      "cell_type": "code",
      "source": [
        "spark.stop()"
      ],
      "metadata": {
        "id": "9BrsQe1AlQ1r"
      },
      "execution_count": null,
      "outputs": []
    }
  ]
}