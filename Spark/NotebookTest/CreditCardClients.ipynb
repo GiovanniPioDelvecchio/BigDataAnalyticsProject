{
  "cells": [
    {
      "cell_type": "code",
      "execution_count": null,
      "id": "2774e4e0",
      "metadata": {
        "colab": {
          "base_uri": "https://localhost:8080/"
        },
        "id": "2774e4e0",
        "outputId": "e8d88167-4a99-4f04-9209-958ef4bb65b9"
      },
      "outputs": [
        {
          "name": "stdout",
          "output_type": "stream",
          "text": [
            "Looking in indexes: https://pypi.org/simple, https://us-python.pkg.dev/colab-wheels/public/simple/\n",
            "Collecting findspark\n",
            "  Downloading findspark-2.0.1-py2.py3-none-any.whl (4.4 kB)\n",
            "Installing collected packages: findspark\n",
            "Successfully installed findspark-2.0.1\n",
            "Looking in indexes: https://pypi.org/simple, https://us-python.pkg.dev/colab-wheels/public/simple/\n",
            "Requirement already satisfied: xlrd in /usr/local/lib/python3.8/dist-packages (1.2.0)\n",
            "Looking in indexes: https://pypi.org/simple, https://us-python.pkg.dev/colab-wheels/public/simple/\n",
            "Requirement already satisfied: scikit-learn in /usr/local/lib/python3.8/dist-packages (1.0.2)\n",
            "Requirement already satisfied: threadpoolctl>=2.0.0 in /usr/local/lib/python3.8/dist-packages (from scikit-learn) (3.1.0)\n",
            "Requirement already satisfied: scipy>=1.1.0 in /usr/local/lib/python3.8/dist-packages (from scikit-learn) (1.7.3)\n",
            "Requirement already satisfied: numpy>=1.14.6 in /usr/local/lib/python3.8/dist-packages (from scikit-learn) (1.21.6)\n",
            "Requirement already satisfied: joblib>=0.11 in /usr/local/lib/python3.8/dist-packages (from scikit-learn) (1.2.0)\n"
          ]
        }
      ],
      "source": [
        "!pip install findspark\n",
        "!pip install xlrd\n",
        "!pip install scikit-learn"
      ]
    },
    {
      "cell_type": "code",
      "execution_count": null,
      "id": "oLjqwHwY9ZmZ",
      "metadata": {
        "colab": {
          "base_uri": "https://localhost:8080/"
        },
        "id": "oLjqwHwY9ZmZ",
        "outputId": "a934aa68-924f-4807-c809-826441322747"
      },
      "outputs": [
        {
          "name": "stdout",
          "output_type": "stream",
          "text": [
            "Looking in indexes: https://pypi.org/simple, https://us-python.pkg.dev/colab-wheels/public/simple/\n",
            "Collecting pyspark\n",
            "  Downloading pyspark-3.3.1.tar.gz (281.4 MB)\n",
            "\u001b[2K     \u001b[90m━━━━━━━━━━━━━━━━━━━━━━━━━━━━━━━━━━━━━━━\u001b[0m \u001b[32m281.4/281.4 MB\u001b[0m \u001b[31m5.5 MB/s\u001b[0m eta \u001b[36m0:00:00\u001b[0m\n",
            "\u001b[?25h  Preparing metadata (setup.py) ... \u001b[?25l\u001b[?25hdone\n",
            "Collecting py4j==0.10.9.5\n",
            "  Downloading py4j-0.10.9.5-py2.py3-none-any.whl (199 kB)\n",
            "\u001b[2K     \u001b[90m━━━━━━━━━━━━━━━━━━━━━━━━━━━━━━━━━━━━━━\u001b[0m \u001b[32m199.7/199.7 KB\u001b[0m \u001b[31m22.7 MB/s\u001b[0m eta \u001b[36m0:00:00\u001b[0m\n",
            "\u001b[?25hBuilding wheels for collected packages: pyspark\n",
            "  Building wheel for pyspark (setup.py) ... \u001b[?25l\u001b[?25hdone\n",
            "  Created wheel for pyspark: filename=pyspark-3.3.1-py2.py3-none-any.whl size=281845512 sha256=b286d389aa04dbf43934566b7f06f5a170731d0da1c179d4d887f562b4aba5fa\n",
            "  Stored in directory: /root/.cache/pip/wheels/43/dc/11/ec201cd671da62fa9c5cc77078235e40722170ceba231d7598\n",
            "Successfully built pyspark\n",
            "Installing collected packages: py4j, pyspark\n",
            "Successfully installed py4j-0.10.9.5 pyspark-3.3.1\n"
          ]
        }
      ],
      "source": [
        "# needed in colab, remove this when executing on VMs\n",
        "!pip install pyspark"
      ]
    },
    {
      "cell_type": "code",
      "execution_count": null,
      "id": "2652b4d6",
      "metadata": {
        "colab": {
          "base_uri": "https://localhost:8080/"
        },
        "id": "2652b4d6",
        "outputId": "15793fb4-a157-4be4-9fe1-213a78df2a85"
      },
      "outputs": [
        {
          "name": "stdout",
          "output_type": "stream",
          "text": [
            "3.14140064\n"
          ]
        }
      ],
      "source": [
        "sc = pyspark.SparkContext(appName=\"Pi\")\n",
        "num_samples = 100000000\n",
        "def inside(p):     \n",
        "  x, y = random.random(), random.random()\n",
        "  return x*x + y*y < 1\n",
        "count = sc.parallelize(range(0, num_samples)).filter(inside).count()\n",
        "pi = 4 * count / num_samples\n",
        "print(pi)\n",
        "sc.stop()"
      ]
    },
    {
      "cell_type": "code",
      "execution_count": null,
      "id": "dcc09bc5",
      "metadata": {
        "id": "dcc09bc5"
      },
      "outputs": [],
      "source": [
        "import pandas as pd\n",
        "import numpy as np\n",
        "import seaborn as sns\n",
        "import matplotlib.pyplot as plt\n",
        "from sklearn.preprocessing import StandardScaler as skStandardScaler\n",
        "from sklearn.preprocessing import MinMaxScaler\n",
        "from sklearn.model_selection import train_test_split\n",
        "from sklearn.metrics import classification_report, confusion_matrix, ConfusionMatrixDisplay\n",
        "%matplotlib inline\n",
        "\n",
        "import findspark\n",
        "#findspark.init()\n",
        "import pyspark\n",
        "from pyspark.sql import SparkSession\n",
        "from pyspark.sql.functions import col\n",
        "from pyspark.sql.types import StructType,\\\n",
        "                              StructField,\\\n",
        "                              IntegerType,\\\n",
        "                              DoubleType,\\\n",
        "                              StringType\n",
        "from pyspark.ml.feature import StandardScaler, VectorAssembler\n",
        "from pyspark.ml.classification import LogisticRegression, DecisionTreeClassifier, NaiveBayes\n",
        "import random\n",
        "import pyspark.sql.functions as F\n",
        "from pyspark.sql.types import ArrayType, DoubleType\n",
        "from pyspark.ml.linalg import Vector, Vectors\n",
        "from pyspark.sql.functions import udf\n",
        "from pyspark.sql.types import FloatType\n",
        "from pyspark.ml.linalg import VectorUDT\n",
        "import numpy as np\n"
      ]
    },
    {
      "cell_type": "code",
      "execution_count": null,
      "id": "440591a9",
      "metadata": {
        "colab": {
          "base_uri": "https://localhost:8080/"
        },
        "id": "440591a9",
        "outputId": "f7e536e6-2c3a-41e5-8149-6e6af68d88a2"
      },
      "outputs": [
        {
          "name": "stdout",
          "output_type": "stream",
          "text": [
            "root\n",
            " |-- ID: integer (nullable = false)\n",
            " |-- LIMIT_BAL: integer (nullable = false)\n",
            " |-- SEX: integer (nullable = false)\n",
            " |-- EDUCATION: integer (nullable = false)\n",
            " |-- MARRIAGE: integer (nullable = false)\n",
            " |-- AGE: integer (nullable = false)\n",
            " |-- PAY_0: integer (nullable = false)\n",
            " |-- PAY_2: integer (nullable = false)\n",
            " |-- PAY_3: integer (nullable = false)\n",
            " |-- PAY_4: integer (nullable = false)\n",
            " |-- PAY_5: integer (nullable = false)\n",
            " |-- PAY_6: integer (nullable = false)\n",
            " |-- BILL_AMT1: integer (nullable = false)\n",
            " |-- BILL_AMT2: integer (nullable = false)\n",
            " |-- BILL_AMT3: integer (nullable = false)\n",
            " |-- BILL_AMT4: integer (nullable = false)\n",
            " |-- BILL_AMT5: integer (nullable = false)\n",
            " |-- BILL_AMT6: integer (nullable = false)\n",
            " |-- PAY_AMT1: integer (nullable = false)\n",
            " |-- PAY_AMT2: integer (nullable = false)\n",
            " |-- PAY_AMT3: integer (nullable = false)\n",
            " |-- PAY_AMT4: integer (nullable = false)\n",
            " |-- PAY_AMT5: integer (nullable = false)\n",
            " |-- PAY_AMT6: integer (nullable = false)\n",
            " |-- default payment next month: integer (nullable = false)\n",
            "\n"
          ]
        }
      ],
      "source": [
        "credit = pd.read_excel('./default of credit card clients.xls', header=1)\n",
        "\n",
        "\n",
        "spark = SparkSession.builder.master(\"local[1]\").appName(\"SparkByExamples.com\").getOrCreate()\n",
        "\n",
        "credit_schema = StructType([\\\n",
        "    StructField(\"ID\", IntegerType(), False),\n",
        "    StructField(\"LIMIT_BAL\", IntegerType(), False),\n",
        "    StructField(\"SEX\", IntegerType(), False),\n",
        "    StructField(\"EDUCATION\", IntegerType(), False),\n",
        "    StructField(\"MARRIAGE\", IntegerType(), False),\n",
        "    StructField(\"AGE\", IntegerType(), False),\n",
        "    StructField(\"PAY_0\", IntegerType(), False),\n",
        "    StructField(\"PAY_2\", IntegerType(), False),\n",
        "    StructField(\"PAY_3\", IntegerType(), False),\n",
        "    StructField(\"PAY_4\", IntegerType(), False),\n",
        "    StructField(\"PAY_5\", IntegerType(), False),\n",
        "    StructField(\"PAY_6\", IntegerType(), False),\n",
        "    StructField(\"BILL_AMT1\", IntegerType(), False),\n",
        "    StructField(\"BILL_AMT2\", IntegerType(), False),\n",
        "    StructField(\"BILL_AMT3\", IntegerType(), False),\n",
        "    StructField(\"BILL_AMT4\", IntegerType(), False),\n",
        "    StructField(\"BILL_AMT5\", IntegerType(), False),\n",
        "    StructField(\"BILL_AMT6\", IntegerType(), False),\n",
        "    StructField(\"PAY_AMT1\", IntegerType(), False),\n",
        "    StructField(\"PAY_AMT2\", IntegerType(), False),\n",
        "    StructField(\"PAY_AMT3\", IntegerType(), False),\n",
        "    StructField(\"PAY_AMT4\", IntegerType(), False),\n",
        "    StructField(\"PAY_AMT5\", IntegerType(), False),\n",
        "    StructField(\"PAY_AMT6\", IntegerType(), False),\n",
        "    StructField(\"default payment next month\", IntegerType(), False)])\n",
        "\n",
        "spark_credit= spark.createDataFrame(credit, schema = credit_schema)\n",
        "spark_credit.printSchema()"
      ]
    },
    {
      "cell_type": "code",
      "execution_count": null,
      "id": "0c_cddypANq0",
      "metadata": {
        "colab": {
          "base_uri": "https://localhost:8080/"
        },
        "id": "0c_cddypANq0",
        "outputId": "0525a55c-3ec1-4c5d-c3d8-040d0d566a51"
      },
      "outputs": [
        {
          "name": "stdout",
          "output_type": "stream",
          "text": [
            "ID                            int64\n",
            "LIMIT_BAL                     int64\n",
            "SEX                           int64\n",
            "EDUCATION                     int64\n",
            "MARRIAGE                      int64\n",
            "AGE                           int64\n",
            "PAY_0                         int64\n",
            "PAY_2                         int64\n",
            "PAY_3                         int64\n",
            "PAY_4                         int64\n",
            "PAY_5                         int64\n",
            "PAY_6                         int64\n",
            "BILL_AMT1                     int64\n",
            "BILL_AMT2                     int64\n",
            "BILL_AMT3                     int64\n",
            "BILL_AMT4                     int64\n",
            "BILL_AMT5                     int64\n",
            "BILL_AMT6                     int64\n",
            "PAY_AMT1                      int64\n",
            "PAY_AMT2                      int64\n",
            "PAY_AMT3                      int64\n",
            "PAY_AMT4                      int64\n",
            "PAY_AMT5                      int64\n",
            "PAY_AMT6                      int64\n",
            "default payment next month    int64\n",
            "dtype: object\n"
          ]
        }
      ],
      "source": [
        "print(credit.dtypes)"
      ]
    },
    {
      "cell_type": "code",
      "execution_count": null,
      "id": "01801467",
      "metadata": {
        "colab": {
          "base_uri": "https://localhost:8080/"
        },
        "id": "01801467",
        "outputId": "f31164da-63a6-47e0-ada1-8d815a3fb708"
      },
      "outputs": [
        {
          "name": "stdout",
          "output_type": "stream",
          "text": [
            "+---+---------+---+---------+--------+---+-----+-----+-----+-----+-----+-----+---------+---------+---------+---------+---------+---------+--------+--------+--------+--------+--------+--------+--------------------------+\n",
            "| ID|LIMIT_BAL|SEX|EDUCATION|MARRIAGE|AGE|PAY_0|PAY_2|PAY_3|PAY_4|PAY_5|PAY_6|BILL_AMT1|BILL_AMT2|BILL_AMT3|BILL_AMT4|BILL_AMT5|BILL_AMT6|PAY_AMT1|PAY_AMT2|PAY_AMT3|PAY_AMT4|PAY_AMT5|PAY_AMT6|default payment next month|\n",
            "+---+---------+---+---------+--------+---+-----+-----+-----+-----+-----+-----+---------+---------+---------+---------+---------+---------+--------+--------+--------+--------+--------+--------+--------------------------+\n",
            "|  1|    20000|  2|        2|       1| 24|    2|    2|   -1|   -1|   -2|   -2|     3913|     3102|      689|        0|        0|        0|       0|     689|       0|       0|       0|       0|                         1|\n",
            "|  2|   120000|  2|        2|       2| 26|   -1|    2|    0|    0|    0|    2|     2682|     1725|     2682|     3272|     3455|     3261|       0|    1000|    1000|    1000|       0|    2000|                         1|\n",
            "|  3|    90000|  2|        2|       2| 34|    0|    0|    0|    0|    0|    0|    29239|    14027|    13559|    14331|    14948|    15549|    1518|    1500|    1000|    1000|    1000|    5000|                         0|\n",
            "|  4|    50000|  2|        2|       1| 37|    0|    0|    0|    0|    0|    0|    46990|    48233|    49291|    28314|    28959|    29547|    2000|    2019|    1200|    1100|    1069|    1000|                         0|\n",
            "|  5|    50000|  1|        2|       1| 57|   -1|    0|   -1|    0|    0|    0|     8617|     5670|    35835|    20940|    19146|    19131|    2000|   36681|   10000|    9000|     689|     679|                         0|\n",
            "|  6|    50000|  1|        1|       2| 37|    0|    0|    0|    0|    0|    0|    64400|    57069|    57608|    19394|    19619|    20024|    2500|    1815|     657|    1000|    1000|     800|                         0|\n",
            "|  7|   500000|  1|        1|       2| 29|    0|    0|    0|    0|    0|    0|   367965|   412023|   445007|   542653|   483003|   473944|   55000|   40000|   38000|   20239|   13750|   13770|                         0|\n",
            "|  8|   100000|  2|        2|       2| 23|    0|   -1|   -1|    0|    0|   -1|    11876|      380|      601|      221|     -159|      567|     380|     601|       0|     581|    1687|    1542|                         0|\n",
            "|  9|   140000|  2|        3|       1| 28|    0|    0|    2|    0|    0|    0|    11285|    14096|    12108|    12211|    11793|     3719|    3329|       0|     432|    1000|    1000|    1000|                         0|\n",
            "| 10|    20000|  1|        3|       2| 35|   -2|   -2|   -2|   -2|   -1|   -1|        0|        0|        0|        0|    13007|    13912|       0|       0|       0|   13007|    1122|       0|                         0|\n",
            "| 11|   200000|  2|        3|       2| 34|    0|    0|    2|    0|    0|   -1|    11073|     9787|     5535|     2513|     1828|     3731|    2306|      12|      50|     300|    3738|      66|                         0|\n",
            "| 12|   260000|  2|        1|       2| 51|   -1|   -1|   -1|   -1|   -1|    2|    12261|    21670|     9966|     8517|    22287|    13668|   21818|    9966|    8583|   22301|       0|    3640|                         0|\n",
            "| 13|   630000|  2|        2|       2| 41|   -1|    0|   -1|   -1|   -1|   -1|    12137|     6500|     6500|     6500|     6500|     2870|    1000|    6500|    6500|    6500|    2870|       0|                         0|\n",
            "| 14|    70000|  1|        2|       2| 30|    1|    2|    2|    0|    0|    2|    65802|    67369|    65701|    66782|    36137|    36894|    3200|       0|    3000|    3000|    1500|       0|                         1|\n",
            "| 15|   250000|  1|        1|       2| 29|    0|    0|    0|    0|    0|    0|    70887|    67060|    63561|    59696|    56875|    55512|    3000|    3000|    3000|    3000|    3000|    3000|                         0|\n",
            "| 16|    50000|  2|        3|       3| 23|    1|    2|    0|    0|    0|    0|    50614|    29173|    28116|    28771|    29531|    30211|       0|    1500|    1100|    1200|    1300|    1100|                         0|\n",
            "| 17|    20000|  1|        1|       2| 24|    0|    0|    2|    2|    2|    2|    15376|    18010|    17428|    18338|    17905|    19104|    3200|       0|    1500|       0|    1650|       0|                         1|\n",
            "| 18|   320000|  1|        1|       1| 49|    0|    0|    0|   -1|   -1|   -1|   253286|   246536|   194663|    70074|     5856|   195599|   10358|   10000|   75940|   20000|  195599|   50000|                         0|\n",
            "| 19|   360000|  2|        1|       1| 49|    1|   -2|   -2|   -2|   -2|   -2|        0|        0|        0|        0|        0|        0|       0|       0|       0|       0|       0|       0|                         0|\n",
            "| 20|   180000|  2|        1|       2| 29|    1|   -2|   -2|   -2|   -2|   -2|        0|        0|        0|        0|        0|        0|       0|       0|       0|       0|       0|       0|                         0|\n",
            "+---+---------+---+---------+--------+---+-----+-----+-----+-----+-----+-----+---------+---------+---------+---------+---------+---------+--------+--------+--------+--------+--------+--------+--------------------------+\n",
            "only showing top 20 rows\n",
            "\n"
          ]
        }
      ],
      "source": [
        "credit.head()\n",
        "spark_credit.show()"
      ]
    },
    {
      "cell_type": "code",
      "execution_count": null,
      "id": "636fb526",
      "metadata": {
        "colab": {
          "base_uri": "https://localhost:8080/"
        },
        "id": "636fb526",
        "outputId": "86e6bd37-c91c-4710-80c5-a1d32b8e8a67"
      },
      "outputs": [
        {
          "name": "stdout",
          "output_type": "stream",
          "text": [
            "<class 'pandas.core.frame.DataFrame'>\n",
            "RangeIndex: 30000 entries, 0 to 29999\n",
            "Data columns (total 25 columns):\n",
            " #   Column                      Non-Null Count  Dtype\n",
            "---  ------                      --------------  -----\n",
            " 0   ID                          30000 non-null  int64\n",
            " 1   LIMIT_BAL                   30000 non-null  int64\n",
            " 2   SEX                         30000 non-null  int64\n",
            " 3   EDUCATION                   30000 non-null  int64\n",
            " 4   MARRIAGE                    30000 non-null  int64\n",
            " 5   AGE                         30000 non-null  int64\n",
            " 6   PAY_0                       30000 non-null  int64\n",
            " 7   PAY_2                       30000 non-null  int64\n",
            " 8   PAY_3                       30000 non-null  int64\n",
            " 9   PAY_4                       30000 non-null  int64\n",
            " 10  PAY_5                       30000 non-null  int64\n",
            " 11  PAY_6                       30000 non-null  int64\n",
            " 12  BILL_AMT1                   30000 non-null  int64\n",
            " 13  BILL_AMT2                   30000 non-null  int64\n",
            " 14  BILL_AMT3                   30000 non-null  int64\n",
            " 15  BILL_AMT4                   30000 non-null  int64\n",
            " 16  BILL_AMT5                   30000 non-null  int64\n",
            " 17  BILL_AMT6                   30000 non-null  int64\n",
            " 18  PAY_AMT1                    30000 non-null  int64\n",
            " 19  PAY_AMT2                    30000 non-null  int64\n",
            " 20  PAY_AMT3                    30000 non-null  int64\n",
            " 21  PAY_AMT4                    30000 non-null  int64\n",
            " 22  PAY_AMT5                    30000 non-null  int64\n",
            " 23  PAY_AMT6                    30000 non-null  int64\n",
            " 24  default payment next month  30000 non-null  int64\n",
            "dtypes: int64(25)\n",
            "memory usage: 5.7 MB\n"
          ]
        }
      ],
      "source": [
        "credit.info()"
      ]
    },
    {
      "cell_type": "code",
      "execution_count": null,
      "id": "04a4c6d8",
      "metadata": {
        "colab": {
          "base_uri": "https://localhost:8080/",
          "height": 428
        },
        "id": "04a4c6d8",
        "outputId": "eb1d477b-254e-4c31-c041-4aad7185f228"
      },
      "outputs": [
        {
          "data": {
            "text/html": [
              "\n",
              "  <div id=\"df-20e51ecd-8afb-435e-8827-338b5c5d2229\">\n",
              "    <div class=\"colab-df-container\">\n",
              "      <div>\n",
              "<style scoped>\n",
              "    .dataframe tbody tr th:only-of-type {\n",
              "        vertical-align: middle;\n",
              "    }\n",
              "\n",
              "    .dataframe tbody tr th {\n",
              "        vertical-align: top;\n",
              "    }\n",
              "\n",
              "    .dataframe thead th {\n",
              "        text-align: right;\n",
              "    }\n",
              "</style>\n",
              "<table border=\"1\" class=\"dataframe\">\n",
              "  <thead>\n",
              "    <tr style=\"text-align: right;\">\n",
              "      <th></th>\n",
              "      <th>ID</th>\n",
              "      <th>LIMIT_BAL</th>\n",
              "      <th>SEX</th>\n",
              "      <th>EDUCATION</th>\n",
              "      <th>MARRIAGE</th>\n",
              "      <th>AGE</th>\n",
              "      <th>PAY_0</th>\n",
              "      <th>PAY_2</th>\n",
              "      <th>PAY_3</th>\n",
              "      <th>PAY_4</th>\n",
              "      <th>...</th>\n",
              "      <th>BILL_AMT4</th>\n",
              "      <th>BILL_AMT5</th>\n",
              "      <th>BILL_AMT6</th>\n",
              "      <th>PAY_AMT1</th>\n",
              "      <th>PAY_AMT2</th>\n",
              "      <th>PAY_AMT3</th>\n",
              "      <th>PAY_AMT4</th>\n",
              "      <th>PAY_AMT5</th>\n",
              "      <th>PAY_AMT6</th>\n",
              "      <th>default payment next month</th>\n",
              "    </tr>\n",
              "  </thead>\n",
              "  <tbody>\n",
              "    <tr>\n",
              "      <th>count</th>\n",
              "      <td>30000.000000</td>\n",
              "      <td>30000.000000</td>\n",
              "      <td>30000.000000</td>\n",
              "      <td>30000.000000</td>\n",
              "      <td>30000.000000</td>\n",
              "      <td>30000.000000</td>\n",
              "      <td>30000.000000</td>\n",
              "      <td>30000.000000</td>\n",
              "      <td>30000.000000</td>\n",
              "      <td>30000.000000</td>\n",
              "      <td>...</td>\n",
              "      <td>30000.000000</td>\n",
              "      <td>30000.000000</td>\n",
              "      <td>30000.000000</td>\n",
              "      <td>30000.000000</td>\n",
              "      <td>3.000000e+04</td>\n",
              "      <td>30000.00000</td>\n",
              "      <td>30000.000000</td>\n",
              "      <td>30000.000000</td>\n",
              "      <td>30000.000000</td>\n",
              "      <td>30000.000000</td>\n",
              "    </tr>\n",
              "    <tr>\n",
              "      <th>mean</th>\n",
              "      <td>15000.500000</td>\n",
              "      <td>167484.322667</td>\n",
              "      <td>1.603733</td>\n",
              "      <td>1.853133</td>\n",
              "      <td>1.551867</td>\n",
              "      <td>35.485500</td>\n",
              "      <td>-0.016700</td>\n",
              "      <td>-0.133767</td>\n",
              "      <td>-0.166200</td>\n",
              "      <td>-0.220667</td>\n",
              "      <td>...</td>\n",
              "      <td>43262.948967</td>\n",
              "      <td>40311.400967</td>\n",
              "      <td>38871.760400</td>\n",
              "      <td>5663.580500</td>\n",
              "      <td>5.921163e+03</td>\n",
              "      <td>5225.68150</td>\n",
              "      <td>4826.076867</td>\n",
              "      <td>4799.387633</td>\n",
              "      <td>5215.502567</td>\n",
              "      <td>0.221200</td>\n",
              "    </tr>\n",
              "    <tr>\n",
              "      <th>std</th>\n",
              "      <td>8660.398374</td>\n",
              "      <td>129747.661567</td>\n",
              "      <td>0.489129</td>\n",
              "      <td>0.790349</td>\n",
              "      <td>0.521970</td>\n",
              "      <td>9.217904</td>\n",
              "      <td>1.123802</td>\n",
              "      <td>1.197186</td>\n",
              "      <td>1.196868</td>\n",
              "      <td>1.169139</td>\n",
              "      <td>...</td>\n",
              "      <td>64332.856134</td>\n",
              "      <td>60797.155770</td>\n",
              "      <td>59554.107537</td>\n",
              "      <td>16563.280354</td>\n",
              "      <td>2.304087e+04</td>\n",
              "      <td>17606.96147</td>\n",
              "      <td>15666.159744</td>\n",
              "      <td>15278.305679</td>\n",
              "      <td>17777.465775</td>\n",
              "      <td>0.415062</td>\n",
              "    </tr>\n",
              "    <tr>\n",
              "      <th>min</th>\n",
              "      <td>1.000000</td>\n",
              "      <td>10000.000000</td>\n",
              "      <td>1.000000</td>\n",
              "      <td>0.000000</td>\n",
              "      <td>0.000000</td>\n",
              "      <td>21.000000</td>\n",
              "      <td>-2.000000</td>\n",
              "      <td>-2.000000</td>\n",
              "      <td>-2.000000</td>\n",
              "      <td>-2.000000</td>\n",
              "      <td>...</td>\n",
              "      <td>-170000.000000</td>\n",
              "      <td>-81334.000000</td>\n",
              "      <td>-339603.000000</td>\n",
              "      <td>0.000000</td>\n",
              "      <td>0.000000e+00</td>\n",
              "      <td>0.00000</td>\n",
              "      <td>0.000000</td>\n",
              "      <td>0.000000</td>\n",
              "      <td>0.000000</td>\n",
              "      <td>0.000000</td>\n",
              "    </tr>\n",
              "    <tr>\n",
              "      <th>25%</th>\n",
              "      <td>7500.750000</td>\n",
              "      <td>50000.000000</td>\n",
              "      <td>1.000000</td>\n",
              "      <td>1.000000</td>\n",
              "      <td>1.000000</td>\n",
              "      <td>28.000000</td>\n",
              "      <td>-1.000000</td>\n",
              "      <td>-1.000000</td>\n",
              "      <td>-1.000000</td>\n",
              "      <td>-1.000000</td>\n",
              "      <td>...</td>\n",
              "      <td>2326.750000</td>\n",
              "      <td>1763.000000</td>\n",
              "      <td>1256.000000</td>\n",
              "      <td>1000.000000</td>\n",
              "      <td>8.330000e+02</td>\n",
              "      <td>390.00000</td>\n",
              "      <td>296.000000</td>\n",
              "      <td>252.500000</td>\n",
              "      <td>117.750000</td>\n",
              "      <td>0.000000</td>\n",
              "    </tr>\n",
              "    <tr>\n",
              "      <th>50%</th>\n",
              "      <td>15000.500000</td>\n",
              "      <td>140000.000000</td>\n",
              "      <td>2.000000</td>\n",
              "      <td>2.000000</td>\n",
              "      <td>2.000000</td>\n",
              "      <td>34.000000</td>\n",
              "      <td>0.000000</td>\n",
              "      <td>0.000000</td>\n",
              "      <td>0.000000</td>\n",
              "      <td>0.000000</td>\n",
              "      <td>...</td>\n",
              "      <td>19052.000000</td>\n",
              "      <td>18104.500000</td>\n",
              "      <td>17071.000000</td>\n",
              "      <td>2100.000000</td>\n",
              "      <td>2.009000e+03</td>\n",
              "      <td>1800.00000</td>\n",
              "      <td>1500.000000</td>\n",
              "      <td>1500.000000</td>\n",
              "      <td>1500.000000</td>\n",
              "      <td>0.000000</td>\n",
              "    </tr>\n",
              "    <tr>\n",
              "      <th>75%</th>\n",
              "      <td>22500.250000</td>\n",
              "      <td>240000.000000</td>\n",
              "      <td>2.000000</td>\n",
              "      <td>2.000000</td>\n",
              "      <td>2.000000</td>\n",
              "      <td>41.000000</td>\n",
              "      <td>0.000000</td>\n",
              "      <td>0.000000</td>\n",
              "      <td>0.000000</td>\n",
              "      <td>0.000000</td>\n",
              "      <td>...</td>\n",
              "      <td>54506.000000</td>\n",
              "      <td>50190.500000</td>\n",
              "      <td>49198.250000</td>\n",
              "      <td>5006.000000</td>\n",
              "      <td>5.000000e+03</td>\n",
              "      <td>4505.00000</td>\n",
              "      <td>4013.250000</td>\n",
              "      <td>4031.500000</td>\n",
              "      <td>4000.000000</td>\n",
              "      <td>0.000000</td>\n",
              "    </tr>\n",
              "    <tr>\n",
              "      <th>max</th>\n",
              "      <td>30000.000000</td>\n",
              "      <td>1000000.000000</td>\n",
              "      <td>2.000000</td>\n",
              "      <td>6.000000</td>\n",
              "      <td>3.000000</td>\n",
              "      <td>79.000000</td>\n",
              "      <td>8.000000</td>\n",
              "      <td>8.000000</td>\n",
              "      <td>8.000000</td>\n",
              "      <td>8.000000</td>\n",
              "      <td>...</td>\n",
              "      <td>891586.000000</td>\n",
              "      <td>927171.000000</td>\n",
              "      <td>961664.000000</td>\n",
              "      <td>873552.000000</td>\n",
              "      <td>1.684259e+06</td>\n",
              "      <td>896040.00000</td>\n",
              "      <td>621000.000000</td>\n",
              "      <td>426529.000000</td>\n",
              "      <td>528666.000000</td>\n",
              "      <td>1.000000</td>\n",
              "    </tr>\n",
              "  </tbody>\n",
              "</table>\n",
              "<p>8 rows × 25 columns</p>\n",
              "</div>\n",
              "      <button class=\"colab-df-convert\" onclick=\"convertToInteractive('df-20e51ecd-8afb-435e-8827-338b5c5d2229')\"\n",
              "              title=\"Convert this dataframe to an interactive table.\"\n",
              "              style=\"display:none;\">\n",
              "        \n",
              "  <svg xmlns=\"http://www.w3.org/2000/svg\" height=\"24px\"viewBox=\"0 0 24 24\"\n",
              "       width=\"24px\">\n",
              "    <path d=\"M0 0h24v24H0V0z\" fill=\"none\"/>\n",
              "    <path d=\"M18.56 5.44l.94 2.06.94-2.06 2.06-.94-2.06-.94-.94-2.06-.94 2.06-2.06.94zm-11 1L8.5 8.5l.94-2.06 2.06-.94-2.06-.94L8.5 2.5l-.94 2.06-2.06.94zm10 10l.94 2.06.94-2.06 2.06-.94-2.06-.94-.94-2.06-.94 2.06-2.06.94z\"/><path d=\"M17.41 7.96l-1.37-1.37c-.4-.4-.92-.59-1.43-.59-.52 0-1.04.2-1.43.59L10.3 9.45l-7.72 7.72c-.78.78-.78 2.05 0 2.83L4 21.41c.39.39.9.59 1.41.59.51 0 1.02-.2 1.41-.59l7.78-7.78 2.81-2.81c.8-.78.8-2.07 0-2.86zM5.41 20L4 18.59l7.72-7.72 1.47 1.35L5.41 20z\"/>\n",
              "  </svg>\n",
              "      </button>\n",
              "      \n",
              "  <style>\n",
              "    .colab-df-container {\n",
              "      display:flex;\n",
              "      flex-wrap:wrap;\n",
              "      gap: 12px;\n",
              "    }\n",
              "\n",
              "    .colab-df-convert {\n",
              "      background-color: #E8F0FE;\n",
              "      border: none;\n",
              "      border-radius: 50%;\n",
              "      cursor: pointer;\n",
              "      display: none;\n",
              "      fill: #1967D2;\n",
              "      height: 32px;\n",
              "      padding: 0 0 0 0;\n",
              "      width: 32px;\n",
              "    }\n",
              "\n",
              "    .colab-df-convert:hover {\n",
              "      background-color: #E2EBFA;\n",
              "      box-shadow: 0px 1px 2px rgba(60, 64, 67, 0.3), 0px 1px 3px 1px rgba(60, 64, 67, 0.15);\n",
              "      fill: #174EA6;\n",
              "    }\n",
              "\n",
              "    [theme=dark] .colab-df-convert {\n",
              "      background-color: #3B4455;\n",
              "      fill: #D2E3FC;\n",
              "    }\n",
              "\n",
              "    [theme=dark] .colab-df-convert:hover {\n",
              "      background-color: #434B5C;\n",
              "      box-shadow: 0px 1px 3px 1px rgba(0, 0, 0, 0.15);\n",
              "      filter: drop-shadow(0px 1px 2px rgba(0, 0, 0, 0.3));\n",
              "      fill: #FFFFFF;\n",
              "    }\n",
              "  </style>\n",
              "\n",
              "      <script>\n",
              "        const buttonEl =\n",
              "          document.querySelector('#df-20e51ecd-8afb-435e-8827-338b5c5d2229 button.colab-df-convert');\n",
              "        buttonEl.style.display =\n",
              "          google.colab.kernel.accessAllowed ? 'block' : 'none';\n",
              "\n",
              "        async function convertToInteractive(key) {\n",
              "          const element = document.querySelector('#df-20e51ecd-8afb-435e-8827-338b5c5d2229');\n",
              "          const dataTable =\n",
              "            await google.colab.kernel.invokeFunction('convertToInteractive',\n",
              "                                                     [key], {});\n",
              "          if (!dataTable) return;\n",
              "\n",
              "          const docLinkHtml = 'Like what you see? Visit the ' +\n",
              "            '<a target=\"_blank\" href=https://colab.research.google.com/notebooks/data_table.ipynb>data table notebook</a>'\n",
              "            + ' to learn more about interactive tables.';\n",
              "          element.innerHTML = '';\n",
              "          dataTable['output_type'] = 'display_data';\n",
              "          await google.colab.output.renderOutput(dataTable, element);\n",
              "          const docLink = document.createElement('div');\n",
              "          docLink.innerHTML = docLinkHtml;\n",
              "          element.appendChild(docLink);\n",
              "        }\n",
              "      </script>\n",
              "    </div>\n",
              "  </div>\n",
              "  "
            ],
            "text/plain": [
              "                 ID       LIMIT_BAL           SEX     EDUCATION      MARRIAGE  \\\n",
              "count  30000.000000    30000.000000  30000.000000  30000.000000  30000.000000   \n",
              "mean   15000.500000   167484.322667      1.603733      1.853133      1.551867   \n",
              "std     8660.398374   129747.661567      0.489129      0.790349      0.521970   \n",
              "min        1.000000    10000.000000      1.000000      0.000000      0.000000   \n",
              "25%     7500.750000    50000.000000      1.000000      1.000000      1.000000   \n",
              "50%    15000.500000   140000.000000      2.000000      2.000000      2.000000   \n",
              "75%    22500.250000   240000.000000      2.000000      2.000000      2.000000   \n",
              "max    30000.000000  1000000.000000      2.000000      6.000000      3.000000   \n",
              "\n",
              "                AGE         PAY_0         PAY_2         PAY_3         PAY_4  \\\n",
              "count  30000.000000  30000.000000  30000.000000  30000.000000  30000.000000   \n",
              "mean      35.485500     -0.016700     -0.133767     -0.166200     -0.220667   \n",
              "std        9.217904      1.123802      1.197186      1.196868      1.169139   \n",
              "min       21.000000     -2.000000     -2.000000     -2.000000     -2.000000   \n",
              "25%       28.000000     -1.000000     -1.000000     -1.000000     -1.000000   \n",
              "50%       34.000000      0.000000      0.000000      0.000000      0.000000   \n",
              "75%       41.000000      0.000000      0.000000      0.000000      0.000000   \n",
              "max       79.000000      8.000000      8.000000      8.000000      8.000000   \n",
              "\n",
              "       ...      BILL_AMT4      BILL_AMT5      BILL_AMT6       PAY_AMT1  \\\n",
              "count  ...   30000.000000   30000.000000   30000.000000   30000.000000   \n",
              "mean   ...   43262.948967   40311.400967   38871.760400    5663.580500   \n",
              "std    ...   64332.856134   60797.155770   59554.107537   16563.280354   \n",
              "min    ... -170000.000000  -81334.000000 -339603.000000       0.000000   \n",
              "25%    ...    2326.750000    1763.000000    1256.000000    1000.000000   \n",
              "50%    ...   19052.000000   18104.500000   17071.000000    2100.000000   \n",
              "75%    ...   54506.000000   50190.500000   49198.250000    5006.000000   \n",
              "max    ...  891586.000000  927171.000000  961664.000000  873552.000000   \n",
              "\n",
              "           PAY_AMT2      PAY_AMT3       PAY_AMT4       PAY_AMT5  \\\n",
              "count  3.000000e+04   30000.00000   30000.000000   30000.000000   \n",
              "mean   5.921163e+03    5225.68150    4826.076867    4799.387633   \n",
              "std    2.304087e+04   17606.96147   15666.159744   15278.305679   \n",
              "min    0.000000e+00       0.00000       0.000000       0.000000   \n",
              "25%    8.330000e+02     390.00000     296.000000     252.500000   \n",
              "50%    2.009000e+03    1800.00000    1500.000000    1500.000000   \n",
              "75%    5.000000e+03    4505.00000    4013.250000    4031.500000   \n",
              "max    1.684259e+06  896040.00000  621000.000000  426529.000000   \n",
              "\n",
              "            PAY_AMT6  default payment next month  \n",
              "count   30000.000000                30000.000000  \n",
              "mean     5215.502567                    0.221200  \n",
              "std     17777.465775                    0.415062  \n",
              "min         0.000000                    0.000000  \n",
              "25%       117.750000                    0.000000  \n",
              "50%      1500.000000                    0.000000  \n",
              "75%      4000.000000                    0.000000  \n",
              "max    528666.000000                    1.000000  \n",
              "\n",
              "[8 rows x 25 columns]"
            ]
          },
          "execution_count": 8,
          "metadata": {},
          "output_type": "execute_result"
        }
      ],
      "source": [
        "credit.describe()"
      ]
    },
    {
      "cell_type": "code",
      "execution_count": null,
      "id": "44834b80",
      "metadata": {
        "colab": {
          "base_uri": "https://localhost:8080/"
        },
        "id": "44834b80",
        "outputId": "b46812cc-4f57-4696-a5de-d242d6f5649b"
      },
      "outputs": [
        {
          "name": "stdout",
          "output_type": "stream",
          "text": [
            "   LIMIT_BAL  SEX  EDUCATION  MARRIAGE  AGE  PAY_0  PAY_2  PAY_3  PAY_4  \\\n",
            "0      20000    2          2         1   24      2      2     -1     -1   \n",
            "1     120000    2          2         2   26     -1      2      0      0   \n",
            "2      90000    2          2         2   34      0      0      0      0   \n",
            "3      50000    2          2         1   37      0      0      0      0   \n",
            "4      50000    1          2         1   57     -1      0     -1      0   \n",
            "\n",
            "   PAY_5  ...  BILL_AMT4  BILL_AMT5  BILL_AMT6  PAY_AMT1  PAY_AMT2  PAY_AMT3  \\\n",
            "0     -2  ...          0          0          0         0       689         0   \n",
            "1      0  ...       3272       3455       3261         0      1000      1000   \n",
            "2      0  ...      14331      14948      15549      1518      1500      1000   \n",
            "3      0  ...      28314      28959      29547      2000      2019      1200   \n",
            "4      0  ...      20940      19146      19131      2000     36681     10000   \n",
            "\n",
            "   PAY_AMT4  PAY_AMT5  PAY_AMT6  default payment next month  \n",
            "0         0         0         0                           1  \n",
            "1      1000         0      2000                           1  \n",
            "2      1000      1000      5000                           0  \n",
            "3      1100      1069      1000                           0  \n",
            "4      9000       689       679                           0  \n",
            "\n",
            "[5 rows x 24 columns]\n",
            "+---------+---+---------+--------+---+-----+-----+-----+-----+-----+-----+---------+---------+---------+---------+---------+---------+--------+--------+--------+--------+--------+--------+--------------------------+\n",
            "|LIMIT_BAL|SEX|EDUCATION|MARRIAGE|AGE|PAY_0|PAY_2|PAY_3|PAY_4|PAY_5|PAY_6|BILL_AMT1|BILL_AMT2|BILL_AMT3|BILL_AMT4|BILL_AMT5|BILL_AMT6|PAY_AMT1|PAY_AMT2|PAY_AMT3|PAY_AMT4|PAY_AMT5|PAY_AMT6|default payment next month|\n",
            "+---------+---+---------+--------+---+-----+-----+-----+-----+-----+-----+---------+---------+---------+---------+---------+---------+--------+--------+--------+--------+--------+--------+--------------------------+\n",
            "|    20000|  2|        2|       1| 24|    2|    2|   -1|   -1|   -2|   -2|     3913|     3102|      689|        0|        0|        0|       0|     689|       0|       0|       0|       0|                         1|\n",
            "|   120000|  2|        2|       2| 26|   -1|    2|    0|    0|    0|    2|     2682|     1725|     2682|     3272|     3455|     3261|       0|    1000|    1000|    1000|       0|    2000|                         1|\n",
            "|    90000|  2|        2|       2| 34|    0|    0|    0|    0|    0|    0|    29239|    14027|    13559|    14331|    14948|    15549|    1518|    1500|    1000|    1000|    1000|    5000|                         0|\n",
            "|    50000|  2|        2|       1| 37|    0|    0|    0|    0|    0|    0|    46990|    48233|    49291|    28314|    28959|    29547|    2000|    2019|    1200|    1100|    1069|    1000|                         0|\n",
            "|    50000|  1|        2|       1| 57|   -1|    0|   -1|    0|    0|    0|     8617|     5670|    35835|    20940|    19146|    19131|    2000|   36681|   10000|    9000|     689|     679|                         0|\n",
            "|    50000|  1|        1|       2| 37|    0|    0|    0|    0|    0|    0|    64400|    57069|    57608|    19394|    19619|    20024|    2500|    1815|     657|    1000|    1000|     800|                         0|\n",
            "|   500000|  1|        1|       2| 29|    0|    0|    0|    0|    0|    0|   367965|   412023|   445007|   542653|   483003|   473944|   55000|   40000|   38000|   20239|   13750|   13770|                         0|\n",
            "|   100000|  2|        2|       2| 23|    0|   -1|   -1|    0|    0|   -1|    11876|      380|      601|      221|     -159|      567|     380|     601|       0|     581|    1687|    1542|                         0|\n",
            "|   140000|  2|        3|       1| 28|    0|    0|    2|    0|    0|    0|    11285|    14096|    12108|    12211|    11793|     3719|    3329|       0|     432|    1000|    1000|    1000|                         0|\n",
            "|    20000|  1|        3|       2| 35|   -2|   -2|   -2|   -2|   -1|   -1|        0|        0|        0|        0|    13007|    13912|       0|       0|       0|   13007|    1122|       0|                         0|\n",
            "|   200000|  2|        3|       2| 34|    0|    0|    2|    0|    0|   -1|    11073|     9787|     5535|     2513|     1828|     3731|    2306|      12|      50|     300|    3738|      66|                         0|\n",
            "|   260000|  2|        1|       2| 51|   -1|   -1|   -1|   -1|   -1|    2|    12261|    21670|     9966|     8517|    22287|    13668|   21818|    9966|    8583|   22301|       0|    3640|                         0|\n",
            "|   630000|  2|        2|       2| 41|   -1|    0|   -1|   -1|   -1|   -1|    12137|     6500|     6500|     6500|     6500|     2870|    1000|    6500|    6500|    6500|    2870|       0|                         0|\n",
            "|    70000|  1|        2|       2| 30|    1|    2|    2|    0|    0|    2|    65802|    67369|    65701|    66782|    36137|    36894|    3200|       0|    3000|    3000|    1500|       0|                         1|\n",
            "|   250000|  1|        1|       2| 29|    0|    0|    0|    0|    0|    0|    70887|    67060|    63561|    59696|    56875|    55512|    3000|    3000|    3000|    3000|    3000|    3000|                         0|\n",
            "|    50000|  2|        3|       3| 23|    1|    2|    0|    0|    0|    0|    50614|    29173|    28116|    28771|    29531|    30211|       0|    1500|    1100|    1200|    1300|    1100|                         0|\n",
            "|    20000|  1|        1|       2| 24|    0|    0|    2|    2|    2|    2|    15376|    18010|    17428|    18338|    17905|    19104|    3200|       0|    1500|       0|    1650|       0|                         1|\n",
            "|   320000|  1|        1|       1| 49|    0|    0|    0|   -1|   -1|   -1|   253286|   246536|   194663|    70074|     5856|   195599|   10358|   10000|   75940|   20000|  195599|   50000|                         0|\n",
            "|   360000|  2|        1|       1| 49|    1|   -2|   -2|   -2|   -2|   -2|        0|        0|        0|        0|        0|        0|       0|       0|       0|       0|       0|       0|                         0|\n",
            "|   180000|  2|        1|       2| 29|    1|   -2|   -2|   -2|   -2|   -2|        0|        0|        0|        0|        0|        0|       0|       0|       0|       0|       0|       0|                         0|\n",
            "+---------+---+---------+--------+---+-----+-----+-----+-----+-----+-----+---------+---------+---------+---------+---------+---------+--------+--------+--------+--------+--------+--------+--------------------------+\n",
            "only showing top 20 rows\n",
            "\n"
          ]
        }
      ],
      "source": [
        "credit = credit.drop('ID', axis = 1)\n",
        "print(credit.head())\n",
        "\n",
        "spark_credit = spark_credit.drop('ID')\n",
        "spark_credit.show()"
      ]
    },
    {
      "cell_type": "code",
      "execution_count": null,
      "id": "77b24916",
      "metadata": {
        "colab": {
          "base_uri": "https://localhost:8080/"
        },
        "id": "77b24916",
        "outputId": "89cc4803-e95e-40be-c73a-1ea1dacac87a"
      },
      "outputs": [
        {
          "data": {
            "text/plain": [
              "35"
            ]
          },
          "execution_count": 22,
          "metadata": {},
          "output_type": "execute_result"
        }
      ],
      "source": [
        "credit.duplicated().sum()"
      ]
    },
    {
      "cell_type": "code",
      "execution_count": null,
      "id": "ac2a9b76",
      "metadata": {
        "id": "ac2a9b76"
      },
      "outputs": [],
      "source": [
        "credit = credit.drop_duplicates()\n",
        "spark_credit = spark_credit.distinct()"
      ]
    },
    {
      "cell_type": "markdown",
      "id": "de218116",
      "metadata": {
        "id": "de218116"
      },
      "source": [
        "Distribution plots, needed to check if data are normalized"
      ]
    },
    {
      "cell_type": "code",
      "execution_count": null,
      "id": "118fe0f5",
      "metadata": {
        "id": "118fe0f5",
        "outputId": "52e6649c-603f-4d63-e86c-dcad30fb027d"
      },
      "outputs": [
        {
          "data": {
            "text/plain": [
              "<seaborn.axisgrid.FacetGrid at 0x7f9e742792a0>"
            ]
          },
          "execution_count": 11,
          "metadata": {},
          "output_type": "execute_result"
        },
        {
          "data": {
            "image/png": "[encoded data removed]",
            "text/plain": [
              "<Figure size 500x500 with 1 Axes>"
            ]
          },
          "metadata": {},
          "output_type": "display_data"
        }
      ],
      "source": [
        "sns.displot(credit['AGE'], bins = 20, kde = True)"
      ]
    },
    {
      "cell_type": "code",
      "execution_count": null,
      "id": "1405fdd0",
      "metadata": {
        "id": "1405fdd0",
        "outputId": "56ccc6ad-505f-4aa4-bc48-11f7778b9b76"
      },
      "outputs": [
        {
          "data": {
            "text/plain": [
              "<seaborn.axisgrid.FacetGrid at 0x7f9e440c85e0>"
            ]
          },
          "execution_count": 12,
          "metadata": {},
          "output_type": "execute_result"
        },
        {
          "data": {
            "image/png": "[encoded data removed]",
            "text/plain": [
              "<Figure size 500x500 with 1 Axes>"
            ]
          },
          "metadata": {},
          "output_type": "display_data"
        }
      ],
      "source": [
        "sns.displot(credit['BILL_AMT4'], bins = 30, kde = True)"
      ]
    },
    {
      "cell_type": "code",
      "execution_count": null,
      "id": "1dee8c64",
      "metadata": {
        "id": "1dee8c64",
        "outputId": "69f05920-5cdc-4710-9be5-78ca4a06e9bf"
      },
      "outputs": [
        {
          "data": {
            "text/plain": [
              "<seaborn.axisgrid.FacetGrid at 0x7f51397d4850>"
            ]
          },
          "execution_count": 28,
          "metadata": {},
          "output_type": "execute_result"
        },
        {
          "data": {
            "image/png": "[encoded data removed]",
            "text/plain": [
              "<Figure size 500x500 with 1 Axes>"
            ]
          },
          "metadata": {},
          "output_type": "display_data"
        }
      ],
      "source": [
        "sns.displot(credit['PAY_AMT6'], bins = 30, kde = True)"
      ]
    },
    {
      "cell_type": "code",
      "execution_count": null,
      "id": "5e49d29f",
      "metadata": {
        "id": "5e49d29f",
        "outputId": "8d04e910-6ffb-43d3-d409-653e475f78ee"
      },
      "outputs": [
        {
          "data": {
            "text/plain": [
              "<AxesSubplot: >"
            ]
          },
          "execution_count": 13,
          "metadata": {},
          "output_type": "execute_result"
        },
        {
          "data": {
            "image/png": "[encoded data removed]",
            "text/plain": [
              "<Figure size 1200x800 with 2 Axes>"
            ]
          },
          "metadata": {},
          "output_type": "display_data"
        }
      ],
      "source": [
        "plt.figure(figsize = (12,8))\n",
        "sns.heatmap(credit.corr(), cmap = 'viridis')"
      ]
    },
    {
      "cell_type": "code",
      "execution_count": null,
      "id": "1a5e430f",
      "metadata": {
        "id": "1a5e430f",
        "outputId": "eddad806-d878-49ee-da23-1a7712931e53"
      },
      "outputs": [
        {
          "data": {
            "text/plain": [
              "<AxesSubplot: xlabel='SEX', ylabel='count'>"
            ]
          },
          "execution_count": 14,
          "metadata": {},
          "output_type": "execute_result"
        },
        {
          "data": {
            "image/png": "[encoded data removed]",
            "text/plain": [
              "<Figure size 640x480 with 1 Axes>"
            ]
          },
          "metadata": {},
          "output_type": "display_data"
        }
      ],
      "source": [
        "sns.countplot(x = 'SEX', data= credit, palette = 'viridis')"
      ]
    },
    {
      "cell_type": "code",
      "execution_count": null,
      "id": "c2a846a1",
      "metadata": {
        "id": "c2a846a1",
        "outputId": "2a7b6633-fe02-416e-d50e-d892183a0050"
      },
      "outputs": [
        {
          "data": {
            "text/plain": [
              "2    18091\n",
              "1    11874\n",
              "Name: SEX, dtype: int64"
            ]
          },
          "execution_count": 15,
          "metadata": {},
          "output_type": "execute_result"
        }
      ],
      "source": [
        "credit['SEX'].value_counts()"
      ]
    },
    {
      "cell_type": "code",
      "execution_count": null,
      "id": "0e05901c",
      "metadata": {
        "id": "0e05901c",
        "outputId": "9f7665ab-d4e8-4880-8811-0c3262053393"
      },
      "outputs": [
        {
          "data": {
            "text/plain": [
              "<AxesSubplot: xlabel='SEX', ylabel='count'>"
            ]
          },
          "execution_count": 17,
          "metadata": {},
          "output_type": "execute_result"
        },
        {
          "data": {
            "image/png": "[encoded data removed]",
            "text/plain": [
              "<Figure size 640x480 with 1 Axes>"
            ]
          },
          "metadata": {},
          "output_type": "display_data"
        }
      ],
      "source": [
        "sns.countplot(x = 'SEX', data = credit, palette = 'viridis', hue = 'default payment next month')"
      ]
    },
    {
      "cell_type": "code",
      "execution_count": null,
      "id": "9a768458",
      "metadata": {
        "id": "9a768458",
        "outputId": "149a9289-2638-4892-c9f2-c7c07bbba019"
      },
      "outputs": [
        {
          "data": {
            "text/plain": [
              "2    14019\n",
              "1    10563\n",
              "3     4915\n",
              "5      280\n",
              "4      123\n",
              "6       51\n",
              "0       14\n",
              "Name: EDUCATION, dtype: int64"
            ]
          },
          "execution_count": 18,
          "metadata": {},
          "output_type": "execute_result"
        }
      ],
      "source": [
        "credit['EDUCATION'].value_counts()"
      ]
    },
    {
      "cell_type": "code",
      "execution_count": null,
      "id": "f3a7c2ae",
      "metadata": {
        "id": "f3a7c2ae",
        "outputId": "12d8d3ba-e324-4ef3-8a12-41103c386797"
      },
      "outputs": [
        {
          "data": {
            "text/plain": [
              "<AxesSubplot: xlabel='EDUCATION', ylabel='count'>"
            ]
          },
          "execution_count": 19,
          "metadata": {},
          "output_type": "execute_result"
        },
        {
          "data": {
            "image/png": "[encoded data removed]",
            "text/plain": [
              "<Figure size 640x480 with 1 Axes>"
            ]
          },
          "metadata": {},
          "output_type": "display_data"
        }
      ],
      "source": [
        "sns.countplot(x ='EDUCATION', data = credit, palette = 'bright')"
      ]
    },
    {
      "cell_type": "code",
      "execution_count": null,
      "id": "46801116",
      "metadata": {
        "id": "46801116",
        "outputId": "a719fa48-433a-4316-d143-864211f093e7"
      },
      "outputs": [
        {
          "data": {
            "text/plain": [
              "<AxesSubplot: xlabel='EDUCATION', ylabel='count'>"
            ]
          },
          "execution_count": 20,
          "metadata": {},
          "output_type": "execute_result"
        },
        {
          "data": {
            "image/png": "[encoded data removed]",
            "text/plain": [
              "<Figure size 640x480 with 1 Axes>"
            ]
          },
          "metadata": {},
          "output_type": "display_data"
        }
      ],
      "source": [
        "sns.countplot(x = 'EDUCATION', data = credit, palette = 'bright', hue = 'default payment next month')"
      ]
    },
    {
      "cell_type": "code",
      "execution_count": null,
      "id": "dd5617a0",
      "metadata": {
        "id": "dd5617a0",
        "outputId": "d3dace4b-d5b8-4a68-9b62-286096dbe157"
      },
      "outputs": [
        {
          "data": {
            "text/plain": [
              "2    15945\n",
              "1    13643\n",
              "3      323\n",
              "0       54\n",
              "Name: MARRIAGE, dtype: int64"
            ]
          },
          "execution_count": 21,
          "metadata": {},
          "output_type": "execute_result"
        }
      ],
      "source": [
        "credit['MARRIAGE'].value_counts()"
      ]
    },
    {
      "cell_type": "code",
      "execution_count": null,
      "id": "c9679e3b",
      "metadata": {
        "id": "c9679e3b",
        "outputId": "13f4df9e-1db2-40ba-813d-c7f9b4eacd28"
      },
      "outputs": [
        {
          "data": {
            "text/plain": [
              "<AxesSubplot: xlabel='MARRIAGE', ylabel='count'>"
            ]
          },
          "execution_count": 22,
          "metadata": {},
          "output_type": "execute_result"
        },
        {
          "data": {
            "image/png": "[encoded data removed]",
            "text/plain": [
              "<Figure size 640x480 with 1 Axes>"
            ]
          },
          "metadata": {},
          "output_type": "display_data"
        }
      ],
      "source": [
        "sns.countplot(x = 'MARRIAGE', data = credit, palette = 'rocket')"
      ]
    },
    {
      "cell_type": "code",
      "execution_count": null,
      "id": "4b4342b2",
      "metadata": {
        "id": "4b4342b2",
        "outputId": "478ab7e1-689b-4788-cff3-f87a93c3ece0"
      },
      "outputs": [
        {
          "data": {
            "text/plain": [
              "<AxesSubplot: xlabel='MARRIAGE', ylabel='count'>"
            ]
          },
          "execution_count": 23,
          "metadata": {},
          "output_type": "execute_result"
        },
        {
          "data": {
            "image/png": "[encoded data removed]",
            "text/plain": [
              "<Figure size 640x480 with 1 Axes>"
            ]
          },
          "metadata": {},
          "output_type": "display_data"
        }
      ],
      "source": [
        "sns.countplot(x = 'MARRIAGE', data = credit, palette = 'rocket', hue = 'default payment next month')"
      ]
    },
    {
      "cell_type": "code",
      "execution_count": null,
      "id": "90679a70",
      "metadata": {
        "id": "90679a70",
        "outputId": "7e082a8e-a225-4120-857e-6d6dbe3f3a2d"
      },
      "outputs": [
        {
          "data": {
            "text/plain": [
              "<AxesSubplot: xlabel='LIMIT_BAL'>"
            ]
          },
          "execution_count": 24,
          "metadata": {},
          "output_type": "execute_result"
        },
        {
          "data": {
            "image/png": "[encoded data removed]",
            "text/plain": [
              "<Figure size 640x480 with 1 Axes>"
            ]
          },
          "metadata": {},
          "output_type": "display_data"
        }
      ],
      "source": [
        "sns.boxplot(x = 'LIMIT_BAL', data = credit)"
      ]
    },
    {
      "cell_type": "code",
      "execution_count": null,
      "id": "4335263b",
      "metadata": {
        "id": "4335263b",
        "outputId": "ca56b589-5320-4612-ea31-7edb17c6a0ee"
      },
      "outputs": [
        {
          "data": {
            "text/plain": [
              "<AxesSubplot: xlabel='PAY_AMT6'>"
            ]
          },
          "execution_count": 25,
          "metadata": {},
          "output_type": "execute_result"
        },
        {
          "data": {
            "image/png": "[encoded data removed]",
            "text/plain": [
              "<Figure size 640x480 with 1 Axes>"
            ]
          },
          "metadata": {},
          "output_type": "display_data"
        }
      ],
      "source": [
        "sns.boxplot(x = 'PAY_AMT6', data = credit)"
      ]
    },
    {
      "cell_type": "markdown",
      "id": "b5a2defb",
      "metadata": {
        "id": "b5a2defb"
      },
      "source": [
        "Elimination of the outliers in the figure above"
      ]
    },
    {
      "cell_type": "code",
      "execution_count": null,
      "id": "c2dc9a2a",
      "metadata": {
        "id": "c2dc9a2a"
      },
      "outputs": [],
      "source": [
        "credit = credit[(credit['LIMIT_BAL'] <= 550000) & (credit['PAY_AMT6'] <= 50000)]\n",
        "spark_credit = spark_credit.where(col('LIMIT_BAL') <= 550000 ).where(col('PAY_AMT6') <= 50000)"
      ]
    },
    {
      "cell_type": "code",
      "execution_count": null,
      "id": "a1e97890",
      "metadata": {
        "colab": {
          "base_uri": "https://localhost:8080/"
        },
        "id": "a1e97890",
        "outputId": "1a91999f-41ff-4e88-e1f0-2b88b1570634"
      },
      "outputs": [
        {
          "name": "stdout",
          "output_type": "stream",
          "text": [
            "<class 'pandas.core.frame.DataFrame'>\n",
            "Int64Index: 29327 entries, 0 to 29999\n",
            "Data columns (total 24 columns):\n",
            " #   Column                      Non-Null Count  Dtype\n",
            "---  ------                      --------------  -----\n",
            " 0   LIMIT_BAL                   29327 non-null  int64\n",
            " 1   SEX                         29327 non-null  int64\n",
            " 2   EDUCATION                   29327 non-null  int64\n",
            " 3   MARRIAGE                    29327 non-null  int64\n",
            " 4   AGE                         29327 non-null  int64\n",
            " 5   PAY_0                       29327 non-null  int64\n",
            " 6   PAY_2                       29327 non-null  int64\n",
            " 7   PAY_3                       29327 non-null  int64\n",
            " 8   PAY_4                       29327 non-null  int64\n",
            " 9   PAY_5                       29327 non-null  int64\n",
            " 10  PAY_6                       29327 non-null  int64\n",
            " 11  BILL_AMT1                   29327 non-null  int64\n",
            " 12  BILL_AMT2                   29327 non-null  int64\n",
            " 13  BILL_AMT3                   29327 non-null  int64\n",
            " 14  BILL_AMT4                   29327 non-null  int64\n",
            " 15  BILL_AMT5                   29327 non-null  int64\n",
            " 16  BILL_AMT6                   29327 non-null  int64\n",
            " 17  PAY_AMT1                    29327 non-null  int64\n",
            " 18  PAY_AMT2                    29327 non-null  int64\n",
            " 19  PAY_AMT3                    29327 non-null  int64\n",
            " 20  PAY_AMT4                    29327 non-null  int64\n",
            " 21  PAY_AMT5                    29327 non-null  int64\n",
            " 22  PAY_AMT6                    29327 non-null  int64\n",
            " 23  default payment next month  29327 non-null  int64\n",
            "dtypes: int64(24)\n",
            "memory usage: 5.6 MB\n"
          ]
        }
      ],
      "source": [
        "credit.info()"
      ]
    },
    {
      "cell_type": "code",
      "execution_count": null,
      "id": "kfmVAgkeERQ3",
      "metadata": {
        "colab": {
          "base_uri": "https://localhost:8080/"
        },
        "id": "kfmVAgkeERQ3",
        "outputId": "4de0a7f4-8caa-476a-9648-74ac84f779d9"
      },
      "outputs": [
        {
          "name": "stdout",
          "output_type": "stream",
          "text": [
            "[('LIMIT_BAL', 'int'), ('SEX', 'int'), ('EDUCATION', 'int'), ('MARRIAGE', 'int'), ('AGE', 'int'), ('PAY_0', 'int'), ('PAY_2', 'int'), ('PAY_3', 'int'), ('PAY_4', 'int'), ('PAY_5', 'int'), ('PAY_6', 'int'), ('BILL_AMT1', 'int'), ('BILL_AMT2', 'int'), ('BILL_AMT3', 'int'), ('BILL_AMT4', 'int'), ('BILL_AMT5', 'int'), ('BILL_AMT6', 'int'), ('PAY_AMT1', 'int'), ('PAY_AMT2', 'int'), ('PAY_AMT3', 'int'), ('PAY_AMT4', 'int'), ('PAY_AMT5', 'int'), ('PAY_AMT6', 'int'), ('default payment next month', 'int')]\n",
            "+-------+------------------+-------------------+------------------+------------------+-----------------+--------------------+--------------------+-------------------+--------------------+--------------------+------------------+------------------+------------------+------------------+-----------------+------------------+-----------------+------------------+------------------+----------------+------------------+------------------+------------------+--------------------------+\n",
            "|summary|         LIMIT_BAL|                SEX|         EDUCATION|          MARRIAGE|              AGE|               PAY_0|               PAY_2|              PAY_3|               PAY_4|               PAY_5|             PAY_6|         BILL_AMT1|         BILL_AMT2|         BILL_AMT3|        BILL_AMT4|         BILL_AMT5|        BILL_AMT6|          PAY_AMT1|          PAY_AMT2|        PAY_AMT3|          PAY_AMT4|          PAY_AMT5|          PAY_AMT6|default payment next month|\n",
            "+-------+------------------+-------------------+------------------+------------------+-----------------+--------------------+--------------------+-------------------+--------------------+--------------------+------------------+------------------+------------------+------------------+-----------------+------------------+-----------------+------------------+------------------+----------------+------------------+------------------+------------------+--------------------------+\n",
            "|  count|             29362|              29362|             29362|             29362|            29362|               29362|               29362|              29362|               29362|               29362|             29362|             29362|             29362|             29362|            29362|             29362|            29362|             29362|             29362|           29362|             29362|             29362|             29362|                     29362|\n",
            "|   mean|163246.36196444384| 1.6044547374157074|1.8564130508820924|1.5520059941420885|35.45725767999455|-0.00960425039166...|-0.12785232613582181|-0.1600027246100402|-0.21524419317485186|-0.26122198760302434|-0.285811593215721|49947.450514270146|48048.952183093796|45899.830324909744|42267.48055309584|39468.650636877595|38317.12563858048|5325.4065799332475| 5556.348034875008|4886.34234725155| 4565.236053402356| 4522.119712553641|3293.2053334241537|        0.2234520809209182|\n",
            "| stddev|124957.69474478283|0.48897581833813836|0.7876347048428239|0.5223484356741698| 9.23042825528556|   1.123474281899147|  1.1997190157234026| 1.2003471677428446|  1.1735951566626093|  1.1373210230783268|1.1537484516071825| 70937.95966587262| 68832.36005478459|  67074.1539905768| 62137.0420089236| 58817.48201910927|57782.36910787929|14610.846671474912|21021.472552964286|15023.5259031043|14350.669575668402|14354.688856247456| 5775.310430220291|        0.4165659112025417|\n",
            "|    min|             10000|                  1|                 0|                 0|               21|                  -2|                  -2|                 -2|                  -2|                  -2|                -2|           -165580|            -69777|           -157264|          -170000|            -81334|           -94625|                 0|                 0|               0|                 0|                 0|                 0|                         0|\n",
            "|    25%|             50000|                  1|                 1|                 1|               28|                  -1|                  -1|                 -1|                  -1|                  -1|                -1|              3459|              2900|              2566|             2277|              1715|             1234|               950|               792|             390|               284|               237|                50|                         0|\n",
            "|    50%|            140000|                  2|                 2|                 2|               34|                   0|                   0|                  0|                   0|                   0|                 0|             21912|             20807|             19905|            18904|             17970|            16990|              2080|              2000|            1781|              1500|              1500|              1444|                         0|\n",
            "|    75%|            230000|                  2|                 2|                 2|               41|                   0|                   0|                  0|                   0|                   0|                 0|             65521|             62435|             59158|            53008|             49552|            48880|              5000|              5000|            4385|              4000|              4000|              3929|                         0|\n",
            "|    max|            550000|                  2|                 6|                 3|               79|                   8|                   8|                  8|                   8|                   8|                 8|            653062|            743970|           1664089|           706864|            823540|           699944|            505000|           1684259|          508229|            497000|            426529|             50000|                         1|\n",
            "+-------+------------------+-------------------+------------------+------------------+-----------------+--------------------+--------------------+-------------------+--------------------+--------------------+------------------+------------------+------------------+------------------+-----------------+------------------+-----------------+------------------+------------------+----------------+------------------+------------------+------------------+--------------------------+\n",
            "\n"
          ]
        }
      ],
      "source": [
        "print(spark_credit.dtypes)\n",
        "spark_credit.summary().show()"
      ]
    },
    {
      "cell_type": "code",
      "execution_count": null,
      "id": "cb0a02b5",
      "metadata": {
        "colab": {
          "base_uri": "https://localhost:8080/",
          "height": 297
        },
        "id": "cb0a02b5",
        "outputId": "33c08be1-5578-4f98-f016-aa814228f9ee"
      },
      "outputs": [
        {
          "data": {
            "text/plain": [
              "<matplotlib.axes._subplots.AxesSubplot at 0x7fc721fda790>"
            ]
          },
          "execution_count": 31,
          "metadata": {},
          "output_type": "execute_result"
        },
        {
          "data": {
            "image/png": "[encoded data removed]",
            "text/plain": [
              "<Figure size 432x288 with 1 Axes>"
            ]
          },
          "metadata": {
            "needs_background": "light"
          },
          "output_type": "display_data"
        }
      ],
      "source": [
        "sns.boxplot(x = 'LIMIT_BAL', data = credit)"
      ]
    },
    {
      "cell_type": "code",
      "execution_count": null,
      "id": "67081230",
      "metadata": {
        "colab": {
          "base_uri": "https://localhost:8080/",
          "height": 297
        },
        "id": "67081230",
        "outputId": "1a280514-0923-4b5f-f97d-9e15e619c1ef"
      },
      "outputs": [
        {
          "data": {
            "text/plain": [
              "<matplotlib.axes._subplots.AxesSubplot at 0x7fc722cf6bb0>"
            ]
          },
          "execution_count": 32,
          "metadata": {},
          "output_type": "execute_result"
        },
        {
          "data": {
            "image/png": "[encoded data removed]",
            "text/plain": [
              "<Figure size 432x288 with 1 Axes>"
            ]
          },
          "metadata": {
            "needs_background": "light"
          },
          "output_type": "display_data"
        }
      ],
      "source": [
        "sns.boxplot(x = 'PAY_AMT6', data = credit)"
      ]
    },
    {
      "cell_type": "code",
      "execution_count": null,
      "id": "83205447",
      "metadata": {
        "colab": {
          "base_uri": "https://localhost:8080/"
        },
        "id": "83205447",
        "outputId": "1e2a95a5-d79f-4883-da33-e33a0173f67a"
      },
      "outputs": [
        {
          "data": {
            "text/plain": [
              "StandardScaler()"
            ]
          },
          "execution_count": 34,
          "metadata": {},
          "output_type": "execute_result"
        }
      ],
      "source": [
        "scaler = skStandardScaler()\n",
        "scaler.fit(credit.drop('default payment next month', axis = 1))"
      ]
    },
    {
      "cell_type": "code",
      "execution_count": null,
      "id": "6f038fcb",
      "metadata": {
        "id": "6f038fcb"
      },
      "outputs": [],
      "source": [
        "scaled_data = scaler.transform(credit.drop('default payment next month', axis = 1))"
      ]
    },
    {
      "cell_type": "code",
      "execution_count": null,
      "id": "0c12a144",
      "metadata": {
        "colab": {
          "base_uri": "https://localhost:8080/",
          "height": 300
        },
        "id": "0c12a144",
        "outputId": "5dcf5b49-a38a-4c05-feed-0d6fdaeb12a5"
      },
      "outputs": [
        {
          "data": {
            "text/html": [
              "\n",
              "  <div id=\"df-943df21e-f205-422d-a754-8bc0513dc664\">\n",
              "    <div class=\"colab-df-container\">\n",
              "      <div>\n",
              "<style scoped>\n",
              "    .dataframe tbody tr th:only-of-type {\n",
              "        vertical-align: middle;\n",
              "    }\n",
              "\n",
              "    .dataframe tbody tr th {\n",
              "        vertical-align: top;\n",
              "    }\n",
              "\n",
              "    .dataframe thead th {\n",
              "        text-align: right;\n",
              "    }\n",
              "</style>\n",
              "<table border=\"1\" class=\"dataframe\">\n",
              "  <thead>\n",
              "    <tr style=\"text-align: right;\">\n",
              "      <th></th>\n",
              "      <th>LIMIT_BAL</th>\n",
              "      <th>SEX</th>\n",
              "      <th>EDUCATION</th>\n",
              "      <th>MARRIAGE</th>\n",
              "      <th>AGE</th>\n",
              "      <th>PAY_0</th>\n",
              "      <th>PAY_2</th>\n",
              "      <th>PAY_3</th>\n",
              "      <th>PAY_4</th>\n",
              "      <th>PAY_5</th>\n",
              "      <th>...</th>\n",
              "      <th>BILL_AMT3</th>\n",
              "      <th>BILL_AMT4</th>\n",
              "      <th>BILL_AMT5</th>\n",
              "      <th>BILL_AMT6</th>\n",
              "      <th>PAY_AMT1</th>\n",
              "      <th>PAY_AMT2</th>\n",
              "      <th>PAY_AMT3</th>\n",
              "      <th>PAY_AMT4</th>\n",
              "      <th>PAY_AMT5</th>\n",
              "      <th>PAY_AMT6</th>\n",
              "    </tr>\n",
              "  </thead>\n",
              "  <tbody>\n",
              "    <tr>\n",
              "      <th>0</th>\n",
              "      <td>-1.146378</td>\n",
              "      <td>0.808940</td>\n",
              "      <td>0.182305</td>\n",
              "      <td>-1.056795</td>\n",
              "      <td>-1.241270</td>\n",
              "      <td>1.788771</td>\n",
              "      <td>1.773656</td>\n",
              "      <td>-0.699807</td>\n",
              "      <td>-0.668688</td>\n",
              "      <td>-1.528863</td>\n",
              "      <td>...</td>\n",
              "      <td>-0.674054</td>\n",
              "      <td>-0.680242</td>\n",
              "      <td>-0.671047</td>\n",
              "      <td>-0.663140</td>\n",
              "      <td>-0.364489</td>\n",
              "      <td>-0.231546</td>\n",
              "      <td>-0.325252</td>\n",
              "      <td>-0.318125</td>\n",
              "      <td>-0.315033</td>\n",
              "      <td>-0.570231</td>\n",
              "    </tr>\n",
              "    <tr>\n",
              "      <th>1</th>\n",
              "      <td>-0.346094</td>\n",
              "      <td>0.808940</td>\n",
              "      <td>0.182305</td>\n",
              "      <td>0.857668</td>\n",
              "      <td>-1.024592</td>\n",
              "      <td>-0.881562</td>\n",
              "      <td>1.773656</td>\n",
              "      <td>0.133299</td>\n",
              "      <td>0.183409</td>\n",
              "      <td>0.229686</td>\n",
              "      <td>...</td>\n",
              "      <td>-0.644340</td>\n",
              "      <td>-0.627583</td>\n",
              "      <td>-0.612305</td>\n",
              "      <td>-0.606703</td>\n",
              "      <td>-0.364489</td>\n",
              "      <td>-0.216751</td>\n",
              "      <td>-0.258688</td>\n",
              "      <td>-0.248441</td>\n",
              "      <td>-0.315033</td>\n",
              "      <td>-0.223923</td>\n",
              "    </tr>\n",
              "    <tr>\n",
              "      <th>2</th>\n",
              "      <td>-0.586179</td>\n",
              "      <td>0.808940</td>\n",
              "      <td>0.182305</td>\n",
              "      <td>0.857668</td>\n",
              "      <td>-0.157878</td>\n",
              "      <td>0.008549</td>\n",
              "      <td>0.106570</td>\n",
              "      <td>0.133299</td>\n",
              "      <td>0.183409</td>\n",
              "      <td>0.229686</td>\n",
              "      <td>...</td>\n",
              "      <td>-0.482174</td>\n",
              "      <td>-0.449602</td>\n",
              "      <td>-0.416901</td>\n",
              "      <td>-0.394039</td>\n",
              "      <td>-0.260592</td>\n",
              "      <td>-0.192965</td>\n",
              "      <td>-0.258688</td>\n",
              "      <td>-0.248441</td>\n",
              "      <td>-0.245368</td>\n",
              "      <td>0.295538</td>\n",
              "    </tr>\n",
              "    <tr>\n",
              "      <th>3</th>\n",
              "      <td>-0.906293</td>\n",
              "      <td>0.808940</td>\n",
              "      <td>0.182305</td>\n",
              "      <td>-1.056795</td>\n",
              "      <td>0.167139</td>\n",
              "      <td>0.008549</td>\n",
              "      <td>0.106570</td>\n",
              "      <td>0.133299</td>\n",
              "      <td>0.183409</td>\n",
              "      <td>0.229686</td>\n",
              "      <td>...</td>\n",
              "      <td>0.050559</td>\n",
              "      <td>-0.224564</td>\n",
              "      <td>-0.178685</td>\n",
              "      <td>-0.151781</td>\n",
              "      <td>-0.227602</td>\n",
              "      <td>-0.168276</td>\n",
              "      <td>-0.245375</td>\n",
              "      <td>-0.241473</td>\n",
              "      <td>-0.240561</td>\n",
              "      <td>-0.397077</td>\n",
              "    </tr>\n",
              "    <tr>\n",
              "      <th>4</th>\n",
              "      <td>-0.906293</td>\n",
              "      <td>-1.236186</td>\n",
              "      <td>0.182305</td>\n",
              "      <td>-1.056795</td>\n",
              "      <td>2.333923</td>\n",
              "      <td>-0.881562</td>\n",
              "      <td>0.106570</td>\n",
              "      <td>-0.699807</td>\n",
              "      <td>0.183409</td>\n",
              "      <td>0.229686</td>\n",
              "      <td>...</td>\n",
              "      <td>-0.150058</td>\n",
              "      <td>-0.343239</td>\n",
              "      <td>-0.345526</td>\n",
              "      <td>-0.332047</td>\n",
              "      <td>-0.227602</td>\n",
              "      <td>1.480638</td>\n",
              "      <td>0.340382</td>\n",
              "      <td>0.309034</td>\n",
              "      <td>-0.267034</td>\n",
              "      <td>-0.452660</td>\n",
              "    </tr>\n",
              "  </tbody>\n",
              "</table>\n",
              "<p>5 rows × 23 columns</p>\n",
              "</div>\n",
              "      <button class=\"colab-df-convert\" onclick=\"convertToInteractive('df-943df21e-f205-422d-a754-8bc0513dc664')\"\n",
              "              title=\"Convert this dataframe to an interactive table.\"\n",
              "              style=\"display:none;\">\n",
              "        \n",
              "  <svg xmlns=\"http://www.w3.org/2000/svg\" height=\"24px\"viewBox=\"0 0 24 24\"\n",
              "       width=\"24px\">\n",
              "    <path d=\"M0 0h24v24H0V0z\" fill=\"none\"/>\n",
              "    <path d=\"M18.56 5.44l.94 2.06.94-2.06 2.06-.94-2.06-.94-.94-2.06-.94 2.06-2.06.94zm-11 1L8.5 8.5l.94-2.06 2.06-.94-2.06-.94L8.5 2.5l-.94 2.06-2.06.94zm10 10l.94 2.06.94-2.06 2.06-.94-2.06-.94-.94-2.06-.94 2.06-2.06.94z\"/><path d=\"M17.41 7.96l-1.37-1.37c-.4-.4-.92-.59-1.43-.59-.52 0-1.04.2-1.43.59L10.3 9.45l-7.72 7.72c-.78.78-.78 2.05 0 2.83L4 21.41c.39.39.9.59 1.41.59.51 0 1.02-.2 1.41-.59l7.78-7.78 2.81-2.81c.8-.78.8-2.07 0-2.86zM5.41 20L4 18.59l7.72-7.72 1.47 1.35L5.41 20z\"/>\n",
              "  </svg>\n",
              "      </button>\n",
              "      \n",
              "  <style>\n",
              "    .colab-df-container {\n",
              "      display:flex;\n",
              "      flex-wrap:wrap;\n",
              "      gap: 12px;\n",
              "    }\n",
              "\n",
              "    .colab-df-convert {\n",
              "      background-color: #E8F0FE;\n",
              "      border: none;\n",
              "      border-radius: 50%;\n",
              "      cursor: pointer;\n",
              "      display: none;\n",
              "      fill: #1967D2;\n",
              "      height: 32px;\n",
              "      padding: 0 0 0 0;\n",
              "      width: 32px;\n",
              "    }\n",
              "\n",
              "    .colab-df-convert:hover {\n",
              "      background-color: #E2EBFA;\n",
              "      box-shadow: 0px 1px 2px rgba(60, 64, 67, 0.3), 0px 1px 3px 1px rgba(60, 64, 67, 0.15);\n",
              "      fill: #174EA6;\n",
              "    }\n",
              "\n",
              "    [theme=dark] .colab-df-convert {\n",
              "      background-color: #3B4455;\n",
              "      fill: #D2E3FC;\n",
              "    }\n",
              "\n",
              "    [theme=dark] .colab-df-convert:hover {\n",
              "      background-color: #434B5C;\n",
              "      box-shadow: 0px 1px 3px 1px rgba(0, 0, 0, 0.15);\n",
              "      filter: drop-shadow(0px 1px 2px rgba(0, 0, 0, 0.3));\n",
              "      fill: #FFFFFF;\n",
              "    }\n",
              "  </style>\n",
              "\n",
              "      <script>\n",
              "        const buttonEl =\n",
              "          document.querySelector('#df-943df21e-f205-422d-a754-8bc0513dc664 button.colab-df-convert');\n",
              "        buttonEl.style.display =\n",
              "          google.colab.kernel.accessAllowed ? 'block' : 'none';\n",
              "\n",
              "        async function convertToInteractive(key) {\n",
              "          const element = document.querySelector('#df-943df21e-f205-422d-a754-8bc0513dc664');\n",
              "          const dataTable =\n",
              "            await google.colab.kernel.invokeFunction('convertToInteractive',\n",
              "                                                     [key], {});\n",
              "          if (!dataTable) return;\n",
              "\n",
              "          const docLinkHtml = 'Like what you see? Visit the ' +\n",
              "            '<a target=\"_blank\" href=https://colab.research.google.com/notebooks/data_table.ipynb>data table notebook</a>'\n",
              "            + ' to learn more about interactive tables.';\n",
              "          element.innerHTML = '';\n",
              "          dataTable['output_type'] = 'display_data';\n",
              "          await google.colab.output.renderOutput(dataTable, element);\n",
              "          const docLink = document.createElement('div');\n",
              "          docLink.innerHTML = docLinkHtml;\n",
              "          element.appendChild(docLink);\n",
              "        }\n",
              "      </script>\n",
              "    </div>\n",
              "  </div>\n",
              "  "
            ],
            "text/plain": [
              "   LIMIT_BAL       SEX  EDUCATION  MARRIAGE       AGE     PAY_0     PAY_2  \\\n",
              "0  -1.146378  0.808940   0.182305 -1.056795 -1.241270  1.788771  1.773656   \n",
              "1  -0.346094  0.808940   0.182305  0.857668 -1.024592 -0.881562  1.773656   \n",
              "2  -0.586179  0.808940   0.182305  0.857668 -0.157878  0.008549  0.106570   \n",
              "3  -0.906293  0.808940   0.182305 -1.056795  0.167139  0.008549  0.106570   \n",
              "4  -0.906293 -1.236186   0.182305 -1.056795  2.333923 -0.881562  0.106570   \n",
              "\n",
              "      PAY_3     PAY_4     PAY_5  ...  BILL_AMT3  BILL_AMT4  BILL_AMT5  \\\n",
              "0 -0.699807 -0.668688 -1.528863  ...  -0.674054  -0.680242  -0.671047   \n",
              "1  0.133299  0.183409  0.229686  ...  -0.644340  -0.627583  -0.612305   \n",
              "2  0.133299  0.183409  0.229686  ...  -0.482174  -0.449602  -0.416901   \n",
              "3  0.133299  0.183409  0.229686  ...   0.050559  -0.224564  -0.178685   \n",
              "4 -0.699807  0.183409  0.229686  ...  -0.150058  -0.343239  -0.345526   \n",
              "\n",
              "   BILL_AMT6  PAY_AMT1  PAY_AMT2  PAY_AMT3  PAY_AMT4  PAY_AMT5  PAY_AMT6  \n",
              "0  -0.663140 -0.364489 -0.231546 -0.325252 -0.318125 -0.315033 -0.570231  \n",
              "1  -0.606703 -0.364489 -0.216751 -0.258688 -0.248441 -0.315033 -0.223923  \n",
              "2  -0.394039 -0.260592 -0.192965 -0.258688 -0.248441 -0.245368  0.295538  \n",
              "3  -0.151781 -0.227602 -0.168276 -0.245375 -0.241473 -0.240561 -0.397077  \n",
              "4  -0.332047 -0.227602  1.480638  0.340382  0.309034 -0.267034 -0.452660  \n",
              "\n",
              "[5 rows x 23 columns]"
            ]
          },
          "execution_count": 42,
          "metadata": {},
          "output_type": "execute_result"
        }
      ],
      "source": [
        "credit_feat = pd.DataFrame(scaled_data, columns = credit.columns[:-1])\n",
        "credit_feat.head()"
      ]
    },
    {
      "cell_type": "code",
      "execution_count": null,
      "id": "pMqwhQaJL-nD",
      "metadata": {
        "colab": {
          "base_uri": "https://localhost:8080/"
        },
        "id": "pMqwhQaJL-nD",
        "outputId": "e8ac2632-2933-4523-af33-b3cd1da9c333"
      },
      "outputs": [
        {
          "name": "stdout",
          "output_type": "stream",
          "text": [
            "+---------+---+---------+--------+---+-----+-----+-----+-----+-----+-----+---------+---------+---------+---------+---------+---------+--------+--------+--------+--------+--------+--------+--------------------------+\n",
            "|LIMIT_BAL|SEX|EDUCATION|MARRIAGE|AGE|PAY_0|PAY_2|PAY_3|PAY_4|PAY_5|PAY_6|BILL_AMT1|BILL_AMT2|BILL_AMT3|BILL_AMT4|BILL_AMT5|BILL_AMT6|PAY_AMT1|PAY_AMT2|PAY_AMT3|PAY_AMT4|PAY_AMT5|PAY_AMT6|default payment next month|\n",
            "+---------+---+---------+--------+---+-----+-----+-----+-----+-----+-----+---------+---------+---------+---------+---------+---------+--------+--------+--------+--------+--------+--------+--------------------------+\n",
            "|    10000|  1|        1|       1| 41|    0|    0|    3|    2|    2|    2|     6859|     9751|     9451|     9169|    10056|     8559|    3000|       0|       0|    1002|       0|     500|                         0|\n",
            "|    10000|  1|        1|       1| 42|    4|    3|    2|    2|    2|    0|     6744|     6494|     6247|     7975|     7701|     7787|       0|       0|    2000|       0|     359|     331|                         0|\n",
            "|    10000|  1|        1|       1| 50|    0|    0|    0|    0|    0|    0|    10043|     9616|     9718|     9916|     9250|     7461|    1194|    1076|     274|     370|     472|     375|                         0|\n",
            "|    10000|  1|        1|       2| 22|    0|   -1|   -1|   -1|   -1|   -1|     1483|       46|      915|      352|      105|        0|      46|     915|     352|     105|       0|    1000|                         0|\n",
            "|    10000|  1|        1|       2| 22|    0|    0|   -1|   -1|   -1|   -1|     2946|        0|      390|      390|      390|        0|       0|     390|     390|     390|       0|     780|                         1|\n",
            "|    10000|  1|        1|       2| 22|    0|    0|    0|    0|    0|    3|     4060|     2774|     3764|     4001|     5134|     4762|    1300|    1200|     300|    1200|       0|       0|                         0|\n",
            "|    10000|  1|        1|       2| 22|    2|    2|    2|    0|    0|    2|     6883|     9108|     8813|    10066|    10017|     9705|    2500|       0|    1400|    1100|       0|     500|                         1|\n",
            "|    10000|  1|        1|       2| 23|   -1|    2|   -1|   -1|   -1|   -2|      780|      390|      390|      780|        0|        0|       0|     390|     780|       0|       0|       0|                         1|\n",
            "|    10000|  1|        1|       2| 23|   -1|    2|   -1|   -1|   -1|   -1|      780|      390|      390|        0|      780|        0|       0|     390|       0|     780|       0|       0|                         1|\n",
            "|    10000|  1|        1|       2| 23|    0|    0|    0|    0|    0|    0|     6927|     5313|     6264|     5970|     7175|     6032|    1500|    3500|    1000|    2000|    2500|    1000|                         0|\n",
            "|    10000|  1|        1|       2| 23|    0|    0|    0|    0|    0|    0|     7684|     8685|     8557|     7319|     7650|     8862|    1300|    1500|     500|     600|    1500|       0|                         0|\n",
            "|    10000|  1|        1|       2| 23|    0|    0|    2|    2|    4|    5|     3035|     5802|     5561|     8455|     9730|     8999|    3000|       0|    3000|    2000|       0|       0|                         0|\n",
            "|    10000|  1|        1|       2| 23|    1|   -2|   -2|   -2|   -2|   -2|        0|        0|        0|        0|        0|        0|       0|       0|       0|       0|       0|       0|                         0|\n",
            "|    10000|  1|        1|       2| 23|    1|    2|    0|    0|    0|    2|     9020|     8707|     8519|     9505|    10127|     9677|       0|    1391|    1300|     900|       0|     500|                         1|\n",
            "|    10000|  1|        1|       2| 23|    2|    2|    2|    2|   -2|   -1|     2724|     5520|     5275|        0|        0|      150|    3000|       0|       0|       0|     150|     275|                         0|\n",
            "|    10000|  1|        1|       2| 23|    2|    2|    3|    3|    3|    3|     1050|     1050|     1050|     1050|     1050|     1050|       0|       0|       0|       0|       0|       0|                         1|\n",
            "|    10000|  1|        1|       2| 24|   -2|   -2|   -2|   -1|    0|    0|       -2|     -391|     -781|     9211|     9422|     8853|       0|       0|   10500|     500|     500|    1000|                         0|\n",
            "|    10000|  1|        1|       2| 24|    0|    0|    2|    0|    0|    0|     4216|     6476|     6224|     6347|    12856|     8078|    2500|       0|     227|     239|    3412|       0|                         1|\n",
            "|    10000|  1|        1|       2| 24|    0|    0|    2|    0|    0|    0|     7760|     8928|     8386|     7512|     7615|     7621|    1471|    1100|    1107|     600|     264|     544|                         0|\n",
            "|    10000|  1|        1|       2| 24|    2|    0|    0|    0|    0|    2|     7554|     8287|     9580|     9267|    10096|     9415|    1500|    2000|     700|    1500|       0|    1000|                         1|\n",
            "+---------+---+---------+--------+---+-----+-----+-----+-----+-----+-----+---------+---------+---------+---------+---------+---------+--------+--------+--------+--------+--------+--------+--------------------------+\n",
            "only showing top 20 rows\n",
            "\n",
            "None\n",
            "+---------+---+---------+--------+---+-----+-----+-----+-----+-----+-----+---------+---------+---------+---------+---------+---------+--------+--------+--------+--------+--------+--------+--------------------------+\n",
            "|LIMIT_BAL|SEX|EDUCATION|MARRIAGE|AGE|PAY_0|PAY_2|PAY_3|PAY_4|PAY_5|PAY_6|BILL_AMT1|BILL_AMT2|BILL_AMT3|BILL_AMT4|BILL_AMT5|BILL_AMT6|PAY_AMT1|PAY_AMT2|PAY_AMT3|PAY_AMT4|PAY_AMT5|PAY_AMT6|default payment next month|\n",
            "+---------+---+---------+--------+---+-----+-----+-----+-----+-----+-----+---------+---------+---------+---------+---------+---------+--------+--------+--------+--------+--------+--------+--------------------------+\n",
            "|    10000|  1|        1|       1| 38|   -1|   -1|    2|    0|    0|    2|     4711|     9617|     9307|     9665|    10470|    10169|    5000|       0|     500|    1100|       0|    1000|                         1|\n",
            "|    10000|  1|        1|       1| 40|    2|   -1|   -1|   -2|   -2|   -2|     3567|     1000|        0|        0|        0|        0|    5000|       0|       0|       0|       0|       0|                         1|\n",
            "|    10000|  1|        1|       1| 48|    1|    2|    0|    0|    0|    0|     8594|     7421|     8145|     9000|     9000|        0|       0|    2000|    2000|       0|       0|       0|                         0|\n",
            "|    10000|  1|        1|       2| 24|    0|    0|    2|    0|    0|    0|     7680|    10160|     9844|     9554|     9515|     9700|    2616|       0|     400|     499|     500|     900|                         1|\n",
            "|    10000|  1|        1|       2| 24|    2|    2|    0|    0|    0|    0|     8837|     7554|     8287|     9580|     9267|    10096|       0|    1500|    2000|     700|    1500|       0|                         1|\n",
            "|    10000|  1|        1|       2| 25|    0|    0|    0|    0|    0|    0|     5642|     6652|     7683|     9040|     9222|     9580|    1112|    1143|    1500|     324|     500|     377|                         0|\n",
            "|    10000|  1|        1|       2| 25|    0|    0|    0|    0|    0|    0|     9501|     5794|     7109|     9082|     7165|     6951|    1300|    2000|    3000|     234|     284|    1149|                         0|\n",
            "|    10000|  1|        1|       2| 25|    0|    0|    2|    3|    2|    0|     6005|     8891|     9389|     9111|     8837|     8135|    3000|     800|       0|       0|     500|     500|                         0|\n",
            "|    10000|  1|        1|       2| 26|    0|    0|    0|    0|    0|    0|     4457|     5622|     6673|     7890|     8628|     9360|    1400|    1300|    1500|    1000|    1000|       0|                         0|\n",
            "|    10000|  1|        1|       2| 27|    0|    0|    0|    0|    0|   -1|     6599|     7736|     8492|     8138|     4990|     1598|    1400|    1000|    1009|    1000|    1598|       0|                         0|\n",
            "|    10000|  1|        1|       2| 27|    0|    0|    0|    0|    0|    0|     5703|     6734|     8833|     9604|     9800|    10000|    1130|    2229|    1000|     196|     200|       0|                         0|\n",
            "|    10000|  1|        1|       2| 30|    3|    2|    2|    7|    7|    7|     2300|     2300|     2300|     2300|     2300|     2300|       0|       0|       0|       0|       0|       0|                         1|\n",
            "|    10000|  1|        2|       1| 27|    0|    0|    0|    0|    0|    0|    10128|     9859|     9607|     9818|    10013|     9824|    1151|    1160|    1151|     346|     350|     354|                         0|\n",
            "|    10000|  1|        2|       1| 28|    0|    0|    0|    0|    0|    0|     1474|     2641|     3745|     4642|     5642|     6342|    1196|    1300|    1000|    1000|     700|    1208|                         0|\n",
            "|    10000|  1|        2|       1| 30|   -1|   -1|   -1|   -1|   -2|   -2|      390|        0|      780|        0|        0|        0|       0|     780|       0|       0|       0|       0|                         1|\n",
            "|    10000|  1|        2|       1| 33|    0|    0|    0|    0|    0|    0|    10146|     9352|     9919|    10400|    10123|    19813|    1158|    1200|    1137|     335|     351|    1000|                         0|\n",
            "|    10000|  1|        2|       1| 35|    0|    0|    0|    0|    0|    0|     5828|     7717|     8830|     9687|    10025|    10400|    2000|    1400|    1162|     500|     600|       0|                         0|\n",
            "|    10000|  1|        2|       1| 35|    0|    0|    0|    0|    0|    0|     9159|    10004|     9722|    10044|     9856|    10285|    1160|    1139|    1241|     345|     580|     180|                         0|\n",
            "|    10000|  1|        2|       1| 37|    0|    0|    0|   -1|   -1|   -1|     8487|     9003|        0|      390|     4555|     5165|    2008|       0|     390|    4555|    1000|    6810|                         0|\n",
            "|    10000|  1|        2|       1| 37|    0|    0|    0|    0|   -1|   -1|     6930|     6399|     4634|     5388|      780|        0|    1065|    1246|    1000|     780|       0|     390|                         0|\n",
            "+---------+---+---------+--------+---+-----+-----+-----+-----+-----+-----+---------+---------+---------+---------+---------+---------+--------+--------+--------+--------+--------+--------+--------------------------+\n",
            "only showing top 20 rows\n",
            "\n",
            "None\n"
          ]
        }
      ],
      "source": [
        "train_cred, test_cred = spark_credit.randomSplit([0.7, 0.3], seed = 1234)\n",
        "print(train_cred.show())\n",
        "print(test_cred.show())"
      ]
    },
    {
      "cell_type": "code",
      "execution_count": null,
      "id": "_dMjWyALF2-l",
      "metadata": {
        "colab": {
          "base_uri": "https://localhost:8080/"
        },
        "id": "_dMjWyALF2-l",
        "outputId": "321ebe97-78b4-4ba8-cde1-49016c47e5ab"
      },
      "outputs": [
        {
          "name": "stdout",
          "output_type": "stream",
          "text": [
            "+--------------------+--------------------------+\n",
            "|              scaled|default payment next month|\n",
            "+--------------------+--------------------------+\n",
            "|[-1.1463588717526...|                         1|\n",
            "|[-0.3460880264538...|                         1|\n",
            "|[-0.5861692800434...|                         0|\n",
            "|[-0.9062776181630...|                         0|\n",
            "|[-0.9062776181630...|                         0|\n",
            "|[-0.9062776181630...|                         0|\n",
            "|[2.69494118568170...|                         0|\n",
            "|[-0.5061421955136...|                         0|\n",
            "|[-0.1860338573940...|                         0|\n",
            "|[-1.1463588717526...|                         0|\n",
            "|[0.29412864978522...|                         0|\n",
            "|[0.77429115696452...|                         0|\n",
            "|[-0.7462234491032...|                         1|\n",
            "|[0.69426407243463...|                         0|\n",
            "|[-0.9062776181630...|                         0|\n",
            "|[-1.1463588717526...|                         1|\n",
            "|[1.25445366414381...|                         0|\n",
            "|[1.57456200226334...|                         0|\n",
            "|[0.13407448072545...|                         0|\n",
            "|[-0.2660609419239...|                         0|\n",
            "+--------------------+--------------------------+\n",
            "only showing top 20 rows\n",
            "\n",
            "None\n",
            "+--------------------+--------------------------+\n",
            "|              scaled|default payment next month|\n",
            "+--------------------+--------------------------+\n",
            "|[-1.2263859562825...|                         0|\n",
            "|[-1.2263859562825...|                         0|\n",
            "|[-1.2263859562825...|                         0|\n",
            "|[-1.2263859562825...|                         0|\n",
            "|[-1.2263859562825...|                         1|\n",
            "|[-1.2263859562825...|                         0|\n",
            "|[-1.2263859562825...|                         1|\n",
            "|[-1.2263859562825...|                         1|\n",
            "|[-1.2263859562825...|                         1|\n",
            "|[-1.2263859562825...|                         0|\n",
            "|[-1.2263859562825...|                         0|\n",
            "|[-1.2263859562825...|                         0|\n",
            "|[-1.2263859562825...|                         0|\n",
            "|[-1.2263859562825...|                         1|\n",
            "|[-1.2263859562825...|                         0|\n",
            "|[-1.2263859562825...|                         1|\n",
            "|[-1.2263859562825...|                         0|\n",
            "|[-1.2263859562825...|                         1|\n",
            "|[-1.2263859562825...|                         0|\n",
            "|[-1.2263859562825...|                         1|\n",
            "+--------------------+--------------------------+\n",
            "only showing top 20 rows\n",
            "\n",
            "None\n",
            "+--------------------+--------------------------+\n",
            "|              scaled|default payment next month|\n",
            "+--------------------+--------------------------+\n",
            "|[-1.2263859562825...|                         1|\n",
            "|[-1.2263859562825...|                         1|\n",
            "|[-1.2263859562825...|                         0|\n",
            "|[-1.2263859562825...|                         1|\n",
            "|[-1.2263859562825...|                         1|\n",
            "|[-1.2263859562825...|                         0|\n",
            "|[-1.2263859562825...|                         0|\n",
            "|[-1.2263859562825...|                         0|\n",
            "|[-1.2263859562825...|                         0|\n",
            "|[-1.2263859562825...|                         0|\n",
            "|[-1.2263859562825...|                         0|\n",
            "|[-1.2263859562825...|                         1|\n",
            "|[-1.2263859562825...|                         0|\n",
            "|[-1.2263859562825...|                         0|\n",
            "|[-1.2263859562825...|                         1|\n",
            "|[-1.2263859562825...|                         0|\n",
            "|[-1.2263859562825...|                         0|\n",
            "|[-1.2263859562825...|                         0|\n",
            "|[-1.2263859562825...|                         0|\n",
            "|[-1.2263859562825...|                         0|\n",
            "+--------------------+--------------------------+\n",
            "only showing top 20 rows\n",
            "\n",
            "None\n"
          ]
        }
      ],
      "source": [
        "import pyspark.sql.functions as f\n",
        "\n",
        "col_list = [spark_credit.dtypes[i][0] for i in range(0, len(spark_credit.dtypes)-1)]\n",
        "#credit_to_scale_with_mean = credit_to_scale.union(credit_to_scale.select(*[f.avg(c).alias(c) for c in credit_to_scale.columns]))\n",
        "#print(credit_to_scale_with_mean)\n",
        "credit_vec_ass = VectorAssembler(inputCols = col_list, outputCol = \"temp_features\")\n",
        "#credit_assembled = credit_vec_ass.transform(credit_to_scale_with_mean)\n",
        "\n",
        "credit_assembled = credit_vec_ass.transform(spark_credit)\n",
        "train_assembled = credit_vec_ass.transform(train_cred)\n",
        "test_assembled = credit_vec_ass.transform(test_cred)\n",
        "\n",
        "# in \"Scaled\" there will be values scaled with the corrected sample standard deviation,\n",
        "# instead of the population-based standard deviation, thus results may be different\n",
        "spark_scaler = StandardScaler(withMean=True, withStd=True, inputCol=\"temp_features\", outputCol=\"scaled\")\n",
        "fitted_scaler = spark_scaler.fit(dataset = credit_assembled)\n",
        "scaled_data = fitted_scaler.transform(credit_assembled)\n",
        "scaled_train = fitted_scaler.transform(train_assembled)\n",
        "scaled_test = fitted_scaler.transform(test_assembled)\n",
        "\n",
        "vectorized_scaled_data = scaled_data.select([\"scaled\", \"default payment next month\"])\n",
        "vectorized_scaled_train = scaled_train.select([\"scaled\", \"default payment next month\"])\n",
        "vectorized_scaled_test = scaled_test.select([\"scaled\", \"default payment next month\"])\n",
        "print(vectorized_scaled_data.show())\n",
        "print(vectorized_scaled_train.show())\n",
        "print(vectorized_scaled_test.show())"
      ]
    },
    {
      "cell_type": "code",
      "execution_count": null,
      "id": "jnNvTPP76JJl",
      "metadata": {
        "colab": {
          "base_uri": "https://localhost:8080/"
        },
        "id": "jnNvTPP76JJl",
        "outputId": "93a73aa0-3a51-4534-b77d-8530e93bfb75"
      },
      "outputs": [
        {
          "name": "stdout",
          "output_type": "stream",
          "text": [
            "Looking in indexes: https://pypi.org/simple, https://us-python.pkg.dev/colab-wheels/public/simple/\n",
            "Collecting scikit-plot\n",
            "  Downloading scikit_plot-0.3.7-py3-none-any.whl (33 kB)\n",
            "Requirement already satisfied: scikit-learn>=0.18 in /usr/local/lib/python3.8/dist-packages (from scikit-plot) (1.0.2)\n",
            "Requirement already satisfied: joblib>=0.10 in /usr/local/lib/python3.8/dist-packages (from scikit-plot) (1.2.0)\n",
            "Requirement already satisfied: scipy>=0.9 in /usr/local/lib/python3.8/dist-packages (from scikit-plot) (1.7.3)\n",
            "Requirement already satisfied: matplotlib>=1.4.0 in /usr/local/lib/python3.8/dist-packages (from scikit-plot) (3.2.2)\n",
            "Requirement already satisfied: cycler>=0.10 in /usr/local/lib/python3.8/dist-packages (from matplotlib>=1.4.0->scikit-plot) (0.11.0)\n",
            "Requirement already satisfied: pyparsing!=2.0.4,!=2.1.2,!=2.1.6,>=2.0.1 in /usr/local/lib/python3.8/dist-packages (from matplotlib>=1.4.0->scikit-plot) (3.0.9)\n",
            "Requirement already satisfied: kiwisolver>=1.0.1 in /usr/local/lib/python3.8/dist-packages (from matplotlib>=1.4.0->scikit-plot) (1.4.4)\n",
            "Requirement already satisfied: numpy>=1.11 in /usr/local/lib/python3.8/dist-packages (from matplotlib>=1.4.0->scikit-plot) (1.21.6)\n",
            "Requirement already satisfied: python-dateutil>=2.1 in /usr/local/lib/python3.8/dist-packages (from matplotlib>=1.4.0->scikit-plot) (2.8.2)\n",
            "Requirement already satisfied: threadpoolctl>=2.0.0 in /usr/local/lib/python3.8/dist-packages (from scikit-learn>=0.18->scikit-plot) (3.1.0)\n",
            "Requirement already satisfied: six>=1.5 in /usr/local/lib/python3.8/dist-packages (from python-dateutil>=2.1->matplotlib>=1.4.0->scikit-plot) (1.15.0)\n",
            "Installing collected packages: scikit-plot\n",
            "Successfully installed scikit-plot-0.3.7\n"
          ]
        }
      ],
      "source": [
        "!pip install scikit-plot"
      ]
    },
    {
      "cell_type": "code",
      "execution_count": null,
      "id": "a2AyKnQs1PMc",
      "metadata": {
        "id": "a2AyKnQs1PMc"
      },
      "outputs": [],
      "source": [
        "import scikitplot as skplt\n",
        "\n",
        "\n",
        "def plot_cumulative_gains(y_true, y_preds):\n",
        "  #sorted_indices = np.argsort(y_preds)\n",
        "  #cumulative_sum = np.cumsum(y_true[sorted_indices])\n",
        "  #lift = cumulative_sum / (np.arange(len(y_true)) + 1)\n",
        "  #cumulative_gains = cumulative_sum / np.sum(y_true)\n",
        "  #plt.plot(np.arange(len(y_true)), cumulative_gains)\n",
        "\n",
        "  skplt.metrics.plot_cumulative_gain(y_true, y_preds)\n",
        "  plt.xlabel(\"Number of observations\")\n",
        "  plt.ylabel(\"Cumulative number of true positive predictions\")\n",
        "  plt.title(\"Cumulative Gains Chart\")\n",
        "  plt.show()"
      ]
    },
    {
      "cell_type": "code",
      "execution_count": null,
      "id": "E0DJ5b64JogA",
      "metadata": {
        "colab": {
          "base_uri": "https://localhost:8080/"
        },
        "id": "E0DJ5b64JogA",
        "outputId": "549077bf-5af0-48cc-86ba-3ba8b8b78834"
      },
      "outputs": [
        {
          "name": "stdout",
          "output_type": "stream",
          "text": [
            "<pyspark.ml.classification.BinaryLogisticRegressionSummary object at 0x7fcd3ef8e880>\n"
          ]
        }
      ],
      "source": [
        "# Logistic Regression\n",
        "blor = LogisticRegression(featuresCol=\"scaled\", labelCol=\"default payment next month\", regParam = 0.01, maxIter = 10)\n",
        "blorModel = blor.fit(vectorized_scaled_train)\n",
        "print(blorModel.evaluate(vectorized_scaled_test))"
      ]
    },
    {
      "cell_type": "code",
      "execution_count": null,
      "id": "wI0O_pyzRnGo",
      "metadata": {
        "colab": {
          "base_uri": "https://localhost:8080/"
        },
        "id": "wI0O_pyzRnGo",
        "outputId": "24a82c38-20a2-47ba-c127-f82524ccb222"
      },
      "outputs": [
        {
          "name": "stdout",
          "output_type": "stream",
          "text": [
            "0.8074283210826072\n",
            "0.8072343803152285\n"
          ]
        }
      ],
      "source": [
        "print(str(blorModel.summary.accuracy))\n",
        "print(blorModel.evaluate(vectorized_scaled_test).accuracy)"
      ]
    },
    {
      "cell_type": "code",
      "execution_count": null,
      "id": "AhK8yYzPYvZm",
      "metadata": {
        "colab": {
          "base_uri": "https://localhost:8080/",
          "height": 451
        },
        "id": "AhK8yYzPYvZm",
        "outputId": "d2d87f61-9df7-4e92-d430-c9ec51c950bd"
      },
      "outputs": [
        {
          "name": "stdout",
          "output_type": "stream",
          "text": [
            "              precision    recall  f1-score   support\n",
            "\n",
            "           0       0.81      0.97      0.89      6857\n",
            "           1       0.72      0.22      0.34      1962\n",
            "\n",
            "    accuracy                           0.81      8819\n",
            "   macro avg       0.77      0.60      0.61      8819\n",
            "weighted avg       0.79      0.81      0.77      8819\n",
            "\n"
          ]
        },
        {
          "data": {
            "image/png": "[encoded data removed]",
            "text/plain": [
              "<Figure size 432x288 with 1 Axes>"
            ]
          },
          "metadata": {
            "needs_background": "light"
          },
          "output_type": "display_data"
        }
      ],
      "source": [
        "Y_true = vectorized_scaled_test.select(\"default payment next month\").collect()\n",
        "test_cred_no_def = vectorized_scaled_test.select(\"scaled\")\n",
        "Y_pred_df = blorModel.transform(test_cred_no_def)\n",
        "Y_pred_probabilities = Y_pred_df.select(\"probability\").collect()\n",
        "Y_pred_predictions = Y_pred_df.select(\"prediction\").collect()\n",
        "\n",
        "Y_pred_probabilities_np = np.array(Y_pred_probabilities)\n",
        "Y_pred_probabilities_np = np.reshape(Y_pred_probabilities_np, (Y_pred_probabilities_np.shape[0], 2))\n",
        "\n",
        "#print(Y_pred_probabilities_np)\n",
        "print(classification_report(Y_true, Y_pred_predictions))\n",
        "plot_cumulative_gains(np.array(Y_true), Y_pred_probabilities_np)"
      ]
    },
    {
      "cell_type": "code",
      "execution_count": null,
      "id": "fPPB5Px6kUcZ",
      "metadata": {
        "colab": {
          "base_uri": "https://localhost:8080/"
        },
        "id": "fPPB5Px6kUcZ",
        "outputId": "f8cc44e4-0c7c-4383-8ba9-bcedb3c2ef27"
      },
      "outputs": [
        {
          "name": "stdout",
          "output_type": "stream",
          "text": [
            "+--------------------+--------------------------+\n",
            "|              scaled|default payment next month|\n",
            "+--------------------+--------------------------+\n",
            "|[-1.2263859562825...|                         0|\n",
            "|[-1.2263859562825...|                         0|\n",
            "|[-1.2263859562825...|                         0|\n",
            "|[-1.2263859562825...|                         0|\n",
            "|[-1.2263859562825...|                         1|\n",
            "|[-1.2263859562825...|                         0|\n",
            "|[-1.2263859562825...|                         1|\n",
            "|[-1.2263859562825...|                         1|\n",
            "|[-1.2263859562825...|                         1|\n",
            "|[-1.2263859562825...|                         0|\n",
            "|[-1.2263859562825...|                         0|\n",
            "|[-1.2263859562825...|                         0|\n",
            "|[-1.2263859562825...|                         0|\n",
            "|[-1.2263859562825...|                         1|\n",
            "|[-1.2263859562825...|                         0|\n",
            "|[-1.2263859562825...|                         1|\n",
            "|[-1.2263859562825...|                         0|\n",
            "|[-1.2263859562825...|                         1|\n",
            "|[-1.2263859562825...|                         0|\n",
            "|[-1.2263859562825...|                         1|\n",
            "+--------------------+--------------------------+\n",
            "only showing top 20 rows\n",
            "\n"
          ]
        }
      ],
      "source": [
        "vectorized_scaled_train.show()"
      ]
    },
    {
      "cell_type": "code",
      "execution_count": null,
      "id": "UmMk7PePfNqI",
      "metadata": {
        "colab": {
          "base_uri": "https://localhost:8080/"
        },
        "id": "UmMk7PePfNqI",
        "outputId": "0d28ae2f-5f17-40d2-8a29-a81c28a8fb32"
      },
      "outputs": [
        {
          "name": "stdout",
          "output_type": "stream",
          "text": [
            "<class 'numpy.ndarray'>\n",
            "[-1.22638596 -1.23616489 -2.35694674 -2.97120827 -1.56626077 -1.77164336\n",
            " -1.56048846 -1.53288759 -1.52075935 -1.52883661 -1.48575576 -3.03825274\n",
            " -1.71178138 -3.02894361 -3.41611821 -2.05385621 -2.30073858 -0.36448309\n",
            " -0.26431774 -0.32524604 -0.31812007 -0.31502736 -0.57022135]\n"
          ]
        }
      ],
      "source": [
        "from pyspark.ml.linalg import DenseVector\n",
        "from pyspark.ml.linalg import Vectors, VectorUDT\n",
        "\n",
        "def split_array_to_list(col):\n",
        "    def to_list(v):\n",
        "        return v.toArray().tolist()\n",
        "    return F.udf(to_list, ArrayType(DoubleType()))(col)\n",
        "\n",
        "def getMinArray(vectorized_scaled_data):\n",
        "    unpacked_data = vectorized_scaled_data.select(split_array_to_list(F.col(\"scaled\")).alias(\"splitted\")).select([F.col(\"splitted\")[i].alias(str(col_list[i])) for i in range(len(col_list))])\n",
        "    min_row = unpacked_data.select([F.min(str(col_list[i])).alias(str(col_list[i])) for i in range(len(col_list))])\n",
        "    min_row = credit_vec_ass.transform(min_row).select(F.col(\"temp_features\").alias(\"scaled\"))\n",
        "    min_array = min_row.first().asDict().get(\"scaled\")\n",
        "    return min_array.toArray()\n",
        "\n",
        "min_arr = getMinArray(vectorized_scaled_data)\n",
        "print(type(min_arr))\n",
        "print(min_arr)"
      ]
    },
    {
      "cell_type": "code",
      "execution_count": null,
      "id": "1omYyifTKSqR",
      "metadata": {
        "id": "1omYyifTKSqR"
      },
      "outputs": [],
      "source": [
        "def remove_negative_values(vectorized_scaled, min_array):\n",
        "  unpacked_data = vectorized_scaled.select(split_array_to_list(F.col(\"scaled\")).alias(\"splitted\"), F.col(\"default payment next month\"))\\\n",
        "  .select([F.col(\"splitted\")[i].alias(str(col_list[i])) if i < len(col_list) else F.col(\"default payment next month\") for i in range(len(col_list)+1)])\n",
        "  for i in range(len(col_list)):\n",
        "    if min_array[i] < 0:\n",
        "      unpacked_data = unpacked_data.withColumn(str(col_list[i]) + \"_positive\", F.col(str(col_list[i])) - min_array[i])\n",
        "      unpacked_data = unpacked_data.drop(str(col_list[i]))\n",
        "\n",
        "  unpacked_col_list = [unpacked_data.dtypes[i][0] for i in range(0, len(unpacked_data.dtypes) - 1)]\n",
        "  vec_ass = VectorAssembler(inputCols = unpacked_col_list, outputCol = \"temp_features\")\n",
        "  vec_unpacked_data = vec_ass.transform(unpacked_data).select(\"temp_features\", \"default payment next month\")\n",
        "  return vec_unpacked_data\n",
        "\n",
        "vectorized_positive_train = remove_negative_values(vectorized_scaled_train, min_arr)\n",
        "vectorized_positive_test = remove_negative_values(vectorized_scaled_test, min_arr)"
      ]
    },
    {
      "cell_type": "code",
      "execution_count": null,
      "id": "wyOWVUdzpOHT",
      "metadata": {
        "id": "wyOWVUdzpOHT"
      },
      "outputs": [],
      "source": [
        "# Classification Tree\n",
        "dec_tree = DecisionTreeClassifier(featuresCol=\"scaled\", labelCol=\"default payment next month\")\n",
        "dec_tree_model = dec_tree.fit(vectorized_scaled_train)"
      ]
    },
    {
      "cell_type": "code",
      "execution_count": null,
      "id": "SBuKS4t8qNaZ",
      "metadata": {
        "colab": {
          "base_uri": "https://localhost:8080/",
          "height": 451
        },
        "id": "SBuKS4t8qNaZ",
        "outputId": "1421ffee-76c6-4521-a823-539c8d5eccf2"
      },
      "outputs": [
        {
          "name": "stdout",
          "output_type": "stream",
          "text": [
            "              precision    recall  f1-score   support\n",
            "\n",
            "           0       0.84      0.95      0.89      6857\n",
            "           1       0.67      0.37      0.47      1962\n",
            "\n",
            "    accuracy                           0.82      8819\n",
            "   macro avg       0.76      0.66      0.68      8819\n",
            "weighted avg       0.80      0.82      0.80      8819\n",
            "\n"
          ]
        },
        {
          "data": {
            "image/png": "[encoded data removed]",
            "text/plain": [
              "<Figure size 432x288 with 1 Axes>"
            ]
          },
          "metadata": {
            "needs_background": "light"
          },
          "output_type": "display_data"
        }
      ],
      "source": [
        "test_cred_no_def = vectorized_scaled_test.select(\"scaled\")\n",
        "Y_pred_df = dec_tree_model.transform(test_cred_no_def)\n",
        "Y_pred = Y_pred_df.select(\"prediction\").collect()\n",
        "print(classification_report(Y_true, Y_pred))\n",
        "plot_cumulative_gains(np.array(Y_true), np.array(Y_pred))"
      ]
    },
    {
      "cell_type": "code",
      "execution_count": null,
      "id": "LF9fSrXJIh3D",
      "metadata": {
        "colab": {
          "base_uri": "https://localhost:8080/"
        },
        "id": "LF9fSrXJIh3D",
        "outputId": "adab0d71-1b55-4670-a38a-ca9f7adec6ca"
      },
      "outputs": [
        {
          "name": "stdout",
          "output_type": "stream",
          "text": [
            "              precision    recall  f1-score   support\n",
            "\n",
            "           0       1.00      0.96      0.98      7026\n",
            "           1       0.88      1.00      0.93      1976\n",
            "\n",
            "    accuracy                           0.97      9002\n",
            "   macro avg       0.94      0.98      0.96      9002\n",
            "weighted avg       0.97      0.97      0.97      9002\n",
            "\n"
          ]
        }
      ],
      "source": [
        "# Naive Bayes\n",
        "naive_b = NaiveBayes(smoothing=1.0, modelType=\"multinomial\", featuresCol=\"temp_features\", labelCol=\"default payment next month\")\n",
        "model_naive_b = naive_b.fit(vectorized_positive_train) \n",
        "test_cred_no_def = vectorized_positive_test.select(\"temp_features\")\n",
        "Y_true = vectorized_positive_test.select(\"default payment next month\").collect()\n",
        "Y_pred_df = model_naive_b.transform(test_cred_no_def)\n",
        "Y_pred = Y_pred_df.select(\"prediction\").collect()\n",
        "print(classification_report(Y_true, Y_pred))"
      ]
    },
    {
      "cell_type": "code",
      "execution_count": null,
      "id": "fwSb2rGBP-Jw",
      "metadata": {
        "colab": {
          "base_uri": "https://localhost:8080/"
        },
        "id": "fwSb2rGBP-Jw",
        "outputId": "5262a345-30d7-4147-a4c9-6681ba84d530"
      },
      "outputs": [
        {
          "name": "stdout",
          "output_type": "stream",
          "text": [
            "+--------------------+--------------------------+\n",
            "|    min_maxed_scaled|default payment next month|\n",
            "+--------------------+--------------------------+\n",
            "|[0.0,0.0,0.166666...|                         0|\n",
            "|[0.0,0.0,0.166666...|                         0|\n",
            "|[0.0,0.0,0.166666...|                         0|\n",
            "|[0.0,0.0,0.166666...|                         0|\n",
            "|[0.0,0.0,0.166666...|                         1|\n",
            "|[0.0,0.0,0.166666...|                         0|\n",
            "|[0.0,0.0,0.166666...|                         1|\n",
            "|[0.0,0.0,0.166666...|                         1|\n",
            "|[0.0,0.0,0.166666...|                         1|\n",
            "|[0.0,0.0,0.166666...|                         0|\n",
            "|[0.0,0.0,0.166666...|                         0|\n",
            "|[0.0,0.0,0.166666...|                         0|\n",
            "|(23,[2,3,4,5,11,1...|                         0|\n",
            "|[0.0,0.0,0.166666...|                         1|\n",
            "|[0.0,0.0,0.166666...|                         0|\n",
            "|[0.0,0.0,0.166666...|                         1|\n",
            "|[0.0,0.0,0.166666...|                         0|\n",
            "|[0.0,0.0,0.166666...|                         1|\n",
            "|[0.0,0.0,0.166666...|                         0|\n",
            "|[0.0,0.0,0.166666...|                         1|\n",
            "+--------------------+--------------------------+\n",
            "only showing top 20 rows\n",
            "\n"
          ]
        }
      ],
      "source": [
        "from pyspark.ml.feature import MinMaxScaler\n",
        "min_max_scaler = MinMaxScaler(min=0.0, max=1.0, inputCol='scaled', outputCol=\"min_maxed_scaled\")\n",
        "fitted_min_max_scaler = min_max_scaler.fit(vectorized_scaled_data)\n",
        "mm_scaled_train = fitted_min_max_scaler.transform(vectorized_scaled_train).select(\"min_maxed_scaled\", \"default payment next month\")\n",
        "mm_scaled_test = fitted_min_max_scaler.transform(vectorized_scaled_test).select(\"min_maxed_scaled\", \"default payment next month\")\n",
        "\n",
        "mm_scaled_train.show()"
      ]
    },
    {
      "cell_type": "code",
      "execution_count": null,
      "id": "-CvtY8sKRoRb",
      "metadata": {
        "colab": {
          "base_uri": "https://localhost:8080/"
        },
        "id": "-CvtY8sKRoRb",
        "outputId": "b57e8857-0d41-48c4-851d-8f791d1f5a8f"
      },
      "outputs": [
        {
          "name": "stdout",
          "output_type": "stream",
          "text": [
            "+--------------------+--------------------------+--------------------+--------------------+----------+\n",
            "|    min_maxed_scaled|default payment next month|       rawPrediction|         probability|prediction|\n",
            "+--------------------+--------------------------+--------------------+--------------------+----------+\n",
            "|[0.0,0.0,0.166666...|                         1|[1.98039671765410...|[0.55757350476611...|       0.0|\n",
            "|(23,[2,3,4,5,6,7,...|                         1|[1.08619277934704...|[0.35648975253775...|       1.0|\n",
            "|[0.0,0.0,0.166666...|                         0|[1.73313444633244...|[0.48863012792947...|       1.0|\n",
            "|[0.0,0.0,0.166666...|                         1|[2.22259162418080...|[0.69216424964012...|       0.0|\n",
            "|[0.0,0.0,0.166666...|                         1|[1.15500925681768...|[0.29380597121342...|       1.0|\n",
            "|[0.0,0.0,0.166666...|                         0|[2.43653572668548...|[0.78681600716048...|       0.0|\n",
            "|[0.0,0.0,0.166666...|                         0|[2.44078297256459...|[0.78800585956796...|       0.0|\n",
            "|[0.0,0.0,0.166666...|                         0|[1.95698443857438...|[0.55316638977225...|       0.0|\n",
            "|[0.0,0.0,0.166666...|                         0|[2.42925625857726...|[0.78422182693147...|       0.0|\n",
            "|[0.0,0.0,0.166666...|                         0|[2.45257786971419...|[0.79239911896521...|       0.0|\n",
            "|[0.0,0.0,0.166666...|                         0|[2.42786308422794...|[0.78391472719229...|       0.0|\n",
            "|[0.0,0.0,0.166666...|                         1|[1.12459870413311...|[0.23798645791498...|       1.0|\n",
            "|[0.0,0.0,0.333333...|                         0|[2.35844607012825...|[0.75179706365648...|       0.0|\n",
            "|[0.0,0.0,0.333333...|                         0|[2.34684256052710...|[0.74638577702347...|       0.0|\n",
            "|(23,[2,3,4,5,6,7,...|                         1|[2.40248323375528...|[0.78976031954679...|       0.0|\n",
            "|[0.0,0.0,0.333333...|                         0|[2.34873245845808...|[0.74796850220324...|       0.0|\n",
            "|[0.0,0.0,0.333333...|                         0|[2.33228476425309...|[0.74113240108730...|       0.0|\n",
            "|[0.0,0.0,0.333333...|                         0|[2.33529053686235...|[0.74246642979790...|       0.0|\n",
            "|[0.0,0.0,0.333333...|                         0|[2.51077729379223...|[0.81224049288781...|       0.0|\n",
            "|[0.0,0.0,0.333333...|                         0|[2.41087954503524...|[0.77494294128672...|       0.0|\n",
            "+--------------------+--------------------------+--------------------+--------------------+----------+\n",
            "only showing top 20 rows\n",
            "\n"
          ]
        }
      ],
      "source": [
        "from pyspark.ml.classification import MultilayerPerceptronClassifier\n",
        "\n",
        "#print(help(MultilayerPerceptronClassifier))\n",
        "\n",
        "mlpc=MultilayerPerceptronClassifier(featuresCol=\"min_maxed_scaled\", \n",
        "                                    labelCol=\"default payment next month\",\n",
        "                                    #layers = [23, 50, 25, 10, 2],\n",
        "                                    layers = [23, 10, 5, 2],\n",
        "                                    maxIter=100,\n",
        "                                    blockSize=128,\n",
        "                                    seed=10)\n",
        "model = mlpc.fit(mm_scaled_train)\n",
        "Y_pred_df = model.transform(mm_scaled_test)\n",
        "Y_pred_df.show()"
      ]
    },
    {
      "cell_type": "code",
      "execution_count": null,
      "id": "1I-N4kJbUiGC",
      "metadata": {
        "colab": {
          "base_uri": "https://localhost:8080/"
        },
        "id": "1I-N4kJbUiGC",
        "outputId": "d77ef610-34fe-42db-bcc6-6f9b4e21e99d"
      },
      "outputs": [
        {
          "name": "stdout",
          "output_type": "stream",
          "text": [
            "+--------------------+--------------------------+--------------------+--------------------+----------+\n",
            "|    min_maxed_scaled|default payment next month|       rawPrediction|         probability|prediction|\n",
            "+--------------------+--------------------------+--------------------+--------------------+----------+\n",
            "|[0.0,0.0,0.166666...|                         1|[1.35532635023317...|[0.77927796995399...|       0.0|\n",
            "|(23,[2,3,4,5,6,7,...|                         1|[0.61350326229203...|[0.51764553320945...|       0.0|\n",
            "|[0.0,0.0,0.166666...|                         0|[0.29953594204515...|[0.45808000395618...|       1.0|\n",
            "|[0.0,0.0,0.166666...|                         1|[1.08408931519893...|[0.74358783268905...|       0.0|\n",
            "|[0.0,0.0,0.166666...|                         1|[0.01631909356324...|[0.36867618571019...|       1.0|\n",
            "|[0.0,0.0,0.166666...|                         0|[1.35059680837701...|[0.80334269827447...|       0.0|\n",
            "|[0.0,0.0,0.166666...|                         0|[1.36314441420448...|[0.80745671476330...|       0.0|\n",
            "|[0.0,0.0,0.166666...|                         0|[0.59296644704816...|[0.59045463112640...|       0.0|\n",
            "|[0.0,0.0,0.166666...|                         0|[1.33907093659597...|[0.79892826373324...|       0.0|\n",
            "|[0.0,0.0,0.166666...|                         0|[1.35337183850038...|[0.79387186001836...|       0.0|\n",
            "|[0.0,0.0,0.166666...|                         0|[1.33324398028472...|[0.79702349388073...|       0.0|\n",
            "|[0.0,0.0,0.166666...|                         1|[-0.4858636960539...|[0.18995461610756...|       1.0|\n",
            "|[0.0,0.0,0.333333...|                         0|[1.28328426179285...|[0.77834884197273...|       0.0|\n",
            "|[0.0,0.0,0.333333...|                         0|[1.28965114843925...|[0.77862836035086...|       0.0|\n",
            "|(23,[2,3,4,5,6,7,...|                         1|[1.37077194414111...|[0.74889960021117...|       0.0|\n",
            "|[0.0,0.0,0.333333...|                         0|[1.26430040580795...|[0.77022933241049...|       0.0|\n",
            "|[0.0,0.0,0.333333...|                         0|[1.23046469423901...|[0.75632505818649...|       0.0|\n",
            "|[0.0,0.0,0.333333...|                         0|[1.23295536909845...|[0.75782874616600...|       0.0|\n",
            "|[0.0,0.0,0.333333...|                         0|[1.41553282817721...|[0.79281722156578...|       0.0|\n",
            "|[0.0,0.0,0.333333...|                         0|[1.25435022958197...|[0.74361693066244...|       0.0|\n",
            "+--------------------+--------------------------+--------------------+--------------------+----------+\n",
            "only showing top 20 rows\n",
            "\n"
          ]
        }
      ],
      "source": [
        "mlpc_path = \"/content/mlp\"\n",
        "mlpc.write().overwrite().save(mlpc_path)\n",
        "mlpc_2 = MultilayerPerceptronClassifier.load(mlpc_path)\n",
        "Y_pred_df = model.transform(mm_scaled_test)\n",
        "Y_pred_df.show()"
      ]
    },
    {
      "cell_type": "code",
      "execution_count": null,
      "id": "LI2_CBttVUwd",
      "metadata": {
        "colab": {
          "base_uri": "https://localhost:8080/"
        },
        "id": "LI2_CBttVUwd",
        "outputId": "33f44dcf-6eaa-46c0-9981-16eed00b51b5"
      },
      "outputs": [
        {
          "name": "stdout",
          "output_type": "stream",
          "text": [
            "              precision    recall  f1-score   support\n",
            "\n",
            "           0       0.84      0.95      0.89      6841\n",
            "           1       0.67      0.37      0.48      1967\n",
            "\n",
            "    accuracy                           0.82      8808\n",
            "   macro avg       0.75      0.66      0.68      8808\n",
            "weighted avg       0.80      0.82      0.80      8808\n",
            "\n"
          ]
        }
      ],
      "source": [
        "Y_preds = Y_pred_df.select(\"prediction\").collect()\n",
        "Y_true = mm_scaled_test.select(\"default payment next month\").collect()\n",
        "print(classification_report(Y_true, Y_preds))"
      ]
    },
    {
      "cell_type": "code",
      "execution_count": null,
      "id": "KnxlKJlWu5Oo",
      "metadata": {
        "id": "KnxlKJlWu5Oo"
      },
      "outputs": [],
      "source": [
        "# TODO: Fix sampling for KNN, split the dataset for each node and create an LDA \n",
        "# with the merged data from each node"
      ]
    },
    {
      "cell_type": "code",
      "execution_count": null,
      "id": "VBj9frdEXLHi",
      "metadata": {
        "colab": {
          "base_uri": "https://localhost:8080/"
        },
        "id": "VBj9frdEXLHi",
        "outputId": "c4f55883-13f2-45cf-e322-0318450fe717"
      },
      "outputs": [
        {
          "name": "stdout",
          "output_type": "stream",
          "text": [
            "+--------------------+--------------------------+\n",
            "|              scaled|default payment next month|\n",
            "+--------------------+--------------------------+\n",
            "|[-1.2259420293745...|                         1|\n",
            "|[-1.2259420293745...|                         1|\n",
            "|[-1.2259420293745...|                         0|\n",
            "|[-1.2259420293745...|                         1|\n",
            "|[-1.2259420293745...|                         1|\n",
            "|[-1.2259420293745...|                         0|\n",
            "|[-1.2259420293745...|                         0|\n",
            "|[-1.2259420293745...|                         0|\n",
            "|[-1.2259420293745...|                         0|\n",
            "|[-1.2259420293745...|                         0|\n",
            "|[-1.2259420293745...|                         0|\n",
            "|[-1.2259420293745...|                         1|\n",
            "|[-1.2259420293745...|                         0|\n",
            "|[-1.2259420293745...|                         0|\n",
            "|[-1.2259420293745...|                         1|\n",
            "|[-1.2259420293745...|                         0|\n",
            "|[-1.2259420293745...|                         0|\n",
            "|[-1.2259420293745...|                         0|\n",
            "|[-1.2259420293745...|                         0|\n",
            "|[-1.2259420293745...|                         0|\n",
            "+--------------------+--------------------------+\n",
            "only showing top 20 rows\n",
            "\n",
            "None\n"
          ]
        }
      ],
      "source": [
        "sampled_train = vectorized_scaled_train.sample(False, 0.35, seed = 10)\n",
        "#print(sampled_train.count())\n",
        "print(vectorized_scaled_test.show())\n",
        "#print(sampled_train.show())"
      ]
    },
    {
      "cell_type": "code",
      "execution_count": null,
      "id": "Mb1QMLI0PM4m",
      "metadata": {
        "colab": {
          "base_uri": "https://localhost:8080/"
        },
        "id": "Mb1QMLI0PM4m",
        "outputId": "dc2842ea-08ed-4e41-9f32-2a80e159b388"
      },
      "outputs": [
        {
          "name": "stdout",
          "output_type": "stream",
          "text": [
            "[-1.2259420293745686,-1.236178606248746,-1.0878893849814202,-1.0567413947197732,0.6001116102717824,0.008591677874511736,0.10501130293580413,2.6332533871094297,1.8876287332069601,1.9884023531217827,1.9813023281395483,-0.6080648147834185,-0.5570543427956515,-0.5440520749440555,-0.5333067178556629,-0.5006997495200453,-0.5156191834372453,-0.15950157260541328,-0.2644814517600304,-0.32545342635291813,-0.2485366056823417,-0.315226481566482,-0.4841105714686094]\n",
            "              precision    recall  f1-score   support\n",
            "\n",
            "           0       0.81      0.82      0.82      6841\n",
            "           1       0.36      0.34      0.35      1967\n",
            "\n",
            "    accuracy                           0.72      8808\n",
            "   macro avg       0.58      0.58      0.58      8808\n",
            "weighted avg       0.71      0.72      0.71      8808\n",
            "\n"
          ]
        }
      ],
      "source": [
        "from pyspark.ml.linalg import Vector, Vectors\n",
        "from pyspark.sql.functions import udf\n",
        "from pyspark.sql.types import FloatType\n",
        "from pyspark.ml.linalg import VectorUDT\n",
        "import numpy as np\n",
        "\n",
        "def dist_knn_mapping(vector, lil_dataframe, labels, k_val):\n",
        "  ex_arr = vector.toArray()\n",
        "  val_list = []\n",
        "  for elem in lil_dataframe:\n",
        "    to_sub = np.array(elem)\n",
        "    val = np.linalg.norm(ex_arr - to_sub)\n",
        "    val_list.append(val)\n",
        "  nearest_indices = np.argsort(val_list)[:k_val]\n",
        "  acc = 0\n",
        "  for elem in nearest_indices:\n",
        "    acc += labels[elem]\n",
        "  to_return = 1 if acc >= np.ceil(k_val / 2) else 0\n",
        "  return float(to_return)\n",
        "\n",
        "#vectorized_scaled_test.printSchema()\n",
        "lil_df = sampled_train.toPandas().head(100)\n",
        "print(lil_df[\"scaled\"][0])\n",
        "examples = [elem.toArray() for elem in lil_df[\"scaled\"]]\n",
        "labels = [int(elem) for elem in lil_df[\"default payment next month\"]]\n",
        "vector_udf_2 = udf(lambda x: dist_knn_mapping(x, examples, labels, 5), FloatType())\n",
        "Y_preds = vectorized_scaled_test.withColumn(\"dist\", vector_udf_2(vectorized_scaled_test[\"scaled\"])).select(\"dist\").collect()\n",
        "Y_true = vectorized_scaled_test.select(\"default payment next month\").collect()\n",
        "print(classification_report(Y_true, Y_preds))"
      ]
    },
    {
      "cell_type": "code",
      "execution_count": null,
      "id": "KPyOsZvNr7yv",
      "metadata": {
        "colab": {
          "base_uri": "https://localhost:8080/"
        },
        "id": "KPyOsZvNr7yv",
        "outputId": "d6196549-0754-4ab4-9a78-912f5d6fcb0a"
      },
      "outputs": [
        {
          "name": "stdout",
          "output_type": "stream",
          "text": [
            "[ 5  6  7  8  9 10 11 12 13 14 15 16 17 18 19]\n",
            "(20543, 24)\n"
          ]
        }
      ],
      "source": [
        "print(np.arange(5, 20))\n",
        "panda = train_cred.toPandas()\n",
        "print(panda.shape)"
      ]
    },
    {
      "cell_type": "code",
      "execution_count": null,
      "id": "2YkF85-joXhd",
      "metadata": {
        "colab": {
          "base_uri": "https://localhost:8080/"
        },
        "id": "2YkF85-joXhd",
        "outputId": "85e9656e-4988-4dd6-aeed-ca05f99887e3"
      },
      "outputs": [
        {
          "name": "stdout",
          "output_type": "stream",
          "text": [
            "[   0    1    2 ... 6844 6845 6846]\n",
            "(6847, 24)\n",
            "[ 6847  6848  6849 ... 13691 13692 13693]\n",
            "(6847, 24)\n",
            "[13694 13695 13696 ... 20540 20541 20542]\n",
            "(6849, 24)\n"
          ]
        }
      ],
      "source": [
        "def split_and_save(train_cred, path, n_partitions):\n",
        "    pd_train = train_cred.select(\"*\").toPandas()\n",
        "    splits = []\n",
        "    length_each_split = pd_train.shape[0] // n_partitions\n",
        "    for i in range(0, n_partitions): \n",
        "      if i == n_partitions - 1:\n",
        "        i_range = np.arange(i*length_each_split, pd_train.shape[0])\n",
        "        print(i_range)\n",
        "      else:\n",
        "        i_range = np.arange(i*length_each_split, length_each_split+(i*length_each_split))\n",
        "        print(i_range)\n",
        "\n",
        "      to_save = pd_train.iloc[i_range]\n",
        "      print(to_save.shape)\n",
        "      to_save.to_json(path+\"train_split_%s.json\" %i)\n",
        "\n",
        "p_where_save = \"/content/train_partitions/\" # change this with hdfs path\n",
        "split_and_save(train_cred, p_where_save, 3)"
      ]
    },
    {
      "cell_type": "code",
      "execution_count": null,
      "id": "ytVrA3vlwIVJ",
      "metadata": {
        "id": "ytVrA3vlwIVJ"
      },
      "outputs": [],
      "source": [
        "def load_splitted_from_hdfs(path, n_partitions):\n",
        "  to_conc = []\n",
        "  for i in range(0, n_partitions):\n",
        "    df_curr_part = spark.read.json(path+\"train_split_%s.json\"%i)\n",
        "    df_curr_part = df_curr_part.select(\"*\").toPandas().values\n",
        "    to_conc.append(df_curr_part)\n",
        "  to_return = np.concatenate(to_conc, axis = 0)\n",
        "  return to_return"
      ]
    },
    {
      "cell_type": "code",
      "execution_count": null,
      "id": "1S4ZBxqJq2Zd",
      "metadata": {
        "colab": {
          "base_uri": "https://localhost:8080/"
        },
        "id": "1S4ZBxqJq2Zd",
        "outputId": "271513a7-bacc-4ed5-f014-dd3e8f2b6b95"
      },
      "outputs": [
        {
          "name": "stdout",
          "output_type": "stream",
          "text": [
            "(6847, 24)\n",
            "(6847, 24)\n",
            "(6849, 24)\n",
            "(20543, 24)\n",
            "[[10000     1     1     1    41     0     0     3     2     2     2  6859\n",
            "   9751  9451  9169 10056  8559  3000     0     0  1002     0   500     0]\n",
            " [10000     1     1     1    42     4     3     2     2     2     0  6744\n",
            "   6494  6247  7975  7701  7787     0     0  2000     0   359   331     0]\n",
            " [10000     1     1     1    50     0     0     0     0     0     0 10043\n",
            "   9616  9718  9916  9250  7461  1194  1076   274   370   472   375     0]]\n"
          ]
        }
      ],
      "source": [
        "def load_splitted(path, n_partitions):\n",
        "  to_conc = []\n",
        "  for i in range(0, n_partitions):\n",
        "    df_curr_part = pd.read_json(path+\"train_split_%s.json\"%i).values\n",
        "    print(df_curr_part.shape)\n",
        "    to_conc.append(df_curr_part)\n",
        "  to_return = np.concatenate(to_conc, axis = 0)\n",
        "  return to_return\n",
        "\n",
        "np_data = load_splitted(p_where_save, 3)\n",
        "print(np_data.shape)\n",
        "print(np_data[:3, :])"
      ]
    },
    {
      "cell_type": "code",
      "execution_count": null,
      "id": "EX5l343kwnyl",
      "metadata": {
        "colab": {
          "base_uri": "https://localhost:8080/"
        },
        "id": "EX5l343kwnyl",
        "outputId": "4d197ba4-8bb7-4f68-a64e-1ed6791a1f8f"
      },
      "outputs": [
        {
          "name": "stdout",
          "output_type": "stream",
          "text": [
            "[[ 10000      1      1 ...      0    500      0]\n",
            " [ 10000      1      1 ...    359    331      0]\n",
            " [ 10000      1      1 ...    472    375      0]\n",
            " ...\n",
            " [550000      2      2 ...    602    890      0]\n",
            " [550000      2      2 ...   6114   6207      0]\n",
            " [550000      2      5 ...   8199      0      0]]\n",
            "[0 0 0 ... 0 0 0]\n"
          ]
        }
      ],
      "source": [
        "from sklearn.discriminant_analysis import LinearDiscriminantAnalysis\n",
        "\n",
        "lda = LinearDiscriminantAnalysis(solver = \"svd\", tol=0.0001)\n",
        "data_X = np_data[:, :np_data.shape[1]]\n",
        "data_y = np_data[:, np_data.shape[1] - 1]\n",
        "print(data_X)\n",
        "print(data_y)\n",
        "fitted_lda = lda.fit(data_X, data_y)"
      ]
    },
    {
      "cell_type": "code",
      "execution_count": null,
      "id": "4zXQ5aeTxM2p",
      "metadata": {
        "colab": {
          "base_uri": "https://localhost:8080/",
          "height": 451
        },
        "id": "4zXQ5aeTxM2p",
        "outputId": "6448b57f-5a08-41eb-9c75-b185ad214910"
      },
      "outputs": [
        {
          "name": "stdout",
          "output_type": "stream",
          "text": [
            "              precision    recall  f1-score   support\n",
            "\n",
            "           0       0.82      0.97      0.89      6857\n",
            "           1       0.70      0.26      0.38      1962\n",
            "\n",
            "    accuracy                           0.81      8819\n",
            "   macro avg       0.76      0.61      0.63      8819\n",
            "weighted avg       0.79      0.81      0.78      8819\n",
            "\n"
          ]
        },
        {
          "data": {
            "image/png": "[encoded data removed]",
            "text/plain": [
              "<Figure size 432x288 with 1 Axes>"
            ]
          },
          "metadata": {
            "needs_background": "light"
          },
          "output_type": "display_data"
        }
      ],
      "source": [
        "test_data = test_cred.toPandas().values\n",
        "data_X = test_data[:, :test_data.shape[1]]\n",
        "data_y = test_data[:, test_data.shape[1] - 1]\n",
        "y_preds = fitted_lda.predict(data_X)\n",
        "print(classification_report(data_y, y_preds))\n",
        "plot_cumulative_gains(data_y, y_preds)"
      ]
    }
  ],
  "metadata": {
    "colab": {
      "provenance": []
    },
    "kernelspec": {
      "display_name": "Python 3 (ipykernel)",
      "language": "python",
      "name": "python3"
    },
    "language_info": {
      "codemirror_mode": {
        "name": "ipython",
        "version": 3
      },
      "file_extension": ".py",
      "mimetype": "text/x-python",
      "name": "python",
      "nbconvert_exporter": "python",
      "pygments_lexer": "ipython3",
      "version": "3.9.12"
    }
  },
  "nbformat": 4,
  "nbformat_minor": 5
}