{
 "cells": [
  {
   "cell_type": "code",
   "execution_count": 1,
   "id": "2774e4e0",
   "metadata": {},
   "outputs": [
    {
     "name": "stdout",
     "output_type": "stream",
     "text": [
      "Defaulting to user installation because normal site-packages is not writeable\n",
      "Requirement already satisfied: findspark in /home/vagrant/.local/lib/python3.10/site-packages (2.0.1)\n",
      "Defaulting to user installation because normal site-packages is not writeable\n",
      "Collecting xlrd\n",
      "  Downloading xlrd-2.0.1-py2.py3-none-any.whl (96 kB)\n",
      "\u001b[2K     \u001b[90m━━━━━━━━━━━━━━━━━━━━━━━━━━━━━━━━━━━━━━━━\u001b[0m \u001b[32m96.5/96.5 KB\u001b[0m \u001b[31m1.5 MB/s\u001b[0m eta \u001b[36m0:00:00\u001b[0m-:--:--\u001b[0m\n",
      "\u001b[?25hInstalling collected packages: xlrd\n",
      "Successfully installed xlrd-2.0.1\n",
      "Defaulting to user installation because normal site-packages is not writeable\n",
      "Collecting scikit-learn\n",
      "  Downloading scikit_learn-1.2.1-cp310-cp310-manylinux_2_17_x86_64.manylinux2014_x86_64.whl (9.6 MB)\n",
      "\u001b[2K     \u001b[90m━━━━━━━━━━━━━━━━━━━━━━━━━━━━━━━━━━━━━━━━\u001b[0m \u001b[32m9.6/9.6 MB\u001b[0m \u001b[31m5.0 MB/s\u001b[0m eta \u001b[36m0:00:00\u001b[0m00:01\u001b[0m00:01\u001b[0m\n",
      "\u001b[?25hCollecting joblib>=1.1.1\n",
      "  Downloading joblib-1.2.0-py3-none-any.whl (297 kB)\n",
      "\u001b[2K     \u001b[90m━━━━━━━━━━━━━━━━━━━━━━━━━━━━━━━━━━━━━━━\u001b[0m \u001b[32m298.0/298.0 KB\u001b[0m \u001b[31m6.2 MB/s\u001b[0m eta \u001b[36m0:00:00\u001b[0ma \u001b[36m0:00:01\u001b[0m\n",
      "\u001b[?25hCollecting threadpoolctl>=2.0.0\n",
      "  Downloading threadpoolctl-3.1.0-py3-none-any.whl (14 kB)\n",
      "Requirement already satisfied: numpy>=1.17.3 in /usr/local/lib/python3.10/dist-packages (from scikit-learn) (1.24.1)\n",
      "Collecting scipy>=1.3.2\n",
      "  Downloading scipy-1.10.0-cp310-cp310-manylinux_2_17_x86_64.manylinux2014_x86_64.whl (34.4 MB)\n",
      "\u001b[2K     \u001b[90m━━━━━━━━━━━━━━━━━━━━━━━━━━━━━━━━━━━━━━━━\u001b[0m \u001b[32m34.4/34.4 MB\u001b[0m \u001b[31m5.4 MB/s\u001b[0m eta \u001b[36m0:00:00\u001b[0m00:01\u001b[0m00:01\u001b[0m\n",
      "\u001b[?25hInstalling collected packages: threadpoolctl, scipy, joblib, scikit-learn\n",
      "Successfully installed joblib-1.2.0 scikit-learn-1.2.1 scipy-1.10.0 threadpoolctl-3.1.0\n"
     ]
    }
   ],
   "source": [
    "!pip install findspark\n",
    "!pip install xlrd\n",
    "!pip install scikit-learn"
   ]
  },
  {
   "cell_type": "code",
   "execution_count": 2,
   "id": "2652b4d6",
   "metadata": {},
   "outputs": [
    {
     "name": "stderr",
     "output_type": "stream",
     "text": [
      "Setting default log level to \"WARN\".\n",
      "To adjust logging level use sc.setLogLevel(newLevel). For SparkR, use setLogLevel(newLevel).\n",
      "                                                                                \r"
     ]
    },
    {
     "name": "stdout",
     "output_type": "stream",
     "text": [
      "3.14124668\n"
     ]
    }
   ],
   "source": [
    "import findspark\n",
    "findspark.init()\n",
    "import pyspark\n",
    "import random\n",
    "\n",
    "\n",
    "sc = pyspark.SparkContext(appName=\"Pi\")\n",
    "num_samples = 100000000\n",
    "def inside(p):     \n",
    "  x, y = random.random(), random.random()\n",
    "  return x*x + y*y < 1\n",
    "count = sc.parallelize(range(0, num_samples)).filter(inside).count()\n",
    "pi = 4 * count / num_samples\n",
    "print(pi)\n",
    "sc.stop()"
   ]
  },
  {
   "cell_type": "code",
   "execution_count": 3,
   "id": "dcc09bc5",
   "metadata": {},
   "outputs": [],
   "source": [
    "import pandas as pd\n",
    "import numpy as np\n",
    "import seaborn as sns\n",
    "import matplotlib.pyplot as plt\n",
    "from sklearn.preprocessing import StandardScaler\n",
    "from sklearn.preprocessing import MinMaxScaler\n",
    "from sklearn.model_selection import train_test_split\n",
    "from sklearn.metrics import classification_report, confusion_matrix, ConfusionMatrixDisplay\n",
    "%matplotlib inline"
   ]
  },
  {
   "cell_type": "code",
   "execution_count": 7,
   "id": "440591a9",
   "metadata": {},
   "outputs": [],
   "source": [
    "import pandas as pd\n",
    "credit = pd.read_excel('./default of credit card clients.xls', header=1)"
   ]
  },
  {
   "cell_type": "code",
   "execution_count": 8,
   "id": "01801467",
   "metadata": {},
   "outputs": [
    {
     "data": {
      "text/html": [
       "<div>\n",
       "<style scoped>\n",
       "    .dataframe tbody tr th:only-of-type {\n",
       "        vertical-align: middle;\n",
       "    }\n",
       "\n",
       "    .dataframe tbody tr th {\n",
       "        vertical-align: top;\n",
       "    }\n",
       "\n",
       "    .dataframe thead th {\n",
       "        text-align: right;\n",
       "    }\n",
       "</style>\n",
       "<table border=\"1\" class=\"dataframe\">\n",
       "  <thead>\n",
       "    <tr style=\"text-align: right;\">\n",
       "      <th></th>\n",
       "      <th>ID</th>\n",
       "      <th>LIMIT_BAL</th>\n",
       "      <th>SEX</th>\n",
       "      <th>EDUCATION</th>\n",
       "      <th>MARRIAGE</th>\n",
       "      <th>AGE</th>\n",
       "      <th>PAY_0</th>\n",
       "      <th>PAY_2</th>\n",
       "      <th>PAY_3</th>\n",
       "      <th>PAY_4</th>\n",
       "      <th>...</th>\n",
       "      <th>BILL_AMT4</th>\n",
       "      <th>BILL_AMT5</th>\n",
       "      <th>BILL_AMT6</th>\n",
       "      <th>PAY_AMT1</th>\n",
       "      <th>PAY_AMT2</th>\n",
       "      <th>PAY_AMT3</th>\n",
       "      <th>PAY_AMT4</th>\n",
       "      <th>PAY_AMT5</th>\n",
       "      <th>PAY_AMT6</th>\n",
       "      <th>default payment next month</th>\n",
       "    </tr>\n",
       "  </thead>\n",
       "  <tbody>\n",
       "    <tr>\n",
       "      <th>0</th>\n",
       "      <td>1</td>\n",
       "      <td>20000</td>\n",
       "      <td>2</td>\n",
       "      <td>2</td>\n",
       "      <td>1</td>\n",
       "      <td>24</td>\n",
       "      <td>2</td>\n",
       "      <td>2</td>\n",
       "      <td>-1</td>\n",
       "      <td>-1</td>\n",
       "      <td>...</td>\n",
       "      <td>0</td>\n",
       "      <td>0</td>\n",
       "      <td>0</td>\n",
       "      <td>0</td>\n",
       "      <td>689</td>\n",
       "      <td>0</td>\n",
       "      <td>0</td>\n",
       "      <td>0</td>\n",
       "      <td>0</td>\n",
       "      <td>1</td>\n",
       "    </tr>\n",
       "    <tr>\n",
       "      <th>1</th>\n",
       "      <td>2</td>\n",
       "      <td>120000</td>\n",
       "      <td>2</td>\n",
       "      <td>2</td>\n",
       "      <td>2</td>\n",
       "      <td>26</td>\n",
       "      <td>-1</td>\n",
       "      <td>2</td>\n",
       "      <td>0</td>\n",
       "      <td>0</td>\n",
       "      <td>...</td>\n",
       "      <td>3272</td>\n",
       "      <td>3455</td>\n",
       "      <td>3261</td>\n",
       "      <td>0</td>\n",
       "      <td>1000</td>\n",
       "      <td>1000</td>\n",
       "      <td>1000</td>\n",
       "      <td>0</td>\n",
       "      <td>2000</td>\n",
       "      <td>1</td>\n",
       "    </tr>\n",
       "    <tr>\n",
       "      <th>2</th>\n",
       "      <td>3</td>\n",
       "      <td>90000</td>\n",
       "      <td>2</td>\n",
       "      <td>2</td>\n",
       "      <td>2</td>\n",
       "      <td>34</td>\n",
       "      <td>0</td>\n",
       "      <td>0</td>\n",
       "      <td>0</td>\n",
       "      <td>0</td>\n",
       "      <td>...</td>\n",
       "      <td>14331</td>\n",
       "      <td>14948</td>\n",
       "      <td>15549</td>\n",
       "      <td>1518</td>\n",
       "      <td>1500</td>\n",
       "      <td>1000</td>\n",
       "      <td>1000</td>\n",
       "      <td>1000</td>\n",
       "      <td>5000</td>\n",
       "      <td>0</td>\n",
       "    </tr>\n",
       "    <tr>\n",
       "      <th>3</th>\n",
       "      <td>4</td>\n",
       "      <td>50000</td>\n",
       "      <td>2</td>\n",
       "      <td>2</td>\n",
       "      <td>1</td>\n",
       "      <td>37</td>\n",
       "      <td>0</td>\n",
       "      <td>0</td>\n",
       "      <td>0</td>\n",
       "      <td>0</td>\n",
       "      <td>...</td>\n",
       "      <td>28314</td>\n",
       "      <td>28959</td>\n",
       "      <td>29547</td>\n",
       "      <td>2000</td>\n",
       "      <td>2019</td>\n",
       "      <td>1200</td>\n",
       "      <td>1100</td>\n",
       "      <td>1069</td>\n",
       "      <td>1000</td>\n",
       "      <td>0</td>\n",
       "    </tr>\n",
       "    <tr>\n",
       "      <th>4</th>\n",
       "      <td>5</td>\n",
       "      <td>50000</td>\n",
       "      <td>1</td>\n",
       "      <td>2</td>\n",
       "      <td>1</td>\n",
       "      <td>57</td>\n",
       "      <td>-1</td>\n",
       "      <td>0</td>\n",
       "      <td>-1</td>\n",
       "      <td>0</td>\n",
       "      <td>...</td>\n",
       "      <td>20940</td>\n",
       "      <td>19146</td>\n",
       "      <td>19131</td>\n",
       "      <td>2000</td>\n",
       "      <td>36681</td>\n",
       "      <td>10000</td>\n",
       "      <td>9000</td>\n",
       "      <td>689</td>\n",
       "      <td>679</td>\n",
       "      <td>0</td>\n",
       "    </tr>\n",
       "  </tbody>\n",
       "</table>\n",
       "<p>5 rows × 25 columns</p>\n",
       "</div>"
      ],
      "text/plain": [
       "   ID  LIMIT_BAL  SEX  EDUCATION  MARRIAGE  AGE  PAY_0  PAY_2  PAY_3  PAY_4  \\\n",
       "0   1      20000    2          2         1   24      2      2     -1     -1   \n",
       "1   2     120000    2          2         2   26     -1      2      0      0   \n",
       "2   3      90000    2          2         2   34      0      0      0      0   \n",
       "3   4      50000    2          2         1   37      0      0      0      0   \n",
       "4   5      50000    1          2         1   57     -1      0     -1      0   \n",
       "\n",
       "   ...  BILL_AMT4  BILL_AMT5  BILL_AMT6  PAY_AMT1  PAY_AMT2  PAY_AMT3  \\\n",
       "0  ...          0          0          0         0       689         0   \n",
       "1  ...       3272       3455       3261         0      1000      1000   \n",
       "2  ...      14331      14948      15549      1518      1500      1000   \n",
       "3  ...      28314      28959      29547      2000      2019      1200   \n",
       "4  ...      20940      19146      19131      2000     36681     10000   \n",
       "\n",
       "   PAY_AMT4  PAY_AMT5  PAY_AMT6  default payment next month  \n",
       "0         0         0         0                           1  \n",
       "1      1000         0      2000                           1  \n",
       "2      1000      1000      5000                           0  \n",
       "3      1100      1069      1000                           0  \n",
       "4      9000       689       679                           0  \n",
       "\n",
       "[5 rows x 25 columns]"
      ]
     },
     "execution_count": 8,
     "metadata": {},
     "output_type": "execute_result"
    }
   ],
   "source": [
    "credit.head()"
   ]
  },
  {
   "cell_type": "code",
   "execution_count": 9,
   "id": "636fb526",
   "metadata": {},
   "outputs": [
    {
     "name": "stdout",
     "output_type": "stream",
     "text": [
      "<class 'pandas.core.frame.DataFrame'>\n",
      "RangeIndex: 30000 entries, 0 to 29999\n",
      "Data columns (total 25 columns):\n",
      " #   Column                      Non-Null Count  Dtype\n",
      "---  ------                      --------------  -----\n",
      " 0   ID                          30000 non-null  int64\n",
      " 1   LIMIT_BAL                   30000 non-null  int64\n",
      " 2   SEX                         30000 non-null  int64\n",
      " 3   EDUCATION                   30000 non-null  int64\n",
      " 4   MARRIAGE                    30000 non-null  int64\n",
      " 5   AGE                         30000 non-null  int64\n",
      " 6   PAY_0                       30000 non-null  int64\n",
      " 7   PAY_2                       30000 non-null  int64\n",
      " 8   PAY_3                       30000 non-null  int64\n",
      " 9   PAY_4                       30000 non-null  int64\n",
      " 10  PAY_5                       30000 non-null  int64\n",
      " 11  PAY_6                       30000 non-null  int64\n",
      " 12  BILL_AMT1                   30000 non-null  int64\n",
      " 13  BILL_AMT2                   30000 non-null  int64\n",
      " 14  BILL_AMT3                   30000 non-null  int64\n",
      " 15  BILL_AMT4                   30000 non-null  int64\n",
      " 16  BILL_AMT5                   30000 non-null  int64\n",
      " 17  BILL_AMT6                   30000 non-null  int64\n",
      " 18  PAY_AMT1                    30000 non-null  int64\n",
      " 19  PAY_AMT2                    30000 non-null  int64\n",
      " 20  PAY_AMT3                    30000 non-null  int64\n",
      " 21  PAY_AMT4                    30000 non-null  int64\n",
      " 22  PAY_AMT5                    30000 non-null  int64\n",
      " 23  PAY_AMT6                    30000 non-null  int64\n",
      " 24  default payment next month  30000 non-null  int64\n",
      "dtypes: int64(25)\n",
      "memory usage: 5.7 MB\n"
     ]
    }
   ],
   "source": [
    "credit.info()"
   ]
  },
  {
   "cell_type": "code",
   "execution_count": 7,
   "id": "04a4c6d8",
   "metadata": {},
   "outputs": [
    {
     "data": {
      "text/html": [
       "<div>\n",
       "<style scoped>\n",
       "    .dataframe tbody tr th:only-of-type {\n",
       "        vertical-align: middle;\n",
       "    }\n",
       "\n",
       "    .dataframe tbody tr th {\n",
       "        vertical-align: top;\n",
       "    }\n",
       "\n",
       "    .dataframe thead th {\n",
       "        text-align: right;\n",
       "    }\n",
       "</style>\n",
       "<table border=\"1\" class=\"dataframe\">\n",
       "  <thead>\n",
       "    <tr style=\"text-align: right;\">\n",
       "      <th></th>\n",
       "      <th>ID</th>\n",
       "      <th>LIMIT_BAL</th>\n",
       "      <th>SEX</th>\n",
       "      <th>EDUCATION</th>\n",
       "      <th>MARRIAGE</th>\n",
       "      <th>AGE</th>\n",
       "      <th>PAY_0</th>\n",
       "      <th>PAY_2</th>\n",
       "      <th>PAY_3</th>\n",
       "      <th>PAY_4</th>\n",
       "      <th>...</th>\n",
       "      <th>BILL_AMT4</th>\n",
       "      <th>BILL_AMT5</th>\n",
       "      <th>BILL_AMT6</th>\n",
       "      <th>PAY_AMT1</th>\n",
       "      <th>PAY_AMT2</th>\n",
       "      <th>PAY_AMT3</th>\n",
       "      <th>PAY_AMT4</th>\n",
       "      <th>PAY_AMT5</th>\n",
       "      <th>PAY_AMT6</th>\n",
       "      <th>default payment next month</th>\n",
       "    </tr>\n",
       "  </thead>\n",
       "  <tbody>\n",
       "    <tr>\n",
       "      <th>count</th>\n",
       "      <td>30000.000000</td>\n",
       "      <td>30000.000000</td>\n",
       "      <td>30000.000000</td>\n",
       "      <td>30000.000000</td>\n",
       "      <td>30000.000000</td>\n",
       "      <td>30000.000000</td>\n",
       "      <td>30000.000000</td>\n",
       "      <td>30000.000000</td>\n",
       "      <td>30000.000000</td>\n",
       "      <td>30000.000000</td>\n",
       "      <td>...</td>\n",
       "      <td>30000.000000</td>\n",
       "      <td>30000.000000</td>\n",
       "      <td>30000.000000</td>\n",
       "      <td>30000.000000</td>\n",
       "      <td>3.000000e+04</td>\n",
       "      <td>30000.00000</td>\n",
       "      <td>30000.000000</td>\n",
       "      <td>30000.000000</td>\n",
       "      <td>30000.000000</td>\n",
       "      <td>30000.000000</td>\n",
       "    </tr>\n",
       "    <tr>\n",
       "      <th>mean</th>\n",
       "      <td>15000.500000</td>\n",
       "      <td>167484.322667</td>\n",
       "      <td>1.603733</td>\n",
       "      <td>1.853133</td>\n",
       "      <td>1.551867</td>\n",
       "      <td>35.485500</td>\n",
       "      <td>-0.016700</td>\n",
       "      <td>-0.133767</td>\n",
       "      <td>-0.166200</td>\n",
       "      <td>-0.220667</td>\n",
       "      <td>...</td>\n",
       "      <td>43262.948967</td>\n",
       "      <td>40311.400967</td>\n",
       "      <td>38871.760400</td>\n",
       "      <td>5663.580500</td>\n",
       "      <td>5.921163e+03</td>\n",
       "      <td>5225.68150</td>\n",
       "      <td>4826.076867</td>\n",
       "      <td>4799.387633</td>\n",
       "      <td>5215.502567</td>\n",
       "      <td>0.221200</td>\n",
       "    </tr>\n",
       "    <tr>\n",
       "      <th>std</th>\n",
       "      <td>8660.398374</td>\n",
       "      <td>129747.661567</td>\n",
       "      <td>0.489129</td>\n",
       "      <td>0.790349</td>\n",
       "      <td>0.521970</td>\n",
       "      <td>9.217904</td>\n",
       "      <td>1.123802</td>\n",
       "      <td>1.197186</td>\n",
       "      <td>1.196868</td>\n",
       "      <td>1.169139</td>\n",
       "      <td>...</td>\n",
       "      <td>64332.856134</td>\n",
       "      <td>60797.155770</td>\n",
       "      <td>59554.107537</td>\n",
       "      <td>16563.280354</td>\n",
       "      <td>2.304087e+04</td>\n",
       "      <td>17606.96147</td>\n",
       "      <td>15666.159744</td>\n",
       "      <td>15278.305679</td>\n",
       "      <td>17777.465775</td>\n",
       "      <td>0.415062</td>\n",
       "    </tr>\n",
       "    <tr>\n",
       "      <th>min</th>\n",
       "      <td>1.000000</td>\n",
       "      <td>10000.000000</td>\n",
       "      <td>1.000000</td>\n",
       "      <td>0.000000</td>\n",
       "      <td>0.000000</td>\n",
       "      <td>21.000000</td>\n",
       "      <td>-2.000000</td>\n",
       "      <td>-2.000000</td>\n",
       "      <td>-2.000000</td>\n",
       "      <td>-2.000000</td>\n",
       "      <td>...</td>\n",
       "      <td>-170000.000000</td>\n",
       "      <td>-81334.000000</td>\n",
       "      <td>-339603.000000</td>\n",
       "      <td>0.000000</td>\n",
       "      <td>0.000000e+00</td>\n",
       "      <td>0.00000</td>\n",
       "      <td>0.000000</td>\n",
       "      <td>0.000000</td>\n",
       "      <td>0.000000</td>\n",
       "      <td>0.000000</td>\n",
       "    </tr>\n",
       "    <tr>\n",
       "      <th>25%</th>\n",
       "      <td>7500.750000</td>\n",
       "      <td>50000.000000</td>\n",
       "      <td>1.000000</td>\n",
       "      <td>1.000000</td>\n",
       "      <td>1.000000</td>\n",
       "      <td>28.000000</td>\n",
       "      <td>-1.000000</td>\n",
       "      <td>-1.000000</td>\n",
       "      <td>-1.000000</td>\n",
       "      <td>-1.000000</td>\n",
       "      <td>...</td>\n",
       "      <td>2326.750000</td>\n",
       "      <td>1763.000000</td>\n",
       "      <td>1256.000000</td>\n",
       "      <td>1000.000000</td>\n",
       "      <td>8.330000e+02</td>\n",
       "      <td>390.00000</td>\n",
       "      <td>296.000000</td>\n",
       "      <td>252.500000</td>\n",
       "      <td>117.750000</td>\n",
       "      <td>0.000000</td>\n",
       "    </tr>\n",
       "    <tr>\n",
       "      <th>50%</th>\n",
       "      <td>15000.500000</td>\n",
       "      <td>140000.000000</td>\n",
       "      <td>2.000000</td>\n",
       "      <td>2.000000</td>\n",
       "      <td>2.000000</td>\n",
       "      <td>34.000000</td>\n",
       "      <td>0.000000</td>\n",
       "      <td>0.000000</td>\n",
       "      <td>0.000000</td>\n",
       "      <td>0.000000</td>\n",
       "      <td>...</td>\n",
       "      <td>19052.000000</td>\n",
       "      <td>18104.500000</td>\n",
       "      <td>17071.000000</td>\n",
       "      <td>2100.000000</td>\n",
       "      <td>2.009000e+03</td>\n",
       "      <td>1800.00000</td>\n",
       "      <td>1500.000000</td>\n",
       "      <td>1500.000000</td>\n",
       "      <td>1500.000000</td>\n",
       "      <td>0.000000</td>\n",
       "    </tr>\n",
       "    <tr>\n",
       "      <th>75%</th>\n",
       "      <td>22500.250000</td>\n",
       "      <td>240000.000000</td>\n",
       "      <td>2.000000</td>\n",
       "      <td>2.000000</td>\n",
       "      <td>2.000000</td>\n",
       "      <td>41.000000</td>\n",
       "      <td>0.000000</td>\n",
       "      <td>0.000000</td>\n",
       "      <td>0.000000</td>\n",
       "      <td>0.000000</td>\n",
       "      <td>...</td>\n",
       "      <td>54506.000000</td>\n",
       "      <td>50190.500000</td>\n",
       "      <td>49198.250000</td>\n",
       "      <td>5006.000000</td>\n",
       "      <td>5.000000e+03</td>\n",
       "      <td>4505.00000</td>\n",
       "      <td>4013.250000</td>\n",
       "      <td>4031.500000</td>\n",
       "      <td>4000.000000</td>\n",
       "      <td>0.000000</td>\n",
       "    </tr>\n",
       "    <tr>\n",
       "      <th>max</th>\n",
       "      <td>30000.000000</td>\n",
       "      <td>1000000.000000</td>\n",
       "      <td>2.000000</td>\n",
       "      <td>6.000000</td>\n",
       "      <td>3.000000</td>\n",
       "      <td>79.000000</td>\n",
       "      <td>8.000000</td>\n",
       "      <td>8.000000</td>\n",
       "      <td>8.000000</td>\n",
       "      <td>8.000000</td>\n",
       "      <td>...</td>\n",
       "      <td>891586.000000</td>\n",
       "      <td>927171.000000</td>\n",
       "      <td>961664.000000</td>\n",
       "      <td>873552.000000</td>\n",
       "      <td>1.684259e+06</td>\n",
       "      <td>896040.00000</td>\n",
       "      <td>621000.000000</td>\n",
       "      <td>426529.000000</td>\n",
       "      <td>528666.000000</td>\n",
       "      <td>1.000000</td>\n",
       "    </tr>\n",
       "  </tbody>\n",
       "</table>\n",
       "<p>8 rows × 25 columns</p>\n",
       "</div>"
      ],
      "text/plain": [
       "                 ID       LIMIT_BAL           SEX     EDUCATION      MARRIAGE  \\\n",
       "count  30000.000000    30000.000000  30000.000000  30000.000000  30000.000000   \n",
       "mean   15000.500000   167484.322667      1.603733      1.853133      1.551867   \n",
       "std     8660.398374   129747.661567      0.489129      0.790349      0.521970   \n",
       "min        1.000000    10000.000000      1.000000      0.000000      0.000000   \n",
       "25%     7500.750000    50000.000000      1.000000      1.000000      1.000000   \n",
       "50%    15000.500000   140000.000000      2.000000      2.000000      2.000000   \n",
       "75%    22500.250000   240000.000000      2.000000      2.000000      2.000000   \n",
       "max    30000.000000  1000000.000000      2.000000      6.000000      3.000000   \n",
       "\n",
       "                AGE         PAY_0         PAY_2         PAY_3         PAY_4  \\\n",
       "count  30000.000000  30000.000000  30000.000000  30000.000000  30000.000000   \n",
       "mean      35.485500     -0.016700     -0.133767     -0.166200     -0.220667   \n",
       "std        9.217904      1.123802      1.197186      1.196868      1.169139   \n",
       "min       21.000000     -2.000000     -2.000000     -2.000000     -2.000000   \n",
       "25%       28.000000     -1.000000     -1.000000     -1.000000     -1.000000   \n",
       "50%       34.000000      0.000000      0.000000      0.000000      0.000000   \n",
       "75%       41.000000      0.000000      0.000000      0.000000      0.000000   \n",
       "max       79.000000      8.000000      8.000000      8.000000      8.000000   \n",
       "\n",
       "       ...      BILL_AMT4      BILL_AMT5      BILL_AMT6       PAY_AMT1  \\\n",
       "count  ...   30000.000000   30000.000000   30000.000000   30000.000000   \n",
       "mean   ...   43262.948967   40311.400967   38871.760400    5663.580500   \n",
       "std    ...   64332.856134   60797.155770   59554.107537   16563.280354   \n",
       "min    ... -170000.000000  -81334.000000 -339603.000000       0.000000   \n",
       "25%    ...    2326.750000    1763.000000    1256.000000    1000.000000   \n",
       "50%    ...   19052.000000   18104.500000   17071.000000    2100.000000   \n",
       "75%    ...   54506.000000   50190.500000   49198.250000    5006.000000   \n",
       "max    ...  891586.000000  927171.000000  961664.000000  873552.000000   \n",
       "\n",
       "           PAY_AMT2      PAY_AMT3       PAY_AMT4       PAY_AMT5  \\\n",
       "count  3.000000e+04   30000.00000   30000.000000   30000.000000   \n",
       "mean   5.921163e+03    5225.68150    4826.076867    4799.387633   \n",
       "std    2.304087e+04   17606.96147   15666.159744   15278.305679   \n",
       "min    0.000000e+00       0.00000       0.000000       0.000000   \n",
       "25%    8.330000e+02     390.00000     296.000000     252.500000   \n",
       "50%    2.009000e+03    1800.00000    1500.000000    1500.000000   \n",
       "75%    5.000000e+03    4505.00000    4013.250000    4031.500000   \n",
       "max    1.684259e+06  896040.00000  621000.000000  426529.000000   \n",
       "\n",
       "            PAY_AMT6  default payment next month  \n",
       "count   30000.000000                30000.000000  \n",
       "mean     5215.502567                    0.221200  \n",
       "std     17777.465775                    0.415062  \n",
       "min         0.000000                    0.000000  \n",
       "25%       117.750000                    0.000000  \n",
       "50%      1500.000000                    0.000000  \n",
       "75%      4000.000000                    0.000000  \n",
       "max    528666.000000                    1.000000  \n",
       "\n",
       "[8 rows x 25 columns]"
      ]
     },
     "execution_count": 7,
     "metadata": {},
     "output_type": "execute_result"
    }
   ],
   "source": [
    "credit.describe()"
   ]
  },
  {
   "cell_type": "code",
   "execution_count": 10,
   "id": "44834b80",
   "metadata": {},
   "outputs": [],
   "source": [
    "credit = credit.drop('ID', axis = 1)"
   ]
  },
  {
   "cell_type": "code",
   "execution_count": 11,
   "id": "77b24916",
   "metadata": {},
   "outputs": [
    {
     "data": {
      "text/plain": [
       "35"
      ]
     },
     "execution_count": 11,
     "metadata": {},
     "output_type": "execute_result"
    }
   ],
   "source": [
    "credit.duplicated().sum()"
   ]
  },
  {
   "cell_type": "code",
   "execution_count": 12,
   "id": "ac2a9b76",
   "metadata": {},
   "outputs": [],
   "source": [
    "credit = credit.drop_duplicates()"
   ]
  },
  {
   "cell_type": "markdown",
   "id": "de218116",
   "metadata": {},
   "source": [
    "Distribution plots, needed to check if data are normalized"
   ]
  },
  {
   "cell_type": "code",
   "execution_count": 11,
   "id": "118fe0f5",
   "metadata": {},
   "outputs": [
    {
     "data": {
      "text/plain": [
       "<seaborn.axisgrid.FacetGrid at 0x7f9e742792a0>"
      ]
     },
     "execution_count": 11,
     "metadata": {},
     "output_type": "execute_result"
    },
    {
     "data": {
      "image/png": "[encoded data removed]",
      "text/plain": [
       "<Figure size 500x500 with 1 Axes>"
      ]
     },
     "metadata": {},
     "output_type": "display_data"
    }
   ],
   "source": [
    "sns.displot(credit['AGE'], bins = 20, kde = True)"
   ]
  },
  {
   "cell_type": "code",
   "execution_count": 12,
   "id": "1405fdd0",
   "metadata": {},
   "outputs": [
    {
     "data": {
      "text/plain": [
       "<seaborn.axisgrid.FacetGrid at 0x7f9e440c85e0>"
      ]
     },
     "execution_count": 12,
     "metadata": {},
     "output_type": "execute_result"
    },
    {
     "data": {
      "image/png": "[encoded data removed]",
      "text/plain": [
       "<Figure size 500x500 with 1 Axes>"
      ]
     },
     "metadata": {},
     "output_type": "display_data"
    }
   ],
   "source": [
    "sns.displot(credit['BILL_AMT4'], bins = 30, kde = True)"
   ]
  },
  {
   "cell_type": "code",
   "execution_count": 28,
   "id": "1dee8c64",
   "metadata": {},
   "outputs": [
    {
     "data": {
      "text/plain": [
       "<seaborn.axisgrid.FacetGrid at 0x7f51397d4850>"
      ]
     },
     "execution_count": 28,
     "metadata": {},
     "output_type": "execute_result"
    },
    {
     "data": {
      "image/png": "[encoded data removed]",
      "text/plain": [
       "<Figure size 500x500 with 1 Axes>"
      ]
     },
     "metadata": {},
     "output_type": "display_data"
    }
   ],
   "source": [
    "sns.displot(credit['PAY_AMT6'], bins = 30, kde = True)"
   ]
  },
  {
   "cell_type": "code",
   "execution_count": 13,
   "id": "5e49d29f",
   "metadata": {},
   "outputs": [
    {
     "data": {
      "text/plain": [
       "<AxesSubplot: >"
      ]
     },
     "execution_count": 13,
     "metadata": {},
     "output_type": "execute_result"
    },
    {
     "data": {
      "image/png": "[encoded data removed]",
      "text/plain": [
       "<Figure size 1200x800 with 2 Axes>"
      ]
     },
     "metadata": {},
     "output_type": "display_data"
    }
   ],
   "source": [
    "plt.figure(figsize = (12,8))\n",
    "sns.heatmap(credit.corr(), cmap = 'viridis')"
   ]
  },
  {
   "cell_type": "code",
   "execution_count": 14,
   "id": "1a5e430f",
   "metadata": {},
   "outputs": [
    {
     "data": {
      "text/plain": [
       "<AxesSubplot: xlabel='SEX', ylabel='count'>"
      ]
     },
     "execution_count": 14,
     "metadata": {},
     "output_type": "execute_result"
    },
    {
     "data": {
      "image/png": "[encoded data removed]",
      "text/plain": [
       "<Figure size 640x480 with 1 Axes>"
      ]
     },
     "metadata": {},
     "output_type": "display_data"
    }
   ],
   "source": [
    "sns.countplot(x = 'SEX', data= credit, palette = 'viridis')"
   ]
  },
  {
   "cell_type": "code",
   "execution_count": 15,
   "id": "c2a846a1",
   "metadata": {},
   "outputs": [
    {
     "data": {
      "text/plain": [
       "2    18091\n",
       "1    11874\n",
       "Name: SEX, dtype: int64"
      ]
     },
     "execution_count": 15,
     "metadata": {},
     "output_type": "execute_result"
    }
   ],
   "source": [
    "credit['SEX'].value_counts()"
   ]
  },
  {
   "cell_type": "code",
   "execution_count": 17,
   "id": "0e05901c",
   "metadata": {},
   "outputs": [
    {
     "data": {
      "text/plain": [
       "<AxesSubplot: xlabel='SEX', ylabel='count'>"
      ]
     },
     "execution_count": 17,
     "metadata": {},
     "output_type": "execute_result"
    },
    {
     "data": {
      "image/png": "[encoded data removed]",
      "text/plain": [
       "<Figure size 640x480 with 1 Axes>"
      ]
     },
     "metadata": {},
     "output_type": "display_data"
    }
   ],
   "source": [
    "sns.countplot(x = 'SEX', data = credit, palette = 'viridis', hue = 'default payment next month')"
   ]
  },
  {
   "cell_type": "code",
   "execution_count": 18,
   "id": "9a768458",
   "metadata": {},
   "outputs": [
    {
     "data": {
      "text/plain": [
       "2    14019\n",
       "1    10563\n",
       "3     4915\n",
       "5      280\n",
       "4      123\n",
       "6       51\n",
       "0       14\n",
       "Name: EDUCATION, dtype: int64"
      ]
     },
     "execution_count": 18,
     "metadata": {},
     "output_type": "execute_result"
    }
   ],
   "source": [
    "credit['EDUCATION'].value_counts()"
   ]
  },
  {
   "cell_type": "code",
   "execution_count": 19,
   "id": "f3a7c2ae",
   "metadata": {},
   "outputs": [
    {
     "data": {
      "text/plain": [
       "<AxesSubplot: xlabel='EDUCATION', ylabel='count'>"
      ]
     },
     "execution_count": 19,
     "metadata": {},
     "output_type": "execute_result"
    },
    {
     "data": {
      "image/png": "[encoded data removed]",
      "text/plain": [
       "<Figure size 640x480 with 1 Axes>"
      ]
     },
     "metadata": {},
     "output_type": "display_data"
    }
   ],
   "source": [
    "sns.countplot(x ='EDUCATION', data = credit, palette = 'bright')"
   ]
  },
  {
   "cell_type": "code",
   "execution_count": 20,
   "id": "46801116",
   "metadata": {},
   "outputs": [
    {
     "data": {
      "text/plain": [
       "<AxesSubplot: xlabel='EDUCATION', ylabel='count'>"
      ]
     },
     "execution_count": 20,
     "metadata": {},
     "output_type": "execute_result"
    },
    {
     "data": {
      "image/png": "[encoded data removed]",
      "text/plain": [
       "<Figure size 640x480 with 1 Axes>"
      ]
     },
     "metadata": {},
     "output_type": "display_data"
    }
   ],
   "source": [
    "sns.countplot(x = 'EDUCATION', data = credit, palette = 'bright', hue = 'default payment next month')"
   ]
  },
  {
   "cell_type": "code",
   "execution_count": 21,
   "id": "dd5617a0",
   "metadata": {},
   "outputs": [
    {
     "data": {
      "text/plain": [
       "2    15945\n",
       "1    13643\n",
       "3      323\n",
       "0       54\n",
       "Name: MARRIAGE, dtype: int64"
      ]
     },
     "execution_count": 21,
     "metadata": {},
     "output_type": "execute_result"
    }
   ],
   "source": [
    "credit['MARRIAGE'].value_counts()"
   ]
  },
  {
   "cell_type": "code",
   "execution_count": 22,
   "id": "c9679e3b",
   "metadata": {},
   "outputs": [
    {
     "data": {
      "text/plain": [
       "<AxesSubplot: xlabel='MARRIAGE', ylabel='count'>"
      ]
     },
     "execution_count": 22,
     "metadata": {},
     "output_type": "execute_result"
    },
    {
     "data": {
      "image/png": "[encoded data removed]",
      "text/plain": [
       "<Figure size 640x480 with 1 Axes>"
      ]
     },
     "metadata": {},
     "output_type": "display_data"
    }
   ],
   "source": [
    "sns.countplot(x = 'MARRIAGE', data = credit, palette = 'rocket')"
   ]
  },
  {
   "cell_type": "code",
   "execution_count": 23,
   "id": "4b4342b2",
   "metadata": {},
   "outputs": [
    {
     "data": {
      "text/plain": [
       "<AxesSubplot: xlabel='MARRIAGE', ylabel='count'>"
      ]
     },
     "execution_count": 23,
     "metadata": {},
     "output_type": "execute_result"
    },
    {
     "data": {
      "image/png": "[encoded data removed]",
      "text/plain": [
       "<Figure size 640x480 with 1 Axes>"
      ]
     },
     "metadata": {},
     "output_type": "display_data"
    }
   ],
   "source": [
    "sns.countplot(x = 'MARRIAGE', data = credit, palette = 'rocket', hue = 'default payment next month')"
   ]
  },
  {
   "cell_type": "code",
   "execution_count": 24,
   "id": "90679a70",
   "metadata": {},
   "outputs": [
    {
     "data": {
      "text/plain": [
       "<AxesSubplot: xlabel='LIMIT_BAL'>"
      ]
     },
     "execution_count": 24,
     "metadata": {},
     "output_type": "execute_result"
    },
    {
     "data": {
      "image/png": "[encoded data removed]",
      "text/plain": [
       "<Figure size 640x480 with 1 Axes>"
      ]
     },
     "metadata": {},
     "output_type": "display_data"
    }
   ],
   "source": [
    "sns.boxplot(x = 'LIMIT_BAL', data = credit)"
   ]
  },
  {
   "cell_type": "code",
   "execution_count": 25,
   "id": "4335263b",
   "metadata": {},
   "outputs": [
    {
     "data": {
      "text/plain": [
       "<AxesSubplot: xlabel='PAY_AMT6'>"
      ]
     },
     "execution_count": 25,
     "metadata": {},
     "output_type": "execute_result"
    },
    {
     "data": {
      "image/png": "[encoded data removed]",
      "text/plain": [
       "<Figure size 640x480 with 1 Axes>"
      ]
     },
     "metadata": {},
     "output_type": "display_data"
    }
   ],
   "source": [
    "sns.boxplot(x = 'PAY_AMT6', data = credit)"
   ]
  },
  {
   "cell_type": "markdown",
   "id": "b5a2defb",
   "metadata": {},
   "source": [
    "Elimination of the outliers in the figure above"
   ]
  },
  {
   "cell_type": "code",
   "execution_count": 6,
   "id": "c2dc9a2a",
   "metadata": {},
   "outputs": [],
   "source": [
    "credit = credit[(credit['LIMIT_BAL'] <= 550000) & (credit['PAY_AMT6'] <= 50000)]"
   ]
  },
  {
   "cell_type": "code",
   "execution_count": 27,
   "id": "a1e97890",
   "metadata": {},
   "outputs": [
    {
     "name": "stdout",
     "output_type": "stream",
     "text": [
      "<class 'pandas.core.frame.DataFrame'>\n",
      "Int64Index: 29327 entries, 0 to 29999\n",
      "Data columns (total 24 columns):\n",
      " #   Column                      Non-Null Count  Dtype\n",
      "---  ------                      --------------  -----\n",
      " 0   LIMIT_BAL                   29327 non-null  int64\n",
      " 1   SEX                         29327 non-null  int64\n",
      " 2   EDUCATION                   29327 non-null  int64\n",
      " 3   MARRIAGE                    29327 non-null  int64\n",
      " 4   AGE                         29327 non-null  int64\n",
      " 5   PAY_0                       29327 non-null  int64\n",
      " 6   PAY_2                       29327 non-null  int64\n",
      " 7   PAY_3                       29327 non-null  int64\n",
      " 8   PAY_4                       29327 non-null  int64\n",
      " 9   PAY_5                       29327 non-null  int64\n",
      " 10  PAY_6                       29327 non-null  int64\n",
      " 11  BILL_AMT1                   29327 non-null  int64\n",
      " 12  BILL_AMT2                   29327 non-null  int64\n",
      " 13  BILL_AMT3                   29327 non-null  int64\n",
      " 14  BILL_AMT4                   29327 non-null  int64\n",
      " 15  BILL_AMT5                   29327 non-null  int64\n",
      " 16  BILL_AMT6                   29327 non-null  int64\n",
      " 17  PAY_AMT1                    29327 non-null  int64\n",
      " 18  PAY_AMT2                    29327 non-null  int64\n",
      " 19  PAY_AMT3                    29327 non-null  int64\n",
      " 20  PAY_AMT4                    29327 non-null  int64\n",
      " 21  PAY_AMT5                    29327 non-null  int64\n",
      " 22  PAY_AMT6                    29327 non-null  int64\n",
      " 23  default payment next month  29327 non-null  int64\n",
      "dtypes: int64(24)\n",
      "memory usage: 5.6 MB\n"
     ]
    }
   ],
   "source": [
    "credit.info()"
   ]
  },
  {
   "cell_type": "code",
   "execution_count": 7,
   "id": "cb0a02b5",
   "metadata": {},
   "outputs": [
    {
     "data": {
      "text/plain": [
       "<AxesSubplot: xlabel='LIMIT_BAL'>"
      ]
     },
     "execution_count": 7,
     "metadata": {},
     "output_type": "execute_result"
    },
    {
     "data": {
      "image/png": "[encoded data removed]",
      "text/plain": [
       "<Figure size 640x480 with 1 Axes>"
      ]
     },
     "metadata": {},
     "output_type": "display_data"
    }
   ],
   "source": [
    "sns.boxplot(x = 'LIMIT_BAL', data = credit)"
   ]
  },
  {
   "cell_type": "code",
   "execution_count": 29,
   "id": "67081230",
   "metadata": {},
   "outputs": [
    {
     "data": {
      "text/plain": [
       "<AxesSubplot: xlabel='PAY_AMT6'>"
      ]
     },
     "execution_count": 29,
     "metadata": {},
     "output_type": "execute_result"
    },
    {
     "data": {
      "image/png": "[encoded data removed]",
      "text/plain": [
       "<Figure size 640x480 with 1 Axes>"
      ]
     },
     "metadata": {},
     "output_type": "display_data"
    }
   ],
   "source": [
    "sns.boxplot(x = 'PAY_AMT6', data = credit)"
   ]
  },
  {
   "cell_type": "code",
   "execution_count": 8,
   "id": "83205447",
   "metadata": {},
   "outputs": [
    {
     "data": {
      "text/html": [
       "<style>#sk-container-id-1 {color: black;background-color: white;}#sk-container-id-1 pre{padding: 0;}#sk-container-id-1 div.sk-toggleable {background-color: white;}#sk-container-id-1 label.sk-toggleable__label {cursor: pointer;display: block;width: 100%;margin-bottom: 0;padding: 0.3em;box-sizing: border-box;text-align: center;}#sk-container-id-1 label.sk-toggleable__label-arrow:before {content: \"▸\";float: left;margin-right: 0.25em;color: #696969;}#sk-container-id-1 label.sk-toggleable__label-arrow:hover:before {color: black;}#sk-container-id-1 div.sk-estimator:hover label.sk-toggleable__label-arrow:before {color: black;}#sk-container-id-1 div.sk-toggleable__content {max-height: 0;max-width: 0;overflow: hidden;text-align: left;background-color: #f0f8ff;}#sk-container-id-1 div.sk-toggleable__content pre {margin: 0.2em;color: black;border-radius: 0.25em;background-color: #f0f8ff;}#sk-container-id-1 input.sk-toggleable__control:checked~div.sk-toggleable__content {max-height: 200px;max-width: 100%;overflow: auto;}#sk-container-id-1 input.sk-toggleable__control:checked~label.sk-toggleable__label-arrow:before {content: \"▾\";}#sk-container-id-1 div.sk-estimator input.sk-toggleable__control:checked~label.sk-toggleable__label {background-color: #d4ebff;}#sk-container-id-1 div.sk-label input.sk-toggleable__control:checked~label.sk-toggleable__label {background-color: #d4ebff;}#sk-container-id-1 input.sk-hidden--visually {border: 0;clip: rect(1px 1px 1px 1px);clip: rect(1px, 1px, 1px, 1px);height: 1px;margin: -1px;overflow: hidden;padding: 0;position: absolute;width: 1px;}#sk-container-id-1 div.sk-estimator {font-family: monospace;background-color: #f0f8ff;border: 1px dotted black;border-radius: 0.25em;box-sizing: border-box;margin-bottom: 0.5em;}#sk-container-id-1 div.sk-estimator:hover {background-color: #d4ebff;}#sk-container-id-1 div.sk-parallel-item::after {content: \"\";width: 100%;border-bottom: 1px solid gray;flex-grow: 1;}#sk-container-id-1 div.sk-label:hover label.sk-toggleable__label {background-color: #d4ebff;}#sk-container-id-1 div.sk-serial::before {content: \"\";position: absolute;border-left: 1px solid gray;box-sizing: border-box;top: 0;bottom: 0;left: 50%;z-index: 0;}#sk-container-id-1 div.sk-serial {display: flex;flex-direction: column;align-items: center;background-color: white;padding-right: 0.2em;padding-left: 0.2em;position: relative;}#sk-container-id-1 div.sk-item {position: relative;z-index: 1;}#sk-container-id-1 div.sk-parallel {display: flex;align-items: stretch;justify-content: center;background-color: white;position: relative;}#sk-container-id-1 div.sk-item::before, #sk-container-id-1 div.sk-parallel-item::before {content: \"\";position: absolute;border-left: 1px solid gray;box-sizing: border-box;top: 0;bottom: 0;left: 50%;z-index: -1;}#sk-container-id-1 div.sk-parallel-item {display: flex;flex-direction: column;z-index: 1;position: relative;background-color: white;}#sk-container-id-1 div.sk-parallel-item:first-child::after {align-self: flex-end;width: 50%;}#sk-container-id-1 div.sk-parallel-item:last-child::after {align-self: flex-start;width: 50%;}#sk-container-id-1 div.sk-parallel-item:only-child::after {width: 0;}#sk-container-id-1 div.sk-dashed-wrapped {border: 1px dashed gray;margin: 0 0.4em 0.5em 0.4em;box-sizing: border-box;padding-bottom: 0.4em;background-color: white;}#sk-container-id-1 div.sk-label label {font-family: monospace;font-weight: bold;display: inline-block;line-height: 1.2em;}#sk-container-id-1 div.sk-label-container {text-align: center;}#sk-container-id-1 div.sk-container {/* jupyter's `normalize.less` sets `[hidden] { display: none; }` but bootstrap.min.css set `[hidden] { display: none !important; }` so we also need the `!important` here to be able to override the default hidden behavior on the sphinx rendered scikit-learn.org. See: https://github.com/scikit-learn/scikit-learn/issues/21755 */display: inline-block !important;position: relative;}#sk-container-id-1 div.sk-text-repr-fallback {display: none;}</style><div id=\"sk-container-id-1\" class=\"sk-top-container\"><div class=\"sk-text-repr-fallback\"><pre>StandardScaler()</pre><b>In a Jupyter environment, please rerun this cell to show the HTML representation or trust the notebook. <br />On GitHub, the HTML representation is unable to render, please try loading this page with nbviewer.org.</b></div><div class=\"sk-container\" hidden><div class=\"sk-item\"><div class=\"sk-estimator sk-toggleable\"><input class=\"sk-toggleable__control sk-hidden--visually\" id=\"sk-estimator-id-1\" type=\"checkbox\" checked><label for=\"sk-estimator-id-1\" class=\"sk-toggleable__label sk-toggleable__label-arrow\">StandardScaler</label><div class=\"sk-toggleable__content\"><pre>StandardScaler()</pre></div></div></div></div></div>"
      ],
      "text/plain": [
       "StandardScaler()"
      ]
     },
     "execution_count": 8,
     "metadata": {},
     "output_type": "execute_result"
    }
   ],
   "source": [
    "scaler = StandardScaler()\n",
    "scaler.fit(credit.drop('default payment next month', axis = 1))"
   ]
  },
  {
   "cell_type": "code",
   "execution_count": 13,
   "id": "6f038fcb",
   "metadata": {},
   "outputs": [],
   "source": [
    "scaled_data = scaler.transform(credit.drop('default payment next month', axis = 1))"
   ]
  },
  {
   "cell_type": "code",
   "execution_count": 14,
   "id": "0c12a144",
   "metadata": {},
   "outputs": [
    {
     "data": {
      "text/html": [
       "<div>\n",
       "<style scoped>\n",
       "    .dataframe tbody tr th:only-of-type {\n",
       "        vertical-align: middle;\n",
       "    }\n",
       "\n",
       "    .dataframe tbody tr th {\n",
       "        vertical-align: top;\n",
       "    }\n",
       "\n",
       "    .dataframe thead th {\n",
       "        text-align: right;\n",
       "    }\n",
       "</style>\n",
       "<table border=\"1\" class=\"dataframe\">\n",
       "  <thead>\n",
       "    <tr style=\"text-align: right;\">\n",
       "      <th></th>\n",
       "      <th>ID</th>\n",
       "      <th>LIMIT_BAL</th>\n",
       "      <th>SEX</th>\n",
       "      <th>EDUCATION</th>\n",
       "      <th>MARRIAGE</th>\n",
       "      <th>AGE</th>\n",
       "      <th>PAY_0</th>\n",
       "      <th>PAY_2</th>\n",
       "      <th>PAY_3</th>\n",
       "      <th>PAY_4</th>\n",
       "      <th>...</th>\n",
       "      <th>BILL_AMT3</th>\n",
       "      <th>BILL_AMT4</th>\n",
       "      <th>BILL_AMT5</th>\n",
       "      <th>BILL_AMT6</th>\n",
       "      <th>PAY_AMT1</th>\n",
       "      <th>PAY_AMT2</th>\n",
       "      <th>PAY_AMT3</th>\n",
       "      <th>PAY_AMT4</th>\n",
       "      <th>PAY_AMT5</th>\n",
       "      <th>PAY_AMT6</th>\n",
       "    </tr>\n",
       "  </thead>\n",
       "  <tbody>\n",
       "    <tr>\n",
       "      <th>0</th>\n",
       "      <td>-1.732984</td>\n",
       "      <td>-1.146378</td>\n",
       "      <td>0.808940</td>\n",
       "      <td>0.182305</td>\n",
       "      <td>-1.056795</td>\n",
       "      <td>-1.241270</td>\n",
       "      <td>1.788771</td>\n",
       "      <td>1.773656</td>\n",
       "      <td>-0.699807</td>\n",
       "      <td>-0.668688</td>\n",
       "      <td>...</td>\n",
       "      <td>-0.674054</td>\n",
       "      <td>-0.680242</td>\n",
       "      <td>-0.671047</td>\n",
       "      <td>-0.663140</td>\n",
       "      <td>-0.364489</td>\n",
       "      <td>-0.231546</td>\n",
       "      <td>-0.325252</td>\n",
       "      <td>-0.318125</td>\n",
       "      <td>-0.315033</td>\n",
       "      <td>-0.570231</td>\n",
       "    </tr>\n",
       "    <tr>\n",
       "      <th>1</th>\n",
       "      <td>-1.732868</td>\n",
       "      <td>-0.346094</td>\n",
       "      <td>0.808940</td>\n",
       "      <td>0.182305</td>\n",
       "      <td>0.857668</td>\n",
       "      <td>-1.024592</td>\n",
       "      <td>-0.881562</td>\n",
       "      <td>1.773656</td>\n",
       "      <td>0.133299</td>\n",
       "      <td>0.183409</td>\n",
       "      <td>...</td>\n",
       "      <td>-0.644340</td>\n",
       "      <td>-0.627583</td>\n",
       "      <td>-0.612305</td>\n",
       "      <td>-0.606703</td>\n",
       "      <td>-0.364489</td>\n",
       "      <td>-0.216751</td>\n",
       "      <td>-0.258688</td>\n",
       "      <td>-0.248441</td>\n",
       "      <td>-0.315033</td>\n",
       "      <td>-0.223923</td>\n",
       "    </tr>\n",
       "    <tr>\n",
       "      <th>2</th>\n",
       "      <td>-1.732753</td>\n",
       "      <td>-0.586179</td>\n",
       "      <td>0.808940</td>\n",
       "      <td>0.182305</td>\n",
       "      <td>0.857668</td>\n",
       "      <td>-0.157878</td>\n",
       "      <td>0.008549</td>\n",
       "      <td>0.106570</td>\n",
       "      <td>0.133299</td>\n",
       "      <td>0.183409</td>\n",
       "      <td>...</td>\n",
       "      <td>-0.482174</td>\n",
       "      <td>-0.449602</td>\n",
       "      <td>-0.416901</td>\n",
       "      <td>-0.394039</td>\n",
       "      <td>-0.260592</td>\n",
       "      <td>-0.192965</td>\n",
       "      <td>-0.258688</td>\n",
       "      <td>-0.248441</td>\n",
       "      <td>-0.245368</td>\n",
       "      <td>0.295538</td>\n",
       "    </tr>\n",
       "    <tr>\n",
       "      <th>3</th>\n",
       "      <td>-1.732637</td>\n",
       "      <td>-0.906293</td>\n",
       "      <td>0.808940</td>\n",
       "      <td>0.182305</td>\n",
       "      <td>-1.056795</td>\n",
       "      <td>0.167139</td>\n",
       "      <td>0.008549</td>\n",
       "      <td>0.106570</td>\n",
       "      <td>0.133299</td>\n",
       "      <td>0.183409</td>\n",
       "      <td>...</td>\n",
       "      <td>0.050559</td>\n",
       "      <td>-0.224564</td>\n",
       "      <td>-0.178685</td>\n",
       "      <td>-0.151781</td>\n",
       "      <td>-0.227602</td>\n",
       "      <td>-0.168276</td>\n",
       "      <td>-0.245375</td>\n",
       "      <td>-0.241473</td>\n",
       "      <td>-0.240561</td>\n",
       "      <td>-0.397077</td>\n",
       "    </tr>\n",
       "    <tr>\n",
       "      <th>4</th>\n",
       "      <td>-1.732522</td>\n",
       "      <td>-0.906293</td>\n",
       "      <td>-1.236186</td>\n",
       "      <td>0.182305</td>\n",
       "      <td>-1.056795</td>\n",
       "      <td>2.333923</td>\n",
       "      <td>-0.881562</td>\n",
       "      <td>0.106570</td>\n",
       "      <td>-0.699807</td>\n",
       "      <td>0.183409</td>\n",
       "      <td>...</td>\n",
       "      <td>-0.150058</td>\n",
       "      <td>-0.343239</td>\n",
       "      <td>-0.345526</td>\n",
       "      <td>-0.332047</td>\n",
       "      <td>-0.227602</td>\n",
       "      <td>1.480638</td>\n",
       "      <td>0.340382</td>\n",
       "      <td>0.309034</td>\n",
       "      <td>-0.267034</td>\n",
       "      <td>-0.452660</td>\n",
       "    </tr>\n",
       "  </tbody>\n",
       "</table>\n",
       "<p>5 rows × 24 columns</p>\n",
       "</div>"
      ],
      "text/plain": [
       "         ID  LIMIT_BAL       SEX  EDUCATION  MARRIAGE       AGE     PAY_0  \\\n",
       "0 -1.732984  -1.146378  0.808940   0.182305 -1.056795 -1.241270  1.788771   \n",
       "1 -1.732868  -0.346094  0.808940   0.182305  0.857668 -1.024592 -0.881562   \n",
       "2 -1.732753  -0.586179  0.808940   0.182305  0.857668 -0.157878  0.008549   \n",
       "3 -1.732637  -0.906293  0.808940   0.182305 -1.056795  0.167139  0.008549   \n",
       "4 -1.732522  -0.906293 -1.236186   0.182305 -1.056795  2.333923 -0.881562   \n",
       "\n",
       "      PAY_2     PAY_3     PAY_4  ...  BILL_AMT3  BILL_AMT4  BILL_AMT5  \\\n",
       "0  1.773656 -0.699807 -0.668688  ...  -0.674054  -0.680242  -0.671047   \n",
       "1  1.773656  0.133299  0.183409  ...  -0.644340  -0.627583  -0.612305   \n",
       "2  0.106570  0.133299  0.183409  ...  -0.482174  -0.449602  -0.416901   \n",
       "3  0.106570  0.133299  0.183409  ...   0.050559  -0.224564  -0.178685   \n",
       "4  0.106570 -0.699807  0.183409  ...  -0.150058  -0.343239  -0.345526   \n",
       "\n",
       "   BILL_AMT6  PAY_AMT1  PAY_AMT2  PAY_AMT3  PAY_AMT4  PAY_AMT5  PAY_AMT6  \n",
       "0  -0.663140 -0.364489 -0.231546 -0.325252 -0.318125 -0.315033 -0.570231  \n",
       "1  -0.606703 -0.364489 -0.216751 -0.258688 -0.248441 -0.315033 -0.223923  \n",
       "2  -0.394039 -0.260592 -0.192965 -0.258688 -0.248441 -0.245368  0.295538  \n",
       "3  -0.151781 -0.227602 -0.168276 -0.245375 -0.241473 -0.240561 -0.397077  \n",
       "4  -0.332047 -0.227602  1.480638  0.340382  0.309034 -0.267034 -0.452660  \n",
       "\n",
       "[5 rows x 24 columns]"
      ]
     },
     "execution_count": 14,
     "metadata": {},
     "output_type": "execute_result"
    }
   ],
   "source": [
    "credit_feat = pd.DataFrame(scaled_data, columns = credit.columns[:-1])\n",
    "credit_feat.head()"
   ]
  },
  {
   "cell_type": "code",
   "execution_count": null,
   "id": "2d7334d6",
   "metadata": {},
   "outputs": [],
   "source": [
    "import findspark\n",
    "findspark.init()\n",
    "import pyspark\n",
    "import random\n",
    "from pyspark.context import SparkContext\n",
    "\n",
    "conf = (pyspark.SparkConf().setAppName(\"simple\")\n",
    "        .set(\"spark.shuffle.service.enabled\", \"false\")\n",
    "        .set(\"spark.dynamicAllocation.enabled\", \"false\")\n",
    "        .set(\"spark.io.compression.codec\", \"snappy\")\n",
    "        .set(\"spark.cores.max\", \"1\")\n",
    "        .set(\"spark.rdd.compress\", \"true\")\n",
    "        .set(\"spark.executor.instances\",\"2\")\n",
    "        .set(\"spark.executor.memory\",\"512m\")\n",
    "        .set(\"spark.executor.cores\",\"1\"))\n",
    "\n",
    "sc = pyspark.SparkContext(conf = conf)"
   ]
  },
  {
   "cell_type": "code",
   "execution_count": 15,
   "id": "839609ee",
   "metadata": {},
   "outputs": [
    {
     "name": "stderr",
     "output_type": "stream",
     "text": [
      "/usr/local/spark-3.3.1-bin-hadoop3/python/pyspark/sql/pandas/conversion.py:474: FutureWarning: iteritems is deprecated and will be removed in a future version. Use .items instead.\n",
      "  for column, series in pdf.iteritems():\n",
      "/usr/local/spark-3.3.1-bin-hadoop3/python/pyspark/sql/pandas/conversion.py:486: FutureWarning: iteritems is deprecated and will be removed in a future version. Use .items instead.\n",
      "  for column, series in pdf.iteritems():\n"
     ]
    },
    {
     "name": "stdout",
     "output_type": "stream",
     "text": [
      "root\n",
      " |-- ID: double (nullable = true)\n",
      " |-- LIMIT_BAL: double (nullable = true)\n",
      " |-- SEX: double (nullable = true)\n",
      " |-- EDUCATION: double (nullable = true)\n",
      " |-- MARRIAGE: double (nullable = true)\n",
      " |-- AGE: double (nullable = true)\n",
      " |-- PAY_0: double (nullable = true)\n",
      " |-- PAY_2: double (nullable = true)\n",
      " |-- PAY_3: double (nullable = true)\n",
      " |-- PAY_4: double (nullable = true)\n",
      " |-- PAY_5: double (nullable = true)\n",
      " |-- PAY_6: double (nullable = true)\n",
      " |-- BILL_AMT1: double (nullable = true)\n",
      " |-- BILL_AMT2: double (nullable = true)\n",
      " |-- BILL_AMT3: double (nullable = true)\n",
      " |-- BILL_AMT4: double (nullable = true)\n",
      " |-- BILL_AMT5: double (nullable = true)\n",
      " |-- BILL_AMT6: double (nullable = true)\n",
      " |-- PAY_AMT1: double (nullable = true)\n",
      " |-- PAY_AMT2: double (nullable = true)\n",
      " |-- PAY_AMT3: double (nullable = true)\n",
      " |-- PAY_AMT4: double (nullable = true)\n",
      " |-- PAY_AMT5: double (nullable = true)\n",
      " |-- PAY_AMT6: double (nullable = true)\n",
      "\n",
      "23/02/02 10:32:31 WARN TaskSetManager: Stage 0 contains a task of very large size (6285 KiB). The maximum recommended task size is 1000 KiB.\n"
     ]
    },
    {
     "name": "stderr",
     "output_type": "stream",
     "text": [
      "                                                                                \r"
     ]
    },
    {
     "name": "stdout",
     "output_type": "stream",
     "text": [
      "+-------------------+--------------------+-------------------+-------------------+-------------------+--------------------+--------------------+-------------------+-------------------+-------------------+-------------------+-------------------+--------------------+--------------------+--------------------+--------------------+--------------------+--------------------+--------------------+--------------------+--------------------+--------------------+--------------------+--------------------+\n",
      "|                 ID|           LIMIT_BAL|                SEX|          EDUCATION|           MARRIAGE|                 AGE|               PAY_0|              PAY_2|              PAY_3|              PAY_4|              PAY_5|              PAY_6|           BILL_AMT1|           BILL_AMT2|           BILL_AMT3|           BILL_AMT4|           BILL_AMT5|           BILL_AMT6|            PAY_AMT1|            PAY_AMT2|            PAY_AMT3|            PAY_AMT4|            PAY_AMT5|            PAY_AMT6|\n",
      "+-------------------+--------------------+-------------------+-------------------+-------------------+--------------------+--------------------+-------------------+-------------------+-------------------+-------------------+-------------------+--------------------+--------------------+--------------------+--------------------+--------------------+--------------------+--------------------+--------------------+--------------------+--------------------+--------------------+--------------------+\n",
      "|-1.7329840192217307| -1.1463783933818965| 0.8089397953602399|0.18230455490694703|-1.0567953432778137|  -1.241269903366952|  1.7887712294073579|  1.773655776037822|-0.6998071911905541|-0.6686881469908814|-1.5288626405341195|-1.4857810606249573|  -0.648950641703883|  -0.653002709192346| -0.6740539767030291|  -0.680241591326847| -0.6710474743798771| -0.6631396175339646|-0.36448929944616193|-0.23154566883394329|-0.32525158138651206|-0.31812549037283755|-0.31503272318454734| -0.5702310644638356|\n",
      "|-1.7328684881328855|-0.34609392007258694| 0.8089397953602399|0.18230455490694703| 0.8576681851848689| -1.0245915431456705|  -0.881562338595498|  1.773655776037822|0.13329931009622215| 0.1834089527377125|  0.229685753376752| 1.9812382115732463| -0.6663041287339898|  -0.673008175344867| -0.6443400881078671| -0.6275828934887896| -0.6123054351520093| -0.6067027565549955|-0.36448929944616193|-0.21675102039471256| -0.2586881770500439|-0.24844114401012393|-0.31503272318454734|-0.22392343604096387|\n",
      "|  -1.73275295704404| -0.5861792620653798| 0.8089397953602399|0.18230455490694703| 0.8576681851848689| -0.1578781022605439|0.008548850738787155|0.10657037330333852|0.13329931009622215| 0.1834089527377125|  0.229685753376752|0.24772857547414456| -0.2919283732030831| -0.4942810550773923|-0.48217352200170743|-0.44960228854041634| -0.4169010192776575|-0.39403911113654344|-0.26059211370936713|-0.19296541197151199| -0.2586881770500439|-0.24844114401012393| -0.2453678882820126|  0.2955380065933437|\n",
      "|-1.7326374259551949| -0.9062930513891035| 0.8089397953602399|0.18230455490694703|-1.0567953432778137| 0.16713943807137852|0.008548850738787155|0.10657037330333852|0.13329931009622215| 0.1834089527377125|  0.229685753376752|0.24772857547414456|-0.04169137217024341|0.002673901504402647| 0.05055937678520991|-0.22456360520619947|-0.17868547322218528|-0.15178115959296504| -0.2276023617165245|-0.16827595042822982|-0.24537549618275023|-0.24147270937385257| -0.2405610146737377|-0.39707725025239976|\n",
      "|-1.7325218948663494| -0.9062930513891035|-1.2361859383548768|0.18230455490694703|-1.0567953432778137|  2.3339230402841946|  -0.881562338595498|0.10657037330333852|-0.6998071911905541| 0.1834089527377125|  0.229685753376752|0.24772857547414456| -0.5826380478861556| -0.6156940402891697|-0.15005782589241126| -0.3432388001505258|-0.34552646625925254| -0.3320468277796998| -0.2276023617165245|  1.4806375679017252| 0.34038246197817007|   0.309033626891585| -0.2670336519367009| -0.4526596246142707|\n",
      "|-1.7324063637775042| -0.9062930513891035|-1.2361859383548768| -1.087341161691197| 0.8576681851848689| 0.16713943807137852|0.008548850738787155|0.10657037330333852|0.13329931009622215| 0.1834089527377125|  0.229685753376752|0.24772857547414456| 0.20373852969341155| 0.13104594139087694| 0.17455857971845717| -0.3681197130043268| -0.3374845025675647|-0.31659202346991155|-0.19338062728411515|-0.17798047866489566|-0.28151942473745245|-0.24844114401012393| -0.2453678882820126| -0.4317080130946869|\n",
      "|-1.7322908326886588|  2.6949870785027894|-1.2361859383548768| -1.087341161691197| 0.8576681851848689| -0.6995740028137479|0.008548850738787155|0.10657037330333852|0.13329931009622215| 0.1834089527377125|  0.229685753376752|0.24772857547414456|   4.483114070143751|    5.28792337980912|   5.950339175743112|   8.053071476495706|   7.540987597451631|   7.539225190750771|  3.3999014881188674|  1.6385264366149304|    2.20415778339928|  1.0922159956621231|  0.6428587567253056|  1.8140969572276364|\n",
      "|-1.7321753015998136| -0.5061508147344489| 0.8089397953602399|0.18230455490694703| 0.8576681851848689|  -1.349609083477593|0.008548850738787155|-0.7269723280639032|-0.6998071911905541| 0.1834089527377125|  0.229685753376752|-0.6190262425754064| -0.5366957130111613| -0.6925487359658843|  -0.675365979812098|   -0.67668487610001| -0.6737507983269773| -0.6533267686608963|-0.33848078127753084|-0.23573193591642658|-0.32525158138651206|-0.27763888513610097| -0.1975081467039712| -0.3032278829498015|\n",
      "|-1.7320597705109682|-0.18603702541072506| 0.8089397953602399|  1.451950271505091|-1.0567953432778137| -0.8079131829243887|0.008548850738787155|0.10657037330333852| 1.7995123126697747| 0.1834089527377125|  0.229685753376752|0.24772857547414456|  -0.545027078433414| -0.4932786025250873| -0.5038066641751043|-0.48372100474355867| -0.4705424472845817| -0.5987763283647569|-0.13664099159518045|-0.26432223724111364| -0.2964961907131578|-0.24844114401012393| -0.2453678882820126|-0.39707725025239976|\n",
      "| -1.731944239422123| -1.1463783933818965|-1.2361859383548768|  1.451950271505091| 0.8576681851848689|-0.04953892214990...| -1.7716735279297833| -1.560515029431145|-1.5329136924773303|-1.5207852467194753|-0.6495884435786836|-0.6190262425754064| -0.7041124570969032| -0.6980694891524913| -0.6843263646819887|  -0.680241591326847|  -0.449901973877163|-0.42237003460252703|-0.36448929944616193|-0.26432223724111364|-0.32525158138651206|  0.5882588027669784|-0.23686877842390333| -0.5702310644638356|\n",
      "|-1.7318287083332775|  0.2941336585748606| 0.8089397953602399|  1.451950271505091| 0.8576681851848689| -0.1578781022605439|0.008548850738787155|0.10657037330333852| 1.7995123126697747| 0.1834089527377125|  0.229685753376752|-0.6190262425754064| -0.5480156562160157| -0.5558810380016398|  -0.601804350946805| -0.6397980376388769| -0.6399677500069271|  -0.598568649023528|-0.20665866024388999|-0.26375138263895687|-0.32192341116968864| -0.2972201864640235|-0.05462557031887241| -0.5588029127258809|\n",
      "|-1.7317131772444323|  0.7743043425604463| 0.8089397953602399| -1.087341161691197| 0.8576681851848689|  1.6838879596203498|  -0.881562338595498|-0.7269723280639032|-0.6998071911905541|-0.6686881469908814|-0.6495884435786836| 1.9812382115732463| -0.5312683429814365|-0.38324127453729234| -0.5357420125799397| -0.5431712583541284| -0.2921230667759724| -0.4265928478741825|   1.128810304246453| 0.20977250985011975| 0.24606211803339462|  1.2359051178620386|-0.31503272318454734| 0.06004881926579095|\n",
      "|-1.7314821150667417| -0.7462361567272416|-1.2361859383548768|0.18230455490694703| 0.8576681851848689| -0.5912348227031071|  0.8986600400730723|  1.773655776037822| 1.7995123126697747| 0.1834089527377125|  0.229685753376752| 1.9812382115732463| 0.22350261484061684| 0.28068740934364805|  0.2952181383740746| 0.39453015654025353|-0.05664484874240656|-0.02462948292553...|-0.14547019907874206|-0.26432223724111364|-0.12556136837710744|-0.10907245128469671| -0.2105354708307452| -0.5702310644638356|\n",
      "|-1.7313665839778962|  0.6942758952295154|-1.2361859383548768| -1.087341161691197| 0.8576681851848689| -0.6995740028137479|0.008548850738787155|0.10657037330333852|0.13329931009622215| 0.1834089527377125|  0.229685753376752|0.24772857547414456|  0.2951861904280198|  0.2761981653050649|  0.2633126082217181|   0.280489957004656| 0.29594340292402577|  0.2975850149911908| -0.1591588928517058|-0.12160858670191034|-0.12556136837710744|-0.10907245128469671|-0.10603821847694306|-0.05076962182952801|\n",
      "| -1.731251052889051| -0.9062930513891035| 0.8089397953602399|  1.451950271505091|  2.772131713647551|  -1.349609083477593|  0.8986600400730723|  1.773655776037822|0.13329931009622215| 0.1834089527377125|  0.229685753376752|0.24772857547414456|0.009396391434230204|-0.27423545569752134|  -0.265141371334486|-0.21720876874165418|-0.16896030782758603| -0.1402895693782961|-0.36448929944616193|-0.19296541197151199|-0.25203183661639705| -0.2345042747375812|-0.22446843781125217| -0.3797618688312562|\n",
      "|-1.7311355218002056| -1.1463783933818965|-1.2361859383548768| -1.087341161691197| 0.8576681851848689|  -1.241269903366952|0.008548850738787155|0.10657037330333852| 1.7995123126697747| 1.8876031521949004| 1.9882341472876233| 1.9812382115732463| -0.4873559854682094| -0.4364148447030343| -0.4244901125813956|-0.38511469616966565|-0.36662599467655616| -0.3325141062974649|-0.14547019907874206|-0.26432223724111364|-0.22540647488180976|-0.31812549037283755|  -0.200085745595365| -0.5702310644638356|\n",
      "|-1.7310199907113604|   1.254475026546032|-1.2361859383548768| -1.087341161691197|-1.0567953432778137|  1.4672095993990681|0.008548850738787155|0.10657037330333852|0.13329931009622215|-0.6686881469908814|-0.6495884435786836|-0.6190262425754064|  2.8664767516014145|   2.883678951935312|   2.217928876462019| 0.44751072905947276| -0.5714835433470569|  2.7220163378862665|  0.3444481510556303| 0.21138993122289737|   4.729573343924884|  1.0755614368814346|   13.31133931891635|   8.087459646107959|\n",
      "| -1.730904459622515|  1.5745888158697559| 0.8089397953602399| -1.087341161691197|-1.0567953432778137|  1.4672095993990681|  0.8986600400730723| -1.560515029431145|-1.5329136924773303|-1.5207852467194753|-1.5288626405341195|-1.4857810606249573| -0.7041124570969032| -0.6980694891524913| -0.6843263646819887|  -0.680241591326847| -0.6710474743798771| -0.6631396175339646|-0.36448929944616193|-0.26432223724111364|-0.32525158138651206|-0.31812549037283755|-0.31503272318454734| -0.5702310644638356|\n",
      "|-1.7307889285336697| 0.13407676391299872| 0.8089397953602399| -1.087341161691197| 0.8576681851848689| -0.6995740028137479|  0.8986600400730723| -1.560515029431145|-1.5329136924773303|-1.5207852467194753|-1.5288626405341195|-1.4857810606249573| -0.7041124570969032| -0.6980694891524913| -0.6843263646819887|  -0.680241591326847| -0.6710474743798771| -0.6631396175339646|-0.36448929944616193|-0.26432223724111364|-0.32525158138651206|-0.31812549037283755|-0.31503272318454734| -0.5702310644638356|\n",
      "|-1.7306733974448243|  -0.266065472741656| 0.8089397953602399|  1.451950271505091| 0.8576681851848689| 0.38381779829266016|0.008548850738787155|0.10657037330333852|0.13329931009622215| 0.1834089527377125|  0.229685753376752|-0.6190262425754064|-0.16337723735617504|-0.29580997801886744| -0.3192167722048585|-0.34845316998534565| -0.4703894289479534| -0.6470444685887204| -0.1591588928517058|-0.19120527694819517| -0.2586881770500439|-0.17875679764741031|-0.25024442672519004|   5.276134318571085|\n",
      "+-------------------+--------------------+-------------------+-------------------+-------------------+--------------------+--------------------+-------------------+-------------------+-------------------+-------------------+-------------------+--------------------+--------------------+--------------------+--------------------+--------------------+--------------------+--------------------+--------------------+--------------------+--------------------+--------------------+--------------------+\n",
      "only showing top 20 rows\n",
      "\n"
     ]
    },
    {
     "name": "stdout",
     "output_type": "stream",
     "text": [
      "23/02/02 10:48:42 WARN NettyRpcEnv: Ignored failure: java.util.concurrent.TimeoutException: Cannot receive any reply from master:37193 in 10000 milliseconds\n"
     ]
    }
   ],
   "source": [
    "from pyspark.sql import SparkSession\n",
    "\n",
    "spark = SparkSession.builder.master(\"local[1]\").appName(\"SparkByExamples.com\").getOrCreate()\n",
    "#sparkDF=spark.createDataFrame(credit_feat) \n",
    "#sparkDF.printSchema()\n",
    "sparkDF.show()"
   ]
  },
  {
   "cell_type": "code",
   "execution_count": null,
   "id": "9932afe1",
   "metadata": {},
   "outputs": [],
   "source": [
    "from pyspark.ml.classification import DecisionTreeClassifier\n",
    "train, test = sparkDF.randomSplit([0.7, 0.3])\n",
    "tree = DecisionTreeClassifier()\n",
    "print(tree.explainParams())\n",
    "train.printSchema()"
   ]
  },
  {
   "cell_type": "code",
   "execution_count": 33,
   "id": "921d99c5",
   "metadata": {},
   "outputs": [],
   "source": [
    "X_train, X_test, y_train, y_test = train_test_split(scaled_data, \n",
    "                                                    credit['default payment next month'], \n",
    "                                                    test_size = 0.30, \n",
    "                                                    random_state=42)"
   ]
  },
  {
   "cell_type": "code",
   "execution_count": 47,
   "id": "8b4612af",
   "metadata": {},
   "outputs": [
    {
     "name": "stdout",
     "output_type": "stream",
     "text": [
      "Help on class LogisticRegression in module pyspark.ml.classification:\n",
      "\n",
      "class LogisticRegression(_JavaProbabilisticClassifier, _LogisticRegressionParams, pyspark.ml.util.JavaMLWritable, pyspark.ml.util.JavaMLReadable)\n",
      " |  LogisticRegression(*, featuresCol: str = 'features', labelCol: str = 'label', predictionCol: str = 'prediction', maxIter: int = 100, regParam: float = 0.0, elasticNetParam: float = 0.0, tol: float = 1e-06, fitIntercept: bool = True, threshold: float = 0.5, thresholds: Optional[List[float]] = None, probabilityCol: str = 'probability', rawPredictionCol: str = 'rawPrediction', standardization: bool = True, weightCol: Optional[str] = None, aggregationDepth: int = 2, family: str = 'auto', lowerBoundsOnCoefficients: Optional[pyspark.ml.linalg.Matrix] = None, upperBoundsOnCoefficients: Optional[pyspark.ml.linalg.Matrix] = None, lowerBoundsOnIntercepts: Optional[pyspark.ml.linalg.Vector] = None, upperBoundsOnIntercepts: Optional[pyspark.ml.linalg.Vector] = None, maxBlockSizeInMB: float = 0.0)\n",
      " |  \n",
      " |  Logistic regression.\n",
      " |  This class supports multinomial logistic (softmax) and binomial logistic regression.\n",
      " |  \n",
      " |  .. versionadded:: 1.3.0\n",
      " |  \n",
      " |  Examples\n",
      " |  --------\n",
      " |  >>> from pyspark.sql import Row\n",
      " |  >>> from pyspark.ml.linalg import Vectors\n",
      " |  >>> bdf = sc.parallelize([\n",
      " |  ...     Row(label=1.0, weight=1.0, features=Vectors.dense(0.0, 5.0)),\n",
      " |  ...     Row(label=0.0, weight=2.0, features=Vectors.dense(1.0, 2.0)),\n",
      " |  ...     Row(label=1.0, weight=3.0, features=Vectors.dense(2.0, 1.0)),\n",
      " |  ...     Row(label=0.0, weight=4.0, features=Vectors.dense(3.0, 3.0))]).toDF()\n",
      " |  >>> blor = LogisticRegression(weightCol=\"weight\")\n",
      " |  >>> blor.getRegParam()\n",
      " |  0.0\n",
      " |  >>> blor.setRegParam(0.01)\n",
      " |  LogisticRegression...\n",
      " |  >>> blor.getRegParam()\n",
      " |  0.01\n",
      " |  >>> blor.setMaxIter(10)\n",
      " |  LogisticRegression...\n",
      " |  >>> blor.getMaxIter()\n",
      " |  10\n",
      " |  >>> blor.clear(blor.maxIter)\n",
      " |  >>> blorModel = blor.fit(bdf)\n",
      " |  >>> blorModel.setFeaturesCol(\"features\")\n",
      " |  LogisticRegressionModel...\n",
      " |  >>> blorModel.setProbabilityCol(\"newProbability\")\n",
      " |  LogisticRegressionModel...\n",
      " |  >>> blorModel.getProbabilityCol()\n",
      " |  'newProbability'\n",
      " |  >>> blorModel.getMaxBlockSizeInMB()\n",
      " |  0.0\n",
      " |  >>> blorModel.setThreshold(0.1)\n",
      " |  LogisticRegressionModel...\n",
      " |  >>> blorModel.getThreshold()\n",
      " |  0.1\n",
      " |  >>> blorModel.coefficients\n",
      " |  DenseVector([-1.080..., -0.646...])\n",
      " |  >>> blorModel.intercept\n",
      " |  3.112...\n",
      " |  >>> blorModel.evaluate(bdf).accuracy == blorModel.summary.accuracy\n",
      " |  True\n",
      " |  >>> data_path = \"data/mllib/sample_multiclass_classification_data.txt\"\n",
      " |  >>> mdf = spark.read.format(\"libsvm\").load(data_path)\n",
      " |  >>> mlor = LogisticRegression(regParam=0.1, elasticNetParam=1.0, family=\"multinomial\")\n",
      " |  >>> mlorModel = mlor.fit(mdf)\n",
      " |  >>> mlorModel.coefficientMatrix\n",
      " |  SparseMatrix(3, 4, [0, 1, 2, 3], [3, 2, 1], [1.87..., -2.75..., -0.50...], 1)\n",
      " |  >>> mlorModel.interceptVector\n",
      " |  DenseVector([0.04..., -0.42..., 0.37...])\n",
      " |  >>> test0 = sc.parallelize([Row(features=Vectors.dense(-1.0, 1.0))]).toDF()\n",
      " |  >>> blorModel.predict(test0.head().features)\n",
      " |  1.0\n",
      " |  >>> blorModel.predictRaw(test0.head().features)\n",
      " |  DenseVector([-3.54..., 3.54...])\n",
      " |  >>> blorModel.predictProbability(test0.head().features)\n",
      " |  DenseVector([0.028, 0.972])\n",
      " |  >>> result = blorModel.transform(test0).head()\n",
      " |  >>> result.prediction\n",
      " |  1.0\n",
      " |  >>> result.newProbability\n",
      " |  DenseVector([0.02..., 0.97...])\n",
      " |  >>> result.rawPrediction\n",
      " |  DenseVector([-3.54..., 3.54...])\n",
      " |  >>> test1 = sc.parallelize([Row(features=Vectors.sparse(2, [0], [1.0]))]).toDF()\n",
      " |  >>> blorModel.transform(test1).head().prediction\n",
      " |  1.0\n",
      " |  >>> blor.setParams(\"vector\")\n",
      " |  Traceback (most recent call last):\n",
      " |      ...\n",
      " |  TypeError: Method setParams forces keyword arguments.\n",
      " |  >>> lr_path = temp_path + \"/lr\"\n",
      " |  >>> blor.save(lr_path)\n",
      " |  >>> lr2 = LogisticRegression.load(lr_path)\n",
      " |  >>> lr2.getRegParam()\n",
      " |  0.01\n",
      " |  >>> model_path = temp_path + \"/lr_model\"\n",
      " |  >>> blorModel.save(model_path)\n",
      " |  >>> model2 = LogisticRegressionModel.load(model_path)\n",
      " |  >>> blorModel.coefficients[0] == model2.coefficients[0]\n",
      " |  True\n",
      " |  >>> blorModel.intercept == model2.intercept\n",
      " |  True\n",
      " |  >>> model2\n",
      " |  LogisticRegressionModel: uid=..., numClasses=2, numFeatures=2\n",
      " |  >>> blorModel.transform(test0).take(1) == model2.transform(test0).take(1)\n",
      " |  True\n",
      " |  \n",
      " |  Method resolution order:\n",
      " |      LogisticRegression\n",
      " |      _JavaProbabilisticClassifier\n",
      " |      ProbabilisticClassifier\n",
      " |      _JavaClassifier\n",
      " |      Classifier\n",
      " |      pyspark.ml.wrapper.JavaPredictor\n",
      " |      pyspark.ml.base.Predictor\n",
      " |      pyspark.ml.wrapper.JavaEstimator\n",
      " |      pyspark.ml.wrapper.JavaParams\n",
      " |      pyspark.ml.wrapper.JavaWrapper\n",
      " |      pyspark.ml.base.Estimator\n",
      " |      _LogisticRegressionParams\n",
      " |      _ProbabilisticClassifierParams\n",
      " |      pyspark.ml.param.shared.HasProbabilityCol\n",
      " |      pyspark.ml.param.shared.HasThresholds\n",
      " |      _ClassifierParams\n",
      " |      pyspark.ml.param.shared.HasRawPredictionCol\n",
      " |      pyspark.ml.base._PredictorParams\n",
      " |      pyspark.ml.param.shared.HasLabelCol\n",
      " |      pyspark.ml.param.shared.HasFeaturesCol\n",
      " |      pyspark.ml.param.shared.HasPredictionCol\n",
      " |      pyspark.ml.param.shared.HasRegParam\n",
      " |      pyspark.ml.param.shared.HasElasticNetParam\n",
      " |      pyspark.ml.param.shared.HasMaxIter\n",
      " |      pyspark.ml.param.shared.HasFitIntercept\n",
      " |      pyspark.ml.param.shared.HasTol\n",
      " |      pyspark.ml.param.shared.HasStandardization\n",
      " |      pyspark.ml.param.shared.HasWeightCol\n",
      " |      pyspark.ml.param.shared.HasAggregationDepth\n",
      " |      pyspark.ml.param.shared.HasThreshold\n",
      " |      pyspark.ml.param.shared.HasMaxBlockSizeInMB\n",
      " |      pyspark.ml.param.Params\n",
      " |      pyspark.ml.util.Identifiable\n",
      " |      pyspark.ml.util.JavaMLWritable\n",
      " |      pyspark.ml.util.MLWritable\n",
      " |      pyspark.ml.util.JavaMLReadable\n",
      " |      pyspark.ml.util.MLReadable\n",
      " |      typing.Generic\n",
      " |      builtins.object\n",
      " |  \n",
      " |  Methods defined here:\n",
      " |  \n",
      " |  __init__(self, *, featuresCol: str = 'features', labelCol: str = 'label', predictionCol: str = 'prediction', maxIter: int = 100, regParam: float = 0.0, elasticNetParam: float = 0.0, tol: float = 1e-06, fitIntercept: bool = True, threshold: float = 0.5, thresholds: Optional[List[float]] = None, probabilityCol: str = 'probability', rawPredictionCol: str = 'rawPrediction', standardization: bool = True, weightCol: Optional[str] = None, aggregationDepth: int = 2, family: str = 'auto', lowerBoundsOnCoefficients: Optional[pyspark.ml.linalg.Matrix] = None, upperBoundsOnCoefficients: Optional[pyspark.ml.linalg.Matrix] = None, lowerBoundsOnIntercepts: Optional[pyspark.ml.linalg.Vector] = None, upperBoundsOnIntercepts: Optional[pyspark.ml.linalg.Vector] = None, maxBlockSizeInMB: float = 0.0)\n",
      " |      __init__(self, \\*, featuresCol=\"features\", labelCol=\"label\", predictionCol=\"prediction\",                  maxIter=100, regParam=0.0, elasticNetParam=0.0, tol=1e-6, fitIntercept=True,                  threshold=0.5, thresholds=None, probabilityCol=\"probability\",                  rawPredictionCol=\"rawPrediction\", standardization=True, weightCol=None,                  aggregationDepth=2, family=\"auto\",                  lowerBoundsOnCoefficients=None, upperBoundsOnCoefficients=None,                  lowerBoundsOnIntercepts=None, upperBoundsOnIntercepts=None,                  maxBlockSizeInMB=0.0):\n",
      " |      If the threshold and thresholds Params are both set, they must be equivalent.\n",
      " |  \n",
      " |  setAggregationDepth(self, value: int) -> 'LogisticRegression'\n",
      " |      Sets the value of :py:attr:`aggregationDepth`.\n",
      " |  \n",
      " |  setElasticNetParam(self, value: float) -> 'LogisticRegression'\n",
      " |      Sets the value of :py:attr:`elasticNetParam`.\n",
      " |  \n",
      " |  setFamily(self, value: str) -> 'LogisticRegression'\n",
      " |      Sets the value of :py:attr:`family`.\n",
      " |      \n",
      " |      .. versionadded:: 2.1.0\n",
      " |  \n",
      " |  setFitIntercept(self, value: bool) -> 'LogisticRegression'\n",
      " |      Sets the value of :py:attr:`fitIntercept`.\n",
      " |  \n",
      " |  setLowerBoundsOnCoefficients(self, value: pyspark.ml.linalg.Matrix) -> 'LogisticRegression'\n",
      " |      Sets the value of :py:attr:`lowerBoundsOnCoefficients`\n",
      " |      \n",
      " |      .. versionadded:: 2.3.0\n",
      " |  \n",
      " |  setLowerBoundsOnIntercepts(self, value: pyspark.ml.linalg.Vector) -> 'LogisticRegression'\n",
      " |      Sets the value of :py:attr:`lowerBoundsOnIntercepts`\n",
      " |      \n",
      " |      .. versionadded:: 2.3.0\n",
      " |  \n",
      " |  setMaxBlockSizeInMB(self, value: float) -> 'LogisticRegression'\n",
      " |      Sets the value of :py:attr:`maxBlockSizeInMB`.\n",
      " |      \n",
      " |      .. versionadded:: 3.1.0\n",
      " |  \n",
      " |  setMaxIter(self, value: int) -> 'LogisticRegression'\n",
      " |      Sets the value of :py:attr:`maxIter`.\n",
      " |  \n",
      " |  setParams(self, *, featuresCol: str = 'features', labelCol: str = 'label', predictionCol: str = 'prediction', maxIter: int = 100, regParam: float = 0.0, elasticNetParam: float = 0.0, tol: float = 1e-06, fitIntercept: bool = True, threshold: float = 0.5, thresholds: Optional[List[float]] = None, probabilityCol: str = 'probability', rawPredictionCol: str = 'rawPrediction', standardization: bool = True, weightCol: Optional[str] = None, aggregationDepth: int = 2, family: str = 'auto', lowerBoundsOnCoefficients: Optional[pyspark.ml.linalg.Matrix] = None, upperBoundsOnCoefficients: Optional[pyspark.ml.linalg.Matrix] = None, lowerBoundsOnIntercepts: Optional[pyspark.ml.linalg.Vector] = None, upperBoundsOnIntercepts: Optional[pyspark.ml.linalg.Vector] = None, maxBlockSizeInMB: float = 0.0) -> 'LogisticRegression'\n",
      " |      setParams(self, \\*, featuresCol=\"features\", labelCol=\"label\", predictionCol=\"prediction\",                   maxIter=100, regParam=0.0, elasticNetParam=0.0, tol=1e-6, fitIntercept=True,                   threshold=0.5, thresholds=None, probabilityCol=\"probability\",                   rawPredictionCol=\"rawPrediction\", standardization=True, weightCol=None,                   aggregationDepth=2, family=\"auto\",                   lowerBoundsOnCoefficients=None, upperBoundsOnCoefficients=None,                   lowerBoundsOnIntercepts=None, upperBoundsOnIntercepts=None,                   maxBlockSizeInMB=0.0):\n",
      " |      Sets params for logistic regression.\n",
      " |      If the threshold and thresholds Params are both set, they must be equivalent.\n",
      " |      \n",
      " |      .. versionadded:: 1.3.0\n",
      " |  \n",
      " |  setRegParam(self, value: float) -> 'LogisticRegression'\n",
      " |      Sets the value of :py:attr:`regParam`.\n",
      " |  \n",
      " |  setStandardization(self, value: bool) -> 'LogisticRegression'\n",
      " |      Sets the value of :py:attr:`standardization`.\n",
      " |  \n",
      " |  setTol(self, value: float) -> 'LogisticRegression'\n",
      " |      Sets the value of :py:attr:`tol`.\n",
      " |  \n",
      " |  setUpperBoundsOnCoefficients(self, value: pyspark.ml.linalg.Matrix) -> 'LogisticRegression'\n",
      " |      Sets the value of :py:attr:`upperBoundsOnCoefficients`\n",
      " |      \n",
      " |      .. versionadded:: 2.3.0\n",
      " |  \n",
      " |  setUpperBoundsOnIntercepts(self, value: pyspark.ml.linalg.Vector) -> 'LogisticRegression'\n",
      " |      Sets the value of :py:attr:`upperBoundsOnIntercepts`\n",
      " |      \n",
      " |      .. versionadded:: 2.3.0\n",
      " |  \n",
      " |  setWeightCol(self, value: str) -> 'LogisticRegression'\n",
      " |      Sets the value of :py:attr:`weightCol`.\n",
      " |  \n",
      " |  ----------------------------------------------------------------------\n",
      " |  Data and other attributes defined here:\n",
      " |  \n",
      " |  __abstractmethods__ = frozenset()\n",
      " |  \n",
      " |  __annotations__ = {'_input_kwargs': typing.Dict[str, typing.Any]}\n",
      " |  \n",
      " |  __orig_bases__ = (pyspark.ml.classification._JavaProbabilisticClassifi...\n",
      " |  \n",
      " |  __parameters__ = ()\n",
      " |  \n",
      " |  ----------------------------------------------------------------------\n",
      " |  Methods inherited from ProbabilisticClassifier:\n",
      " |  \n",
      " |  setProbabilityCol(self: 'P', value: str) -> 'P'\n",
      " |      Sets the value of :py:attr:`probabilityCol`.\n",
      " |      \n",
      " |      .. versionadded:: 3.0.0\n",
      " |  \n",
      " |  setThresholds(self: 'P', value: List[float]) -> 'P'\n",
      " |      Sets the value of :py:attr:`thresholds`.\n",
      " |      \n",
      " |      .. versionadded:: 3.0.0\n",
      " |  \n",
      " |  ----------------------------------------------------------------------\n",
      " |  Methods inherited from _JavaClassifier:\n",
      " |  \n",
      " |  setRawPredictionCol(self: 'P', value: str) -> 'P'\n",
      " |      Sets the value of :py:attr:`rawPredictionCol`.\n",
      " |      \n",
      " |      .. versionadded:: 3.0.0\n",
      " |  \n",
      " |  ----------------------------------------------------------------------\n",
      " |  Methods inherited from pyspark.ml.base.Predictor:\n",
      " |  \n",
      " |  setFeaturesCol(self: ~P, value: str) -> ~P\n",
      " |      Sets the value of :py:attr:`featuresCol`.\n",
      " |      \n",
      " |      .. versionadded:: 3.0.0\n",
      " |  \n",
      " |  setLabelCol(self: ~P, value: str) -> ~P\n",
      " |      Sets the value of :py:attr:`labelCol`.\n",
      " |      \n",
      " |      .. versionadded:: 3.0.0\n",
      " |  \n",
      " |  setPredictionCol(self: ~P, value: str) -> ~P\n",
      " |      Sets the value of :py:attr:`predictionCol`.\n",
      " |      \n",
      " |      .. versionadded:: 3.0.0\n",
      " |  \n",
      " |  ----------------------------------------------------------------------\n",
      " |  Methods inherited from pyspark.ml.wrapper.JavaParams:\n",
      " |  \n",
      " |  clear(self, param: pyspark.ml.param.Param) -> None\n",
      " |      Clears a param from the param map if it has been explicitly set.\n",
      " |  \n",
      " |  copy(self: 'JP', extra: Optional[ForwardRef('ParamMap')] = None) -> 'JP'\n",
      " |      Creates a copy of this instance with the same uid and some\n",
      " |      extra params. This implementation first calls Params.copy and\n",
      " |      then make a copy of the companion Java pipeline component with\n",
      " |      extra params. So both the Python wrapper and the Java pipeline\n",
      " |      component get copied.\n",
      " |      \n",
      " |      Parameters\n",
      " |      ----------\n",
      " |      extra : dict, optional\n",
      " |          Extra parameters to copy to the new instance\n",
      " |      \n",
      " |      Returns\n",
      " |      -------\n",
      " |      :py:class:`JavaParams`\n",
      " |          Copy of this instance\n",
      " |  \n",
      " |  ----------------------------------------------------------------------\n",
      " |  Methods inherited from pyspark.ml.wrapper.JavaWrapper:\n",
      " |  \n",
      " |  __del__(self) -> None\n",
      " |  \n",
      " |  ----------------------------------------------------------------------\n",
      " |  Data descriptors inherited from pyspark.ml.wrapper.JavaWrapper:\n",
      " |  \n",
      " |  __dict__\n",
      " |      dictionary for instance variables (if defined)\n",
      " |  \n",
      " |  __weakref__\n",
      " |      list of weak references to the object (if defined)\n",
      " |  \n",
      " |  ----------------------------------------------------------------------\n",
      " |  Methods inherited from pyspark.ml.base.Estimator:\n",
      " |  \n",
      " |  fit(self, dataset: pyspark.sql.dataframe.DataFrame, params: Union[ForwardRef('ParamMap'), List[ForwardRef('ParamMap')], Tuple[ForwardRef('ParamMap')], NoneType] = None) -> Union[~M, List[~M]]\n",
      " |      Fits a model to the input dataset with optional parameters.\n",
      " |      \n",
      " |      .. versionadded:: 1.3.0\n",
      " |      \n",
      " |      Parameters\n",
      " |      ----------\n",
      " |      dataset : :py:class:`pyspark.sql.DataFrame`\n",
      " |          input dataset.\n",
      " |      params : dict or list or tuple, optional\n",
      " |          an optional param map that overrides embedded params. If a list/tuple of\n",
      " |          param maps is given, this calls fit on each param map and returns a list of\n",
      " |          models.\n",
      " |      \n",
      " |      Returns\n",
      " |      -------\n",
      " |      :py:class:`Transformer` or a list of :py:class:`Transformer`\n",
      " |          fitted model(s)\n",
      " |  \n",
      " |  fitMultiple(self, dataset: pyspark.sql.dataframe.DataFrame, paramMaps: Sequence[ForwardRef('ParamMap')]) -> Iterator[Tuple[int, ~M]]\n",
      " |      Fits a model to the input dataset for each param map in `paramMaps`.\n",
      " |      \n",
      " |      .. versionadded:: 2.3.0\n",
      " |      \n",
      " |      Parameters\n",
      " |      ----------\n",
      " |      dataset : :py:class:`pyspark.sql.DataFrame`\n",
      " |          input dataset.\n",
      " |      paramMaps : :py:class:`collections.abc.Sequence`\n",
      " |          A Sequence of param maps.\n",
      " |      \n",
      " |      Returns\n",
      " |      -------\n",
      " |      :py:class:`_FitMultipleIterator`\n",
      " |          A thread safe iterable which contains one model for each param map. Each\n",
      " |          call to `next(modelIterator)` will return `(index, model)` where model was fit\n",
      " |          using `paramMaps[index]`. `index` values may not be sequential.\n",
      " |  \n",
      " |  ----------------------------------------------------------------------\n",
      " |  Methods inherited from _LogisticRegressionParams:\n",
      " |  \n",
      " |  getFamily(self) -> str\n",
      " |      Gets the value of :py:attr:`family` or its default value.\n",
      " |      \n",
      " |      .. versionadded:: 2.1.0\n",
      " |  \n",
      " |  getLowerBoundsOnCoefficients(self) -> pyspark.ml.linalg.Matrix\n",
      " |      Gets the value of :py:attr:`lowerBoundsOnCoefficients`\n",
      " |      \n",
      " |      .. versionadded:: 2.3.0\n",
      " |  \n",
      " |  getLowerBoundsOnIntercepts(self) -> pyspark.ml.linalg.Vector\n",
      " |      Gets the value of :py:attr:`lowerBoundsOnIntercepts`\n",
      " |      \n",
      " |      .. versionadded:: 2.3.0\n",
      " |  \n",
      " |  getThreshold(self) -> float\n",
      " |      Get threshold for binary classification.\n",
      " |      \n",
      " |      If :py:attr:`thresholds` is set with length 2 (i.e., binary classification),\n",
      " |      this returns the equivalent threshold:\n",
      " |      :math:`\\frac{1}{1 + \\frac{thresholds(0)}{thresholds(1)}}`.\n",
      " |      Otherwise, returns :py:attr:`threshold` if set or its default value if unset.\n",
      " |      \n",
      " |      .. versionadded:: 1.4.0\n",
      " |  \n",
      " |  getThresholds(self) -> List[float]\n",
      " |      If :py:attr:`thresholds` is set, return its value.\n",
      " |      Otherwise, if :py:attr:`threshold` is set, return the equivalent thresholds for binary\n",
      " |      classification: (1-threshold, threshold).\n",
      " |      If neither are set, throw an error.\n",
      " |      \n",
      " |      .. versionadded:: 1.5.0\n",
      " |  \n",
      " |  getUpperBoundsOnCoefficients(self) -> pyspark.ml.linalg.Matrix\n",
      " |      Gets the value of :py:attr:`upperBoundsOnCoefficients`\n",
      " |      \n",
      " |      .. versionadded:: 2.3.0\n",
      " |  \n",
      " |  getUpperBoundsOnIntercepts(self) -> pyspark.ml.linalg.Vector\n",
      " |      Gets the value of :py:attr:`upperBoundsOnIntercepts`\n",
      " |      \n",
      " |      .. versionadded:: 2.3.0\n",
      " |  \n",
      " |  setThreshold(self: 'P', value: float) -> 'P'\n",
      " |      Sets the value of :py:attr:`threshold`.\n",
      " |      Clears value of :py:attr:`thresholds` if it has been set.\n",
      " |      \n",
      " |      .. versionadded:: 1.4.0\n",
      " |  \n",
      " |  ----------------------------------------------------------------------\n",
      " |  Data and other attributes inherited from _LogisticRegressionParams:\n",
      " |  \n",
      " |  family = Param(parent='undefined', name='family', doc='Th... Supported...\n",
      " |  \n",
      " |  lowerBoundsOnCoefficients = Param(parent='undefined', name='lowerBound...\n",
      " |  \n",
      " |  lowerBoundsOnIntercepts = Param(parent='undefined', name='lowerBoundsO...\n",
      " |  \n",
      " |  threshold = Param(parent='undefined', name='threshold', doc=...s p, th...\n",
      " |  \n",
      " |  upperBoundsOnCoefficients = Param(parent='undefined', name='upperBound...\n",
      " |  \n",
      " |  upperBoundsOnIntercepts = Param(parent='undefined', name='upperBoundsO...\n",
      " |  \n",
      " |  ----------------------------------------------------------------------\n",
      " |  Methods inherited from pyspark.ml.param.shared.HasProbabilityCol:\n",
      " |  \n",
      " |  getProbabilityCol(self) -> str\n",
      " |      Gets the value of probabilityCol or its default value.\n",
      " |  \n",
      " |  ----------------------------------------------------------------------\n",
      " |  Data and other attributes inherited from pyspark.ml.param.shared.HasProbabilityCol:\n",
      " |  \n",
      " |  probabilityCol = Param(parent='undefined', name='probabilityCol',...at...\n",
      " |  \n",
      " |  ----------------------------------------------------------------------\n",
      " |  Data and other attributes inherited from pyspark.ml.param.shared.HasThresholds:\n",
      " |  \n",
      " |  thresholds = Param(parent='undefined', name='thresholds', doc...y of t...\n",
      " |  \n",
      " |  ----------------------------------------------------------------------\n",
      " |  Methods inherited from pyspark.ml.param.shared.HasRawPredictionCol:\n",
      " |  \n",
      " |  getRawPredictionCol(self) -> str\n",
      " |      Gets the value of rawPredictionCol or its default value.\n",
      " |  \n",
      " |  ----------------------------------------------------------------------\n",
      " |  Data and other attributes inherited from pyspark.ml.param.shared.HasRawPredictionCol:\n",
      " |  \n",
      " |  rawPredictionCol = Param(parent='undefined', name='rawPredictionCol......\n",
      " |  \n",
      " |  ----------------------------------------------------------------------\n",
      " |  Methods inherited from pyspark.ml.param.shared.HasLabelCol:\n",
      " |  \n",
      " |  getLabelCol(self) -> str\n",
      " |      Gets the value of labelCol or its default value.\n",
      " |  \n",
      " |  ----------------------------------------------------------------------\n",
      " |  Data and other attributes inherited from pyspark.ml.param.shared.HasLabelCol:\n",
      " |  \n",
      " |  labelCol = Param(parent='undefined', name='labelCol', doc='label colum...\n",
      " |  \n",
      " |  ----------------------------------------------------------------------\n",
      " |  Methods inherited from pyspark.ml.param.shared.HasFeaturesCol:\n",
      " |  \n",
      " |  getFeaturesCol(self) -> str\n",
      " |      Gets the value of featuresCol or its default value.\n",
      " |  \n",
      " |  ----------------------------------------------------------------------\n",
      " |  Data and other attributes inherited from pyspark.ml.param.shared.HasFeaturesCol:\n",
      " |  \n",
      " |  featuresCol = Param(parent='undefined', name='featuresCol', doc='featu...\n",
      " |  \n",
      " |  ----------------------------------------------------------------------\n",
      " |  Methods inherited from pyspark.ml.param.shared.HasPredictionCol:\n",
      " |  \n",
      " |  getPredictionCol(self) -> str\n",
      " |      Gets the value of predictionCol or its default value.\n",
      " |  \n",
      " |  ----------------------------------------------------------------------\n",
      " |  Data and other attributes inherited from pyspark.ml.param.shared.HasPredictionCol:\n",
      " |  \n",
      " |  predictionCol = Param(parent='undefined', name='predictionCol', doc='p...\n",
      " |  \n",
      " |  ----------------------------------------------------------------------\n",
      " |  Methods inherited from pyspark.ml.param.shared.HasRegParam:\n",
      " |  \n",
      " |  getRegParam(self) -> float\n",
      " |      Gets the value of regParam or its default value.\n",
      " |  \n",
      " |  ----------------------------------------------------------------------\n",
      " |  Data and other attributes inherited from pyspark.ml.param.shared.HasRegParam:\n",
      " |  \n",
      " |  regParam = Param(parent='undefined', name='regParam', doc='regularizat...\n",
      " |  \n",
      " |  ----------------------------------------------------------------------\n",
      " |  Methods inherited from pyspark.ml.param.shared.HasElasticNetParam:\n",
      " |  \n",
      " |  getElasticNetParam(self) -> float\n",
      " |      Gets the value of elasticNetParam or its default value.\n",
      " |  \n",
      " |  ----------------------------------------------------------------------\n",
      " |  Data and other attributes inherited from pyspark.ml.param.shared.HasElasticNetParam:\n",
      " |  \n",
      " |  elasticNetParam = Param(parent='undefined', name='elasticNetParam'...L...\n",
      " |  \n",
      " |  ----------------------------------------------------------------------\n",
      " |  Methods inherited from pyspark.ml.param.shared.HasMaxIter:\n",
      " |  \n",
      " |  getMaxIter(self) -> int\n",
      " |      Gets the value of maxIter or its default value.\n",
      " |  \n",
      " |  ----------------------------------------------------------------------\n",
      " |  Data and other attributes inherited from pyspark.ml.param.shared.HasMaxIter:\n",
      " |  \n",
      " |  maxIter = Param(parent='undefined', name='maxIter', doc='max number of...\n",
      " |  \n",
      " |  ----------------------------------------------------------------------\n",
      " |  Methods inherited from pyspark.ml.param.shared.HasFitIntercept:\n",
      " |  \n",
      " |  getFitIntercept(self) -> bool\n",
      " |      Gets the value of fitIntercept or its default value.\n",
      " |  \n",
      " |  ----------------------------------------------------------------------\n",
      " |  Data and other attributes inherited from pyspark.ml.param.shared.HasFitIntercept:\n",
      " |  \n",
      " |  fitIntercept = Param(parent='undefined', name='fitIntercept', doc='whe...\n",
      " |  \n",
      " |  ----------------------------------------------------------------------\n",
      " |  Methods inherited from pyspark.ml.param.shared.HasTol:\n",
      " |  \n",
      " |  getTol(self) -> float\n",
      " |      Gets the value of tol or its default value.\n",
      " |  \n",
      " |  ----------------------------------------------------------------------\n",
      " |  Data and other attributes inherited from pyspark.ml.param.shared.HasTol:\n",
      " |  \n",
      " |  tol = Param(parent='undefined', name='tol', doc='the c...ence toleranc...\n",
      " |  \n",
      " |  ----------------------------------------------------------------------\n",
      " |  Methods inherited from pyspark.ml.param.shared.HasStandardization:\n",
      " |  \n",
      " |  getStandardization(self) -> bool\n",
      " |      Gets the value of standardization or its default value.\n",
      " |  \n",
      " |  ----------------------------------------------------------------------\n",
      " |  Data and other attributes inherited from pyspark.ml.param.shared.HasStandardization:\n",
      " |  \n",
      " |  standardization = Param(parent='undefined', name='standardization'...t...\n",
      " |  \n",
      " |  ----------------------------------------------------------------------\n",
      " |  Methods inherited from pyspark.ml.param.shared.HasWeightCol:\n",
      " |  \n",
      " |  getWeightCol(self) -> str\n",
      " |      Gets the value of weightCol or its default value.\n",
      " |  \n",
      " |  ----------------------------------------------------------------------\n",
      " |  Data and other attributes inherited from pyspark.ml.param.shared.HasWeightCol:\n",
      " |  \n",
      " |  weightCol = Param(parent='undefined', name='weightCol', doc=...or empt...\n",
      " |  \n",
      " |  ----------------------------------------------------------------------\n",
      " |  Methods inherited from pyspark.ml.param.shared.HasAggregationDepth:\n",
      " |  \n",
      " |  getAggregationDepth(self) -> int\n",
      " |      Gets the value of aggregationDepth or its default value.\n",
      " |  \n",
      " |  ----------------------------------------------------------------------\n",
      " |  Data and other attributes inherited from pyspark.ml.param.shared.HasAggregationDepth:\n",
      " |  \n",
      " |  aggregationDepth = Param(parent='undefined', name='aggregationDepth', ...\n",
      " |  \n",
      " |  ----------------------------------------------------------------------\n",
      " |  Methods inherited from pyspark.ml.param.shared.HasMaxBlockSizeInMB:\n",
      " |  \n",
      " |  getMaxBlockSizeInMB(self) -> float\n",
      " |      Gets the value of maxBlockSizeInMB or its default value.\n",
      " |  \n",
      " |  ----------------------------------------------------------------------\n",
      " |  Data and other attributes inherited from pyspark.ml.param.shared.HasMaxBlockSizeInMB:\n",
      " |  \n",
      " |  maxBlockSizeInMB = Param(parent='undefined', name='maxBlockSizeInMB......\n",
      " |  \n",
      " |  ----------------------------------------------------------------------\n",
      " |  Methods inherited from pyspark.ml.param.Params:\n",
      " |  \n",
      " |  explainParam(self, param: Union[str, pyspark.ml.param.Param]) -> str\n",
      " |      Explains a single param and returns its name, doc, and optional\n",
      " |      default value and user-supplied value in a string.\n",
      " |  \n",
      " |  explainParams(self) -> str\n",
      " |      Returns the documentation of all params with their optionally\n",
      " |      default values and user-supplied values.\n",
      " |  \n",
      " |  extractParamMap(self, extra: Optional[ForwardRef('ParamMap')] = None) -> 'ParamMap'\n",
      " |      Extracts the embedded default param values and user-supplied\n",
      " |      values, and then merges them with extra values from input into\n",
      " |      a flat param map, where the latter value is used if there exist\n",
      " |      conflicts, i.e., with ordering: default param values <\n",
      " |      user-supplied values < extra.\n",
      " |      \n",
      " |      Parameters\n",
      " |      ----------\n",
      " |      extra : dict, optional\n",
      " |          extra param values\n",
      " |      \n",
      " |      Returns\n",
      " |      -------\n",
      " |      dict\n",
      " |          merged param map\n",
      " |  \n",
      " |  getOrDefault(self, param: Union[str, pyspark.ml.param.Param[~T]]) -> Union[Any, ~T]\n",
      " |      Gets the value of a param in the user-supplied param map or its\n",
      " |      default value. Raises an error if neither is set.\n",
      " |  \n",
      " |  getParam(self, paramName: str) -> pyspark.ml.param.Param\n",
      " |      Gets a param by its name.\n",
      " |  \n",
      " |  hasDefault(self, param: Union[str, pyspark.ml.param.Param[Any]]) -> bool\n",
      " |      Checks whether a param has a default value.\n",
      " |  \n",
      " |  hasParam(self, paramName: str) -> bool\n",
      " |      Tests whether this instance contains a param with a given\n",
      " |      (string) name.\n",
      " |  \n",
      " |  isDefined(self, param: Union[str, pyspark.ml.param.Param[Any]]) -> bool\n",
      " |      Checks whether a param is explicitly set by user or has\n",
      " |      a default value.\n",
      " |  \n",
      " |  isSet(self, param: Union[str, pyspark.ml.param.Param[Any]]) -> bool\n",
      " |      Checks whether a param is explicitly set by user.\n",
      " |  \n",
      " |  set(self, param: pyspark.ml.param.Param, value: Any) -> None\n",
      " |      Sets a parameter in the embedded param map.\n",
      " |  \n",
      " |  ----------------------------------------------------------------------\n",
      " |  Readonly properties inherited from pyspark.ml.param.Params:\n",
      " |  \n",
      " |  params\n",
      " |      Returns all params ordered by name. The default implementation\n",
      " |      uses :py:func:`dir` to get all attributes of type\n",
      " |      :py:class:`Param`.\n",
      " |  \n",
      " |  ----------------------------------------------------------------------\n",
      " |  Methods inherited from pyspark.ml.util.Identifiable:\n",
      " |  \n",
      " |  __repr__(self) -> str\n",
      " |      Return repr(self).\n",
      " |  \n",
      " |  ----------------------------------------------------------------------\n",
      " |  Methods inherited from pyspark.ml.util.JavaMLWritable:\n",
      " |  \n",
      " |  write(self) -> pyspark.ml.util.JavaMLWriter\n",
      " |      Returns an MLWriter instance for this ML instance.\n",
      " |  \n",
      " |  ----------------------------------------------------------------------\n",
      " |  Methods inherited from pyspark.ml.util.MLWritable:\n",
      " |  \n",
      " |  save(self, path: str) -> None\n",
      " |      Save this ML instance to the given path, a shortcut of 'write().save(path)'.\n",
      " |  \n",
      " |  ----------------------------------------------------------------------\n",
      " |  Class methods inherited from pyspark.ml.util.JavaMLReadable:\n",
      " |  \n",
      " |  read() -> pyspark.ml.util.JavaMLReader[~RL] from abc.ABCMeta\n",
      " |      Returns an MLReader instance for this class.\n",
      " |  \n",
      " |  ----------------------------------------------------------------------\n",
      " |  Class methods inherited from pyspark.ml.util.MLReadable:\n",
      " |  \n",
      " |  load(path: str) -> ~RL from abc.ABCMeta\n",
      " |      Reads an ML instance from the input path, a shortcut of `read().load(path)`.\n",
      " |  \n",
      " |  ----------------------------------------------------------------------\n",
      " |  Class methods inherited from typing.Generic:\n",
      " |  \n",
      " |  __class_getitem__(params) from abc.ABCMeta\n",
      " |  \n",
      " |  __init_subclass__(*args, **kwargs) from abc.ABCMeta\n",
      " |      This method is called when a class is subclassed.\n",
      " |      \n",
      " |      The default implementation does nothing. It may be\n",
      " |      overridden to extend subclasses.\n",
      "\n"
     ]
    }
   ],
   "source": [
    "from pyspark.ml.classification import LogisticRegression as SparkLogReg\n",
    "help(SparkLogReg)"
   ]
  },
  {
   "cell_type": "code",
   "execution_count": 49,
   "id": "b578d9fd",
   "metadata": {},
   "outputs": [
    {
     "ename": "AssertionError",
     "evalue": "",
     "output_type": "error",
     "traceback": [
      "\u001b[0;31m---------------------------------------------------------------------------\u001b[0m",
      "\u001b[0;31mAssertionError\u001b[0m                            Traceback (most recent call last)",
      "Cell \u001b[0;32mIn[49], line 1\u001b[0m\n\u001b[0;32m----> 1\u001b[0m logmodel \u001b[38;5;241m=\u001b[39m \u001b[43mSparkLogReg\u001b[49m\u001b[43m(\u001b[49m\u001b[43mpredictionCol\u001b[49m\u001b[43m \u001b[49m\u001b[38;5;241;43m=\u001b[39;49m\u001b[43m \u001b[49m\u001b[38;5;124;43m\"\u001b[39;49m\u001b[38;5;124;43mdefault payment next month\u001b[39;49m\u001b[38;5;124;43m\"\u001b[39;49m\u001b[43m)\u001b[49m\n\u001b[1;32m      2\u001b[0m logmodel\u001b[38;5;241m.\u001b[39mfit(X_train, y_train)\n",
      "File \u001b[0;32m/usr/local/spark-3.3.1-bin-hadoop3/python/pyspark/__init__.py:135\u001b[0m, in \u001b[0;36mkeyword_only.<locals>.wrapper\u001b[0;34m(self, *args, **kwargs)\u001b[0m\n\u001b[1;32m    133\u001b[0m     \u001b[38;5;28;01mraise\u001b[39;00m \u001b[38;5;167;01mTypeError\u001b[39;00m(\u001b[38;5;124m\"\u001b[39m\u001b[38;5;124mMethod \u001b[39m\u001b[38;5;132;01m%s\u001b[39;00m\u001b[38;5;124m forces keyword arguments.\u001b[39m\u001b[38;5;124m\"\u001b[39m \u001b[38;5;241m%\u001b[39m func\u001b[38;5;241m.\u001b[39m\u001b[38;5;18m__name__\u001b[39m)\n\u001b[1;32m    134\u001b[0m \u001b[38;5;28mself\u001b[39m\u001b[38;5;241m.\u001b[39m_input_kwargs \u001b[38;5;241m=\u001b[39m kwargs\n\u001b[0;32m--> 135\u001b[0m \u001b[38;5;28;01mreturn\u001b[39;00m \u001b[43mfunc\u001b[49m\u001b[43m(\u001b[49m\u001b[38;5;28;43mself\u001b[39;49m\u001b[43m,\u001b[49m\u001b[43m \u001b[49m\u001b[38;5;241;43m*\u001b[39;49m\u001b[38;5;241;43m*\u001b[39;49m\u001b[43mkwargs\u001b[49m\u001b[43m)\u001b[49m\n",
      "File \u001b[0;32m/usr/local/spark-3.3.1-bin-hadoop3/python/pyspark/ml/classification.py:1318\u001b[0m, in \u001b[0;36mLogisticRegression.__init__\u001b[0;34m(self, featuresCol, labelCol, predictionCol, maxIter, regParam, elasticNetParam, tol, fitIntercept, threshold, thresholds, probabilityCol, rawPredictionCol, standardization, weightCol, aggregationDepth, family, lowerBoundsOnCoefficients, upperBoundsOnCoefficients, lowerBoundsOnIntercepts, upperBoundsOnIntercepts, maxBlockSizeInMB)\u001b[0m\n\u001b[1;32m   1306\u001b[0m \u001b[38;5;250m\u001b[39m\u001b[38;5;124;03m\"\"\"\u001b[39;00m\n\u001b[1;32m   1307\u001b[0m \u001b[38;5;124;03m__init__(self, \\\\*, featuresCol=\"features\", labelCol=\"label\", predictionCol=\"prediction\", \\\u001b[39;00m\n\u001b[1;32m   1308\u001b[0m \u001b[38;5;124;03m         maxIter=100, regParam=0.0, elasticNetParam=0.0, tol=1e-6, fitIntercept=True, \\\u001b[39;00m\n\u001b[0;32m   (...)\u001b[0m\n\u001b[1;32m   1315\u001b[0m \u001b[38;5;124;03mIf the threshold and thresholds Params are both set, they must be equivalent.\u001b[39;00m\n\u001b[1;32m   1316\u001b[0m \u001b[38;5;124;03m\"\"\"\u001b[39;00m\n\u001b[1;32m   1317\u001b[0m \u001b[38;5;28msuper\u001b[39m(LogisticRegression, \u001b[38;5;28mself\u001b[39m)\u001b[38;5;241m.\u001b[39m\u001b[38;5;21m__init__\u001b[39m()\n\u001b[0;32m-> 1318\u001b[0m \u001b[38;5;28mself\u001b[39m\u001b[38;5;241m.\u001b[39m_java_obj \u001b[38;5;241m=\u001b[39m \u001b[38;5;28;43mself\u001b[39;49m\u001b[38;5;241;43m.\u001b[39;49m\u001b[43m_new_java_obj\u001b[49m\u001b[43m(\u001b[49m\n\u001b[1;32m   1319\u001b[0m \u001b[43m    \u001b[49m\u001b[38;5;124;43m\"\u001b[39;49m\u001b[38;5;124;43morg.apache.spark.ml.classification.LogisticRegression\u001b[39;49m\u001b[38;5;124;43m\"\u001b[39;49m\u001b[43m,\u001b[49m\u001b[43m \u001b[49m\u001b[38;5;28;43mself\u001b[39;49m\u001b[38;5;241;43m.\u001b[39;49m\u001b[43muid\u001b[49m\n\u001b[1;32m   1320\u001b[0m \u001b[43m\u001b[49m\u001b[43m)\u001b[49m\n\u001b[1;32m   1321\u001b[0m kwargs \u001b[38;5;241m=\u001b[39m \u001b[38;5;28mself\u001b[39m\u001b[38;5;241m.\u001b[39m_input_kwargs\n\u001b[1;32m   1322\u001b[0m \u001b[38;5;28mself\u001b[39m\u001b[38;5;241m.\u001b[39msetParams(\u001b[38;5;241m*\u001b[39m\u001b[38;5;241m*\u001b[39mkwargs)\n",
      "File \u001b[0;32m/usr/local/spark-3.3.1-bin-hadoop3/python/pyspark/ml/wrapper.py:80\u001b[0m, in \u001b[0;36mJavaWrapper._new_java_obj\u001b[0;34m(java_class, *args)\u001b[0m\n\u001b[1;32m     76\u001b[0m \u001b[38;5;250m\u001b[39m\u001b[38;5;124;03m\"\"\"\u001b[39;00m\n\u001b[1;32m     77\u001b[0m \u001b[38;5;124;03mReturns a new Java object.\u001b[39;00m\n\u001b[1;32m     78\u001b[0m \u001b[38;5;124;03m\"\"\"\u001b[39;00m\n\u001b[1;32m     79\u001b[0m sc \u001b[38;5;241m=\u001b[39m SparkContext\u001b[38;5;241m.\u001b[39m_active_spark_context\n\u001b[0;32m---> 80\u001b[0m \u001b[38;5;28;01massert\u001b[39;00m sc \u001b[38;5;129;01mis\u001b[39;00m \u001b[38;5;129;01mnot\u001b[39;00m \u001b[38;5;28;01mNone\u001b[39;00m\n\u001b[1;32m     82\u001b[0m java_obj \u001b[38;5;241m=\u001b[39m _jvm()\n\u001b[1;32m     83\u001b[0m \u001b[38;5;28;01mfor\u001b[39;00m name \u001b[38;5;129;01min\u001b[39;00m java_class\u001b[38;5;241m.\u001b[39msplit(\u001b[38;5;124m\"\u001b[39m\u001b[38;5;124m.\u001b[39m\u001b[38;5;124m\"\u001b[39m):\n",
      "\u001b[0;31mAssertionError\u001b[0m: "
     ]
    }
   ],
   "source": [
    "logmodel = SparkLogReg(predictionCol = \"default payment next month\")\n",
    "logmodel.fit(X_train, y_train)"
   ]
  },
  {
   "cell_type": "code",
   "execution_count": null,
   "id": "ce2a797a",
   "metadata": {},
   "outputs": [],
   "source": [
    "predictions = logmodel.predict(X_test)"
   ]
  },
  {
   "cell_type": "code",
   "execution_count": null,
   "id": "c774cc17",
   "metadata": {},
   "outputs": [],
   "source": [
    "print(confusion_matrix(y_test, predictions))"
   ]
  },
  {
   "cell_type": "code",
   "execution_count": null,
   "id": "4e32582c",
   "metadata": {},
   "outputs": [],
   "source": [
    "print(classification_report(y_test, predictions))"
   ]
  }
 ],
 "metadata": {
  "kernelspec": {
   "display_name": "Python 3 (ipykernel)",
   "language": "python",
   "name": "python3"
  },
  "language_info": {
   "codemirror_mode": {
    "name": "ipython",
    "version": 3
   },
   "file_extension": ".py",
   "mimetype": "text/x-python",
   "name": "python",
   "nbconvert_exporter": "python",
   "pygments_lexer": "ipython3",
   "version": "3.10.6"
  }
 },
 "nbformat": 4,
 "nbformat_minor": 5
}
