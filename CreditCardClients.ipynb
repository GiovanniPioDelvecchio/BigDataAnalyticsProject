{
  "cells": [
    {
      "cell_type": "markdown",
      "metadata": {
        "id": "view-in-github",
        "colab_type": "text"
      },
      "source": [
        "<a href=\"https://colab.research.google.com/github/GiovanniPioDelvecchio/BigDataAnalyticsProject/blob/main/CreditCardClients.ipynb\" target=\"_parent\"><img src=\"https://colab.research.google.com/assets/colab-badge.svg\" alt=\"Open In Colab\"/></a>"
      ]
    },
    {
      "cell_type": "markdown",
      "source": [
        "## Installation of the required libraries"
      ],
      "metadata": {
        "id": "ZY8MJre8jcA_"
      },
      "id": "ZY8MJre8jcA_"
    },
    {
      "cell_type": "code",
      "execution_count": 44,
      "id": "2774e4e0",
      "metadata": {
        "colab": {
          "base_uri": "https://localhost:8080/"
        },
        "id": "2774e4e0",
        "outputId": "3afa26b4-0b41-40af-e0d2-5291fbe4914f"
      },
      "outputs": [
        {
          "output_type": "stream",
          "name": "stdout",
          "text": [
            "Looking in indexes: https://pypi.org/simple, https://us-python.pkg.dev/colab-wheels/public/simple/\n",
            "Requirement already satisfied: findspark in /usr/local/lib/python3.8/dist-packages (2.0.1)\n",
            "Looking in indexes: https://pypi.org/simple, https://us-python.pkg.dev/colab-wheels/public/simple/\n",
            "Requirement already satisfied: xlrd in /usr/local/lib/python3.8/dist-packages (1.2.0)\n",
            "Looking in indexes: https://pypi.org/simple, https://us-python.pkg.dev/colab-wheels/public/simple/\n",
            "Requirement already satisfied: scikit-learn in /usr/local/lib/python3.8/dist-packages (1.0.2)\n",
            "Requirement already satisfied: joblib>=0.11 in /usr/local/lib/python3.8/dist-packages (from scikit-learn) (1.2.0)\n",
            "Requirement already satisfied: threadpoolctl>=2.0.0 in /usr/local/lib/python3.8/dist-packages (from scikit-learn) (3.1.0)\n",
            "Requirement already satisfied: numpy>=1.14.6 in /usr/local/lib/python3.8/dist-packages (from scikit-learn) (1.22.4)\n",
            "Requirement already satisfied: scipy>=1.1.0 in /usr/local/lib/python3.8/dist-packages (from scikit-learn) (1.7.3)\n",
            "Looking in indexes: https://pypi.org/simple, https://us-python.pkg.dev/colab-wheels/public/simple/\n",
            "Collecting scikit-plot\n",
            "  Downloading scikit_plot-0.3.7-py3-none-any.whl (33 kB)\n",
            "Requirement already satisfied: joblib>=0.10 in /usr/local/lib/python3.8/dist-packages (from scikit-plot) (1.2.0)\n",
            "Requirement already satisfied: matplotlib>=1.4.0 in /usr/local/lib/python3.8/dist-packages (from scikit-plot) (3.5.3)\n",
            "Requirement already satisfied: scikit-learn>=0.18 in /usr/local/lib/python3.8/dist-packages (from scikit-plot) (1.0.2)\n",
            "Requirement already satisfied: scipy>=0.9 in /usr/local/lib/python3.8/dist-packages (from scikit-plot) (1.7.3)\n",
            "Requirement already satisfied: kiwisolver>=1.0.1 in /usr/local/lib/python3.8/dist-packages (from matplotlib>=1.4.0->scikit-plot) (1.4.4)\n",
            "Requirement already satisfied: cycler>=0.10 in /usr/local/lib/python3.8/dist-packages (from matplotlib>=1.4.0->scikit-plot) (0.11.0)\n",
            "Requirement already satisfied: pillow>=6.2.0 in /usr/local/lib/python3.8/dist-packages (from matplotlib>=1.4.0->scikit-plot) (8.4.0)\n",
            "Requirement already satisfied: fonttools>=4.22.0 in /usr/local/lib/python3.8/dist-packages (from matplotlib>=1.4.0->scikit-plot) (4.38.0)\n",
            "Requirement already satisfied: packaging>=20.0 in /usr/local/lib/python3.8/dist-packages (from matplotlib>=1.4.0->scikit-plot) (23.0)\n",
            "Requirement already satisfied: python-dateutil>=2.7 in /usr/local/lib/python3.8/dist-packages (from matplotlib>=1.4.0->scikit-plot) (2.8.2)\n",
            "Requirement already satisfied: pyparsing>=2.2.1 in /usr/local/lib/python3.8/dist-packages (from matplotlib>=1.4.0->scikit-plot) (3.0.9)\n",
            "Requirement already satisfied: numpy>=1.17 in /usr/local/lib/python3.8/dist-packages (from matplotlib>=1.4.0->scikit-plot) (1.22.4)\n",
            "Requirement already satisfied: threadpoolctl>=2.0.0 in /usr/local/lib/python3.8/dist-packages (from scikit-learn>=0.18->scikit-plot) (3.1.0)\n",
            "Requirement already satisfied: six>=1.5 in /usr/local/lib/python3.8/dist-packages (from python-dateutil>=2.7->matplotlib>=1.4.0->scikit-plot) (1.15.0)\n",
            "Installing collected packages: scikit-plot\n",
            "Successfully installed scikit-plot-0.3.7\n",
            "Looking in indexes: https://pypi.org/simple, https://us-python.pkg.dev/colab-wheels/public/simple/\n",
            "Collecting kds\n",
            "  Downloading kds-0.1.3-py3-none-any.whl (7.4 kB)\n",
            "Requirement already satisfied: numpy>=1.12.0 in /usr/local/lib/python3.8/dist-packages (from kds) (1.22.4)\n",
            "Requirement already satisfied: pandas>=0.20.0 in /usr/local/lib/python3.8/dist-packages (from kds) (1.3.5)\n",
            "Requirement already satisfied: matplotlib>=1.4.0 in /usr/local/lib/python3.8/dist-packages (from kds) (3.5.3)\n",
            "Requirement already satisfied: kiwisolver>=1.0.1 in /usr/local/lib/python3.8/dist-packages (from matplotlib>=1.4.0->kds) (1.4.4)\n",
            "Requirement already satisfied: pillow>=6.2.0 in /usr/local/lib/python3.8/dist-packages (from matplotlib>=1.4.0->kds) (8.4.0)\n",
            "Requirement already satisfied: packaging>=20.0 in /usr/local/lib/python3.8/dist-packages (from matplotlib>=1.4.0->kds) (23.0)\n",
            "Requirement already satisfied: python-dateutil>=2.7 in /usr/local/lib/python3.8/dist-packages (from matplotlib>=1.4.0->kds) (2.8.2)\n",
            "Requirement already satisfied: cycler>=0.10 in /usr/local/lib/python3.8/dist-packages (from matplotlib>=1.4.0->kds) (0.11.0)\n",
            "Requirement already satisfied: pyparsing>=2.2.1 in /usr/local/lib/python3.8/dist-packages (from matplotlib>=1.4.0->kds) (3.0.9)\n",
            "Requirement already satisfied: fonttools>=4.22.0 in /usr/local/lib/python3.8/dist-packages (from matplotlib>=1.4.0->kds) (4.38.0)\n",
            "Requirement already satisfied: pytz>=2017.3 in /usr/local/lib/python3.8/dist-packages (from pandas>=0.20.0->kds) (2022.7.1)\n",
            "Requirement already satisfied: six>=1.5 in /usr/local/lib/python3.8/dist-packages (from python-dateutil>=2.7->matplotlib>=1.4.0->kds) (1.15.0)\n",
            "Installing collected packages: kds\n",
            "Successfully installed kds-0.1.3\n"
          ]
        }
      ],
      "source": [
        "!pip install findspark\n",
        "!pip install xlrd\n",
        "!pip install scikit-learn\n",
        "!pip install scikit-plot\n",
        "!pip install kds"
      ]
    },
    {
      "cell_type": "code",
      "execution_count": 45,
      "id": "oLjqwHwY9ZmZ",
      "metadata": {
        "colab": {
          "base_uri": "https://localhost:8080/"
        },
        "id": "oLjqwHwY9ZmZ",
        "outputId": "7167748c-f372-4b31-a63c-267e75402e0f"
      },
      "outputs": [
        {
          "output_type": "stream",
          "name": "stdout",
          "text": [
            "Looking in indexes: https://pypi.org/simple, https://us-python.pkg.dev/colab-wheels/public/simple/\n",
            "Requirement already satisfied: pyspark in /usr/local/lib/python3.8/dist-packages (3.3.2)\n",
            "Requirement already satisfied: py4j==0.10.9.5 in /usr/local/lib/python3.8/dist-packages (from pyspark) (0.10.9.5)\n"
          ]
        }
      ],
      "source": [
        "# needed in colab, remove this cell when executing on VMs\n",
        "!pip install pyspark"
      ]
    },
    {
      "cell_type": "code",
      "execution_count": 113,
      "id": "dcc09bc5",
      "metadata": {
        "id": "dcc09bc5"
      },
      "outputs": [],
      "source": [
        "import json\n",
        "\n",
        "import pandas as pd\n",
        "import numpy as np\n",
        "import scipy\n",
        "import seaborn as sns\n",
        "import matplotlib.pyplot as plt\n",
        "import scikitplot as skplt\n",
        "import kds\n",
        "from sklearn.metrics import classification_report\n",
        "from sklearn.preprocessing import StandardScaler as skStandardScaler\n",
        "%matplotlib inline\n",
        "\n",
        "import findspark\n",
        "#findspark.init()\n",
        "import pyspark\n",
        "from pyspark.sql import SparkSession\n",
        "from pyspark.sql.functions import col\n",
        "from pyspark.sql.types import StructType,\\\n",
        "                              StructField,\\\n",
        "                              IntegerType,\\\n",
        "                              DoubleType,\\\n",
        "                              StringType\n",
        "from pyspark.ml.feature import StandardScaler, VectorAssembler, MinMaxScaler\n",
        "from pyspark.ml.classification import MultilayerPerceptronClassifier, \\\n",
        "                                      LogisticRegression, \\\n",
        "                                      DecisionTreeClassifier, \\\n",
        "                                      NaiveBayes\n",
        "import pyspark.sql.functions as F\n",
        "from pyspark.sql.types import ArrayType, DoubleType, FloatType\n",
        "from pyspark.sql.functions import udf"
      ]
    },
    {
      "cell_type": "markdown",
      "source": [
        "## Loading block\n",
        "The following blocks are needed to load the dataset from the excel file,\n",
        "create the current spark session, build the pyspark dataframe containing\n",
        "the data and show its schema. Dataset analysis is also performed in order to observe the distributions of the data and find outliers"
      ],
      "metadata": {
        "id": "uH8oGifZkT4y"
      },
      "id": "uH8oGifZkT4y"
    },
    {
      "cell_type": "code",
      "execution_count": 15,
      "id": "440591a9",
      "metadata": {
        "colab": {
          "base_uri": "https://localhost:8080/"
        },
        "id": "440591a9",
        "outputId": "815edd15-feb9-4b82-f9a9-83db3fbef087"
      },
      "outputs": [
        {
          "output_type": "stream",
          "name": "stdout",
          "text": [
            "root\n",
            " |-- ID: integer (nullable = false)\n",
            " |-- LIMIT_BAL: integer (nullable = false)\n",
            " |-- SEX: integer (nullable = false)\n",
            " |-- EDUCATION: integer (nullable = false)\n",
            " |-- MARRIAGE: integer (nullable = false)\n",
            " |-- AGE: integer (nullable = false)\n",
            " |-- PAY_0: integer (nullable = false)\n",
            " |-- PAY_2: integer (nullable = false)\n",
            " |-- PAY_3: integer (nullable = false)\n",
            " |-- PAY_4: integer (nullable = false)\n",
            " |-- PAY_5: integer (nullable = false)\n",
            " |-- PAY_6: integer (nullable = false)\n",
            " |-- BILL_AMT1: integer (nullable = false)\n",
            " |-- BILL_AMT2: integer (nullable = false)\n",
            " |-- BILL_AMT3: integer (nullable = false)\n",
            " |-- BILL_AMT4: integer (nullable = false)\n",
            " |-- BILL_AMT5: integer (nullable = false)\n",
            " |-- BILL_AMT6: integer (nullable = false)\n",
            " |-- PAY_AMT1: integer (nullable = false)\n",
            " |-- PAY_AMT2: integer (nullable = false)\n",
            " |-- PAY_AMT3: integer (nullable = false)\n",
            " |-- PAY_AMT4: integer (nullable = false)\n",
            " |-- PAY_AMT5: integer (nullable = false)\n",
            " |-- PAY_AMT6: integer (nullable = false)\n",
            " |-- default payment next month: integer (nullable = false)\n",
            "\n"
          ]
        }
      ],
      "source": [
        "credit = pd.read_excel('./default of credit card clients.xls', header=1)\n",
        "\n",
        "\n",
        "spark = SparkSession.builder.master(\"local[1]\").appName(\"SparkByExamples.com\").getOrCreate()\n",
        "\n",
        "credit_schema = StructType([\\\n",
        "    StructField(\"ID\", IntegerType(), False),\n",
        "    StructField(\"LIMIT_BAL\", IntegerType(), False),\n",
        "    StructField(\"SEX\", IntegerType(), False),\n",
        "    StructField(\"EDUCATION\", IntegerType(), False),\n",
        "    StructField(\"MARRIAGE\", IntegerType(), False),\n",
        "    StructField(\"AGE\", IntegerType(), False),\n",
        "    StructField(\"PAY_0\", IntegerType(), False),\n",
        "    StructField(\"PAY_2\", IntegerType(), False),\n",
        "    StructField(\"PAY_3\", IntegerType(), False),\n",
        "    StructField(\"PAY_4\", IntegerType(), False),\n",
        "    StructField(\"PAY_5\", IntegerType(), False),\n",
        "    StructField(\"PAY_6\", IntegerType(), False),\n",
        "    StructField(\"BILL_AMT1\", IntegerType(), False),\n",
        "    StructField(\"BILL_AMT2\", IntegerType(), False),\n",
        "    StructField(\"BILL_AMT3\", IntegerType(), False),\n",
        "    StructField(\"BILL_AMT4\", IntegerType(), False),\n",
        "    StructField(\"BILL_AMT5\", IntegerType(), False),\n",
        "    StructField(\"BILL_AMT6\", IntegerType(), False),\n",
        "    StructField(\"PAY_AMT1\", IntegerType(), False),\n",
        "    StructField(\"PAY_AMT2\", IntegerType(), False),\n",
        "    StructField(\"PAY_AMT3\", IntegerType(), False),\n",
        "    StructField(\"PAY_AMT4\", IntegerType(), False),\n",
        "    StructField(\"PAY_AMT5\", IntegerType(), False),\n",
        "    StructField(\"PAY_AMT6\", IntegerType(), False),\n",
        "    StructField(\"default payment next month\", IntegerType(), False)])\n",
        "\n",
        "spark_credit= spark.createDataFrame(credit, schema = credit_schema)\n",
        "spark_credit.printSchema()"
      ]
    },
    {
      "cell_type": "code",
      "execution_count": 16,
      "id": "0c_cddypANq0",
      "metadata": {
        "colab": {
          "base_uri": "https://localhost:8080/"
        },
        "id": "0c_cddypANq0",
        "outputId": "cdc10bd2-36e8-440e-8ff5-ac0e2b2e198e"
      },
      "outputs": [
        {
          "output_type": "stream",
          "name": "stdout",
          "text": [
            "ID                            int64\n",
            "LIMIT_BAL                     int64\n",
            "SEX                           int64\n",
            "EDUCATION                     int64\n",
            "MARRIAGE                      int64\n",
            "AGE                           int64\n",
            "PAY_0                         int64\n",
            "PAY_2                         int64\n",
            "PAY_3                         int64\n",
            "PAY_4                         int64\n",
            "PAY_5                         int64\n",
            "PAY_6                         int64\n",
            "BILL_AMT1                     int64\n",
            "BILL_AMT2                     int64\n",
            "BILL_AMT3                     int64\n",
            "BILL_AMT4                     int64\n",
            "BILL_AMT5                     int64\n",
            "BILL_AMT6                     int64\n",
            "PAY_AMT1                      int64\n",
            "PAY_AMT2                      int64\n",
            "PAY_AMT3                      int64\n",
            "PAY_AMT4                      int64\n",
            "PAY_AMT5                      int64\n",
            "PAY_AMT6                      int64\n",
            "default payment next month    int64\n",
            "dtype: object\n"
          ]
        }
      ],
      "source": [
        "print(credit.dtypes)"
      ]
    },
    {
      "cell_type": "code",
      "execution_count": 17,
      "id": "01801467",
      "metadata": {
        "colab": {
          "base_uri": "https://localhost:8080/"
        },
        "id": "01801467",
        "outputId": "695da495-0cc8-4b63-c5c3-e0373dfa65ab"
      },
      "outputs": [
        {
          "output_type": "stream",
          "name": "stdout",
          "text": [
            "+---+---------+---+---------+--------+---+-----+-----+-----+-----+-----+-----+---------+---------+---------+---------+---------+---------+--------+--------+--------+--------+--------+--------+--------------------------+\n",
            "| ID|LIMIT_BAL|SEX|EDUCATION|MARRIAGE|AGE|PAY_0|PAY_2|PAY_3|PAY_4|PAY_5|PAY_6|BILL_AMT1|BILL_AMT2|BILL_AMT3|BILL_AMT4|BILL_AMT5|BILL_AMT6|PAY_AMT1|PAY_AMT2|PAY_AMT3|PAY_AMT4|PAY_AMT5|PAY_AMT6|default payment next month|\n",
            "+---+---------+---+---------+--------+---+-----+-----+-----+-----+-----+-----+---------+---------+---------+---------+---------+---------+--------+--------+--------+--------+--------+--------+--------------------------+\n",
            "|  1|    20000|  2|        2|       1| 24|    2|    2|   -1|   -1|   -2|   -2|     3913|     3102|      689|        0|        0|        0|       0|     689|       0|       0|       0|       0|                         1|\n",
            "|  2|   120000|  2|        2|       2| 26|   -1|    2|    0|    0|    0|    2|     2682|     1725|     2682|     3272|     3455|     3261|       0|    1000|    1000|    1000|       0|    2000|                         1|\n",
            "|  3|    90000|  2|        2|       2| 34|    0|    0|    0|    0|    0|    0|    29239|    14027|    13559|    14331|    14948|    15549|    1518|    1500|    1000|    1000|    1000|    5000|                         0|\n",
            "|  4|    50000|  2|        2|       1| 37|    0|    0|    0|    0|    0|    0|    46990|    48233|    49291|    28314|    28959|    29547|    2000|    2019|    1200|    1100|    1069|    1000|                         0|\n",
            "|  5|    50000|  1|        2|       1| 57|   -1|    0|   -1|    0|    0|    0|     8617|     5670|    35835|    20940|    19146|    19131|    2000|   36681|   10000|    9000|     689|     679|                         0|\n",
            "|  6|    50000|  1|        1|       2| 37|    0|    0|    0|    0|    0|    0|    64400|    57069|    57608|    19394|    19619|    20024|    2500|    1815|     657|    1000|    1000|     800|                         0|\n",
            "|  7|   500000|  1|        1|       2| 29|    0|    0|    0|    0|    0|    0|   367965|   412023|   445007|   542653|   483003|   473944|   55000|   40000|   38000|   20239|   13750|   13770|                         0|\n",
            "|  8|   100000|  2|        2|       2| 23|    0|   -1|   -1|    0|    0|   -1|    11876|      380|      601|      221|     -159|      567|     380|     601|       0|     581|    1687|    1542|                         0|\n",
            "|  9|   140000|  2|        3|       1| 28|    0|    0|    2|    0|    0|    0|    11285|    14096|    12108|    12211|    11793|     3719|    3329|       0|     432|    1000|    1000|    1000|                         0|\n",
            "| 10|    20000|  1|        3|       2| 35|   -2|   -2|   -2|   -2|   -1|   -1|        0|        0|        0|        0|    13007|    13912|       0|       0|       0|   13007|    1122|       0|                         0|\n",
            "| 11|   200000|  2|        3|       2| 34|    0|    0|    2|    0|    0|   -1|    11073|     9787|     5535|     2513|     1828|     3731|    2306|      12|      50|     300|    3738|      66|                         0|\n",
            "| 12|   260000|  2|        1|       2| 51|   -1|   -1|   -1|   -1|   -1|    2|    12261|    21670|     9966|     8517|    22287|    13668|   21818|    9966|    8583|   22301|       0|    3640|                         0|\n",
            "| 13|   630000|  2|        2|       2| 41|   -1|    0|   -1|   -1|   -1|   -1|    12137|     6500|     6500|     6500|     6500|     2870|    1000|    6500|    6500|    6500|    2870|       0|                         0|\n",
            "| 14|    70000|  1|        2|       2| 30|    1|    2|    2|    0|    0|    2|    65802|    67369|    65701|    66782|    36137|    36894|    3200|       0|    3000|    3000|    1500|       0|                         1|\n",
            "| 15|   250000|  1|        1|       2| 29|    0|    0|    0|    0|    0|    0|    70887|    67060|    63561|    59696|    56875|    55512|    3000|    3000|    3000|    3000|    3000|    3000|                         0|\n",
            "| 16|    50000|  2|        3|       3| 23|    1|    2|    0|    0|    0|    0|    50614|    29173|    28116|    28771|    29531|    30211|       0|    1500|    1100|    1200|    1300|    1100|                         0|\n",
            "| 17|    20000|  1|        1|       2| 24|    0|    0|    2|    2|    2|    2|    15376|    18010|    17428|    18338|    17905|    19104|    3200|       0|    1500|       0|    1650|       0|                         1|\n",
            "| 18|   320000|  1|        1|       1| 49|    0|    0|    0|   -1|   -1|   -1|   253286|   246536|   194663|    70074|     5856|   195599|   10358|   10000|   75940|   20000|  195599|   50000|                         0|\n",
            "| 19|   360000|  2|        1|       1| 49|    1|   -2|   -2|   -2|   -2|   -2|        0|        0|        0|        0|        0|        0|       0|       0|       0|       0|       0|       0|                         0|\n",
            "| 20|   180000|  2|        1|       2| 29|    1|   -2|   -2|   -2|   -2|   -2|        0|        0|        0|        0|        0|        0|       0|       0|       0|       0|       0|       0|                         0|\n",
            "+---+---------+---+---------+--------+---+-----+-----+-----+-----+-----+-----+---------+---------+---------+---------+---------+---------+--------+--------+--------+--------+--------+--------+--------------------------+\n",
            "only showing top 20 rows\n",
            "\n"
          ]
        }
      ],
      "source": [
        "credit.head()\n",
        "spark_credit.show()"
      ]
    },
    {
      "cell_type": "code",
      "execution_count": 18,
      "id": "636fb526",
      "metadata": {
        "colab": {
          "base_uri": "https://localhost:8080/"
        },
        "id": "636fb526",
        "outputId": "68b57432-17be-4307-f942-fd4b6fa73401"
      },
      "outputs": [
        {
          "output_type": "stream",
          "name": "stdout",
          "text": [
            "<class 'pandas.core.frame.DataFrame'>\n",
            "RangeIndex: 30000 entries, 0 to 29999\n",
            "Data columns (total 25 columns):\n",
            " #   Column                      Non-Null Count  Dtype\n",
            "---  ------                      --------------  -----\n",
            " 0   ID                          30000 non-null  int64\n",
            " 1   LIMIT_BAL                   30000 non-null  int64\n",
            " 2   SEX                         30000 non-null  int64\n",
            " 3   EDUCATION                   30000 non-null  int64\n",
            " 4   MARRIAGE                    30000 non-null  int64\n",
            " 5   AGE                         30000 non-null  int64\n",
            " 6   PAY_0                       30000 non-null  int64\n",
            " 7   PAY_2                       30000 non-null  int64\n",
            " 8   PAY_3                       30000 non-null  int64\n",
            " 9   PAY_4                       30000 non-null  int64\n",
            " 10  PAY_5                       30000 non-null  int64\n",
            " 11  PAY_6                       30000 non-null  int64\n",
            " 12  BILL_AMT1                   30000 non-null  int64\n",
            " 13  BILL_AMT2                   30000 non-null  int64\n",
            " 14  BILL_AMT3                   30000 non-null  int64\n",
            " 15  BILL_AMT4                   30000 non-null  int64\n",
            " 16  BILL_AMT5                   30000 non-null  int64\n",
            " 17  BILL_AMT6                   30000 non-null  int64\n",
            " 18  PAY_AMT1                    30000 non-null  int64\n",
            " 19  PAY_AMT2                    30000 non-null  int64\n",
            " 20  PAY_AMT3                    30000 non-null  int64\n",
            " 21  PAY_AMT4                    30000 non-null  int64\n",
            " 22  PAY_AMT5                    30000 non-null  int64\n",
            " 23  PAY_AMT6                    30000 non-null  int64\n",
            " 24  default payment next month  30000 non-null  int64\n",
            "dtypes: int64(25)\n",
            "memory usage: 5.7 MB\n"
          ]
        }
      ],
      "source": [
        "credit.info()"
      ]
    },
    {
      "cell_type": "code",
      "execution_count": 19,
      "id": "04a4c6d8",
      "metadata": {
        "colab": {
          "base_uri": "https://localhost:8080/",
          "height": 428
        },
        "id": "04a4c6d8",
        "outputId": "8dc94145-1320-45b7-c299-4c3d935c3f1d"
      },
      "outputs": [
        {
          "output_type": "execute_result",
          "data": {
            "text/plain": [
              "                 ID       LIMIT_BAL           SEX     EDUCATION      MARRIAGE  \\\n",
              "count  30000.000000    30000.000000  30000.000000  30000.000000  30000.000000   \n",
              "mean   15000.500000   167484.322667      1.603733      1.853133      1.551867   \n",
              "std     8660.398374   129747.661567      0.489129      0.790349      0.521970   \n",
              "min        1.000000    10000.000000      1.000000      0.000000      0.000000   \n",
              "25%     7500.750000    50000.000000      1.000000      1.000000      1.000000   \n",
              "50%    15000.500000   140000.000000      2.000000      2.000000      2.000000   \n",
              "75%    22500.250000   240000.000000      2.000000      2.000000      2.000000   \n",
              "max    30000.000000  1000000.000000      2.000000      6.000000      3.000000   \n",
              "\n",
              "                AGE         PAY_0         PAY_2         PAY_3         PAY_4  \\\n",
              "count  30000.000000  30000.000000  30000.000000  30000.000000  30000.000000   \n",
              "mean      35.485500     -0.016700     -0.133767     -0.166200     -0.220667   \n",
              "std        9.217904      1.123802      1.197186      1.196868      1.169139   \n",
              "min       21.000000     -2.000000     -2.000000     -2.000000     -2.000000   \n",
              "25%       28.000000     -1.000000     -1.000000     -1.000000     -1.000000   \n",
              "50%       34.000000      0.000000      0.000000      0.000000      0.000000   \n",
              "75%       41.000000      0.000000      0.000000      0.000000      0.000000   \n",
              "max       79.000000      8.000000      8.000000      8.000000      8.000000   \n",
              "\n",
              "       ...      BILL_AMT4      BILL_AMT5      BILL_AMT6       PAY_AMT1  \\\n",
              "count  ...   30000.000000   30000.000000   30000.000000   30000.000000   \n",
              "mean   ...   43262.948967   40311.400967   38871.760400    5663.580500   \n",
              "std    ...   64332.856134   60797.155770   59554.107537   16563.280354   \n",
              "min    ... -170000.000000  -81334.000000 -339603.000000       0.000000   \n",
              "25%    ...    2326.750000    1763.000000    1256.000000    1000.000000   \n",
              "50%    ...   19052.000000   18104.500000   17071.000000    2100.000000   \n",
              "75%    ...   54506.000000   50190.500000   49198.250000    5006.000000   \n",
              "max    ...  891586.000000  927171.000000  961664.000000  873552.000000   \n",
              "\n",
              "           PAY_AMT2      PAY_AMT3       PAY_AMT4       PAY_AMT5  \\\n",
              "count  3.000000e+04   30000.00000   30000.000000   30000.000000   \n",
              "mean   5.921163e+03    5225.68150    4826.076867    4799.387633   \n",
              "std    2.304087e+04   17606.96147   15666.159744   15278.305679   \n",
              "min    0.000000e+00       0.00000       0.000000       0.000000   \n",
              "25%    8.330000e+02     390.00000     296.000000     252.500000   \n",
              "50%    2.009000e+03    1800.00000    1500.000000    1500.000000   \n",
              "75%    5.000000e+03    4505.00000    4013.250000    4031.500000   \n",
              "max    1.684259e+06  896040.00000  621000.000000  426529.000000   \n",
              "\n",
              "            PAY_AMT6  default payment next month  \n",
              "count   30000.000000                30000.000000  \n",
              "mean     5215.502567                    0.221200  \n",
              "std     17777.465775                    0.415062  \n",
              "min         0.000000                    0.000000  \n",
              "25%       117.750000                    0.000000  \n",
              "50%      1500.000000                    0.000000  \n",
              "75%      4000.000000                    0.000000  \n",
              "max    528666.000000                    1.000000  \n",
              "\n",
              "[8 rows x 25 columns]"
            ],
            "text/html": [
              "\n",
              "  <div id=\"df-bbbb1c87-e829-4382-88fe-64adf2615717\">\n",
              "    <div class=\"colab-df-container\">\n",
              "      <div>\n",
              "<style scoped>\n",
              "    .dataframe tbody tr th:only-of-type {\n",
              "        vertical-align: middle;\n",
              "    }\n",
              "\n",
              "    .dataframe tbody tr th {\n",
              "        vertical-align: top;\n",
              "    }\n",
              "\n",
              "    .dataframe thead th {\n",
              "        text-align: right;\n",
              "    }\n",
              "</style>\n",
              "<table border=\"1\" class=\"dataframe\">\n",
              "  <thead>\n",
              "    <tr style=\"text-align: right;\">\n",
              "      <th></th>\n",
              "      <th>ID</th>\n",
              "      <th>LIMIT_BAL</th>\n",
              "      <th>SEX</th>\n",
              "      <th>EDUCATION</th>\n",
              "      <th>MARRIAGE</th>\n",
              "      <th>AGE</th>\n",
              "      <th>PAY_0</th>\n",
              "      <th>PAY_2</th>\n",
              "      <th>PAY_3</th>\n",
              "      <th>PAY_4</th>\n",
              "      <th>...</th>\n",
              "      <th>BILL_AMT4</th>\n",
              "      <th>BILL_AMT5</th>\n",
              "      <th>BILL_AMT6</th>\n",
              "      <th>PAY_AMT1</th>\n",
              "      <th>PAY_AMT2</th>\n",
              "      <th>PAY_AMT3</th>\n",
              "      <th>PAY_AMT4</th>\n",
              "      <th>PAY_AMT5</th>\n",
              "      <th>PAY_AMT6</th>\n",
              "      <th>default payment next month</th>\n",
              "    </tr>\n",
              "  </thead>\n",
              "  <tbody>\n",
              "    <tr>\n",
              "      <th>count</th>\n",
              "      <td>30000.000000</td>\n",
              "      <td>30000.000000</td>\n",
              "      <td>30000.000000</td>\n",
              "      <td>30000.000000</td>\n",
              "      <td>30000.000000</td>\n",
              "      <td>30000.000000</td>\n",
              "      <td>30000.000000</td>\n",
              "      <td>30000.000000</td>\n",
              "      <td>30000.000000</td>\n",
              "      <td>30000.000000</td>\n",
              "      <td>...</td>\n",
              "      <td>30000.000000</td>\n",
              "      <td>30000.000000</td>\n",
              "      <td>30000.000000</td>\n",
              "      <td>30000.000000</td>\n",
              "      <td>3.000000e+04</td>\n",
              "      <td>30000.00000</td>\n",
              "      <td>30000.000000</td>\n",
              "      <td>30000.000000</td>\n",
              "      <td>30000.000000</td>\n",
              "      <td>30000.000000</td>\n",
              "    </tr>\n",
              "    <tr>\n",
              "      <th>mean</th>\n",
              "      <td>15000.500000</td>\n",
              "      <td>167484.322667</td>\n",
              "      <td>1.603733</td>\n",
              "      <td>1.853133</td>\n",
              "      <td>1.551867</td>\n",
              "      <td>35.485500</td>\n",
              "      <td>-0.016700</td>\n",
              "      <td>-0.133767</td>\n",
              "      <td>-0.166200</td>\n",
              "      <td>-0.220667</td>\n",
              "      <td>...</td>\n",
              "      <td>43262.948967</td>\n",
              "      <td>40311.400967</td>\n",
              "      <td>38871.760400</td>\n",
              "      <td>5663.580500</td>\n",
              "      <td>5.921163e+03</td>\n",
              "      <td>5225.68150</td>\n",
              "      <td>4826.076867</td>\n",
              "      <td>4799.387633</td>\n",
              "      <td>5215.502567</td>\n",
              "      <td>0.221200</td>\n",
              "    </tr>\n",
              "    <tr>\n",
              "      <th>std</th>\n",
              "      <td>8660.398374</td>\n",
              "      <td>129747.661567</td>\n",
              "      <td>0.489129</td>\n",
              "      <td>0.790349</td>\n",
              "      <td>0.521970</td>\n",
              "      <td>9.217904</td>\n",
              "      <td>1.123802</td>\n",
              "      <td>1.197186</td>\n",
              "      <td>1.196868</td>\n",
              "      <td>1.169139</td>\n",
              "      <td>...</td>\n",
              "      <td>64332.856134</td>\n",
              "      <td>60797.155770</td>\n",
              "      <td>59554.107537</td>\n",
              "      <td>16563.280354</td>\n",
              "      <td>2.304087e+04</td>\n",
              "      <td>17606.96147</td>\n",
              "      <td>15666.159744</td>\n",
              "      <td>15278.305679</td>\n",
              "      <td>17777.465775</td>\n",
              "      <td>0.415062</td>\n",
              "    </tr>\n",
              "    <tr>\n",
              "      <th>min</th>\n",
              "      <td>1.000000</td>\n",
              "      <td>10000.000000</td>\n",
              "      <td>1.000000</td>\n",
              "      <td>0.000000</td>\n",
              "      <td>0.000000</td>\n",
              "      <td>21.000000</td>\n",
              "      <td>-2.000000</td>\n",
              "      <td>-2.000000</td>\n",
              "      <td>-2.000000</td>\n",
              "      <td>-2.000000</td>\n",
              "      <td>...</td>\n",
              "      <td>-170000.000000</td>\n",
              "      <td>-81334.000000</td>\n",
              "      <td>-339603.000000</td>\n",
              "      <td>0.000000</td>\n",
              "      <td>0.000000e+00</td>\n",
              "      <td>0.00000</td>\n",
              "      <td>0.000000</td>\n",
              "      <td>0.000000</td>\n",
              "      <td>0.000000</td>\n",
              "      <td>0.000000</td>\n",
              "    </tr>\n",
              "    <tr>\n",
              "      <th>25%</th>\n",
              "      <td>7500.750000</td>\n",
              "      <td>50000.000000</td>\n",
              "      <td>1.000000</td>\n",
              "      <td>1.000000</td>\n",
              "      <td>1.000000</td>\n",
              "      <td>28.000000</td>\n",
              "      <td>-1.000000</td>\n",
              "      <td>-1.000000</td>\n",
              "      <td>-1.000000</td>\n",
              "      <td>-1.000000</td>\n",
              "      <td>...</td>\n",
              "      <td>2326.750000</td>\n",
              "      <td>1763.000000</td>\n",
              "      <td>1256.000000</td>\n",
              "      <td>1000.000000</td>\n",
              "      <td>8.330000e+02</td>\n",
              "      <td>390.00000</td>\n",
              "      <td>296.000000</td>\n",
              "      <td>252.500000</td>\n",
              "      <td>117.750000</td>\n",
              "      <td>0.000000</td>\n",
              "    </tr>\n",
              "    <tr>\n",
              "      <th>50%</th>\n",
              "      <td>15000.500000</td>\n",
              "      <td>140000.000000</td>\n",
              "      <td>2.000000</td>\n",
              "      <td>2.000000</td>\n",
              "      <td>2.000000</td>\n",
              "      <td>34.000000</td>\n",
              "      <td>0.000000</td>\n",
              "      <td>0.000000</td>\n",
              "      <td>0.000000</td>\n",
              "      <td>0.000000</td>\n",
              "      <td>...</td>\n",
              "      <td>19052.000000</td>\n",
              "      <td>18104.500000</td>\n",
              "      <td>17071.000000</td>\n",
              "      <td>2100.000000</td>\n",
              "      <td>2.009000e+03</td>\n",
              "      <td>1800.00000</td>\n",
              "      <td>1500.000000</td>\n",
              "      <td>1500.000000</td>\n",
              "      <td>1500.000000</td>\n",
              "      <td>0.000000</td>\n",
              "    </tr>\n",
              "    <tr>\n",
              "      <th>75%</th>\n",
              "      <td>22500.250000</td>\n",
              "      <td>240000.000000</td>\n",
              "      <td>2.000000</td>\n",
              "      <td>2.000000</td>\n",
              "      <td>2.000000</td>\n",
              "      <td>41.000000</td>\n",
              "      <td>0.000000</td>\n",
              "      <td>0.000000</td>\n",
              "      <td>0.000000</td>\n",
              "      <td>0.000000</td>\n",
              "      <td>...</td>\n",
              "      <td>54506.000000</td>\n",
              "      <td>50190.500000</td>\n",
              "      <td>49198.250000</td>\n",
              "      <td>5006.000000</td>\n",
              "      <td>5.000000e+03</td>\n",
              "      <td>4505.00000</td>\n",
              "      <td>4013.250000</td>\n",
              "      <td>4031.500000</td>\n",
              "      <td>4000.000000</td>\n",
              "      <td>0.000000</td>\n",
              "    </tr>\n",
              "    <tr>\n",
              "      <th>max</th>\n",
              "      <td>30000.000000</td>\n",
              "      <td>1000000.000000</td>\n",
              "      <td>2.000000</td>\n",
              "      <td>6.000000</td>\n",
              "      <td>3.000000</td>\n",
              "      <td>79.000000</td>\n",
              "      <td>8.000000</td>\n",
              "      <td>8.000000</td>\n",
              "      <td>8.000000</td>\n",
              "      <td>8.000000</td>\n",
              "      <td>...</td>\n",
              "      <td>891586.000000</td>\n",
              "      <td>927171.000000</td>\n",
              "      <td>961664.000000</td>\n",
              "      <td>873552.000000</td>\n",
              "      <td>1.684259e+06</td>\n",
              "      <td>896040.00000</td>\n",
              "      <td>621000.000000</td>\n",
              "      <td>426529.000000</td>\n",
              "      <td>528666.000000</td>\n",
              "      <td>1.000000</td>\n",
              "    </tr>\n",
              "  </tbody>\n",
              "</table>\n",
              "<p>8 rows × 25 columns</p>\n",
              "</div>\n",
              "      <button class=\"colab-df-convert\" onclick=\"convertToInteractive('df-bbbb1c87-e829-4382-88fe-64adf2615717')\"\n",
              "              title=\"Convert this dataframe to an interactive table.\"\n",
              "              style=\"display:none;\">\n",
              "        \n",
              "  <svg xmlns=\"http://www.w3.org/2000/svg\" height=\"24px\"viewBox=\"0 0 24 24\"\n",
              "       width=\"24px\">\n",
              "    <path d=\"M0 0h24v24H0V0z\" fill=\"none\"/>\n",
              "    <path d=\"M18.56 5.44l.94 2.06.94-2.06 2.06-.94-2.06-.94-.94-2.06-.94 2.06-2.06.94zm-11 1L8.5 8.5l.94-2.06 2.06-.94-2.06-.94L8.5 2.5l-.94 2.06-2.06.94zm10 10l.94 2.06.94-2.06 2.06-.94-2.06-.94-.94-2.06-.94 2.06-2.06.94z\"/><path d=\"M17.41 7.96l-1.37-1.37c-.4-.4-.92-.59-1.43-.59-.52 0-1.04.2-1.43.59L10.3 9.45l-7.72 7.72c-.78.78-.78 2.05 0 2.83L4 21.41c.39.39.9.59 1.41.59.51 0 1.02-.2 1.41-.59l7.78-7.78 2.81-2.81c.8-.78.8-2.07 0-2.86zM5.41 20L4 18.59l7.72-7.72 1.47 1.35L5.41 20z\"/>\n",
              "  </svg>\n",
              "      </button>\n",
              "      \n",
              "  <style>\n",
              "    .colab-df-container {\n",
              "      display:flex;\n",
              "      flex-wrap:wrap;\n",
              "      gap: 12px;\n",
              "    }\n",
              "\n",
              "    .colab-df-convert {\n",
              "      background-color: #E8F0FE;\n",
              "      border: none;\n",
              "      border-radius: 50%;\n",
              "      cursor: pointer;\n",
              "      display: none;\n",
              "      fill: #1967D2;\n",
              "      height: 32px;\n",
              "      padding: 0 0 0 0;\n",
              "      width: 32px;\n",
              "    }\n",
              "\n",
              "    .colab-df-convert:hover {\n",
              "      background-color: #E2EBFA;\n",
              "      box-shadow: 0px 1px 2px rgba(60, 64, 67, 0.3), 0px 1px 3px 1px rgba(60, 64, 67, 0.15);\n",
              "      fill: #174EA6;\n",
              "    }\n",
              "\n",
              "    [theme=dark] .colab-df-convert {\n",
              "      background-color: #3B4455;\n",
              "      fill: #D2E3FC;\n",
              "    }\n",
              "\n",
              "    [theme=dark] .colab-df-convert:hover {\n",
              "      background-color: #434B5C;\n",
              "      box-shadow: 0px 1px 3px 1px rgba(0, 0, 0, 0.15);\n",
              "      filter: drop-shadow(0px 1px 2px rgba(0, 0, 0, 0.3));\n",
              "      fill: #FFFFFF;\n",
              "    }\n",
              "  </style>\n",
              "\n",
              "      <script>\n",
              "        const buttonEl =\n",
              "          document.querySelector('#df-bbbb1c87-e829-4382-88fe-64adf2615717 button.colab-df-convert');\n",
              "        buttonEl.style.display =\n",
              "          google.colab.kernel.accessAllowed ? 'block' : 'none';\n",
              "\n",
              "        async function convertToInteractive(key) {\n",
              "          const element = document.querySelector('#df-bbbb1c87-e829-4382-88fe-64adf2615717');\n",
              "          const dataTable =\n",
              "            await google.colab.kernel.invokeFunction('convertToInteractive',\n",
              "                                                     [key], {});\n",
              "          if (!dataTable) return;\n",
              "\n",
              "          const docLinkHtml = 'Like what you see? Visit the ' +\n",
              "            '<a target=\"_blank\" href=https://colab.research.google.com/notebooks/data_table.ipynb>data table notebook</a>'\n",
              "            + ' to learn more about interactive tables.';\n",
              "          element.innerHTML = '';\n",
              "          dataTable['output_type'] = 'display_data';\n",
              "          await google.colab.output.renderOutput(dataTable, element);\n",
              "          const docLink = document.createElement('div');\n",
              "          docLink.innerHTML = docLinkHtml;\n",
              "          element.appendChild(docLink);\n",
              "        }\n",
              "      </script>\n",
              "    </div>\n",
              "  </div>\n",
              "  "
            ]
          },
          "metadata": {},
          "execution_count": 19
        }
      ],
      "source": [
        "credit.describe()"
      ]
    },
    {
      "cell_type": "code",
      "execution_count": 20,
      "id": "44834b80",
      "metadata": {
        "colab": {
          "base_uri": "https://localhost:8080/"
        },
        "id": "44834b80",
        "outputId": "250515e8-95ad-4534-f5d0-8b6df87c7ffe"
      },
      "outputs": [
        {
          "output_type": "stream",
          "name": "stdout",
          "text": [
            "+---------+---+---------+--------+---+-----+-----+-----+-----+-----+-----+---------+---------+---------+---------+---------+---------+--------+--------+--------+--------+--------+--------+--------------------------+\n",
            "|LIMIT_BAL|SEX|EDUCATION|MARRIAGE|AGE|PAY_0|PAY_2|PAY_3|PAY_4|PAY_5|PAY_6|BILL_AMT1|BILL_AMT2|BILL_AMT3|BILL_AMT4|BILL_AMT5|BILL_AMT6|PAY_AMT1|PAY_AMT2|PAY_AMT3|PAY_AMT4|PAY_AMT5|PAY_AMT6|default payment next month|\n",
            "+---------+---+---------+--------+---+-----+-----+-----+-----+-----+-----+---------+---------+---------+---------+---------+---------+--------+--------+--------+--------+--------+--------+--------------------------+\n",
            "|    20000|  2|        2|       1| 24|    2|    2|   -1|   -1|   -2|   -2|     3913|     3102|      689|        0|        0|        0|       0|     689|       0|       0|       0|       0|                         1|\n",
            "|   120000|  2|        2|       2| 26|   -1|    2|    0|    0|    0|    2|     2682|     1725|     2682|     3272|     3455|     3261|       0|    1000|    1000|    1000|       0|    2000|                         1|\n",
            "|    90000|  2|        2|       2| 34|    0|    0|    0|    0|    0|    0|    29239|    14027|    13559|    14331|    14948|    15549|    1518|    1500|    1000|    1000|    1000|    5000|                         0|\n",
            "|    50000|  2|        2|       1| 37|    0|    0|    0|    0|    0|    0|    46990|    48233|    49291|    28314|    28959|    29547|    2000|    2019|    1200|    1100|    1069|    1000|                         0|\n",
            "|    50000|  1|        2|       1| 57|   -1|    0|   -1|    0|    0|    0|     8617|     5670|    35835|    20940|    19146|    19131|    2000|   36681|   10000|    9000|     689|     679|                         0|\n",
            "|    50000|  1|        1|       2| 37|    0|    0|    0|    0|    0|    0|    64400|    57069|    57608|    19394|    19619|    20024|    2500|    1815|     657|    1000|    1000|     800|                         0|\n",
            "|   500000|  1|        1|       2| 29|    0|    0|    0|    0|    0|    0|   367965|   412023|   445007|   542653|   483003|   473944|   55000|   40000|   38000|   20239|   13750|   13770|                         0|\n",
            "|   100000|  2|        2|       2| 23|    0|   -1|   -1|    0|    0|   -1|    11876|      380|      601|      221|     -159|      567|     380|     601|       0|     581|    1687|    1542|                         0|\n",
            "|   140000|  2|        3|       1| 28|    0|    0|    2|    0|    0|    0|    11285|    14096|    12108|    12211|    11793|     3719|    3329|       0|     432|    1000|    1000|    1000|                         0|\n",
            "|    20000|  1|        3|       2| 35|   -2|   -2|   -2|   -2|   -1|   -1|        0|        0|        0|        0|    13007|    13912|       0|       0|       0|   13007|    1122|       0|                         0|\n",
            "|   200000|  2|        3|       2| 34|    0|    0|    2|    0|    0|   -1|    11073|     9787|     5535|     2513|     1828|     3731|    2306|      12|      50|     300|    3738|      66|                         0|\n",
            "|   260000|  2|        1|       2| 51|   -1|   -1|   -1|   -1|   -1|    2|    12261|    21670|     9966|     8517|    22287|    13668|   21818|    9966|    8583|   22301|       0|    3640|                         0|\n",
            "|   630000|  2|        2|       2| 41|   -1|    0|   -1|   -1|   -1|   -1|    12137|     6500|     6500|     6500|     6500|     2870|    1000|    6500|    6500|    6500|    2870|       0|                         0|\n",
            "|    70000|  1|        2|       2| 30|    1|    2|    2|    0|    0|    2|    65802|    67369|    65701|    66782|    36137|    36894|    3200|       0|    3000|    3000|    1500|       0|                         1|\n",
            "|   250000|  1|        1|       2| 29|    0|    0|    0|    0|    0|    0|    70887|    67060|    63561|    59696|    56875|    55512|    3000|    3000|    3000|    3000|    3000|    3000|                         0|\n",
            "|    50000|  2|        3|       3| 23|    1|    2|    0|    0|    0|    0|    50614|    29173|    28116|    28771|    29531|    30211|       0|    1500|    1100|    1200|    1300|    1100|                         0|\n",
            "|    20000|  1|        1|       2| 24|    0|    0|    2|    2|    2|    2|    15376|    18010|    17428|    18338|    17905|    19104|    3200|       0|    1500|       0|    1650|       0|                         1|\n",
            "|   320000|  1|        1|       1| 49|    0|    0|    0|   -1|   -1|   -1|   253286|   246536|   194663|    70074|     5856|   195599|   10358|   10000|   75940|   20000|  195599|   50000|                         0|\n",
            "|   360000|  2|        1|       1| 49|    1|   -2|   -2|   -2|   -2|   -2|        0|        0|        0|        0|        0|        0|       0|       0|       0|       0|       0|       0|                         0|\n",
            "|   180000|  2|        1|       2| 29|    1|   -2|   -2|   -2|   -2|   -2|        0|        0|        0|        0|        0|        0|       0|       0|       0|       0|       0|       0|                         0|\n",
            "+---------+---+---------+--------+---+-----+-----+-----+-----+-----+-----+---------+---------+---------+---------+---------+---------+--------+--------+--------+--------+--------+--------+--------------------------+\n",
            "only showing top 20 rows\n",
            "\n"
          ]
        }
      ],
      "source": [
        "credit = credit.drop('ID', axis = 1)\n",
        "spark_credit = spark_credit.drop('ID')\n",
        "spark_credit.show()"
      ]
    },
    {
      "cell_type": "code",
      "execution_count": 21,
      "id": "77b24916",
      "metadata": {
        "colab": {
          "base_uri": "https://localhost:8080/"
        },
        "id": "77b24916",
        "outputId": "49faeb44-729c-4261-e33b-e2add9a48bad"
      },
      "outputs": [
        {
          "output_type": "execute_result",
          "data": {
            "text/plain": [
              "35"
            ]
          },
          "metadata": {},
          "execution_count": 21
        }
      ],
      "source": [
        "credit.duplicated().sum()"
      ]
    },
    {
      "cell_type": "code",
      "execution_count": 22,
      "id": "ac2a9b76",
      "metadata": {
        "id": "ac2a9b76"
      },
      "outputs": [],
      "source": [
        "credit = credit.drop_duplicates()\n",
        "spark_credit = spark_credit.distinct()"
      ]
    },
    {
      "cell_type": "markdown",
      "id": "de218116",
      "metadata": {
        "id": "de218116"
      },
      "source": [
        "Distribution plots, needed to check if data are normalized"
      ]
    },
    {
      "cell_type": "code",
      "execution_count": 23,
      "id": "118fe0f5",
      "metadata": {
        "id": "118fe0f5",
        "outputId": "672af691-1fd2-4f66-e746-3dc686f860aa",
        "colab": {
          "base_uri": "https://localhost:8080/",
          "height": 386
        }
      },
      "outputs": [
        {
          "output_type": "execute_result",
          "data": {
            "text/plain": [
              "<seaborn.axisgrid.FacetGrid at 0x7fd8478a3cd0>"
            ]
          },
          "metadata": {},
          "execution_count": 23
        },
        {
          "output_type": "display_data",
          "data": {
            "text/plain": [
              "<Figure size 360x360 with 1 Axes>"
            ],
            "image/png": "[encoded data removed]"
          },
          "metadata": {
            "needs_background": "light"
          }
        }
      ],
      "source": [
        "sns.displot(credit['AGE'], bins = 20, kde = True)"
      ]
    },
    {
      "cell_type": "code",
      "execution_count": 24,
      "id": "1405fdd0",
      "metadata": {
        "id": "1405fdd0",
        "outputId": "5d4e656e-96fb-44f7-ac60-240ffe2235fd",
        "colab": {
          "base_uri": "https://localhost:8080/",
          "height": 386
        }
      },
      "outputs": [
        {
          "output_type": "execute_result",
          "data": {
            "text/plain": [
              "<seaborn.axisgrid.FacetGrid at 0x7fd897514250>"
            ]
          },
          "metadata": {},
          "execution_count": 24
        },
        {
          "output_type": "display_data",
          "data": {
            "text/plain": [
              "<Figure size 360x360 with 1 Axes>"
            ],
            "image/png": "[encoded data removed]"
          },
          "metadata": {
            "needs_background": "light"
          }
        }
      ],
      "source": [
        "sns.displot(credit['BILL_AMT4'], bins = 30, kde = True)"
      ]
    },
    {
      "cell_type": "code",
      "execution_count": 25,
      "id": "1dee8c64",
      "metadata": {
        "id": "1dee8c64",
        "outputId": "f90990c4-7355-4e28-8dd2-bd006a89754c",
        "colab": {
          "base_uri": "https://localhost:8080/",
          "height": 386
        }
      },
      "outputs": [
        {
          "output_type": "execute_result",
          "data": {
            "text/plain": [
              "<seaborn.axisgrid.FacetGrid at 0x7fd879914bb0>"
            ]
          },
          "metadata": {},
          "execution_count": 25
        },
        {
          "output_type": "display_data",
          "data": {
            "text/plain": [
              "<Figure size 360x360 with 1 Axes>"
            ],
            "image/png": "[encoded data removed]"
          },
          "metadata": {
            "needs_background": "light"
          }
        }
      ],
      "source": [
        "sns.displot(credit['PAY_AMT6'], bins = 30, kde = True)"
      ]
    },
    {
      "cell_type": "code",
      "execution_count": 26,
      "id": "5e49d29f",
      "metadata": {
        "id": "5e49d29f",
        "outputId": "ae0af614-9b41-4577-e759-5877e82e14a3",
        "colab": {
          "base_uri": "https://localhost:8080/",
          "height": 637
        }
      },
      "outputs": [
        {
          "output_type": "execute_result",
          "data": {
            "text/plain": [
              "<AxesSubplot:>"
            ]
          },
          "metadata": {},
          "execution_count": 26
        },
        {
          "output_type": "display_data",
          "data": {
            "text/plain": [
              "<Figure size 864x576 with 2 Axes>"
            ],
            "image/png": "[encoded data removed]"
          },
          "metadata": {
            "needs_background": "light"
          }
        }
      ],
      "source": [
        "plt.figure(figsize = (12,8))\n",
        "sns.heatmap(credit.corr(), cmap = 'viridis')"
      ]
    },
    {
      "cell_type": "code",
      "execution_count": 27,
      "id": "1a5e430f",
      "metadata": {
        "id": "1a5e430f",
        "outputId": "7d643978-ba8e-4412-9296-375aada0669d",
        "colab": {
          "base_uri": "https://localhost:8080/",
          "height": 296
        }
      },
      "outputs": [
        {
          "output_type": "execute_result",
          "data": {
            "text/plain": [
              "<AxesSubplot:xlabel='SEX', ylabel='count'>"
            ]
          },
          "metadata": {},
          "execution_count": 27
        },
        {
          "output_type": "display_data",
          "data": {
            "text/plain": [
              "<Figure size 432x288 with 1 Axes>"
            ],
            "image/png": "[encoded data removed]"
          },
          "metadata": {
            "needs_background": "light"
          }
        }
      ],
      "source": [
        "sns.countplot(x = 'SEX', data= credit, palette = 'viridis')"
      ]
    },
    {
      "cell_type": "code",
      "execution_count": 28,
      "id": "c2a846a1",
      "metadata": {
        "id": "c2a846a1",
        "outputId": "92ebb83a-32b7-4cc3-afcc-6e46e463a78e",
        "colab": {
          "base_uri": "https://localhost:8080/"
        }
      },
      "outputs": [
        {
          "output_type": "execute_result",
          "data": {
            "text/plain": [
              "2    18091\n",
              "1    11874\n",
              "Name: SEX, dtype: int64"
            ]
          },
          "metadata": {},
          "execution_count": 28
        }
      ],
      "source": [
        "credit['SEX'].value_counts()"
      ]
    },
    {
      "cell_type": "code",
      "execution_count": 29,
      "id": "0e05901c",
      "metadata": {
        "id": "0e05901c",
        "outputId": "3e921ade-62c8-4c73-f09f-c6105ada5831",
        "colab": {
          "base_uri": "https://localhost:8080/",
          "height": 296
        }
      },
      "outputs": [
        {
          "output_type": "execute_result",
          "data": {
            "text/plain": [
              "<AxesSubplot:xlabel='SEX', ylabel='count'>"
            ]
          },
          "metadata": {},
          "execution_count": 29
        },
        {
          "output_type": "display_data",
          "data": {
            "text/plain": [
              "<Figure size 432x288 with 1 Axes>"
            ],
            "image/png": "[encoded data removed]"
          },
          "metadata": {
            "needs_background": "light"
          }
        }
      ],
      "source": [
        "sns.countplot(x = 'SEX', data = credit, palette = 'viridis', hue = 'default payment next month')"
      ]
    },
    {
      "cell_type": "code",
      "execution_count": 30,
      "id": "9a768458",
      "metadata": {
        "id": "9a768458",
        "outputId": "21314ee4-de4d-4d6d-8e10-63ee9c601b9f",
        "colab": {
          "base_uri": "https://localhost:8080/"
        }
      },
      "outputs": [
        {
          "output_type": "execute_result",
          "data": {
            "text/plain": [
              "2    14019\n",
              "1    10563\n",
              "3     4915\n",
              "5      280\n",
              "4      123\n",
              "6       51\n",
              "0       14\n",
              "Name: EDUCATION, dtype: int64"
            ]
          },
          "metadata": {},
          "execution_count": 30
        }
      ],
      "source": [
        "credit['EDUCATION'].value_counts()"
      ]
    },
    {
      "cell_type": "code",
      "execution_count": 31,
      "id": "f3a7c2ae",
      "metadata": {
        "id": "f3a7c2ae",
        "outputId": "5a963782-10b5-4180-ef21-68e60ae8cc60",
        "colab": {
          "base_uri": "https://localhost:8080/",
          "height": 296
        }
      },
      "outputs": [
        {
          "output_type": "execute_result",
          "data": {
            "text/plain": [
              "<AxesSubplot:xlabel='EDUCATION', ylabel='count'>"
            ]
          },
          "metadata": {},
          "execution_count": 31
        },
        {
          "output_type": "display_data",
          "data": {
            "text/plain": [
              "<Figure size 432x288 with 1 Axes>"
            ],
            "image/png": "[encoded data removed]"
          },
          "metadata": {
            "needs_background": "light"
          }
        }
      ],
      "source": [
        "sns.countplot(x ='EDUCATION', data = credit, palette = 'bright')"
      ]
    },
    {
      "cell_type": "code",
      "execution_count": 32,
      "id": "46801116",
      "metadata": {
        "id": "46801116",
        "outputId": "b436b1b4-4e12-4e57-e996-73b57c515a81",
        "colab": {
          "base_uri": "https://localhost:8080/",
          "height": 296
        }
      },
      "outputs": [
        {
          "output_type": "execute_result",
          "data": {
            "text/plain": [
              "<AxesSubplot:xlabel='EDUCATION', ylabel='count'>"
            ]
          },
          "metadata": {},
          "execution_count": 32
        },
        {
          "output_type": "display_data",
          "data": {
            "text/plain": [
              "<Figure size 432x288 with 1 Axes>"
            ],
            "image/png": "[encoded data removed]"
          },
          "metadata": {
            "needs_background": "light"
          }
        }
      ],
      "source": [
        "sns.countplot(x = 'EDUCATION', data = credit, palette = 'bright', hue = 'default payment next month')"
      ]
    },
    {
      "cell_type": "code",
      "execution_count": 33,
      "id": "dd5617a0",
      "metadata": {
        "id": "dd5617a0",
        "outputId": "c54d401b-370b-42f3-8762-511a23c33e78",
        "colab": {
          "base_uri": "https://localhost:8080/"
        }
      },
      "outputs": [
        {
          "output_type": "execute_result",
          "data": {
            "text/plain": [
              "2    15945\n",
              "1    13643\n",
              "3      323\n",
              "0       54\n",
              "Name: MARRIAGE, dtype: int64"
            ]
          },
          "metadata": {},
          "execution_count": 33
        }
      ],
      "source": [
        "credit['MARRIAGE'].value_counts()"
      ]
    },
    {
      "cell_type": "code",
      "execution_count": 34,
      "id": "c9679e3b",
      "metadata": {
        "id": "c9679e3b",
        "outputId": "bf01d9d6-a4a9-4f44-bd2e-f69677d953d2",
        "colab": {
          "base_uri": "https://localhost:8080/",
          "height": 296
        }
      },
      "outputs": [
        {
          "output_type": "execute_result",
          "data": {
            "text/plain": [
              "<AxesSubplot:xlabel='MARRIAGE', ylabel='count'>"
            ]
          },
          "metadata": {},
          "execution_count": 34
        },
        {
          "output_type": "display_data",
          "data": {
            "text/plain": [
              "<Figure size 432x288 with 1 Axes>"
            ],
            "image/png": "[encoded data removed]"
          },
          "metadata": {
            "needs_background": "light"
          }
        }
      ],
      "source": [
        "sns.countplot(x = 'MARRIAGE', data = credit, palette = 'rocket')"
      ]
    },
    {
      "cell_type": "code",
      "execution_count": 35,
      "id": "4b4342b2",
      "metadata": {
        "id": "4b4342b2",
        "outputId": "45a99112-89e4-4d43-e4ed-a0e21519a52c",
        "colab": {
          "base_uri": "https://localhost:8080/",
          "height": 296
        }
      },
      "outputs": [
        {
          "output_type": "execute_result",
          "data": {
            "text/plain": [
              "<AxesSubplot:xlabel='MARRIAGE', ylabel='count'>"
            ]
          },
          "metadata": {},
          "execution_count": 35
        },
        {
          "output_type": "display_data",
          "data": {
            "text/plain": [
              "<Figure size 432x288 with 1 Axes>"
            ],
            "image/png": "[encoded data removed]"
          },
          "metadata": {
            "needs_background": "light"
          }
        }
      ],
      "source": [
        "sns.countplot(x = 'MARRIAGE', data = credit, palette = 'rocket', hue = 'default payment next month')"
      ]
    },
    {
      "cell_type": "code",
      "execution_count": 36,
      "id": "90679a70",
      "metadata": {
        "id": "90679a70",
        "outputId": "837ef5c4-bf0a-410b-fc3d-4e53b068a86e",
        "colab": {
          "base_uri": "https://localhost:8080/",
          "height": 297
        }
      },
      "outputs": [
        {
          "output_type": "execute_result",
          "data": {
            "text/plain": [
              "<AxesSubplot:xlabel='LIMIT_BAL'>"
            ]
          },
          "metadata": {},
          "execution_count": 36
        },
        {
          "output_type": "display_data",
          "data": {
            "text/plain": [
              "<Figure size 432x288 with 1 Axes>"
            ],
            "image/png": "[encoded data removed]"
          },
          "metadata": {
            "needs_background": "light"
          }
        }
      ],
      "source": [
        "sns.boxplot(x = 'LIMIT_BAL', data = credit)"
      ]
    },
    {
      "cell_type": "code",
      "execution_count": 37,
      "id": "4335263b",
      "metadata": {
        "id": "4335263b",
        "outputId": "78ed5921-c134-4d53-b247-2023dcc0b3ae",
        "colab": {
          "base_uri": "https://localhost:8080/",
          "height": 297
        }
      },
      "outputs": [
        {
          "output_type": "execute_result",
          "data": {
            "text/plain": [
              "<AxesSubplot:xlabel='PAY_AMT6'>"
            ]
          },
          "metadata": {},
          "execution_count": 37
        },
        {
          "output_type": "display_data",
          "data": {
            "text/plain": [
              "<Figure size 432x288 with 1 Axes>"
            ],
            "image/png": "[encoded data removed]"
          },
          "metadata": {
            "needs_background": "light"
          }
        }
      ],
      "source": [
        "sns.boxplot(x = 'PAY_AMT6', data = credit)"
      ]
    },
    {
      "cell_type": "markdown",
      "id": "b5a2defb",
      "metadata": {
        "id": "b5a2defb"
      },
      "source": [
        "Elimination of the outliers in the figure above"
      ]
    },
    {
      "cell_type": "code",
      "execution_count": 38,
      "id": "c2dc9a2a",
      "metadata": {
        "id": "c2dc9a2a"
      },
      "outputs": [],
      "source": [
        "credit = credit[(credit['LIMIT_BAL'] <= 550000) & (credit['PAY_AMT6'] <= 50000)]\n",
        "spark_credit = spark_credit.where(col('LIMIT_BAL') <= 550000 ).where(col('PAY_AMT6') <= 50000)"
      ]
    },
    {
      "cell_type": "code",
      "execution_count": 39,
      "id": "a1e97890",
      "metadata": {
        "colab": {
          "base_uri": "https://localhost:8080/"
        },
        "id": "a1e97890",
        "outputId": "c9c37b2b-64e8-4d38-af82-8b41ec9bfd6f"
      },
      "outputs": [
        {
          "output_type": "stream",
          "name": "stdout",
          "text": [
            "<class 'pandas.core.frame.DataFrame'>\n",
            "Int64Index: 29327 entries, 0 to 29999\n",
            "Data columns (total 24 columns):\n",
            " #   Column                      Non-Null Count  Dtype\n",
            "---  ------                      --------------  -----\n",
            " 0   LIMIT_BAL                   29327 non-null  int64\n",
            " 1   SEX                         29327 non-null  int64\n",
            " 2   EDUCATION                   29327 non-null  int64\n",
            " 3   MARRIAGE                    29327 non-null  int64\n",
            " 4   AGE                         29327 non-null  int64\n",
            " 5   PAY_0                       29327 non-null  int64\n",
            " 6   PAY_2                       29327 non-null  int64\n",
            " 7   PAY_3                       29327 non-null  int64\n",
            " 8   PAY_4                       29327 non-null  int64\n",
            " 9   PAY_5                       29327 non-null  int64\n",
            " 10  PAY_6                       29327 non-null  int64\n",
            " 11  BILL_AMT1                   29327 non-null  int64\n",
            " 12  BILL_AMT2                   29327 non-null  int64\n",
            " 13  BILL_AMT3                   29327 non-null  int64\n",
            " 14  BILL_AMT4                   29327 non-null  int64\n",
            " 15  BILL_AMT5                   29327 non-null  int64\n",
            " 16  BILL_AMT6                   29327 non-null  int64\n",
            " 17  PAY_AMT1                    29327 non-null  int64\n",
            " 18  PAY_AMT2                    29327 non-null  int64\n",
            " 19  PAY_AMT3                    29327 non-null  int64\n",
            " 20  PAY_AMT4                    29327 non-null  int64\n",
            " 21  PAY_AMT5                    29327 non-null  int64\n",
            " 22  PAY_AMT6                    29327 non-null  int64\n",
            " 23  default payment next month  29327 non-null  int64\n",
            "dtypes: int64(24)\n",
            "memory usage: 5.6 MB\n"
          ]
        }
      ],
      "source": [
        "credit.info()"
      ]
    },
    {
      "cell_type": "code",
      "execution_count": 40,
      "id": "kfmVAgkeERQ3",
      "metadata": {
        "colab": {
          "base_uri": "https://localhost:8080/"
        },
        "id": "kfmVAgkeERQ3",
        "outputId": "c049d645-f327-4b55-9db6-286068daa101"
      },
      "outputs": [
        {
          "output_type": "stream",
          "name": "stdout",
          "text": [
            "[('LIMIT_BAL', 'int'), ('SEX', 'int'), ('EDUCATION', 'int'), ('MARRIAGE', 'int'), ('AGE', 'int'), ('PAY_0', 'int'), ('PAY_2', 'int'), ('PAY_3', 'int'), ('PAY_4', 'int'), ('PAY_5', 'int'), ('PAY_6', 'int'), ('BILL_AMT1', 'int'), ('BILL_AMT2', 'int'), ('BILL_AMT3', 'int'), ('BILL_AMT4', 'int'), ('BILL_AMT5', 'int'), ('BILL_AMT6', 'int'), ('PAY_AMT1', 'int'), ('PAY_AMT2', 'int'), ('PAY_AMT3', 'int'), ('PAY_AMT4', 'int'), ('PAY_AMT5', 'int'), ('PAY_AMT6', 'int'), ('default payment next month', 'int')]\n",
            "+-------+------------------+-------------------+------------------+------------------+-----------------+--------------------+-------------------+-------------------+-------------------+-------------------+--------------------+-----------------+-----------------+-----------------+-----------------+------------------+------------------+------------------+-----------------+------------------+-----------------+------------------+------------------+--------------------------+\n",
            "|summary|         LIMIT_BAL|                SEX|         EDUCATION|          MARRIAGE|              AGE|               PAY_0|              PAY_2|              PAY_3|              PAY_4|              PAY_5|               PAY_6|        BILL_AMT1|        BILL_AMT2|        BILL_AMT3|        BILL_AMT4|         BILL_AMT5|         BILL_AMT6|          PAY_AMT1|         PAY_AMT2|          PAY_AMT3|         PAY_AMT4|          PAY_AMT5|          PAY_AMT6|default payment next month|\n",
            "+-------+------------------+-------------------+------------------+------------------+-----------------+--------------------+-------------------+-------------------+-------------------+-------------------+--------------------+-----------------+-----------------+-----------------+-----------------+------------------+------------------+------------------+-----------------+------------------+-----------------+------------------+------------------+--------------------------+\n",
            "|  count|             29327|              29327|             29327|             29327|            29327|               29327|              29327|              29327|              29327|              29327|               29327|            29327|            29327|            29327|            29327|             29327|             29327|             29327|            29327|             29327|            29327|             29327|             29327|                     29327|\n",
            "|   mean|163198.06594605654| 1.6044600538752685|1.8569236539707437|1.5520169127425238|35.45974699082757|-0.00964981075459...|-0.1258908173355611|-0.1581477819074573|-0.2134551778224844|-0.2594878439663109|-0.28410679578545367|50006.90500221639|48106.14092815494|45954.45422307089| 42317.7694615883| 39515.59931121492|  38362.7000375081| 5331.663620554438| 5562.88069014901| 4892.075391277663|4570.585876496061|   4527.4180789034|3297.0370648208136|       0.22351416783169092|\n",
            "| stddev|124963.54825538711|0.48897469250785625|0.7876937359632168|0.5223765393319385|9.232037698226248|    1.12315788551874| 1.1988311145184118| 1.1993330369828972| 1.1726115092886775| 1.1363333182637405|  1.1528310260101693|70959.38451493051| 68853.4995269305|67095.51512476864|62157.04462691498|58836.856498238965|57801.767263253394|14618.436561266002|21033.15999337587|15031.568252634563|14358.39145987676|14362.429375872538| 5777.682268609958|         0.416607132389006|\n",
            "|    min|             10000|                  1|                 0|                 0|               21|                  -2|                 -2|                 -2|                 -2|                 -2|                  -2|          -165580|           -69777|          -157264|          -170000|            -81334|            -94625|                 0|                0|                 0|                0|                 0|                 0|                         0|\n",
            "|    25%|             50000|                  1|                 1|                 1|               28|                  -1|                 -1|                 -1|                 -1|                 -1|                  -1|             3489|             2937|             2613|             2301|              1741|              1250|               975|              800|               390|              291|               244|                61|                         0|\n",
            "|    50%|            140000|                  2|                 2|                 2|               34|                   0|                  0|                  0|                  0|                  0|                   0|            21996|            20893|            19943|            18943|             18003|             17042|              2087|             2000|              1798|             1500|              1500|              1454|                         0|\n",
            "|    75%|            230000|                  2|                 2|                 2|               41|                   0|                  0|                  0|                  0|                  0|                   0|            65627|            62506|            59202|            53099|             49601|             48904|              5000|             5000|              4400|             4000|              4000|              3945|                         0|\n",
            "|    max|            550000|                  2|                 6|                 3|               79|                   8|                  8|                  8|                  8|                  8|                   8|           653062|           743970|          1664089|           706864|            823540|            699944|            505000|          1684259|            508229|           497000|            426529|             50000|                         1|\n",
            "+-------+------------------+-------------------+------------------+------------------+-----------------+--------------------+-------------------+-------------------+-------------------+-------------------+--------------------+-----------------+-----------------+-----------------+-----------------+------------------+------------------+------------------+-----------------+------------------+-----------------+------------------+------------------+--------------------------+\n",
            "\n"
          ]
        }
      ],
      "source": [
        "print(spark_credit.dtypes)\n",
        "spark_credit.summary().show()"
      ]
    },
    {
      "cell_type": "code",
      "execution_count": 41,
      "id": "cb0a02b5",
      "metadata": {
        "colab": {
          "base_uri": "https://localhost:8080/",
          "height": 297
        },
        "id": "cb0a02b5",
        "outputId": "2dd4af14-a757-4c6c-c50e-b3f4629f140d"
      },
      "outputs": [
        {
          "output_type": "execute_result",
          "data": {
            "text/plain": [
              "<AxesSubplot:xlabel='LIMIT_BAL'>"
            ]
          },
          "metadata": {},
          "execution_count": 41
        },
        {
          "output_type": "display_data",
          "data": {
            "text/plain": [
              "<Figure size 432x288 with 1 Axes>"
            ],
            "image/png": "[encoded data removed]"
          },
          "metadata": {
            "needs_background": "light"
          }
        }
      ],
      "source": [
        "sns.boxplot(x = 'LIMIT_BAL', data = credit)"
      ]
    },
    {
      "cell_type": "code",
      "execution_count": 42,
      "id": "67081230",
      "metadata": {
        "colab": {
          "base_uri": "https://localhost:8080/",
          "height": 297
        },
        "id": "67081230",
        "outputId": "9f3cb7cf-b822-442a-a3ed-2fa01631ec5e"
      },
      "outputs": [
        {
          "output_type": "execute_result",
          "data": {
            "text/plain": [
              "<AxesSubplot:xlabel='PAY_AMT6'>"
            ]
          },
          "metadata": {},
          "execution_count": 42
        },
        {
          "output_type": "display_data",
          "data": {
            "text/plain": [
              "<Figure size 432x288 with 1 Axes>"
            ],
            "image/png": "[encoded data removed]"
          },
          "metadata": {
            "needs_background": "light"
          }
        }
      ],
      "source": [
        "sns.boxplot(x = 'PAY_AMT6', data = credit)"
      ]
    },
    {
      "cell_type": "code",
      "execution_count": 48,
      "id": "83205447",
      "metadata": {
        "colab": {
          "base_uri": "https://localhost:8080/"
        },
        "id": "83205447",
        "outputId": "d35a165d-88fe-4d3e-c630-d0b84bcdea1b"
      },
      "outputs": [
        {
          "output_type": "execute_result",
          "data": {
            "text/plain": [
              "StandardScaler()"
            ]
          },
          "metadata": {},
          "execution_count": 48
        }
      ],
      "source": [
        "scaler = skStandardScaler()\n",
        "scaler.fit(credit.drop('default payment next month', axis = 1))"
      ]
    },
    {
      "cell_type": "code",
      "execution_count": 49,
      "id": "6f038fcb",
      "metadata": {
        "id": "6f038fcb"
      },
      "outputs": [],
      "source": [
        "scaled_data = scaler.transform(credit.drop('default payment next month', axis = 1))"
      ]
    },
    {
      "cell_type": "code",
      "execution_count": 50,
      "id": "0c12a144",
      "metadata": {
        "colab": {
          "base_uri": "https://localhost:8080/",
          "height": 299
        },
        "id": "0c12a144",
        "outputId": "dddfc15d-05f4-4b51-e6df-1693047f714c"
      },
      "outputs": [
        {
          "output_type": "execute_result",
          "data": {
            "text/plain": [
              "   LIMIT_BAL       SEX  EDUCATION  MARRIAGE       AGE     PAY_0     PAY_2  \\\n",
              "0  -1.145938  0.808931   0.181643 -1.056759 -1.241323  1.789316  1.773333   \n",
              "1  -0.345691  0.808931   0.181643  0.857601 -1.024683 -0.881770  1.773333   \n",
              "2  -0.585765  0.808931   0.181643  0.857601 -0.158120  0.008592  0.105013   \n",
              "3  -0.905864  0.808931   0.181643 -1.056759  0.166841  0.008592  0.105013   \n",
              "4  -0.905864 -1.236200   0.181643 -1.056759  2.333247 -0.881770  0.105013   \n",
              "\n",
              "      PAY_3     PAY_4     PAY_5  ...  BILL_AMT3  BILL_AMT4  BILL_AMT5  \\\n",
              "0 -0.701946 -0.670775 -1.531718  ...  -0.674654  -0.680832  -0.671624   \n",
              "1  0.131865  0.182037  0.228359  ...  -0.644949  -0.628190  -0.612902   \n",
              "2  0.131865  0.182037  0.228359  ...  -0.482834  -0.450267  -0.417562   \n",
              "3  0.131865  0.182037  0.228359  ...   0.049729  -0.225300  -0.179425   \n",
              "4 -0.701946  0.182037  0.228359  ...  -0.150824  -0.343937  -0.346211   \n",
              "\n",
              "   BILL_AMT6  PAY_AMT1  PAY_AMT2  PAY_AMT3  PAY_AMT4  PAY_AMT5  PAY_AMT6  \n",
              "0  -0.663706 -0.364728 -0.231728 -0.325459 -0.318327 -0.315232 -0.570660  \n",
              "1  -0.607288 -0.364728 -0.216941 -0.258931 -0.248680 -0.315232 -0.224495  \n",
              "2  -0.394695 -0.260885 -0.193169 -0.258931 -0.248680 -0.245605  0.294753  \n",
              "3  -0.152519 -0.227912 -0.168493 -0.245626 -0.241715 -0.240800 -0.397577  \n",
              "4  -0.332724 -0.227912  1.479504  0.339819  0.308495 -0.267259 -0.453137  \n",
              "\n",
              "[5 rows x 23 columns]"
            ],
            "text/html": [
              "\n",
              "  <div id=\"df-dad59596-02f5-4a0d-8e8d-c6599583a283\">\n",
              "    <div class=\"colab-df-container\">\n",
              "      <div>\n",
              "<style scoped>\n",
              "    .dataframe tbody tr th:only-of-type {\n",
              "        vertical-align: middle;\n",
              "    }\n",
              "\n",
              "    .dataframe tbody tr th {\n",
              "        vertical-align: top;\n",
              "    }\n",
              "\n",
              "    .dataframe thead th {\n",
              "        text-align: right;\n",
              "    }\n",
              "</style>\n",
              "<table border=\"1\" class=\"dataframe\">\n",
              "  <thead>\n",
              "    <tr style=\"text-align: right;\">\n",
              "      <th></th>\n",
              "      <th>LIMIT_BAL</th>\n",
              "      <th>SEX</th>\n",
              "      <th>EDUCATION</th>\n",
              "      <th>MARRIAGE</th>\n",
              "      <th>AGE</th>\n",
              "      <th>PAY_0</th>\n",
              "      <th>PAY_2</th>\n",
              "      <th>PAY_3</th>\n",
              "      <th>PAY_4</th>\n",
              "      <th>PAY_5</th>\n",
              "      <th>...</th>\n",
              "      <th>BILL_AMT3</th>\n",
              "      <th>BILL_AMT4</th>\n",
              "      <th>BILL_AMT5</th>\n",
              "      <th>BILL_AMT6</th>\n",
              "      <th>PAY_AMT1</th>\n",
              "      <th>PAY_AMT2</th>\n",
              "      <th>PAY_AMT3</th>\n",
              "      <th>PAY_AMT4</th>\n",
              "      <th>PAY_AMT5</th>\n",
              "      <th>PAY_AMT6</th>\n",
              "    </tr>\n",
              "  </thead>\n",
              "  <tbody>\n",
              "    <tr>\n",
              "      <th>0</th>\n",
              "      <td>-1.145938</td>\n",
              "      <td>0.808931</td>\n",
              "      <td>0.181643</td>\n",
              "      <td>-1.056759</td>\n",
              "      <td>-1.241323</td>\n",
              "      <td>1.789316</td>\n",
              "      <td>1.773333</td>\n",
              "      <td>-0.701946</td>\n",
              "      <td>-0.670775</td>\n",
              "      <td>-1.531718</td>\n",
              "      <td>...</td>\n",
              "      <td>-0.674654</td>\n",
              "      <td>-0.680832</td>\n",
              "      <td>-0.671624</td>\n",
              "      <td>-0.663706</td>\n",
              "      <td>-0.364728</td>\n",
              "      <td>-0.231728</td>\n",
              "      <td>-0.325459</td>\n",
              "      <td>-0.318327</td>\n",
              "      <td>-0.315232</td>\n",
              "      <td>-0.570660</td>\n",
              "    </tr>\n",
              "    <tr>\n",
              "      <th>1</th>\n",
              "      <td>-0.345691</td>\n",
              "      <td>0.808931</td>\n",
              "      <td>0.181643</td>\n",
              "      <td>0.857601</td>\n",
              "      <td>-1.024683</td>\n",
              "      <td>-0.881770</td>\n",
              "      <td>1.773333</td>\n",
              "      <td>0.131865</td>\n",
              "      <td>0.182037</td>\n",
              "      <td>0.228359</td>\n",
              "      <td>...</td>\n",
              "      <td>-0.644949</td>\n",
              "      <td>-0.628190</td>\n",
              "      <td>-0.612902</td>\n",
              "      <td>-0.607288</td>\n",
              "      <td>-0.364728</td>\n",
              "      <td>-0.216941</td>\n",
              "      <td>-0.258931</td>\n",
              "      <td>-0.248680</td>\n",
              "      <td>-0.315232</td>\n",
              "      <td>-0.224495</td>\n",
              "    </tr>\n",
              "    <tr>\n",
              "      <th>2</th>\n",
              "      <td>-0.585765</td>\n",
              "      <td>0.808931</td>\n",
              "      <td>0.181643</td>\n",
              "      <td>0.857601</td>\n",
              "      <td>-0.158120</td>\n",
              "      <td>0.008592</td>\n",
              "      <td>0.105013</td>\n",
              "      <td>0.131865</td>\n",
              "      <td>0.182037</td>\n",
              "      <td>0.228359</td>\n",
              "      <td>...</td>\n",
              "      <td>-0.482834</td>\n",
              "      <td>-0.450267</td>\n",
              "      <td>-0.417562</td>\n",
              "      <td>-0.394695</td>\n",
              "      <td>-0.260885</td>\n",
              "      <td>-0.193169</td>\n",
              "      <td>-0.258931</td>\n",
              "      <td>-0.248680</td>\n",
              "      <td>-0.245605</td>\n",
              "      <td>0.294753</td>\n",
              "    </tr>\n",
              "    <tr>\n",
              "      <th>3</th>\n",
              "      <td>-0.905864</td>\n",
              "      <td>0.808931</td>\n",
              "      <td>0.181643</td>\n",
              "      <td>-1.056759</td>\n",
              "      <td>0.166841</td>\n",
              "      <td>0.008592</td>\n",
              "      <td>0.105013</td>\n",
              "      <td>0.131865</td>\n",
              "      <td>0.182037</td>\n",
              "      <td>0.228359</td>\n",
              "      <td>...</td>\n",
              "      <td>0.049729</td>\n",
              "      <td>-0.225300</td>\n",
              "      <td>-0.179425</td>\n",
              "      <td>-0.152519</td>\n",
              "      <td>-0.227912</td>\n",
              "      <td>-0.168493</td>\n",
              "      <td>-0.245626</td>\n",
              "      <td>-0.241715</td>\n",
              "      <td>-0.240800</td>\n",
              "      <td>-0.397577</td>\n",
              "    </tr>\n",
              "    <tr>\n",
              "      <th>4</th>\n",
              "      <td>-0.905864</td>\n",
              "      <td>-1.236200</td>\n",
              "      <td>0.181643</td>\n",
              "      <td>-1.056759</td>\n",
              "      <td>2.333247</td>\n",
              "      <td>-0.881770</td>\n",
              "      <td>0.105013</td>\n",
              "      <td>-0.701946</td>\n",
              "      <td>0.182037</td>\n",
              "      <td>0.228359</td>\n",
              "      <td>...</td>\n",
              "      <td>-0.150824</td>\n",
              "      <td>-0.343937</td>\n",
              "      <td>-0.346211</td>\n",
              "      <td>-0.332724</td>\n",
              "      <td>-0.227912</td>\n",
              "      <td>1.479504</td>\n",
              "      <td>0.339819</td>\n",
              "      <td>0.308495</td>\n",
              "      <td>-0.267259</td>\n",
              "      <td>-0.453137</td>\n",
              "    </tr>\n",
              "  </tbody>\n",
              "</table>\n",
              "<p>5 rows × 23 columns</p>\n",
              "</div>\n",
              "      <button class=\"colab-df-convert\" onclick=\"convertToInteractive('df-dad59596-02f5-4a0d-8e8d-c6599583a283')\"\n",
              "              title=\"Convert this dataframe to an interactive table.\"\n",
              "              style=\"display:none;\">\n",
              "        \n",
              "  <svg xmlns=\"http://www.w3.org/2000/svg\" height=\"24px\"viewBox=\"0 0 24 24\"\n",
              "       width=\"24px\">\n",
              "    <path d=\"M0 0h24v24H0V0z\" fill=\"none\"/>\n",
              "    <path d=\"M18.56 5.44l.94 2.06.94-2.06 2.06-.94-2.06-.94-.94-2.06-.94 2.06-2.06.94zm-11 1L8.5 8.5l.94-2.06 2.06-.94-2.06-.94L8.5 2.5l-.94 2.06-2.06.94zm10 10l.94 2.06.94-2.06 2.06-.94-2.06-.94-.94-2.06-.94 2.06-2.06.94z\"/><path d=\"M17.41 7.96l-1.37-1.37c-.4-.4-.92-.59-1.43-.59-.52 0-1.04.2-1.43.59L10.3 9.45l-7.72 7.72c-.78.78-.78 2.05 0 2.83L4 21.41c.39.39.9.59 1.41.59.51 0 1.02-.2 1.41-.59l7.78-7.78 2.81-2.81c.8-.78.8-2.07 0-2.86zM5.41 20L4 18.59l7.72-7.72 1.47 1.35L5.41 20z\"/>\n",
              "  </svg>\n",
              "      </button>\n",
              "      \n",
              "  <style>\n",
              "    .colab-df-container {\n",
              "      display:flex;\n",
              "      flex-wrap:wrap;\n",
              "      gap: 12px;\n",
              "    }\n",
              "\n",
              "    .colab-df-convert {\n",
              "      background-color: #E8F0FE;\n",
              "      border: none;\n",
              "      border-radius: 50%;\n",
              "      cursor: pointer;\n",
              "      display: none;\n",
              "      fill: #1967D2;\n",
              "      height: 32px;\n",
              "      padding: 0 0 0 0;\n",
              "      width: 32px;\n",
              "    }\n",
              "\n",
              "    .colab-df-convert:hover {\n",
              "      background-color: #E2EBFA;\n",
              "      box-shadow: 0px 1px 2px rgba(60, 64, 67, 0.3), 0px 1px 3px 1px rgba(60, 64, 67, 0.15);\n",
              "      fill: #174EA6;\n",
              "    }\n",
              "\n",
              "    [theme=dark] .colab-df-convert {\n",
              "      background-color: #3B4455;\n",
              "      fill: #D2E3FC;\n",
              "    }\n",
              "\n",
              "    [theme=dark] .colab-df-convert:hover {\n",
              "      background-color: #434B5C;\n",
              "      box-shadow: 0px 1px 3px 1px rgba(0, 0, 0, 0.15);\n",
              "      filter: drop-shadow(0px 1px 2px rgba(0, 0, 0, 0.3));\n",
              "      fill: #FFFFFF;\n",
              "    }\n",
              "  </style>\n",
              "\n",
              "      <script>\n",
              "        const buttonEl =\n",
              "          document.querySelector('#df-dad59596-02f5-4a0d-8e8d-c6599583a283 button.colab-df-convert');\n",
              "        buttonEl.style.display =\n",
              "          google.colab.kernel.accessAllowed ? 'block' : 'none';\n",
              "\n",
              "        async function convertToInteractive(key) {\n",
              "          const element = document.querySelector('#df-dad59596-02f5-4a0d-8e8d-c6599583a283');\n",
              "          const dataTable =\n",
              "            await google.colab.kernel.invokeFunction('convertToInteractive',\n",
              "                                                     [key], {});\n",
              "          if (!dataTable) return;\n",
              "\n",
              "          const docLinkHtml = 'Like what you see? Visit the ' +\n",
              "            '<a target=\"_blank\" href=https://colab.research.google.com/notebooks/data_table.ipynb>data table notebook</a>'\n",
              "            + ' to learn more about interactive tables.';\n",
              "          element.innerHTML = '';\n",
              "          dataTable['output_type'] = 'display_data';\n",
              "          await google.colab.output.renderOutput(dataTable, element);\n",
              "          const docLink = document.createElement('div');\n",
              "          docLink.innerHTML = docLinkHtml;\n",
              "          element.appendChild(docLink);\n",
              "        }\n",
              "      </script>\n",
              "    </div>\n",
              "  </div>\n",
              "  "
            ]
          },
          "metadata": {},
          "execution_count": 50
        }
      ],
      "source": [
        "credit_feat = pd.DataFrame(scaled_data, columns = credit.columns[:-1])\n",
        "credit_feat.head()"
      ]
    },
    {
      "cell_type": "code",
      "execution_count": 51,
      "id": "pMqwhQaJL-nD",
      "metadata": {
        "colab": {
          "base_uri": "https://localhost:8080/"
        },
        "id": "pMqwhQaJL-nD",
        "outputId": "27986e93-6927-4026-d562-c14b56262167"
      },
      "outputs": [
        {
          "output_type": "stream",
          "name": "stdout",
          "text": [
            "+---------+---+---------+--------+---+-----+-----+-----+-----+-----+-----+---------+---------+---------+---------+---------+---------+--------+--------+--------+--------+--------+--------+--------------------------+\n",
            "|LIMIT_BAL|SEX|EDUCATION|MARRIAGE|AGE|PAY_0|PAY_2|PAY_3|PAY_4|PAY_5|PAY_6|BILL_AMT1|BILL_AMT2|BILL_AMT3|BILL_AMT4|BILL_AMT5|BILL_AMT6|PAY_AMT1|PAY_AMT2|PAY_AMT3|PAY_AMT4|PAY_AMT5|PAY_AMT6|default payment next month|\n",
            "+---------+---+---------+--------+---+-----+-----+-----+-----+-----+-----+---------+---------+---------+---------+---------+---------+--------+--------+--------+--------+--------+--------+--------------------------+\n",
            "|    10000|  1|        1|       1| 41|    0|    0|    3|    2|    2|    2|     6859|     9751|     9451|     9169|    10056|     8559|    3000|       0|       0|    1002|       0|     500|                         0|\n",
            "|    10000|  1|        1|       1| 42|    4|    3|    2|    2|    2|    0|     6744|     6494|     6247|     7975|     7701|     7787|       0|       0|    2000|       0|     359|     331|                         0|\n",
            "|    10000|  1|        1|       1| 50|    0|    0|    0|    0|    0|    0|    10043|     9616|     9718|     9916|     9250|     7461|    1194|    1076|     274|     370|     472|     375|                         0|\n",
            "|    10000|  1|        1|       2| 22|    0|   -1|   -1|   -1|   -1|   -1|     1483|       46|      915|      352|      105|        0|      46|     915|     352|     105|       0|    1000|                         0|\n",
            "|    10000|  1|        1|       2| 22|    0|    0|   -1|   -1|   -1|   -1|     2946|        0|      390|      390|      390|        0|       0|     390|     390|     390|       0|     780|                         1|\n",
            "|    10000|  1|        1|       2| 22|    0|    0|    0|    0|    0|    3|     4060|     2774|     3764|     4001|     5134|     4762|    1300|    1200|     300|    1200|       0|       0|                         0|\n",
            "|    10000|  1|        1|       2| 22|    2|    2|    2|    0|    0|    2|     6883|     9108|     8813|    10066|    10017|     9705|    2500|       0|    1400|    1100|       0|     500|                         1|\n",
            "|    10000|  1|        1|       2| 23|   -1|    2|   -1|   -1|   -1|   -2|      780|      390|      390|      780|        0|        0|       0|     390|     780|       0|       0|       0|                         1|\n",
            "|    10000|  1|        1|       2| 23|   -1|    2|   -1|   -1|   -1|   -1|      780|      390|      390|        0|      780|        0|       0|     390|       0|     780|       0|       0|                         1|\n",
            "|    10000|  1|        1|       2| 23|    0|    0|    0|    0|    0|    0|     6927|     5313|     6264|     5970|     7175|     6032|    1500|    3500|    1000|    2000|    2500|    1000|                         0|\n",
            "|    10000|  1|        1|       2| 23|    0|    0|    0|    0|    0|    0|     7684|     8685|     8557|     7319|     7650|     8862|    1300|    1500|     500|     600|    1500|       0|                         0|\n",
            "|    10000|  1|        1|       2| 23|    0|    0|    2|    2|    4|    5|     3035|     5802|     5561|     8455|     9730|     8999|    3000|       0|    3000|    2000|       0|       0|                         0|\n",
            "|    10000|  1|        1|       2| 23|    1|   -2|   -2|   -2|   -2|   -2|        0|        0|        0|        0|        0|        0|       0|       0|       0|       0|       0|       0|                         0|\n",
            "|    10000|  1|        1|       2| 23|    1|    2|    0|    0|    0|    2|     9020|     8707|     8519|     9505|    10127|     9677|       0|    1391|    1300|     900|       0|     500|                         1|\n",
            "|    10000|  1|        1|       2| 23|    2|    2|    2|    2|   -2|   -1|     2724|     5520|     5275|        0|        0|      150|    3000|       0|       0|       0|     150|     275|                         0|\n",
            "|    10000|  1|        1|       2| 23|    2|    2|    3|    3|    3|    3|     1050|     1050|     1050|     1050|     1050|     1050|       0|       0|       0|       0|       0|       0|                         1|\n",
            "|    10000|  1|        1|       2| 24|   -2|   -2|   -2|   -1|    0|    0|       -2|     -391|     -781|     9211|     9422|     8853|       0|       0|   10500|     500|     500|    1000|                         0|\n",
            "|    10000|  1|        1|       2| 24|    0|    0|    2|    0|    0|    0|     4216|     6476|     6224|     6347|    12856|     8078|    2500|       0|     227|     239|    3412|       0|                         1|\n",
            "|    10000|  1|        1|       2| 24|    0|    0|    2|    0|    0|    0|     7760|     8928|     8386|     7512|     7615|     7621|    1471|    1100|    1107|     600|     264|     544|                         0|\n",
            "|    10000|  1|        1|       2| 24|    2|    0|    0|    0|    0|    2|     7554|     8287|     9580|     9267|    10096|     9415|    1500|    2000|     700|    1500|       0|    1000|                         1|\n",
            "+---------+---+---------+--------+---+-----+-----+-----+-----+-----+-----+---------+---------+---------+---------+---------+---------+--------+--------+--------+--------+--------+--------+--------------------------+\n",
            "only showing top 20 rows\n",
            "\n",
            "None\n",
            "+---------+---+---------+--------+---+-----+-----+-----+-----+-----+-----+---------+---------+---------+---------+---------+---------+--------+--------+--------+--------+--------+--------+--------------------------+\n",
            "|LIMIT_BAL|SEX|EDUCATION|MARRIAGE|AGE|PAY_0|PAY_2|PAY_3|PAY_4|PAY_5|PAY_6|BILL_AMT1|BILL_AMT2|BILL_AMT3|BILL_AMT4|BILL_AMT5|BILL_AMT6|PAY_AMT1|PAY_AMT2|PAY_AMT3|PAY_AMT4|PAY_AMT5|PAY_AMT6|default payment next month|\n",
            "+---------+---+---------+--------+---+-----+-----+-----+-----+-----+-----+---------+---------+---------+---------+---------+---------+--------+--------+--------+--------+--------+--------+--------------------------+\n",
            "|    10000|  1|        1|       1| 38|   -1|   -1|    2|    0|    0|    2|     4711|     9617|     9307|     9665|    10470|    10169|    5000|       0|     500|    1100|       0|    1000|                         1|\n",
            "|    10000|  1|        1|       1| 40|    2|   -1|   -1|   -2|   -2|   -2|     3567|     1000|        0|        0|        0|        0|    5000|       0|       0|       0|       0|       0|                         1|\n",
            "|    10000|  1|        1|       1| 48|    1|    2|    0|    0|    0|    0|     8594|     7421|     8145|     9000|     9000|        0|       0|    2000|    2000|       0|       0|       0|                         0|\n",
            "|    10000|  1|        1|       2| 24|    0|    0|    2|    0|    0|    0|     7680|    10160|     9844|     9554|     9515|     9700|    2616|       0|     400|     499|     500|     900|                         1|\n",
            "|    10000|  1|        1|       2| 24|    2|    2|    0|    0|    0|    0|     8837|     7554|     8287|     9580|     9267|    10096|       0|    1500|    2000|     700|    1500|       0|                         1|\n",
            "|    10000|  1|        1|       2| 25|    0|    0|    0|    0|    0|    0|     5642|     6652|     7683|     9040|     9222|     9580|    1112|    1143|    1500|     324|     500|     377|                         0|\n",
            "|    10000|  1|        1|       2| 25|    0|    0|    0|    0|    0|    0|     9501|     5794|     7109|     9082|     7165|     6951|    1300|    2000|    3000|     234|     284|    1149|                         0|\n",
            "|    10000|  1|        1|       2| 25|    0|    0|    2|    3|    2|    0|     6005|     8891|     9389|     9111|     8837|     8135|    3000|     800|       0|       0|     500|     500|                         0|\n",
            "|    10000|  1|        1|       2| 26|    0|    0|    0|    0|    0|    0|     4457|     5622|     6673|     7890|     8628|     9360|    1400|    1300|    1500|    1000|    1000|       0|                         0|\n",
            "|    10000|  1|        1|       2| 27|    0|    0|    0|    0|    0|   -1|     6599|     7736|     8492|     8138|     4990|     1598|    1400|    1000|    1009|    1000|    1598|       0|                         0|\n",
            "|    10000|  1|        1|       2| 27|    0|    0|    0|    0|    0|    0|     5703|     6734|     8833|     9604|     9800|    10000|    1130|    2229|    1000|     196|     200|       0|                         0|\n",
            "|    10000|  1|        1|       2| 30|    3|    2|    2|    7|    7|    7|     2300|     2300|     2300|     2300|     2300|     2300|       0|       0|       0|       0|       0|       0|                         1|\n",
            "|    10000|  1|        2|       1| 27|    0|    0|    0|    0|    0|    0|    10128|     9859|     9607|     9818|    10013|     9824|    1151|    1160|    1151|     346|     350|     354|                         0|\n",
            "|    10000|  1|        2|       1| 28|    0|    0|    0|    0|    0|    0|     1474|     2641|     3745|     4642|     5642|     6342|    1196|    1300|    1000|    1000|     700|    1208|                         0|\n",
            "|    10000|  1|        2|       1| 30|   -1|   -1|   -1|   -1|   -2|   -2|      390|        0|      780|        0|        0|        0|       0|     780|       0|       0|       0|       0|                         1|\n",
            "|    10000|  1|        2|       1| 33|    0|    0|    0|    0|    0|    0|    10146|     9352|     9919|    10400|    10123|    19813|    1158|    1200|    1137|     335|     351|    1000|                         0|\n",
            "|    10000|  1|        2|       1| 35|    0|    0|    0|    0|    0|    0|     5828|     7717|     8830|     9687|    10025|    10400|    2000|    1400|    1162|     500|     600|       0|                         0|\n",
            "|    10000|  1|        2|       1| 35|    0|    0|    0|    0|    0|    0|     9159|    10004|     9722|    10044|     9856|    10285|    1160|    1139|    1241|     345|     580|     180|                         0|\n",
            "|    10000|  1|        2|       1| 37|    0|    0|    0|   -1|   -1|   -1|     8487|     9003|        0|      390|     4555|     5165|    2008|       0|     390|    4555|    1000|    6810|                         0|\n",
            "|    10000|  1|        2|       1| 37|    0|    0|    0|    0|   -1|   -1|     6930|     6399|     4634|     5388|      780|        0|    1065|    1246|    1000|     780|       0|     390|                         0|\n",
            "+---------+---+---------+--------+---+-----+-----+-----+-----+-----+-----+---------+---------+---------+---------+---------+---------+--------+--------+--------+--------+--------+--------+--------------------------+\n",
            "only showing top 20 rows\n",
            "\n",
            "None\n"
          ]
        }
      ],
      "source": [
        "train_cred, test_cred = spark_credit.randomSplit([0.7, 0.3], seed = 1234)\n",
        "print(train_cred.show())\n",
        "print(test_cred.show())"
      ]
    },
    {
      "cell_type": "code",
      "execution_count": 54,
      "id": "_dMjWyALF2-l",
      "metadata": {
        "colab": {
          "base_uri": "https://localhost:8080/"
        },
        "id": "_dMjWyALF2-l",
        "outputId": "ff6dde06-534a-4bbd-9ee9-e748344cc688"
      },
      "outputs": [
        {
          "output_type": "stream",
          "name": "stdout",
          "text": [
            "+--------------------+--------------------------+\n",
            "|              scaled|default payment next month|\n",
            "+--------------------+--------------------------+\n",
            "|[0.61459469682298...|                         0|\n",
            "|[0.53457136090135...|                         0|\n",
            "|[0.53457136090135...|                         0|\n",
            "|[-0.9058486856880...|                         0|\n",
            "|[0.45454802497971...|                         0|\n",
            "|[-0.5857553420015...|                         0|\n",
            "|[1.57487472788257...|                         0|\n",
            "|[-0.5857553420015...|                         0|\n",
            "|[-0.7458020138447...|                         0|\n",
            "|[-0.1856386623933...|                         1|\n",
            "|[-0.1056153264717...|                         1|\n",
            "|[-0.1056153264717...|                         0|\n",
            "|[1.09473471235277...|                         0|\n",
            "|[-1.1459186934529...|                         0|\n",
            "|[-0.9058486856880...|                         1|\n",
            "|[0.85466470458788...|                         0|\n",
            "|[0.05443134537155...|                         0|\n",
            "|[-0.9058486856880...|                         1|\n",
            "|[-0.6657786779231...|                         1|\n",
            "|[0.69461803274461...|                         1|\n",
            "+--------------------+--------------------------+\n",
            "only showing top 20 rows\n",
            "\n",
            "+--------------------+--------------------------+\n",
            "|              scaled|default payment next month|\n",
            "+--------------------+--------------------------+\n",
            "|[-1.2259420293745...|                         0|\n",
            "|[-1.2259420293745...|                         0|\n",
            "|[-1.2259420293745...|                         0|\n",
            "|[-1.2259420293745...|                         0|\n",
            "|[-1.2259420293745...|                         1|\n",
            "|[-1.2259420293745...|                         0|\n",
            "|[-1.2259420293745...|                         1|\n",
            "|[-1.2259420293745...|                         1|\n",
            "|[-1.2259420293745...|                         1|\n",
            "|[-1.2259420293745...|                         0|\n",
            "|[-1.2259420293745...|                         0|\n",
            "|[-1.2259420293745...|                         0|\n",
            "|[-1.2259420293745...|                         0|\n",
            "|[-1.2259420293745...|                         1|\n",
            "|[-1.2259420293745...|                         0|\n",
            "|[-1.2259420293745...|                         1|\n",
            "|[-1.2259420293745...|                         0|\n",
            "|[-1.2259420293745...|                         1|\n",
            "|[-1.2259420293745...|                         0|\n",
            "|[-1.2259420293745...|                         1|\n",
            "+--------------------+--------------------------+\n",
            "only showing top 20 rows\n",
            "\n",
            "+--------------------+--------------------------+\n",
            "|              scaled|default payment next month|\n",
            "+--------------------+--------------------------+\n",
            "|[-1.2259420293745...|                         1|\n",
            "|[-1.2259420293745...|                         1|\n",
            "|[-1.2259420293745...|                         0|\n",
            "|[-1.2259420293745...|                         1|\n",
            "|[-1.2259420293745...|                         1|\n",
            "|[-1.2259420293745...|                         0|\n",
            "|[-1.2259420293745...|                         0|\n",
            "|[-1.2259420293745...|                         0|\n",
            "|[-1.2259420293745...|                         0|\n",
            "|[-1.2259420293745...|                         0|\n",
            "|[-1.2259420293745...|                         0|\n",
            "|[-1.2259420293745...|                         1|\n",
            "|[-1.2259420293745...|                         0|\n",
            "|[-1.2259420293745...|                         0|\n",
            "|[-1.2259420293745...|                         1|\n",
            "|[-1.2259420293745...|                         0|\n",
            "|[-1.2259420293745...|                         0|\n",
            "|[-1.2259420293745...|                         0|\n",
            "|[-1.2259420293745...|                         0|\n",
            "|[-1.2259420293745...|                         0|\n",
            "+--------------------+--------------------------+\n",
            "only showing top 20 rows\n",
            "\n"
          ]
        }
      ],
      "source": [
        "col_list = [spark_credit.dtypes[i][0] for i in range(0, len(spark_credit.dtypes)-1)]\n",
        "credit_vec_ass = VectorAssembler(inputCols = col_list, outputCol = \"temp_features\")\n",
        "\n",
        "credit_assembled = credit_vec_ass.transform(spark_credit)\n",
        "train_assembled = credit_vec_ass.transform(train_cred)\n",
        "test_assembled = credit_vec_ass.transform(test_cred)\n",
        "\n",
        "# in \"Scaled\" there will be values scaled with the corrected sample standard deviation,\n",
        "# instead of the population-based standard deviation\n",
        "spark_scaler = StandardScaler(withMean=True, withStd=True, inputCol=\"temp_features\", outputCol=\"scaled\")\n",
        "fitted_scaler = spark_scaler.fit(dataset = credit_assembled)\n",
        "scaled_data = fitted_scaler.transform(credit_assembled)\n",
        "scaled_train = fitted_scaler.transform(train_assembled)\n",
        "scaled_test = fitted_scaler.transform(test_assembled)\n",
        "\n",
        "vectorized_scaled_data = scaled_data.select([\"scaled\", \"default payment next month\"])\n",
        "vectorized_scaled_train = scaled_train.select([\"scaled\", \"default payment next month\"])\n",
        "vectorized_scaled_test = scaled_test.select([\"scaled\", \"default payment next month\"])\n",
        "vectorized_scaled_data.show()\n",
        "vectorized_scaled_train.show()\n",
        "vectorized_scaled_test.show()"
      ]
    },
    {
      "cell_type": "markdown",
      "source": [
        "## Construction and fitting of the Multilayer Perceptron classifier from spark.ml.classification\n",
        "preliminarly to the construction of the classifier a further preprocessing step must be performed: the distribution of each feature must be in range \\[0,1\\]. <br>"
      ],
      "metadata": {
        "id": "q5SVSqYPniqu"
      },
      "id": "q5SVSqYPniqu"
    },
    {
      "cell_type": "code",
      "source": [
        "min_max_scaler = MinMaxScaler(min=0.0, max=1.0, inputCol='scaled', outputCol=\"min_maxed_scaled\")\n",
        "fitted_min_max_scaler = min_max_scaler.fit(vectorized_scaled_data)\n",
        "mm_scaled_train = fitted_min_max_scaler.transform(vectorized_scaled_train).select(\"min_maxed_scaled\", \"default payment next month\")\n",
        "mm_scaled_test = fitted_min_max_scaler.transform(vectorized_scaled_test).select(\"min_maxed_scaled\", \"default payment next month\")"
      ],
      "metadata": {
        "id": "0CCZK0P3ndhW"
      },
      "id": "0CCZK0P3ndhW",
      "execution_count": 55,
      "outputs": []
    },
    {
      "cell_type": "code",
      "source": [
        "def serialize_df(df_to_ser, path_where_ser, df_name):\n",
        "  \"\"\"\n",
        "  Function to serialize a pyspark dataframe to json while also saving its schema.\n",
        "\n",
        "  Params:\n",
        "    df_to_ser: dataframe to serialize\n",
        "    path_where_ser: root directory where the files (one json file for the schema\n",
        "                    and another one for data) will be saved\n",
        "    df_name: the name of the dataset that must be serialized (it is a string\n",
        "             that will be added to both json files)\n",
        "  \"\"\"\n",
        "  schema_to_ser = df_to_ser.schema.json()  \n",
        "  with open(path_where_ser + \"%s_schema.json\"%df_name, \"w\") as json_file:\n",
        "    to_ser = json.dumps(schema_to_ser, indent = 4)\n",
        "    json_file.write(to_ser)\n",
        "  df_to_ser.write.json(path_where_ser + \"/%s.json\"%df_name, mode=\"overwrite\")\n",
        "\n",
        "\n",
        "def load_df(path_where_ser, df_name):\n",
        "  \"\"\"\n",
        "  Function to load a pyspark dataframe known its schema.\n",
        "\n",
        "  Params: \n",
        "    path_where_ser: root directory of the files of the \n",
        "                    serialized dataset and its schema\n",
        "    df_name: actual name of the df (string that was used to give a name the\n",
        "             json file)\n",
        "  Returns:\n",
        "    to_return: the loaded dataset with the loaded schema\n",
        "  \"\"\"\n",
        "  with open(path_where_ser + \"%s_schema.json\"%df_name, \"r\") as json_file:\n",
        "    json_obj = json.load(json_file)\n",
        "    loaded_schema = StructType.fromJson(json.loads(json_obj))\n",
        "  to_return = spark.read.format(\"json\") \\\n",
        "                        .option(\"header\", \"true\") \\\n",
        "                        .schema(loaded_schema) \\\n",
        "                        .load(path_where_ser + \"/%s.json\"%df_name)\n",
        "  return to_return\n",
        "\n",
        "serialize_df(mm_scaled_train, \"/content/serialized/\", \"mm_scaled_train\")\n",
        "serialize_df(mm_scaled_test, \"/content/serialized/\", \"mm_scaled_test\")"
      ],
      "metadata": {
        "id": "1xQdV0MKnepK"
      },
      "id": "1xQdV0MKnepK",
      "execution_count": 57,
      "outputs": []
    },
    {
      "cell_type": "code",
      "source": [
        "mm_scaled_train = load_df(\"/content/serialized/\", \"mm_scaled_train\")\n",
        "mm_scaled_test = load_df(\"/content/serialized/\", \"mm_scaled_test\")"
      ],
      "metadata": {
        "id": "wsF8qooAnw1P"
      },
      "id": "wsF8qooAnw1P",
      "execution_count": 58,
      "outputs": []
    },
    {
      "cell_type": "code",
      "source": [
        "mlpc=MultilayerPerceptronClassifier(featuresCol=\"min_maxed_scaled\", \n",
        "                                    labelCol=\"default payment next month\",\n",
        "                                    layers = [23, 10, 5, 2],\n",
        "                                    maxIter=100,\n",
        "                                    blockSize=30,\n",
        "                                    seed=10)"
      ],
      "metadata": {
        "id": "hH4F0kUbnzoV"
      },
      "id": "hH4F0kUbnzoV",
      "execution_count": 59,
      "outputs": []
    },
    {
      "cell_type": "code",
      "source": [
        "mlpc_fitted = mlpc.fit(mm_scaled_train)\n",
        "print(mlpc.explainParams())\n",
        "mlpc.write().overwrite().save(\"/content/serialized/mlpc-model\")"
      ],
      "metadata": {
        "colab": {
          "base_uri": "https://localhost:8080/"
        },
        "id": "AGKCJcD2n2lW",
        "outputId": "1e582f86-94ca-4a25-a520-9c6579e06494"
      },
      "id": "AGKCJcD2n2lW",
      "execution_count": 60,
      "outputs": [
        {
          "output_type": "stream",
          "name": "stdout",
          "text": [
            "blockSize: block size for stacking input data in matrices. Data is stacked within partitions. If block size is more than remaining data in a partition then it is adjusted to the size of this data. (default: 128, current: 30)\n",
            "featuresCol: features column name. (default: features, current: min_maxed_scaled)\n",
            "initialWeights: The initial weights of the model. (undefined)\n",
            "labelCol: label column name. (default: label, current: default payment next month)\n",
            "layers: Sizes of layers from input layer to output layer E.g., Array(780, 100, 10) means 780 inputs, one hidden layer with 100 neurons and output layer of 10 neurons. (current: [23, 10, 5, 2])\n",
            "maxIter: max number of iterations (>= 0). (default: 100, current: 100)\n",
            "predictionCol: prediction column name. (default: prediction)\n",
            "probabilityCol: Column name for predicted class conditional probabilities. Note: Not all models output well-calibrated probability estimates! These probabilities should be treated as confidences, not precise probabilities. (default: probability)\n",
            "rawPredictionCol: raw prediction (a.k.a. confidence) column name. (default: rawPrediction)\n",
            "seed: random seed. (default: -2124653204998430971, current: 10)\n",
            "solver: The solver algorithm for optimization. Supported options: l-bfgs, gd. (default: l-bfgs)\n",
            "stepSize: Step size to be used for each iteration of optimization (>= 0). (default: 0.03)\n",
            "thresholds: Thresholds in multi-class classification to adjust the probability of predicting each class. Array must have length equal to the number of classes, with values > 0, excepting that at most one value may be 0. The class with largest value p/t is predicted, where p is the original probability of that class and t is the class's threshold. (undefined)\n",
            "tol: the convergence tolerance for iterative algorithms (>= 0). (default: 1e-06)\n"
          ]
        }
      ]
    },
    {
      "cell_type": "code",
      "source": [
        "mlpc.load(\"/content/serialized/mlpc-model\")"
      ],
      "metadata": {
        "colab": {
          "base_uri": "https://localhost:8080/"
        },
        "id": "uxQYOYGVn6Wy",
        "outputId": "40fbc542-a5cd-47c0-cc06-0c10e0ffe624"
      },
      "id": "uxQYOYGVn6Wy",
      "execution_count": 61,
      "outputs": [
        {
          "output_type": "execute_result",
          "data": {
            "text/plain": [
              "MultilayerPerceptronClassifier_ee729d1caa4d"
            ]
          },
          "metadata": {},
          "execution_count": 61
        }
      ]
    },
    {
      "cell_type": "markdown",
      "source": [
        "## Construction and fitting of the Logistic Regression classifier from spark.ml.classification"
      ],
      "metadata": {
        "id": "mOJlwV0RsBYv"
      },
      "id": "mOJlwV0RsBYv"
    },
    {
      "cell_type": "code",
      "execution_count": 75,
      "id": "E0DJ5b64JogA",
      "metadata": {
        "id": "E0DJ5b64JogA"
      },
      "outputs": [],
      "source": [
        "blor = LogisticRegression(featuresCol=\"scaled\", labelCol=\"default payment next month\", regParam = 0.01, maxIter = 10)"
      ]
    },
    {
      "cell_type": "code",
      "source": [
        "blorModel = blor.fit(vectorized_scaled_train)\n",
        "blorModel.write().overwrite().save(\"/content/serialized/blorModel\")"
      ],
      "metadata": {
        "id": "1zRQIDEiodU1"
      },
      "id": "1zRQIDEiodU1",
      "execution_count": 63,
      "outputs": []
    },
    {
      "cell_type": "code",
      "source": [
        "blorModel.load(\"/content/serialized/blorModel\")"
      ],
      "metadata": {
        "colab": {
          "base_uri": "https://localhost:8080/"
        },
        "id": "dism12PnohOx",
        "outputId": "f2b1ba39-783e-49b4-89fe-be3218589166"
      },
      "id": "dism12PnohOx",
      "execution_count": 64,
      "outputs": [
        {
          "output_type": "execute_result",
          "data": {
            "text/plain": [
              "LogisticRegressionModel: uid=LogisticRegression_5ae6155eb94f, numClasses=2, numFeatures=23"
            ]
          },
          "metadata": {},
          "execution_count": 64
        }
      ]
    },
    {
      "cell_type": "markdown",
      "source": [
        "## Construction and fitting of the Decision Tree classifier from spark.ml.classification"
      ],
      "metadata": {
        "id": "UzY90vfWu0HL"
      },
      "id": "UzY90vfWu0HL"
    },
    {
      "cell_type": "code",
      "source": [
        "dec_tree = DecisionTreeClassifier(featuresCol=\"scaled\", labelCol=\"default payment next month\")"
      ],
      "metadata": {
        "id": "JZMgIcMkuzs4"
      },
      "id": "JZMgIcMkuzs4",
      "execution_count": 92,
      "outputs": []
    },
    {
      "cell_type": "code",
      "source": [
        "dec_tree_model = dec_tree.fit(vectorized_scaled_train)\n",
        "dec_tree_model.write().overwrite().save(\"/content/serialized/decTreeModel\")"
      ],
      "metadata": {
        "id": "I82Axos1vFTe"
      },
      "id": "I82Axos1vFTe",
      "execution_count": 93,
      "outputs": []
    },
    {
      "cell_type": "code",
      "source": [
        "dec_tree_model.load(\"/content/serialized/decTreeModel\")"
      ],
      "metadata": {
        "colab": {
          "base_uri": "https://localhost:8080/"
        },
        "id": "F2_jgkUivN-4",
        "outputId": "61692f50-b192-49eb-a139-0f132dd8c440"
      },
      "id": "F2_jgkUivN-4",
      "execution_count": 94,
      "outputs": [
        {
          "output_type": "execute_result",
          "data": {
            "text/plain": [
              "DecisionTreeClassificationModel: uid=DecisionTreeClassifier_36aeef46fb01, depth=5, numNodes=39, numClasses=2, numFeatures=23"
            ]
          },
          "metadata": {},
          "execution_count": 94
        }
      ]
    },
    {
      "cell_type": "markdown",
      "source": [
        "## Construction and fitting of the Naive Bayes classifier from spark.ml.classification\n",
        "preliminarly to the construction of the classifier a further preprocessing step must be performed: the data must be positive. <br>\n",
        "Since the features are already standardized, they can be made positive by subtracting the lowest negative value of each feature to all the elements of the corresponding feature."
      ],
      "metadata": {
        "id": "2l4ZMbnPwQGe"
      },
      "id": "2l4ZMbnPwQGe"
    },
    {
      "cell_type": "code",
      "source": [
        "def split_array_to_list(col):\n",
        "  \"\"\"\n",
        "  Function to unpack the results of a VectorAssembler.\n",
        "\n",
        "  Params:\n",
        "    col: the pyspark column that must be unpacked, it contains vectors\n",
        "  Returns:\n",
        "    the application of the function to the column passed as parameter,\n",
        "    transforming it into an array (from vector)\n",
        "  \"\"\"\n",
        "  def to_list(v):\n",
        "      return v.toArray().tolist()\n",
        "  return F.udf(to_list, ArrayType(DoubleType()))(col)\n",
        "\n",
        "def getMinArray(vectorized_scaled_data):\n",
        "  \"\"\"\n",
        "  Function to get an array containing the minimum value for each feature.\n",
        "\n",
        "  Params:\n",
        "    vectorized_scaled_data: a pyspark dataframe obtained as the result of\n",
        "                            VectorAssembler, where the features are placed\n",
        "                            in the column \"scaled\"\n",
        "  Returns:\n",
        "    min_array: an array that contains the minimum value for each feature of\n",
        "               vectorized_scaled_data\n",
        "  \"\"\"\n",
        "  unpacked_data = vectorized_scaled_data.select(split_array_to_list(F.col(\"scaled\")).alias(\"splitted\")).select([F.col(\"splitted\")[i].alias(str(col_list[i])) for i in range(len(col_list))])\n",
        "  min_row = unpacked_data.select([F.min(str(col_list[i])).alias(str(col_list[i])) for i in range(len(col_list))])\n",
        "  min_row = credit_vec_ass.transform(min_row).select(F.col(\"temp_features\").alias(\"scaled\"))\n",
        "  min_array = min_row.first().asDict().get(\"scaled\")\n",
        "  return min_array.toArray()\n",
        "\n",
        "min_arr = getMinArray(vectorized_scaled_data)\n",
        "print(type(min_arr))\n",
        "print(min_arr)"
      ],
      "metadata": {
        "colab": {
          "base_uri": "https://localhost:8080/"
        },
        "id": "KBmkGY5bwQoI",
        "outputId": "d4a0f7da-b872-4708-c528-4d25b3f47b5d"
      },
      "id": "KBmkGY5bwQoI",
      "execution_count": 98,
      "outputs": [
        {
          "output_type": "stream",
          "name": "stdout",
          "text": [
            "<class 'numpy.ndarray'>\n",
            "[-1.22594203 -1.23617861 -2.35741833 -2.97106933 -1.56625736 -1.77210187\n",
            " -1.5632804  -1.53573041 -1.52356071 -1.53169156 -1.48841692 -3.03817327\n",
            " -1.71208641 -3.02879341 -3.41582794 -2.05397784 -2.30075491 -0.36472188\n",
            " -0.26448145 -0.32545343 -0.31832158 -0.31522648 -0.57065046]\n"
          ]
        }
      ]
    },
    {
      "cell_type": "code",
      "source": [
        "def remove_negative_values(vectorized_scaled, min_array):\n",
        "  \"\"\"\n",
        "  Function that removes negative values by subtracting to each element of each feature\n",
        "  the minimum value for that feature (if it is negative).\n",
        "\n",
        "  Params:\n",
        "    vectorized_scaled: a pyspark dataframe obtained as the result of\n",
        "                        VectorAssembler, where the features are placed\n",
        "                        in the column \"scaled\"\n",
        "    min_array: an array containing the minimum values for each feature\n",
        "               of vectorized_scaled\n",
        "  Returns:\n",
        "    vec_unpacked_data: an assembled pyspark dataframe where the column \"temp_features\"\n",
        "                       contains vectors where each feature is positive\n",
        "  \"\"\"\n",
        "  unpacked_data = vectorized_scaled.select(split_array_to_list(F.col(\"scaled\")).alias(\"splitted\"), F.col(\"default payment next month\"))\\\n",
        "  .select([F.col(\"splitted\")[i].alias(str(col_list[i])) if i < len(col_list) else F.col(\"default payment next month\") for i in range(len(col_list)+1)])\n",
        "  for i in range(len(col_list)):\n",
        "    if min_array[i] < 0:\n",
        "      unpacked_data = unpacked_data.withColumn(str(col_list[i]) + \"_positive\", F.col(str(col_list[i])) - min_array[i])\n",
        "      unpacked_data = unpacked_data.drop(str(col_list[i]))\n",
        "\n",
        "  unpacked_col_list = [unpacked_data.dtypes[i][0] for i in range(0, len(unpacked_data.dtypes) - 1)]\n",
        "  vec_ass = VectorAssembler(inputCols = unpacked_col_list, outputCol = \"temp_features\")\n",
        "  vec_unpacked_data = vec_ass.transform(unpacked_data).select(\"temp_features\", \"default payment next month\")\n",
        "  return vec_unpacked_data\n",
        "\n",
        "vectorized_positive_train = remove_negative_values(vectorized_scaled_train, min_arr)\n",
        "vectorized_positive_test = remove_negative_values(vectorized_scaled_test, min_arr)"
      ],
      "metadata": {
        "id": "X_ETQ8KawiVz"
      },
      "id": "X_ETQ8KawiVz",
      "execution_count": 99,
      "outputs": []
    },
    {
      "cell_type": "code",
      "source": [
        "serialize_df(vectorized_positive_train, \"/content/serialized/\", \n",
        "             \"vectorized_positive_train\")\n",
        "serialize_df(vectorized_positive_test, \"/content/serialized/\", \n",
        "             \"vectorized_positive_test\")"
      ],
      "metadata": {
        "id": "z5pdZBKUwyMQ"
      },
      "id": "z5pdZBKUwyMQ",
      "execution_count": 100,
      "outputs": []
    },
    {
      "cell_type": "code",
      "source": [
        "vectorized_positive_train = load_df(\"/content/serialized/\", \"vectorized_positive_train\")\n",
        "vectorized_positive_test = load_df(\"/content/serialized/\", \"vectorized_positive_test\")"
      ],
      "metadata": {
        "id": "FV7xE2dbw9BT"
      },
      "id": "FV7xE2dbw9BT",
      "execution_count": 101,
      "outputs": []
    },
    {
      "cell_type": "code",
      "source": [
        "naive_b = NaiveBayes(smoothing=1.0, modelType=\"multinomial\", \n",
        "                     featuresCol=\"temp_features\", \n",
        "                     labelCol=\"default payment next month\")"
      ],
      "metadata": {
        "id": "wpHDbSQAxMT3"
      },
      "id": "wpHDbSQAxMT3",
      "execution_count": 103,
      "outputs": []
    },
    {
      "cell_type": "code",
      "source": [
        "model_naive_b = naive_b.fit(vectorized_positive_train) \n",
        "model_naive_b.write().overwrite().save(\"/content/serialized/naiveBayesModel\")"
      ],
      "metadata": {
        "id": "oe81TucpxQq1"
      },
      "id": "oe81TucpxQq1",
      "execution_count": 106,
      "outputs": []
    },
    {
      "cell_type": "code",
      "source": [
        "model_naive_b.load(\"/content/serialized/naiveBayesModel\")"
      ],
      "metadata": {
        "colab": {
          "base_uri": "https://localhost:8080/"
        },
        "id": "h6L4ewBRxy8w",
        "outputId": "dae8fcae-9c76-4c56-e121-3fc246293d63"
      },
      "id": "h6L4ewBRxy8w",
      "execution_count": 107,
      "outputs": [
        {
          "output_type": "execute_result",
          "data": {
            "text/plain": [
              "NaiveBayesModel: uid=NaiveBayes_e2db44402810, modelType=multinomial, numClasses=2, numFeatures=23"
            ]
          },
          "metadata": {},
          "execution_count": 107
        }
      ]
    },
    {
      "cell_type": "markdown",
      "source": [
        "## Construction and fitting of an Approximated KNN classifier"
      ],
      "metadata": {
        "id": "2OpFyM6uzALs"
      },
      "id": "2OpFyM6uzALs"
    },
    {
      "cell_type": "code",
      "source": [
        "def dist_knn_mapping(vector, lil_dataframe, labels, k_val):\n",
        "  ex_arr = vector.toArray()\n",
        "  val_list = []\n",
        "  for elem in lil_dataframe:\n",
        "    to_sub = np.array(elem)\n",
        "    val = np.linalg.norm(ex_arr - to_sub)\n",
        "    val_list.append(val)\n",
        "  nearest_indices = np.argsort(val_list)[:k_val]\n",
        "  acc = 0\n",
        "  for elem in nearest_indices:\n",
        "    acc += labels[elem]\n",
        "  to_return = acc / k_val\n",
        "  return float(to_return)\n",
        "\n",
        "train_true = vectorized_scaled_train.where(col(\"default payment next month\") == 1)#.sample(False, 0.35, seed = 10)\n",
        "train_false = vectorized_scaled_train.where(col(\"default payment next month\") == 0)\n",
        "tot_true = train_true.count()\n",
        "tot_false = train_false.count()\n",
        "perc_true = ((1 / tot_true) * 100) \n",
        "perc_false = ((1 / tot_false) * 100)\n",
        "sampled_true = train_true.sample(False, perc_true, seed = 1234)\n",
        "sampled_false = train_false.sample(False, perc_false, seed = 1234)\n",
        "true_arr = sampled_true.toPandas()\n",
        "false_arr = sampled_false.toPandas()\n",
        "knn_examples = pd.concat([true_arr, false_arr], axis = 0)\n",
        "\n",
        "\n",
        "examples = [elem.toArray() for elem in knn_examples[\"scaled\"]]\n",
        "labels = [int(elem) for elem in knn_examples[\"default payment next month\"]]\n",
        "vector_udf_2 = udf(lambda x: dist_knn_mapping(x, examples, labels, 5), FloatType())\n",
        "Y_probs = vectorized_scaled_test.withColumn(\"probs\", vector_udf_2(vectorized_scaled_test[\"scaled\"])).select(\"probs\").collect()"
      ],
      "metadata": {
        "id": "HrczEqmRzAtA"
      },
      "id": "HrczEqmRzAtA",
      "execution_count": 114,
      "outputs": []
    },
    {
      "cell_type": "markdown",
      "source": [
        "## Evaluation of the classifiers\n",
        "The cells below are needed to compute the performances of the classifiers that have been fitted, in this case the \"collect()\" is a valid operation since it is performed on the test set only."
      ],
      "metadata": {
        "id": "ULD_q5rgoASZ"
      },
      "id": "ULD_q5rgoASZ"
    },
    {
      "cell_type": "code",
      "source": [
        "def plot_cumulative_gains_both_classes(y_true, y_probs):\n",
        "  \"\"\"\n",
        "  Function to plot the cumulative gains chart.\n",
        "  It plots the cumulative number of positive predictions made,\n",
        "  as function of the total number of positive preditcions\n",
        "\n",
        "  Params:\n",
        "    y_true: an array of length num_examples containing the ground truth labels\n",
        "    y_probs: the probabilities associated for each example\n",
        "             to each label, it is an array of shape (num_examples, num_classes)  \n",
        "  \"\"\"\n",
        "  skplt.metrics.plot_cumulative_gain(y_true, y_probs)\n",
        "  plt.xlabel(\"Number of observations\")\n",
        "  plt.ylabel(\"Cumulative number of true positive predictions\")\n",
        "  plt.title(\"Cumulative Gains Chart\")\n",
        "  plt.show()"
      ],
      "metadata": {
        "id": "Lzm36Txvn-Ah"
      },
      "id": "Lzm36Txvn-Ah",
      "execution_count": 65,
      "outputs": []
    },
    {
      "cell_type": "code",
      "source": [
        "# extraction of probabilities and predicted labels for the mlpc classifier\n",
        "Y_true_mlpc = mm_scaled_test.select(\"default payment next month\").collect()\n",
        "data_y_mlpc = np.array([elem[0] for elem in Y_true_mlpc])\n",
        "\n",
        "test_cred_no_def = mm_scaled_test.select(\"min_maxed_scaled\")\n",
        "Y_pred_df_mlpc = mlpc_fitted.transform(test_cred_no_def)\n",
        "Y_pred_probabilities_mlpc = Y_pred_df_mlpc.select(\"probability\").collect()\n",
        "Y_pred_predictions_mlpc = Y_pred_df_mlpc.select(\"prediction\").collect()\n",
        "\n",
        "Y_pred_probs_np_mlpc = np.array(Y_pred_probabilities_mlpc)\n",
        "Y_pred_probs_np_mlpc = np.reshape(Y_pred_probs_np_mlpc, (Y_pred_probs_np_mlpc.shape[0], 2))"
      ],
      "metadata": {
        "id": "fMzfFxSdoyop"
      },
      "id": "fMzfFxSdoyop",
      "execution_count": 108,
      "outputs": []
    },
    {
      "cell_type": "code",
      "source": [
        "# extraction of probabilities and predicted labels for the logistic regression\n",
        "# classifier\n",
        "test_cred_no_def = vectorized_scaled_test.select(\"scaled\")\n",
        "Y_true_logreg = vectorized_scaled_test.select(\"default payment next month\").collect()\n",
        "Y_pred_df_logreg = blorModel.transform(test_cred_no_def)\n",
        "Y_pred_probabilities_logreg = Y_pred_df_logreg.select(\"probability\").collect()\n",
        "Y_pred_predictions_logreg = Y_pred_df_logreg.select(\"prediction\").collect()\n",
        "\n",
        "Y_pred_probs_np_logreg = np.array(Y_pred_probabilities_logreg)\n",
        "Y_pred_probs_np_logreg = np.reshape(Y_pred_probs_np_logreg, (Y_pred_probs_np_logreg.shape[0], 2))"
      ],
      "metadata": {
        "id": "EijV58hjs5TD"
      },
      "id": "EijV58hjs5TD",
      "execution_count": 96,
      "outputs": []
    },
    {
      "cell_type": "code",
      "source": [
        "# extraction of probabilities and predicted labels for the decision tree\n",
        "# classifier\n",
        "Y_true_dect = Y_true_logreg\n",
        "Y_pred_df_dect = dec_tree_model.transform(test_cred_no_def)\n",
        "Y_pred_probabilities_dect = Y_pred_df_dect.select(\"probability\").collect()\n",
        "Y_pred_predictions_dect = Y_pred_df_dect.select(\"prediction\").collect()\n",
        "\n",
        "Y_pred_probs_np_dect = np.array(Y_pred_probabilities_dect)\n",
        "Y_pred_probs_np_dect = np.reshape(Y_pred_probs_np_dect, (Y_pred_probs_np_dect.shape[0], 2))"
      ],
      "metadata": {
        "id": "3EcZQZzqunkj"
      },
      "id": "3EcZQZzqunkj",
      "execution_count": 95,
      "outputs": []
    },
    {
      "cell_type": "code",
      "source": [
        "# extraction of probabilities and predicted labels for the naive Bayes \n",
        "# classifier\n",
        "Y_true_nb = vectorized_positive_test.select(\"default payment next month\").collect()\n",
        "test_cred_no_def = vectorized_positive_test.select(\"temp_features\")\n",
        "Y_pred_df_nb = model_naive_b.transform(test_cred_no_def)\n",
        "Y_pred_probabilities_nb = Y_pred_df_nb.select(\"probability\").collect()\n",
        "Y_pred_predictions_nb = Y_pred_df_nb.select(\"prediction\").collect()\n",
        "\n",
        "Y_pred_probs_np_nb = np.array(Y_pred_probabilities_nb)\n",
        "Y_pred_probs_np_nb = np.reshape(Y_pred_probs_np_nb, (Y_pred_probs_np_nb.shape[0], 2))"
      ],
      "metadata": {
        "id": "RsYDRXYAx-eB"
      },
      "id": "RsYDRXYAx-eB",
      "execution_count": 112,
      "outputs": []
    },
    {
      "cell_type": "code",
      "source": [
        "# extraction of probabilities and predicted labels for the approximate knn\n",
        "# classifier\n",
        "Y_pred_probs_np_knn = np.zeros((len(Y_probs), 2))\n",
        "Y_pred_probs_np_knn[:, 0] = np.reshape(np.array(Y_probs), len(Y_probs))\n",
        "Y_pred_probs_np_knn[:, 1] = 1 - Y_pred_probs_np_knn[:, 0]\n",
        "Y_true_knn = vectorized_scaled_test.select(\"default payment next month\").collect()\n",
        "Y_pred_predictions_knn = np.array([1 if elem > 0.5 else 0 for elem in Y_pred_probs_np_knn[:, 0]])"
      ],
      "metadata": {
        "id": "voFmFZ_qzWqn"
      },
      "id": "voFmFZ_qzWqn",
      "execution_count": 121,
      "outputs": []
    },
    {
      "cell_type": "code",
      "source": [
        "print(classification_report(Y_true_mlpc, Y_pred_predictions_mlpc))\n",
        "plot_cumulative_gains_both_classes(data_y_mlpc, Y_pred_probs_np_mlpc)"
      ],
      "metadata": {
        "colab": {
          "base_uri": "https://localhost:8080/",
          "height": 451
        },
        "id": "J_asOV64se5P",
        "outputId": "23f84f8a-36e2-4bc0-8e8d-21dfc7c3ddb7"
      },
      "id": "J_asOV64se5P",
      "execution_count": 80,
      "outputs": [
        {
          "output_type": "stream",
          "name": "stdout",
          "text": [
            "              precision    recall  f1-score   support\n",
            "\n",
            "           0       0.83      0.95      0.89      6841\n",
            "           1       0.67      0.34      0.45      1967\n",
            "\n",
            "    accuracy                           0.82      8808\n",
            "   macro avg       0.75      0.65      0.67      8808\n",
            "weighted avg       0.80      0.82      0.79      8808\n",
            "\n"
          ]
        },
        {
          "output_type": "display_data",
          "data": {
            "text/plain": [
              "<Figure size 432x288 with 1 Axes>"
            ],
            "image/png": "[encoded data removed]"
          },
          "metadata": {
            "needs_background": "light"
          }
        }
      ]
    },
    {
      "cell_type": "code",
      "source": [
        "print(classification_report(Y_true_logreg, Y_pred_predictions_logreg))\n",
        "plot_cumulative_gains_both_classes(np.array(Y_true_logreg), Y_pred_probs_np_logreg)"
      ],
      "metadata": {
        "colab": {
          "base_uri": "https://localhost:8080/",
          "height": 451
        },
        "id": "mCBSW7V1udt8",
        "outputId": "af39930b-5b5b-4769-b4ec-38971eaf57a9"
      },
      "id": "mCBSW7V1udt8",
      "execution_count": 89,
      "outputs": [
        {
          "output_type": "stream",
          "name": "stdout",
          "text": [
            "              precision    recall  f1-score   support\n",
            "\n",
            "           0       0.81      0.98      0.89      6841\n",
            "           1       0.71      0.21      0.32      1967\n",
            "\n",
            "    accuracy                           0.80      8808\n",
            "   macro avg       0.76      0.59      0.60      8808\n",
            "weighted avg       0.79      0.80      0.76      8808\n",
            "\n"
          ]
        },
        {
          "output_type": "display_data",
          "data": {
            "text/plain": [
              "<Figure size 432x288 with 1 Axes>"
            ],
            "image/png": "[encoded data removed]"
          },
          "metadata": {
            "needs_background": "light"
          }
        }
      ]
    },
    {
      "cell_type": "code",
      "source": [
        "print(classification_report(Y_true_dect, Y_pred_predictions_dect))\n",
        "plot_cumulative_gains_both_classes(np.array(Y_true_dect), Y_pred_probs_np_dect)"
      ],
      "metadata": {
        "colab": {
          "base_uri": "https://localhost:8080/",
          "height": 451
        },
        "id": "p4TvlniMwEO6",
        "outputId": "e0f92472-6fe9-463e-d1c1-248198cee8c4"
      },
      "id": "p4TvlniMwEO6",
      "execution_count": 97,
      "outputs": [
        {
          "output_type": "stream",
          "name": "stdout",
          "text": [
            "              precision    recall  f1-score   support\n",
            "\n",
            "           0       0.84      0.95      0.89      6841\n",
            "           1       0.67      0.36      0.47      1967\n",
            "\n",
            "    accuracy                           0.82      8808\n",
            "   macro avg       0.75      0.65      0.68      8808\n",
            "weighted avg       0.80      0.82      0.80      8808\n",
            "\n"
          ]
        },
        {
          "output_type": "display_data",
          "data": {
            "text/plain": [
              "<Figure size 432x288 with 1 Axes>"
            ],
            "image/png": "[encoded data removed]"
          },
          "metadata": {
            "needs_background": "light"
          }
        }
      ]
    },
    {
      "cell_type": "code",
      "source": [
        "print(classification_report(Y_true_nb, Y_pred_predictions_nb))\n",
        "plot_cumulative_gains_both_classes(np.array(Y_true_nb), Y_pred_probs_np_nb)"
      ],
      "metadata": {
        "colab": {
          "base_uri": "https://localhost:8080/",
          "height": 451
        },
        "id": "M1S_Ey3Sylxm",
        "outputId": "a6a28c1f-093f-4403-a9c6-36796f75e53b"
      },
      "id": "M1S_Ey3Sylxm",
      "execution_count": 111,
      "outputs": [
        {
          "output_type": "stream",
          "name": "stdout",
          "text": [
            "              precision    recall  f1-score   support\n",
            "\n",
            "           0       1.00      0.96      0.98      6841\n",
            "           1       0.87      0.99      0.93      1967\n",
            "\n",
            "    accuracy                           0.97      8808\n",
            "   macro avg       0.94      0.98      0.95      8808\n",
            "weighted avg       0.97      0.97      0.97      8808\n",
            "\n"
          ]
        },
        {
          "output_type": "display_data",
          "data": {
            "text/plain": [
              "<Figure size 432x288 with 1 Axes>"
            ],
            "image/png": "[encoded data removed]"
          },
          "metadata": {
            "needs_background": "light"
          }
        }
      ]
    },
    {
      "cell_type": "code",
      "source": [
        "print(classification_report(Y_true_knn, Y_pred_predictions_knn))\n",
        "plot_cumulative_gains_both_classes(np.array(Y_true_knn), Y_pred_probs_np_knn)"
      ],
      "metadata": {
        "colab": {
          "base_uri": "https://localhost:8080/",
          "height": 451
        },
        "id": "fHWskMHy016f",
        "outputId": "67906280-aa82-4dd9-b030-314faf832e06"
      },
      "id": "fHWskMHy016f",
      "execution_count": 122,
      "outputs": [
        {
          "output_type": "stream",
          "name": "stdout",
          "text": [
            "              precision    recall  f1-score   support\n",
            "\n",
            "           0       0.84      0.79      0.81      6841\n",
            "           1       0.40      0.49      0.44      1967\n",
            "\n",
            "    accuracy                           0.72      8808\n",
            "   macro avg       0.62      0.64      0.63      8808\n",
            "weighted avg       0.74      0.72      0.73      8808\n",
            "\n"
          ]
        },
        {
          "output_type": "display_data",
          "data": {
            "text/plain": [
              "<Figure size 432x288 with 1 Axes>"
            ],
            "image/png": "[encoded data removed]"
          },
          "metadata": {
            "needs_background": "light"
          }
        }
      ]
    },
    {
      "cell_type": "code",
      "source": [
        "# TODO: add the remaining method (LDA)\n",
        "# add refactoring, perform the appropriate splits,\n",
        "# complete the plots"
      ],
      "metadata": {
        "id": "xkCx1R9g2H91"
      },
      "id": "xkCx1R9g2H91",
      "execution_count": null,
      "outputs": []
    },
    {
      "cell_type": "code",
      "source": [
        "kds.metrics.plot_cumulative_gain(data_y_mlpc, Y_pred_probs_np_mlpc[:, 1])"
      ],
      "metadata": {
        "colab": {
          "base_uri": "https://localhost:8080/",
          "height": 296
        },
        "id": "WuvDT9gpo3Aa",
        "outputId": "daf023dd-2c35-4312-987b-7a65f605d232"
      },
      "id": "WuvDT9gpo3Aa",
      "execution_count": 81,
      "outputs": [
        {
          "output_type": "display_data",
          "data": {
            "text/plain": [
              "<Figure size 432x288 with 1 Axes>"
            ],
            "image/png": "[encoded data removed]"
          },
          "metadata": {
            "needs_background": "light"
          }
        }
      ]
    },
    {
      "cell_type": "code",
      "source": [
        "table = kds.metrics.decile_table(data_y_mlpc, Y_pred_probs_np_mlpc[:, 1]) \n",
        "cum_resp_pct = table[\"cum_resp_pct\"]\n",
        "cum_resp_pct_rndm = np.arange(10, 110, len(cum_resp_pct))\n",
        "cum_resp_pct_wiz = table[\"cum_resp_pct_wiz\"]"
      ],
      "metadata": {
        "colab": {
          "base_uri": "https://localhost:8080/"
        },
        "id": "nT5E94pXo5ex",
        "outputId": "b3a8ea86-4504-4f8e-bd0a-76951336ddb2"
      },
      "id": "nT5E94pXo5ex",
      "execution_count": 82,
      "outputs": [
        {
          "output_type": "stream",
          "name": "stdout",
          "text": [
            "LABELS INFO:\n",
            "\n",
            " prob_min         : Minimum probability in a particular decile\n",
            " prob_max         : Minimum probability in a particular decile\n",
            " prob_avg         : Average probability in a particular decile\n",
            " cnt_events       : Count of events in a particular decile\n",
            " cnt_resp         : Count of responders in a particular decile\n",
            " cnt_non_resp     : Count of non-responders in a particular decile\n",
            " cnt_resp_rndm    : Count of responders if events assigned randomly in a particular decile\n",
            " cnt_resp_wiz     : Count of best possible responders in a particular decile\n",
            " resp_rate        : Response Rate in a particular decile [(cnt_resp/cnt_cust)*100]\n",
            " cum_events       : Cumulative sum of events decile-wise \n",
            " cum_resp         : Cumulative sum of responders decile-wise \n",
            " cum_resp_wiz     : Cumulative sum of best possible responders decile-wise \n",
            " cum_non_resp     : Cumulative sum of non-responders decile-wise \n",
            " cum_events_pct   : Cumulative sum of percentages of events decile-wise \n",
            " cum_resp_pct     : Cumulative sum of percentages of responders decile-wise \n",
            " cum_resp_pct_wiz : Cumulative sum of percentages of best possible responders decile-wise \n",
            " cum_non_resp_pct : Cumulative sum of percentages of non-responders decile-wise \n",
            " KS               : KS Statistic decile-wise \n",
            " lift             : Cumuative Lift Value decile-wise\n"
          ]
        }
      ]
    },
    {
      "cell_type": "code",
      "source": [
        "def area_between_curves(curve_1, curve_2):\n",
        "  \"\"\"\n",
        "  Function needed to compute the are between two curves expressed\n",
        "  as array of floats of the same shape. These arrays contain just the\n",
        "  y value of each point of the curve.\n",
        "\n",
        "  Params:\n",
        "    curve_1: array of floats of which we want to compute the area\n",
        "             underneath it and subtract from it the area under curve_2\n",
        "    curve_2: array of floats with the same shape of curve_1, of which\n",
        "             we want to compute the area underneath it and subtract it\n",
        "             to the area under curve_2\n",
        "  Returns:\n",
        "    difference_between_areas: difference between the\n",
        "            computed areas below curve_1 and curve_2\n",
        "  \"\"\"\n",
        "  acc_1 = (curve_1[0] / 2)\n",
        "  acc_2 = (curve_2[0] / 2)\n",
        "  difference_between_areas = 0\n",
        "  for i in range(0, len(curve_1) - 1):\n",
        "    acc_1 += (curve_1[i] + curve_1[i + 1]) / 2\n",
        "    acc_2 += (curve_2[i] + curve_2[i + 1]) / 2\n",
        "  difference_between_areas = (acc_1 - acc_2)\n",
        "  return difference_between_areas\n",
        "\n",
        "class_rnd_area = area_between_curves(cum_resp_pct, cum_resp_pct_rndm)\n",
        "wiz_rnd_area = area_between_curves(cum_resp_pct_wiz, cum_resp_pct_rndm)\n",
        "area_ratio =  class_rnd_area / wiz_rnd_area\n",
        "print(\"Area between the curve of the classifier and the baseline: \" + str(class_rnd_area))\n",
        "print(\"Area between the ideal curve and the curve of the classifier: \"+ str(wiz_rnd_area))\n",
        "print(\"Ratio between the two areas (the first one is the numerator): \" + str(area_ratio))"
      ],
      "metadata": {
        "colab": {
          "base_uri": "https://localhost:8080/"
        },
        "id": "A6Gf7vYlo7-t",
        "outputId": "86c34e99-8b17-45d7-b03e-dd353f9a84a9"
      },
      "id": "A6Gf7vYlo7-t",
      "execution_count": 83,
      "outputs": [
        {
          "output_type": "stream",
          "name": "stdout",
          "text": [
            "Area between the curve of the classifier and the baseline: 203.02600000000007\n",
            "Area between the ideal curve and the curve of the classifier: 384.36699999999996\n",
            "Ratio between the two areas (the first one is the numerator): 0.5282087171895612\n"
          ]
        }
      ]
    },
    {
      "cell_type": "code",
      "source": [
        "def paper_like_cumulative_gain(true_y, probs_y):\n",
        "  \"\"\"\n",
        "  Function needed to compute the curves (as arrays of floats)\n",
        "  necessary to plot the cumulative gain chart in the same fashion of \n",
        "  the reference paper. In particular we want x_num_samples as the values\n",
        "  for the x axis and the other three return values as the wizard, classifier\n",
        "  and baseline curves.\n",
        "\n",
        "  Params:\n",
        "    true_y: true labels needed to compute the curves.\n",
        "    probs_y: probabilities of having 1 as label, computed for each example\n",
        "             by a classifier.\n",
        "  Returns:\n",
        "    classifier_curve: array containing the y values of the classifier curve,\n",
        "                      it contains the cumulative values of the true labels\n",
        "                      associated to the sorted array of predictions.\n",
        "    cum_baseline: array containing the cumulative sum of the value \n",
        "                  (#positive_examples / #examples), this represents\n",
        "                  the baseline classifier.\n",
        "    best_curve: array containing the cumulative sum of the sorted true labels,\n",
        "                it represents the best possible classifier.\n",
        "    x_num_samples: values of the x axis, in particular it ranges from 0 to\n",
        "                   (num_examples - 1)\n",
        "  \"\"\"\n",
        "  num_examples = true_y.shape[0]\n",
        "  x_num_samples = np.array([i for i in range(0, num_examples)])\n",
        "  num_positives = sum(true_y)\n",
        "  best_curve = np.cumsum(np.sort(true_y)[::-1])\n",
        "  random_classifier_val = num_positives / num_examples\n",
        "  baseline = np.array([random_classifier_val for i in range(0, num_examples)])\n",
        "  cum_baseline = np.cumsum(baseline)\n",
        "  sorted_idxs = np.argsort(probs_y)[::-1]\n",
        "  classifier_curve = np.cumsum(np.array([true_y[i] for i in sorted_idxs]))\n",
        "  return classifier_curve, cum_baseline, best_curve, x_num_samples\n",
        "\n",
        "def plot_paper_like_gains(classifier_curve, cum_baseline, best_curve, x_num_samples):\n",
        "  plt.plot(x_num_samples, best_curve, color = \"blue\")\n",
        "  plt.plot(x_num_samples, cum_baseline, color = \"green\")\n",
        "  plt.plot(x_num_samples, classifier_curve, color = \"red\")\n",
        "  plt.show()\n",
        "\n",
        "classifier_curve, cum_baseline, best_curve, x_num_samples = paper_like_cumulative_gain(data_y, Y_pred_probabilities_np[:, 1])\n",
        "plot_paper_like_gains(classifier_curve, cum_baseline, best_curve, x_num_samples)"
      ],
      "metadata": {
        "colab": {
          "base_uri": "https://localhost:8080/",
          "height": 265
        },
        "id": "OF-dpvY0o8zz",
        "outputId": "15db2754-723a-45b1-a228-da7dce75efe1"
      },
      "id": "OF-dpvY0o8zz",
      "execution_count": 72,
      "outputs": [
        {
          "output_type": "display_data",
          "data": {
            "text/plain": [
              "<Figure size 432x288 with 1 Axes>"
            ],
            "image/png": "[encoded data removed]"
          },
          "metadata": {
            "needs_background": "light"
          }
        }
      ]
    },
    {
      "cell_type": "code",
      "source": [
        "class_baseline_area = area_between_curves(classifier_curve, cum_baseline)\n",
        "baseline_best_area = area_between_curves(best_curve, cum_baseline)\n",
        "area_ratio =  class_baseline_area / baseline_best_area\n",
        "print(\"Area between the curve of the classifier and the baseline: \" + str(class_baseline_area))\n",
        "print(\"Area between the ideal curve and the baseline: \"+ str(class_baseline_area))\n",
        "print(\"Ratio between the two areas (the first one is the numerator): \" + str(area_ratio))"
      ],
      "metadata": {
        "colab": {
          "base_uri": "https://localhost:8080/"
        },
        "id": "pXqB7N4Wo_iT",
        "outputId": "e1f1ccae-2066-4f2d-febe-6db253f5a0fd"
      },
      "id": "pXqB7N4Wo_iT",
      "execution_count": 84,
      "outputs": [
        {
          "output_type": "stream",
          "name": "stdout",
          "text": [
            "Area between the curve of the classifier and the baseline: 3567111.5000006\n",
            "Area between the ideal curve and the baseline: 3567111.5000006\n",
            "Ratio between the two areas (the first one is the numerator): 0.5301792542898895\n"
          ]
        }
      ]
    },
    {
      "cell_type": "code",
      "source": [
        "def sorting_smoothing_method(y_true, y_probs, n_smooth):\n",
        "  \"\"\"\n",
        "  Function needed to estimate the real probability of default as \n",
        "  the mean of the n_smooth neighboring labels of a label y_i, where\n",
        "  a neighbor of y_i (i.e. y_i+1) is the label associated to the \n",
        "  i+1 probability value in the sorted array of probabilities computed\n",
        "  by the classifier. In more simple terms: real probabilities are the mean\n",
        "  of the (2*n_smooth + 1) true labels ordered according to the sorted y_probs.\n",
        "\n",
        "  Params: \n",
        "    y_true: array of true labels of which we want to estimate \n",
        "            the real probabilities\n",
        "    y_probs: array of probabilities computed by a classifier\n",
        "    n_smooth: number of smoothing neighbors to consider in order to \n",
        "              estimate real probabilities\n",
        "  Returns: \n",
        "    p_vec: estimated real probability values for each true label in y_true\n",
        "  \"\"\"\n",
        "  sort_idx = np.argsort(y_probs[:, 1])\n",
        "  n_total = y_true.shape[0]\n",
        "  p_vec = np.zeros(n_total)\n",
        "  for i in range(0, n_total):\n",
        "    acc = y_true[sort_idx[i]]\n",
        "    n_acc = 0\n",
        "    for n in range(0, n_smooth):\n",
        "      if i + n < n_total:\n",
        "        acc += y_true[sort_idx[i + n]]\n",
        "        n_acc += 1\n",
        "      if i - n >= 0:\n",
        "        acc += y_true[sort_idx[i - n]]\n",
        "        n_acc += 1\n",
        "    p_vec[i] = acc / n_acc\n",
        "  return p_vec\n",
        "\n",
        "p_vec = sorting_smoothing_method(data_y_mlpc, Y_pred_probs_np_mlpc, 50)\n",
        "ord_probs = np.sort(Y_pred_probs_np_mlpc[:, 1])\n",
        "\n",
        "slope, intercept, r_value, p_value, std_err = scipy.stats.linregress(ord_probs, p_vec)\n",
        "\n",
        "plt.plot(ord_probs, p_vec, 'o', color='blue')\n",
        "plt.plot(ord_probs, slope*ord_probs + intercept, color = \"red\")\n",
        "plt.show()\n",
        "\n",
        "print(\"m value: \" + str(slope))\n",
        "print(\"q value: \" + str(intercept))\n",
        "print(\"r value: \" + str(r_value))\n",
        "print(\"r squared: \" + str(np.power(r_value, 2)))"
      ],
      "metadata": {
        "colab": {
          "base_uri": "https://localhost:8080/",
          "height": 334
        },
        "id": "ZAZgHAm6qnRK",
        "outputId": "72f041b4-acd2-4db0-978c-e58fed3aba70"
      },
      "id": "ZAZgHAm6qnRK",
      "execution_count": 86,
      "outputs": [
        {
          "output_type": "display_data",
          "data": {
            "text/plain": [
              "<Figure size 432x288 with 1 Axes>"
            ],
            "image/png": "[encoded data removed]"
          },
          "metadata": {
            "needs_background": "light"
          }
        },
        {
          "output_type": "stream",
          "name": "stdout",
          "text": [
            "m value: 1.0018816503015167\n",
            "q value: 0.005971545346776463\n",
            "r value: 0.9821942940954731\n",
            "r squared: 0.9647056313537047\n"
          ]
        }
      ]
    },
    {
      "cell_type": "code",
      "source": [
        "spark.stop()"
      ],
      "metadata": {
        "id": "7TRMtmmwqrwf"
      },
      "id": "7TRMtmmwqrwf",
      "execution_count": null,
      "outputs": []
    }
  ],
  "metadata": {
    "colab": {
      "provenance": [],
      "include_colab_link": true
    },
    "kernelspec": {
      "display_name": "Python 3 (ipykernel)",
      "language": "python",
      "name": "python3"
    },
    "language_info": {
      "codemirror_mode": {
        "name": "ipython",
        "version": 3
      },
      "file_extension": ".py",
      "mimetype": "text/x-python",
      "name": "python",
      "nbconvert_exporter": "python",
      "pygments_lexer": "ipython3",
      "version": "3.9.12"
    }
  },
  "nbformat": 4,
  "nbformat_minor": 5
}